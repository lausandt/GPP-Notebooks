{
 "cells": [
  {
   "cell_type": "markdown",
   "id": "bd8ec02a-9eb3-47c7-8de5-b5c474456bd5",
   "metadata": {},
   "source": [
    "## **Structured programming (control flow)** \n",
    "With structured programming a programmer uses no more than three basic control structures to control the flow of the programming. Large blocks of code are avoided by the use of these abstractions in conjunction with a hierarchy in procedures. This might sound a bit opaque, but it is the way we all program. No matter if we program in Python, C or Haskell. We use only three basic control structures:\n",
    "\n",
    " 1. sequencing: statements are executed in a specific order. In Python achieved by indentation and by a semicolon ; (The latter is not much used)\n",
    " 2. selection: choice if B then S1 else S2 \n",
    " 3. repetition through iteration: where you have the condition check in advance or afterwards (while B do S) and (do S until B) and/or repetition through recursion: repeated calling of a procedure until some base case is met.\n",
    " \n",
    "Here B is a Boolean and S is a statement (a single executable instruction)\n",
    "\n",
    "I will touch upon al these subjects, and quite a bit more. For instance, closures, context managers and the `else` keyword. Some of these subjects I want to investigate in depth, some pass over quite quickly as they are not well suited to Python e.g., recursion.\n"
   ]
  },
  {
   "cell_type": "markdown",
   "id": "04770480-019b-4521-b49f-eead3c6b68c6",
   "metadata": {},
   "source": [
    "#### **Sequencing & Scope**\n",
    "There is quite a bit to say about sequencing actually, and especially about scope. But I feel you know most of this so I will keep it quite terse. I am presuming that you know choice but let's do a quick recap, then look at match/case for choice introduced with Python 3.10, and finally take a look at pattern matching in Python.\n",
    "\n",
    "Let me start off with definition for scope: The scope of a declaration is the part of a program where the bindings produced by the declaration are available.\n",
    "\n",
    "Just think of bindings as variables, they are not the same but that is a topic of another notebook."
   ]
  },
  {
   "cell_type": "code",
   "execution_count": 1,
   "id": "fe820700-0209-4431-906f-d01135549d8c",
   "metadata": {},
   "outputs": [],
   "source": [
    "def a():\n",
    "    x = 3\n",
    "    return x \n",
    "\n",
    "def b():\n",
    "    x = 4 \n",
    "    return x "
   ]
  },
  {
   "cell_type": "code",
   "execution_count": 2,
   "id": "a7d912d2-8b42-4082-a764-7b566619decb",
   "metadata": {},
   "outputs": [
    {
     "data": {
      "text/plain": [
       "3"
      ]
     },
     "execution_count": 2,
     "metadata": {},
     "output_type": "execute_result"
    }
   ],
   "source": [
    "a()"
   ]
  },
  {
   "cell_type": "code",
   "execution_count": 3,
   "id": "11c339e6-c593-4012-a20d-02e5d1222229",
   "metadata": {},
   "outputs": [
    {
     "data": {
      "text/plain": [
       "4"
      ]
     },
     "execution_count": 3,
     "metadata": {},
     "output_type": "execute_result"
    }
   ],
   "source": [
    "b()"
   ]
  },
  {
   "cell_type": "markdown",
   "id": "0ebd41e9-83fe-43f6-806b-a728a0ed1df0",
   "metadata": {},
   "source": [
    "We have two variables named x; the scope of these variables is the function that encompasses it.\n",
    "\n",
    "The scope of a name binding (an association of a name to an entity, such as a variable) is the part of a program where the name binding is valid; that is, where the name can be used to refer to the entity e.g., I can never get 4 if I call `a()`."
   ]
  },
  {
   "cell_type": "code",
   "execution_count": 2,
   "id": "d229bc95-caf0-4101-bc38-7146ee6d25bf",
   "metadata": {},
   "outputs": [],
   "source": [
    "x = 7 \n",
    "\n",
    "def a(arg:int):\n",
    "    x = 3\n",
    "    return x \n",
    "\n",
    "def b():\n",
    "    x = 4 \n",
    "    return x "
   ]
  },
  {
   "cell_type": "code",
   "execution_count": 3,
   "id": "8f8f336d-7212-4e49-a681-79e592592490",
   "metadata": {},
   "outputs": [
    {
     "data": {
      "text/plain": [
       "3"
      ]
     },
     "execution_count": 3,
     "metadata": {},
     "output_type": "execute_result"
    }
   ],
   "source": [
    "a(x)"
   ]
  },
  {
   "cell_type": "markdown",
   "id": "27b06502-8e9c-43b7-9e64-65a651082e62",
   "metadata": {},
   "source": [
    "#### **Inner scope has preference**\n",
    "The x declared outside the scope of `a()` and `b()` is never used, the inner scope is preferred to the outer scope. \n",
    "\n",
    "Only if I call it outside the scope respectively `a()` and `b()` can I use it.\n",
    "\n"
   ]
  },
  {
   "cell_type": "code",
   "execution_count": 4,
   "id": "ddf35648-ef84-43fa-bd3c-6d3777db9a09",
   "metadata": {},
   "outputs": [
    {
     "name": "stdout",
     "output_type": "stream",
     "text": [
      "7\n"
     ]
    }
   ],
   "source": [
    "print(x)"
   ]
  },
  {
   "cell_type": "markdown",
   "id": "183c96f1-8ca2-41b6-ad5c-4f715462b67a",
   "metadata": {},
   "source": [
    "#### **Dynamic vs static scoping**\n",
    "There are two forms of scoping dynamic and static. If we would look at the code below, in a dynamic scoped language `s` would have changed and the outcome `q(4)` would be 12.\n",
    "\n",
    "Python is a static scoped language. Static scoping is more efficient than dynamic scoping and allows for information hiding https://en.wikipedia.org/wiki/Information_hiding."
   ]
  },
  {
   "cell_type": "code",
   "execution_count": 5,
   "id": "6bb87c79-e6dc-4100-9a9d-101d086805bd",
   "metadata": {},
   "outputs": [
    {
     "name": "stdout",
     "output_type": "stream",
     "text": [
      "8\n",
      "8\n"
     ]
    }
   ],
   "source": [
    "s = 2\n",
    "\n",
    "def f(x:int)->int:\n",
    "    return s * x \n",
    "\n",
    "def p(y:int)-> None:\n",
    "    print(f(y))\n",
    "    \n",
    "def q(z:int) -> None:\n",
    "    s = 3\n",
    "    print(f(z)) \n",
    "    \n",
    "p(4);q(4)\n"
   ]
  },
  {
   "cell_type": "markdown",
   "id": "38aa5544-6dca-4d3a-988e-4447f41b50f1",
   "metadata": {},
   "source": [
    "#### **Scoping and namespace**\n",
    "Scoping and namespace are related subjects. A namespace is a mapping of names to objects, in Python these namespaces take form of a dictionary. \n",
    "There are multiple namespaces in Python, the global namespace, containing for instance all built-in functions of Python. A modular namespace, containing all methods (and perhaps attributes) of that module. An objects namespace, which I will show you below.\n",
    "\n",
    "The important thing to know about namespaces is that there is absolutely no relation between names in different namespaces. We can thus comfortably have the same names, as long as they belong to different namespaces. A.name and B.name. This is also the reason you really have no need for awfully long names, namespaces will rarely get big enough to have conflicting names. \n",
    "\n",
    "The namespace of an object is the scope of all that is named in the class."
   ]
  },
  {
   "cell_type": "code",
   "execution_count": 6,
   "id": "642e56c5-93af-4bfa-bc9e-4af11e423047",
   "metadata": {},
   "outputs": [],
   "source": [
    "class A: \n",
    "    s = 2\n",
    "\n",
    "    def f(self, x:int)->int:\n",
    "        return self.s * x \n",
    "\n",
    "    def p(self, y:int)-> None:\n",
    "        print(self.f(y))\n",
    "    \n",
    "    def q(self, z:int) -> None:\n",
    "        self.s = 3\n",
    "        print(f'{type(self).__name__}`s s variable is {self.s}')\n",
    "        print(self.f(z)) "
   ]
  },
  {
   "cell_type": "markdown",
   "id": "c19f1daa-7619-4e1f-b2aa-c045e1c5e79f",
   "metadata": {},
   "source": [
    "We can call on the built-in function `dir` to get the names in scope of the object. Or the local scope if we do not give an argument.\n",
    "\n",
    "Calling dir will probably give you more information than you wanted, as you inherit many methods from `Builtins.object`."
   ]
  },
  {
   "cell_type": "code",
   "execution_count": 16,
   "id": "5077eb6c-d570-4384-ad8c-017ea6fea101",
   "metadata": {},
   "outputs": [
    {
     "data": {
      "text/plain": [
       "['__class__',\n",
       " '__delattr__',\n",
       " '__dict__',\n",
       " '__dir__',\n",
       " '__doc__',\n",
       " '__eq__',\n",
       " '__format__',\n",
       " '__ge__',\n",
       " '__getattribute__',\n",
       " '__getstate__',\n",
       " '__gt__',\n",
       " '__hash__',\n",
       " '__init__',\n",
       " '__init_subclass__',\n",
       " '__le__',\n",
       " '__lt__',\n",
       " '__module__',\n",
       " '__ne__',\n",
       " '__new__',\n",
       " '__reduce__',\n",
       " '__reduce_ex__',\n",
       " '__repr__',\n",
       " '__setattr__',\n",
       " '__sizeof__',\n",
       " '__str__',\n",
       " '__subclasshook__',\n",
       " '__weakref__',\n",
       " 'f',\n",
       " 'p',\n",
       " 'q',\n",
       " 's']"
      ]
     },
     "execution_count": 16,
     "metadata": {},
     "output_type": "execute_result"
    }
   ],
   "source": [
    "dir(A)"
   ]
  },
  {
   "cell_type": "code",
   "execution_count": 17,
   "id": "aa4c3402-85de-40fe-b254-57aa5dd46b8f",
   "metadata": {},
   "outputs": [
    {
     "name": "stdout",
     "output_type": "stream",
     "text": [
      "8\n",
      "A`s s variable is 3\n",
      "12\n"
     ]
    }
   ],
   "source": [
    "a = A()\n",
    "a.p(4);a.q(4) # this is sequencing"
   ]
  },
  {
   "cell_type": "markdown",
   "id": "5611820a-cbce-4df3-a4ad-6b29cadf99e1",
   "metadata": {},
   "source": [
    "#### **Closure**\n",
    "If I were discussing another programming language for instance Java, I would not discuss closures for closures are not important in Java. In Python however closures are used quite often. To expand the scope of a function or class. \n",
    "\n",
    "So, what is a closure? By definition, a closure is a nested function that references one or more variables from its enclosing scope. This definition probably makes more sense with an example.\n"
   ]
  },
  {
   "cell_type": "code",
   "execution_count": 18,
   "id": "bfbab982-45d5-428c-98ef-cc07eb52a7da",
   "metadata": {},
   "outputs": [],
   "source": [
    "def say():\n",
    "    greeting = 'Hello'\n",
    "\n",
    "    def display():\n",
    "        print(greeting)\n",
    "\n",
    "    return display()    "
   ]
  },
  {
   "cell_type": "code",
   "execution_count": 19,
   "id": "5154800f-d3b7-43b8-bb82-56a342bf5ac9",
   "metadata": {},
   "outputs": [
    {
     "name": "stdout",
     "output_type": "stream",
     "text": [
      "Hello\n"
     ]
    }
   ],
   "source": [
    "say()"
   ]
  },
  {
   "cell_type": "markdown",
   "id": "02e41bca-947f-4df1-82ed-e7570ebd822f",
   "metadata": {},
   "source": [
    "Here `display` is the closure, it is nested within `say`, it uses greeting that is part of `say()` which is also the enclose scope. \n",
    "\n",
    "With the use of closures, it is possible to give a sub-procedure one or more private variables that remain in existence between procedure calls. You actually see closures quite often in Python as you use a lot of decorators in Python. Decorators can be used in Python as higher-order functions and the decorated function has access to the decorator, the decorated function contains the closure. \n",
    "\n",
    "Of course, now we want to know what a higher-order function is. In mathematics and computer science, a higher-order function is a function that does at least one of the following:\n",
    " 1. It takes one or more functions as arguments.\n",
    " 2. It returns a function as its result.\n",
    "\n",
    "As we know from mathematics, function composition is an example of a higher-order function $f \\circ g$  or $g(f(x))$ \n",
    "\n",
    "A curried function is a function that returns a function. In mathematics and computer science, currying is the technique of translating the evaluation of a function that takes multiple arguments into evaluating a sequence of functions, each with a single argument. $f(x,y)=h \\rightarrow f(x)=g, g(y)=h$. Don't worry Python doesn't do currying, but it does do pattern matching which is sort of related and will be discussed in this notebook.\n",
    "\n",
    "Let's look at a function decorator."
   ]
  },
  {
   "cell_type": "code",
   "execution_count": 24,
   "id": "3e74ddba-58d2-4431-a7fd-bddbf360e56c",
   "metadata": {},
   "outputs": [
    {
     "name": "stdout",
     "output_type": "stream",
     "text": [
      "George is a rhino!\n",
      "George is a rhino!\n",
      "George is a rhino!\n"
     ]
    },
    {
     "data": {
      "text/plain": [
       "'hi George!'"
      ]
     },
     "execution_count": 24,
     "metadata": {},
     "output_type": "execute_result"
    }
   ],
   "source": [
    "def decorator(func):\n",
    "    \n",
    "    def wrapper_decorator(*args, **kwargs):\n",
    "        # Do something before\n",
    "        func(*args, **kwargs) # This the fst time\n",
    "        func(*args, **kwargs) # This is the snd time\n",
    "        # Do something after\n",
    "        return func(*args, **kwargs) #This is the third time \n",
    "    return wrapper_decorator\n",
    "\n",
    "@decorator\n",
    "def george(name):\n",
    "    '''This is George his function'''\n",
    "    print('George is a rhino!')\n",
    "    return f\"hi {name}!\"\n",
    "\n",
    "george('George')"
   ]
  },
  {
   "cell_type": "markdown",
   "id": "da0b4fd2-3e98-4750-90d8-6aa5b002b65d",
   "metadata": {},
   "source": [
    "This simple decorator does only one thing, it executes the print statement three times, after which the function returns the argument.\n",
    "\n",
    "There is simple boiler plate that allows you to write any decorator you want:"
   ]
  },
  {
   "cell_type": "code",
   "execution_count": 25,
   "id": "37acb50f-fd6d-4eea-936b-3dd2345dbc47",
   "metadata": {},
   "outputs": [],
   "source": [
    "import functools\n",
    "\n",
    "def decorator(func):\n",
    "    '''boiler plate for any decorator'''\n",
    "    @functools.wraps(func) # you will need this line to inspect a decorator\n",
    "    def wrapper_decorator(*args, **kwargs): # the convention is to call these functions wrapper_name_function \n",
    "       # do something\n",
    "        return func(*args, **kwargs)\n",
    "    return wrapper_decorator "
   ]
  },
  {
   "cell_type": "markdown",
   "id": "738cb8e5-6310-422a-9b22-ff718354f5c9",
   "metadata": {},
   "source": [
    "You need functools otherwise you can't distinct between the functions, you can't inspect them nor use help."
   ]
  },
  {
   "cell_type": "code",
   "execution_count": 26,
   "id": "3d467682-581d-49fc-87bc-2cc2d86b2d91",
   "metadata": {},
   "outputs": [
    {
     "data": {
      "text/plain": [
       "<function __main__.decorator.<locals>.wrapper_decorator(*args, **kwargs)>"
      ]
     },
     "execution_count": 26,
     "metadata": {},
     "output_type": "execute_result"
    }
   ],
   "source": [
    "george"
   ]
  },
  {
   "cell_type": "code",
   "execution_count": 27,
   "id": "a60eea83-081d-4b20-b254-5af26dba7170",
   "metadata": {},
   "outputs": [
    {
     "name": "stdout",
     "output_type": "stream",
     "text": [
      "Help on function wrapper_decorator in module __main__:\n",
      "\n",
      "wrapper_decorator(*args, **kwargs)\n",
      "\n"
     ]
    }
   ],
   "source": [
    "help(george)"
   ]
  },
  {
   "cell_type": "markdown",
   "id": "2b5b7f1e-db68-40cb-a944-93f14b10991b",
   "metadata": {},
   "source": [
    "This is not information about George it is about the wrapper function that wraps George."
   ]
  },
  {
   "cell_type": "code",
   "execution_count": 28,
   "id": "7ed560d3-2bba-489c-9547-0491dbb89eff",
   "metadata": {},
   "outputs": [],
   "source": [
    "def decorator(func):\n",
    "    @functools.wraps(func)\n",
    "    def wrapper_decorator(*args, **kwargs):\n",
    "        # Do something before\n",
    "        func(*args, **kwargs) # This the fst time\n",
    "        func(*args, **kwargs) # This is the snd time\n",
    "        # Do something after\n",
    "        return func(*args, **kwargs) #This is the third time \n",
    "    return wrapper_decorator\n",
    "\n",
    "@decorator\n",
    "def george(name):\n",
    "    '''This is George's his function'''\n",
    "    print('George is a rhino!')\n",
    "    return f\"hi {name}!\""
   ]
  },
  {
   "cell_type": "code",
   "execution_count": 29,
   "id": "a54dc70b-39a8-4b12-ae58-eb54dc537a42",
   "metadata": {},
   "outputs": [
    {
     "data": {
      "text/plain": [
       "<function __main__.george(name)>"
      ]
     },
     "execution_count": 29,
     "metadata": {},
     "output_type": "execute_result"
    }
   ],
   "source": [
    "george"
   ]
  },
  {
   "cell_type": "code",
   "execution_count": 30,
   "id": "5abffcbd-97cd-4640-84ff-281679a98b20",
   "metadata": {},
   "outputs": [
    {
     "name": "stdout",
     "output_type": "stream",
     "text": [
      "Help on function george in module __main__:\n",
      "\n",
      "george(name)\n",
      "    This is George's his function\n",
      "\n"
     ]
    }
   ],
   "source": [
    "help(george)"
   ]
  },
  {
   "cell_type": "markdown",
   "id": "dfecc00e-0e56-450a-8243-e747e5ab9950",
   "metadata": {},
   "source": [
    "The primary use of decorators is to enrich functions with outside behaviour, consider the code below."
   ]
  },
  {
   "cell_type": "code",
   "execution_count": 31,
   "id": "8f828732-77af-4e7b-b178-f64ea925df6d",
   "metadata": {},
   "outputs": [
    {
     "data": {
      "text/plain": [
       "89"
      ]
     },
     "execution_count": 31,
     "metadata": {},
     "output_type": "execute_result"
    }
   ],
   "source": [
    "ok = 10 \n",
    "waisting_time = 40\n",
    "are_you_crazy = 1000\n",
    "\n",
    "def fibonacci(n:int)->int:\n",
    "    '''this fibonacci method returns the n-th fibonacci number'''\n",
    "    return 1 if n < 2 else fibonacci(n-1) + fibonacci(n-2)    \n",
    "\n",
    "fibonacci(ok)"
   ]
  },
  {
   "cell_type": "markdown",
   "id": "43976751-d820-41f0-818d-557070f21ff0",
   "metadata": {},
   "source": [
    "This code works, but is not very efficient, as you can see below."
   ]
  },
  {
   "cell_type": "code",
   "execution_count": 35,
   "id": "f89ea71e-78f9-469c-b40f-051ad15aef4c",
   "metadata": {},
   "outputs": [
    {
     "name": "stdout",
     "output_type": "stream",
     "text": [
      "CPU times: total: 38.5 s\n",
      "Wall time: 38.5 s\n"
     ]
    },
    {
     "data": {
      "text/plain": [
       "165580141"
      ]
     },
     "execution_count": 35,
     "metadata": {},
     "output_type": "execute_result"
    }
   ],
   "source": [
    "%time fibonacci(waisting_time)"
   ]
  },
  {
   "cell_type": "markdown",
   "id": "72988945-caee-41d7-a5c5-e5cb6f609120",
   "metadata": {},
   "source": [
    "#### **dynamic programming**\n",
    "The inefficiency is in that we don't store intermediate results. After all we have already computed the eight Fibonacci number (34 in 34 + 55  = 89) so why compute it gain, it is much faster to look it up.\n",
    "\n",
    "With the `@functools.cache` decorator we enrich this function to store intermediate results. Caching intermediate results is an example of dynamic programming and in particular a technique called memoization. This is an advanced programming technique which I won't discuss in this notebook, but in a separate notebook on efficiency. "
   ]
  },
  {
   "cell_type": "code",
   "execution_count": 36,
   "id": "d574595e-6b62-4fbe-8d5b-30052bccf2e6",
   "metadata": {},
   "outputs": [
    {
     "name": "stdout",
     "output_type": "stream",
     "text": [
      "CPU times: total: 0 ns\n",
      "Wall time: 6.51 ms\n"
     ]
    },
    {
     "data": {
      "text/plain": [
       "70330367711422815821835254877183549770181269836358732742604905087154537118196933579742249494562611733487750449241765991088186363265450223647106012053374121273867339111198139373125598767690091902245245323403501"
      ]
     },
     "execution_count": 36,
     "metadata": {},
     "output_type": "execute_result"
    }
   ],
   "source": [
    "@functools.cache\n",
    "def fibonacci(n:int)->int:\n",
    "    '''this fibonacci method returns the n-th fibonacci number'''\n",
    "    return 1 if n < 2 else fibonacci(n-1) + fibonacci(n-2) \n",
    "%time fibonacci(are_you_crazy)"
   ]
  },
  {
   "cell_type": "markdown",
   "id": "69a9e9b1-eab8-46ed-abad-f71f0ed94600",
   "metadata": {},
   "source": [
    "As you can see computed the 1000th Fibonacci number in less than a nano second using the decorator.\n",
    "\n",
    "You can even use multiple decorators, but you have to think about the order is it $f \\circ g \\circ h$ or is it $f \\circ h \\circ g$. \n",
    "\n",
    "Function composition is an important subject you should master it. Say you have a large file of numbers (as data scientist you will) and you only want a selection of it. With function composition you can do this on the fly. Let’s say you want all multiples of 3 and 5 bigger than 300 smaller than 500 in a list of a thousand entries. The following single line of code will do."
   ]
  },
  {
   "cell_type": "code",
   "execution_count": 37,
   "id": "a465293d-ccf9-4e43-806f-6f1c61ad0610",
   "metadata": {},
   "outputs": [
    {
     "data": {
      "text/plain": [
       "(315, 330, 345, 360, 375, 390, 405, 420, 435, 450, 465, 480, 495)"
      ]
     },
     "execution_count": 37,
     "metadata": {},
     "output_type": "execute_result"
    }
   ],
   "source": [
    "tuple(filter(lambda x: 300 < x < 500, filter(lambda x: x % 3 == 0 and x % 5 == 0 , tuple(n for n in range(1,1001)))))"
   ]
  },
  {
   "attachments": {
    "c92c9b0f-df94-4285-9c96-69169b16ee48.png": {
     "image/png": "[encoded data removed]"
    }
   },
   "cell_type": "markdown",
   "id": "ce3f48a9-b9e4-485a-99a1-ca69396c7bb1",
   "metadata": {},
   "source": [
    "#### **Selection**\n",
    "![afbeelding.png](attachment:c92c9b0f-df94-4285-9c96-69169b16ee48.png)\n",
    "\n",
    "The pattern of selection is grasped by the above diagram. All selection patterns are based on this model. You can have a nested `if ... then ... else ...`  and make as complicated a pattern as you want, but the base is always the same."
   ]
  },
  {
   "cell_type": "code",
   "execution_count": 38,
   "id": "7343d92f-8e82-4bc3-ba1d-27ca1d760d21",
   "metadata": {},
   "outputs": [
    {
     "data": {
      "text/plain": [
       "'statement A'"
      ]
     },
     "execution_count": 38,
     "metadata": {},
     "output_type": "execute_result"
    }
   ],
   "source": [
    "def choice(b:bool)->str:\n",
    "    return 'statement A' if b else 'statement B'\n",
    "choice(True) "
   ]
  },
  {
   "cell_type": "code",
   "execution_count": 39,
   "id": "0b5701de-9b3c-4ce2-aa10-c53d58fa9bed",
   "metadata": {},
   "outputs": [
    {
     "data": {
      "text/plain": [
       "'statement B'"
      ]
     },
     "execution_count": 39,
     "metadata": {},
     "output_type": "execute_result"
    }
   ],
   "source": [
    "choice(False)"
   ]
  },
  {
   "cell_type": "markdown",
   "id": "95632f28-7314-4655-aac0-4c3537907ae2",
   "metadata": {},
   "source": [
    "#### **Conditional expression**\n",
    "I cheat a little bit here because what I use is a conditional expression. A conditional expression consists of a condition `if b` in our case and two or more subexpression. The conditions value (in our case true or false), will determine which subexpressions is chosen. \n",
    "\n",
    "Conditional expressions have been around in in Python ever since PEP308 (2003) yet mostly you see conditional statements, as they are simply clearer to most."
   ]
  },
  {
   "cell_type": "code",
   "execution_count": 40,
   "id": "09dee076-c629-4187-a279-7cfc38713529",
   "metadata": {},
   "outputs": [
    {
     "data": {
      "text/plain": [
       "'statement A'"
      ]
     },
     "execution_count": 40,
     "metadata": {},
     "output_type": "execute_result"
    }
   ],
   "source": [
    "def choice(b:bool)->str:\n",
    "    if b:\n",
    "        return 'statement A'\n",
    "    else:\n",
    "        return 'statement B'\n",
    "choice(True) "
   ]
  },
  {
   "cell_type": "markdown",
   "id": "598fed44-574e-4b48-b2a8-ebdc1ae5b7f8",
   "metadata": {},
   "source": [
    "#### **Structural pattern matching**\n",
    "As of Python 3.10 you don't have to make a choice with nested `if ... then ... else ...` statements anymore. You can use structural pattern matching, see https://peps.python.org/pep-0635/.\n",
    "\n",
    "Pattern matching is a technique used by most functional programming language probably ever since their conception. For instance, say I want to write a function that returns the first element of a tuple in Haskell I could define it as: \n",
    " `fst :: (a,b) -> a`\n",
    " `fst (x,_) = x` \n",
    "\n",
    "The realisation is that I really don't need the second element, the pattern of `fst` is that always the first element. I can do very much the same in Python.\n"
   ]
  },
  {
   "cell_type": "code",
   "execution_count": 41,
   "id": "65cea435-7daa-4246-aadc-e24bb82e48a3",
   "metadata": {},
   "outputs": [],
   "source": [
    "from typing import Any\n",
    "\n",
    "def fst(t:tuple)->Any:\n",
    "    a,_ = t\n",
    "    return a "
   ]
  },
  {
   "cell_type": "code",
   "execution_count": 42,
   "id": "d606c563-9977-4e73-b738-a3c84ad18633",
   "metadata": {},
   "outputs": [
    {
     "data": {
      "text/plain": [
       "'x'"
      ]
     },
     "execution_count": 42,
     "metadata": {},
     "output_type": "execute_result"
    }
   ],
   "source": [
    "tup = ('x','y')\n",
    "fst(tup)"
   ]
  },
  {
   "cell_type": "markdown",
   "id": "221fd857-69a1-41a3-abdd-7444608147e8",
   "metadata": {},
   "source": [
    "The complement pattern is of course second."
   ]
  },
  {
   "cell_type": "code",
   "execution_count": 43,
   "id": "f74f21c6-eb00-40f5-b04f-79dc3b0557a1",
   "metadata": {},
   "outputs": [],
   "source": [
    "def snd(t:tuple)->Any:\n",
    "    _,b = t\n",
    "    return b"
   ]
  },
  {
   "cell_type": "code",
   "execution_count": 22,
   "id": "96142a34-29e4-48a4-a982-2739db52559e",
   "metadata": {},
   "outputs": [
    {
     "data": {
      "text/plain": [
       "'y'"
      ]
     },
     "execution_count": 22,
     "metadata": {},
     "output_type": "execute_result"
    }
   ],
   "source": [
    "snd(tup)"
   ]
  },
  {
   "cell_type": "markdown",
   "id": "9d36f0d3-4fca-49f3-80e9-b0d8ed7f1023",
   "metadata": {},
   "source": [
    "Consider the code below a common nested if... then... else... you will quite often see in Python code."
   ]
  },
  {
   "cell_type": "code",
   "execution_count": 45,
   "id": "48f74a97-48b9-4767-911d-7e4c49d26218",
   "metadata": {},
   "outputs": [],
   "source": [
    "def nested(arg):\n",
    "    if arg == 'George':\n",
    "        return 'George is a rhino'\n",
    "    elif arg == 'Croc':\n",
    "        return 'Croc is peckish!'\n",
    "    elif arg == 'Rhino':\n",
    "        return 'I like to run around while snorting loudly'\n",
    "    elif arg == 'Ente':\n",
    "        return 'Ich brauch ein Taxi'\n",
    "    else:\n",
    "        return 'there is nothing else'\n",
    "        "
   ]
  },
  {
   "cell_type": "code",
   "execution_count": 46,
   "id": "4e6db13e-728f-40fa-892c-eabd58047495",
   "metadata": {},
   "outputs": [
    {
     "data": {
      "text/plain": [
       "'George is a rhino'"
      ]
     },
     "execution_count": 46,
     "metadata": {},
     "output_type": "execute_result"
    }
   ],
   "source": [
    "nested('George')"
   ]
  },
  {
   "cell_type": "code",
   "execution_count": 47,
   "id": "505e1b4d-41fe-4fd5-b14e-86a0db16e3e5",
   "metadata": {},
   "outputs": [
    {
     "data": {
      "text/plain": [
       "'there is nothing else'"
      ]
     },
     "execution_count": 47,
     "metadata": {},
     "output_type": "execute_result"
    }
   ],
   "source": [
    "nested('James Bond')"
   ]
  },
  {
   "cell_type": "markdown",
   "id": "713f1bb7-6f5a-4212-a613-cc489369ce1f",
   "metadata": {},
   "source": [
    "A match/case pattern captures they underlying the structure much clearer."
   ]
  },
  {
   "cell_type": "code",
   "execution_count": 48,
   "id": "668450ee-3061-4d6b-b733-dce6ded4a2ac",
   "metadata": {},
   "outputs": [],
   "source": [
    "def match(arg):\n",
    "    match arg:\n",
    "        case 'George':\n",
    "            return 'George is a rhino'\n",
    "        case 'Croc':\n",
    "            return 'Croc is peckish!'\n",
    "        case 'Rhino':\n",
    "            return 'I like to run around while snorting loudly'\n",
    "        case 'Ente':\n",
    "            return 'ich brauch ein Taxi'\n",
    "        case _:\n",
    "            return 'there is nothing else'"
   ]
  },
  {
   "cell_type": "code",
   "execution_count": 49,
   "id": "0770926f-7dc0-46d0-b328-bde29e0b48c6",
   "metadata": {},
   "outputs": [
    {
     "data": {
      "text/plain": [
       "'I like to run around while snorting loudly'"
      ]
     },
     "execution_count": 49,
     "metadata": {},
     "output_type": "execute_result"
    }
   ],
   "source": [
    "match('Rhino')"
   ]
  },
  {
   "cell_type": "code",
   "execution_count": 50,
   "id": "4ee479c3-e78b-4094-90b9-02e21ae850c6",
   "metadata": {},
   "outputs": [
    {
     "data": {
      "text/plain": [
       "'Croc is peckish!'"
      ]
     },
     "execution_count": 50,
     "metadata": {},
     "output_type": "execute_result"
    }
   ],
   "source": [
    "match('Croc')"
   ]
  },
  {
   "cell_type": "markdown",
   "id": "12834188-0196-4e71-8c8a-8bafc2108d5d",
   "metadata": {},
   "source": [
    "The underscore `_` is a wildcard here, it says I don't care about this value to the compiler. \n",
    "I could have used the keyword `other` too, but we are actually pattern-matching on a structure, we are matching a string literal.\n",
    "\n",
    "This type of structural pattern matching is the next big thing in Python see https://peps.python.org/pep-0636/. You should read this excellent tutorial because pattern matching cleans up your code. \n",
    "\n",
    "Here I will limit this to a few subjects that I feel show you to advantages of structural pattern matching. As you have seen and for the rest probably guessed you have several patterns you can match on:\n",
    " 1. Capture patterns (stand-alone names like direction, action, objects). We never discussed these separately but used them as part of other patterns.\n",
    " 2. Literal patterns (string literals, number literals, True, False, and None)\n",
    " 3. The wildcard pattern \n",
    "\n",
    "You can also pattern match on sequences for instance, you want the head of a list."
   ]
  },
  {
   "cell_type": "code",
   "execution_count": 51,
   "id": "b6a601ae-baef-40d7-a169-d1636789f969",
   "metadata": {},
   "outputs": [],
   "source": [
    "from typing import Any\n",
    "\n",
    "def head(l:list)->Any:[x,*xs] = l; return x "
   ]
  },
  {
   "cell_type": "code",
   "execution_count": 52,
   "id": "5a09429d-8cf7-47ba-bb43-b3f1e454ebca",
   "metadata": {},
   "outputs": [
    {
     "data": {
      "text/plain": [
       "1"
      ]
     },
     "execution_count": 52,
     "metadata": {},
     "output_type": "execute_result"
    }
   ],
   "source": [
    "l = [n for n in range(1,11)]\n",
    "head(l)"
   ]
  },
  {
   "cell_type": "markdown",
   "id": "9f1c9aa1-84b2-4b12-9f91-5c06df4e3c06",
   "metadata": {},
   "source": [
    "The antonym of head is the tails function easily written with pattern matching on a sequence."
   ]
  },
  {
   "cell_type": "code",
   "execution_count": 53,
   "id": "6310d872-6c77-4505-bc77-4c0837b3d37f",
   "metadata": {},
   "outputs": [],
   "source": [
    "def tails(l:list)->Any:\n",
    "    [x,*xs] = l\n",
    "    return xs"
   ]
  },
  {
   "cell_type": "code",
   "execution_count": 32,
   "id": "0db39df1-b4d5-448d-8096-30740a383d29",
   "metadata": {},
   "outputs": [
    {
     "data": {
      "text/plain": [
       "[2, 3, 4, 5, 6, 7, 8, 9, 10]"
      ]
     },
     "execution_count": 32,
     "metadata": {},
     "output_type": "execute_result"
    }
   ],
   "source": [
    "tails(l)"
   ]
  },
  {
   "cell_type": "markdown",
   "id": "c12c3458-9f25-40a1-a417-fdbe9c9d6eb9",
   "metadata": {},
   "source": [
    "As you've guessed you can expand this quite easily."
   ]
  },
  {
   "cell_type": "code",
   "execution_count": 54,
   "id": "32206e7b-b2c9-4524-9894-aa4674c5ddde",
   "metadata": {},
   "outputs": [],
   "source": [
    "def fst3(l:list)->list:\n",
    "    [x,y,z,*xs] = l\n",
    "    return [x,y,z]"
   ]
  },
  {
   "cell_type": "code",
   "execution_count": 55,
   "id": "81a7c805-3820-479a-a076-3bada8cc79f7",
   "metadata": {},
   "outputs": [
    {
     "data": {
      "text/plain": [
       "[1, 2, 3]"
      ]
     },
     "execution_count": 55,
     "metadata": {},
     "output_type": "execute_result"
    }
   ],
   "source": [
    "fst3(l)"
   ]
  },
  {
   "cell_type": "markdown",
   "id": "52faf4c4-5208-4e91-b791-5052b523162e",
   "metadata": {},
   "source": [
    "We can caputure richer patterns, for instance forking with a logical or `|`."
   ]
  },
  {
   "cell_type": "code",
   "execution_count": 56,
   "id": "4dbc68cd-a43f-4a1c-bba3-f120a465ff79",
   "metadata": {},
   "outputs": [],
   "source": [
    "def crocs_snackies(arg:str)->str:\n",
    "    match arg:\n",
    "        case 'Blue Heron' | 'Wallaby' | 'Cote du boeuf':\n",
    "            return 'Delicious snacky'\n",
    "        case 'Tuna' | 'Salmon' | 'Dolphin':\n",
    "            return 'OK I will eat this but honestly this is Gator food'\n",
    "        case _:\n",
    "            return 'Are you trying to poison me with a veggie?'\n",
    "    "
   ]
  },
  {
   "cell_type": "code",
   "execution_count": 57,
   "id": "1d66e507-e2d4-4e3a-be6b-f16cc53c806b",
   "metadata": {},
   "outputs": [
    {
     "data": {
      "text/plain": [
       "'Delicious snacky'"
      ]
     },
     "execution_count": 57,
     "metadata": {},
     "output_type": "execute_result"
    }
   ],
   "source": [
    "crocs_snackies('Wallaby')"
   ]
  },
  {
   "cell_type": "code",
   "execution_count": 58,
   "id": "e33ec260-d372-4a0f-917c-2704d8262846",
   "metadata": {},
   "outputs": [
    {
     "data": {
      "text/plain": [
       "'OK I will eat this but honestly this is Gator food'"
      ]
     },
     "execution_count": 58,
     "metadata": {},
     "output_type": "execute_result"
    }
   ],
   "source": [
    "crocs_snackies('Dolphin')"
   ]
  },
  {
   "cell_type": "code",
   "execution_count": 59,
   "id": "dfb43786-c28b-4df5-84d0-29cc4d0ff6fb",
   "metadata": {},
   "outputs": [
    {
     "data": {
      "text/plain": [
       "'Are you trying to poison me with a veggie?'"
      ]
     },
     "execution_count": 59,
     "metadata": {},
     "output_type": "execute_result"
    }
   ],
   "source": [
    "crocs_snackies('carrot')"
   ]
  },
  {
   "cell_type": "markdown",
   "id": "bd7b4f79-3e1a-4bb2-a6db-44ffe08ca2a5",
   "metadata": {},
   "source": [
    "For more on pattern matching I do advise you to check the tutorial. \n",
    "\n",
    "I just want to show you a last one and maybe you will realize that you can do much more with patterns in Python than just a match/case. I personally like to use it to write clear and concise functions."
   ]
  },
  {
   "cell_type": "code",
   "execution_count": 60,
   "id": "cfc1a5ef-74fb-4673-b616-8378bc3651f4",
   "metadata": {},
   "outputs": [],
   "source": [
    "def swap(t:tuple)->tuple:\n",
    "    x,y = t\n",
    "    return y,x"
   ]
  },
  {
   "cell_type": "code",
   "execution_count": 61,
   "id": "23468116-e0cf-4a8c-b60b-b441988148f2",
   "metadata": {},
   "outputs": [
    {
     "data": {
      "text/plain": [
       "('b', 'a')"
      ]
     },
     "execution_count": 61,
     "metadata": {},
     "output_type": "execute_result"
    }
   ],
   "source": [
    "t =('a','b')\n",
    "swap(t)"
   ]
  },
  {
   "attachments": {
    "0d92bc4e-33b6-468b-938c-3c10b3c86226.png": {
     "image/png": "[encoded data removed]"
    }
   },
   "cell_type": "markdown",
   "id": "0fcf728c-7735-4145-a40b-6d44bb38c5a5",
   "metadata": {},
   "source": [
    "#### **Iteration**\n",
    "Iteration is the main subject of this notebook, I will show you what iteration means in detail, what a generator is in Python, how you can create your own iterators and let Python do it for you. We even take a look at laziness, when using laziness, we can even have an infinite number of repetitions. Finally, we look at the functional programming tools in the itertools & functools module that allow you to use iteration concepts as building blocks to build increasingly more powerful algorithms.\n",
    "\n",
    "Iteration is the technique marking out of a block of statements within a computer program for a defined number of repetitions. \n",
    "\n",
    "![afbeelding.png](attachment:0d92bc4e-33b6-468b-938c-3c10b3c86226.png)\n",
    "\n",
    "What we see is in fact a loop. We do something while a condition is true."
   ]
  },
  {
   "cell_type": "code",
   "execution_count": 62,
   "id": "5d34df40-f71d-4240-a301-e074a962ab86",
   "metadata": {},
   "outputs": [
    {
     "name": "stdout",
     "output_type": "stream",
     "text": [
      "1\n",
      "2\n",
      "3\n",
      "4\n",
      "5\n"
     ]
    }
   ],
   "source": [
    "x = 1 \n",
    "\n",
    "while x < 6:\n",
    "    print(x)\n",
    "    x += 1"
   ]
  },
  {
   "cell_type": "markdown",
   "id": "6740f16d-7e6a-4f62-bdcd-129dd4958a59",
   "metadata": {},
   "source": [
    "The for-loop with index that we know in Python, follows the same pattern. \n",
    "It is syntactic sugar for the while loop, logically they are the same."
   ]
  },
  {
   "cell_type": "code",
   "execution_count": 43,
   "id": "111ad7dd-582f-44b3-be2f-871328dd03a1",
   "metadata": {},
   "outputs": [
    {
     "name": "stdout",
     "output_type": "stream",
     "text": [
      "1\n",
      "2\n",
      "3\n",
      "4\n",
      "5\n"
     ]
    }
   ],
   "source": [
    "for n in range(1,6):\n",
    "    print(n)"
   ]
  },
  {
   "cell_type": "markdown",
   "id": "2e27a632-494e-4c85-a033-60c8ccda8349",
   "metadata": {},
   "source": [
    "In Python the for-each-loop is more used than the for-loop with index. The for-each-loop traverses items in a collection."
   ]
  },
  {
   "cell_type": "code",
   "execution_count": 63,
   "id": "67b3d007-984b-4f7c-9bac-86d114196a70",
   "metadata": {},
   "outputs": [
    {
     "name": "stdout",
     "output_type": "stream",
     "text": [
      "1\n",
      "a\n",
      "True\n",
      "4\n",
      "5\n"
     ]
    }
   ],
   "source": [
    "l = [1,'a',True,4,5]\n",
    "\n",
    "for item in l:\n",
    "    print(item)"
   ]
  },
  {
   "cell_type": "markdown",
   "id": "56974e42-41b8-4579-b9d3-a4804b936a95",
   "metadata": {},
   "source": [
    "My presumption is, that this all familiar to you. Like I presume that you have seen generators before."
   ]
  },
  {
   "cell_type": "code",
   "execution_count": 65,
   "id": "fee21170-a7b0-4861-b0e8-f4854b94e857",
   "metadata": {},
   "outputs": [
    {
     "data": {
      "text/plain": [
       "(2, 4, 6, 8, 10, 12, 14, 16, 18, 20)"
      ]
     },
     "execution_count": 65,
     "metadata": {},
     "output_type": "execute_result"
    }
   ],
   "source": [
    "t = tuple(n for n in range(1,21) if n % 2 == 0)\n",
    "t"
   ]
  },
  {
   "cell_type": "markdown",
   "id": "c6122226-7717-406d-b2ea-29ad49fe390c",
   "metadata": {},
   "source": [
    "#### **Iteration topics**\n",
    "The topics I want to discuss concerning iteration are:\n",
    " 1. How you make your classes iterable.\n",
    " 2. What is the difference between an iterable and iterator.\n",
    " 3. What is a generator, and how is that different from an iterator.\n",
    " 4. What is laziness.\n",
    " 5. The itertools module."
   ]
  },
  {
   "cell_type": "markdown",
   "id": "ccbec84b-e6c4-411f-99b6-4b7da28322f8",
   "metadata": {},
   "source": [
    "#### **Making your classes iterable**\n",
    "Consider the code below:"
   ]
  },
  {
   "cell_type": "code",
   "execution_count": 66,
   "id": "17226739-732b-401d-bec9-b8d263b85605",
   "metadata": {},
   "outputs": [],
   "source": [
    "import re #https://docs.python.org/3/library/re.html\n",
    "import reprlib \n",
    "from dataclasses import dataclass, field\n",
    "\n",
    "\n",
    "@dataclass\n",
    "class Sentence:\n",
    "    '''an iterable class'''\n",
    "    text:str \n",
    "    words:list[str]=field(default_factory=list)\n",
    "\n",
    "    def __post_init__(self)->None:\n",
    "        RE_WORD = re.compile(r'\\w+')\n",
    "        self.words = RE_WORD.findall(self.text) \n",
    "\n",
    "    def __getitem__(self, index:int)->str:\n",
    "        return self.words[index]\n",
    "    \n",
    "    def __len__(self)->int:\n",
    "        return len(self.words)\n",
    "    \n",
    "    def __repr__(self)->str:\n",
    "        return f'Sentence({reprlib.repr(self.text)})' "
   ]
  },
  {
   "cell_type": "markdown",
   "id": "e20f70c4-a63f-4450-bb14-2af587bf9be2",
   "metadata": {},
   "source": [
    "The class Sentence is made, it has two attributes the text that is the whole sentence and words, the words that make up the sentence.\n",
    "\n",
    "We create a few methods. Which are all special methods, by now you should have realized the importance of special methods. The `__repr__` uses a method from the reprlib library to shorten the length of the sentences"
   ]
  },
  {
   "cell_type": "code",
   "execution_count": 67,
   "id": "83dbc81d-a23f-4cfe-a7a1-56c88fe6423a",
   "metadata": {},
   "outputs": [
    {
     "data": {
      "text/plain": [
       "Sentence('\"George is a...o\", Croc said')"
      ]
     },
     "execution_count": 67,
     "metadata": {},
     "output_type": "execute_result"
    }
   ],
   "source": [
    "s = Sentence('\"George is a rhino\", Croc said')\n",
    "s"
   ]
  },
  {
   "cell_type": "code",
   "execution_count": 68,
   "id": "9cefa8bd-f03c-49ee-aa16-983f8e5fa1c3",
   "metadata": {},
   "outputs": [
    {
     "data": {
      "text/plain": [
       "['George', 'is', 'a', 'rhino', 'Croc', 'said']"
      ]
     },
     "execution_count": 68,
     "metadata": {},
     "output_type": "execute_result"
    }
   ],
   "source": [
    "s.words"
   ]
  },
  {
   "cell_type": "code",
   "execution_count": 69,
   "id": "fa5e75dc-8f6f-43a3-9cfc-83b97c8c8cac",
   "metadata": {},
   "outputs": [
    {
     "data": {
      "text/plain": [
       "'\"George is a rhino\", Croc said'"
      ]
     },
     "execution_count": 69,
     "metadata": {},
     "output_type": "execute_result"
    }
   ],
   "source": [
    "s.text"
   ]
  },
  {
   "cell_type": "code",
   "execution_count": 70,
   "id": "8fa62968-adfc-4cca-8a88-89e052f0f9c4",
   "metadata": {},
   "outputs": [
    {
     "name": "stdout",
     "output_type": "stream",
     "text": [
      "George\n",
      "is\n",
      "a\n",
      "rhino\n",
      "Croc\n",
      "said\n"
     ]
    }
   ],
   "source": [
    "for word in s: print(word)"
   ]
  },
  {
   "cell_type": "markdown",
   "id": "2304eaca-3bd2-4eaf-99a8-4c1df13e9780",
   "metadata": {},
   "source": [
    "#### **Sequence interface**\n",
    "How did I make this class iterable? Simple by implementing `__getitem__()` I have implicitly implemented sequence interface. The sequence interface is a subclass of the iterable interface. Python allows you to do this form of interface implementation, it is called extreme DuckTyping; by implementing a single method of sequence I have implemented the interface.  A Sequence in Python is always iterable, for all sequence types have implemented `__iter__` and `__getitem__`\n",
    "\n",
    "I can build upon this iterability and use other functionality. For instance, I can filter.\n"
   ]
  },
  {
   "cell_type": "code",
   "execution_count": 74,
   "id": "0520efec-968a-4344-baf6-0b2de8768bdf",
   "metadata": {},
   "outputs": [
    {
     "data": {
      "text/plain": [
       "['is', 'a']"
      ]
     },
     "execution_count": 74,
     "metadata": {},
     "output_type": "execute_result"
    }
   ],
   "source": [
    "[word for word in s if len(word) <3]"
   ]
  },
  {
   "cell_type": "markdown",
   "id": "a52e7898-2474-4af8-94ad-3e467414b788",
   "metadata": {},
   "source": [
    "or I can slice."
   ]
  },
  {
   "cell_type": "code",
   "execution_count": 52,
   "id": "53bffa21-0139-4ef0-832f-c687e9c4fd19",
   "metadata": {},
   "outputs": [
    {
     "data": {
      "text/plain": [
       "'Croc'"
      ]
     },
     "execution_count": 52,
     "metadata": {},
     "output_type": "execute_result"
    }
   ],
   "source": [
    "s[4]"
   ]
  },
  {
   "cell_type": "markdown",
   "id": "f85a029f-93cb-490f-9766-2f6c90ffc39f",
   "metadata": {},
   "source": [
    "#### Or I can just list them all"
   ]
  },
  {
   "cell_type": "code",
   "execution_count": 75,
   "id": "cca33e50-5ba7-41b1-8f36-4150de657663",
   "metadata": {},
   "outputs": [
    {
     "data": {
      "text/plain": [
       "('George', 'is', 'a', 'rhino', 'Croc', 'said')"
      ]
     },
     "execution_count": 75,
     "metadata": {},
     "output_type": "execute_result"
    }
   ],
   "source": [
    "tuple(s)"
   ]
  },
  {
   "cell_type": "markdown",
   "id": "e24272ff-a429-4a4d-9249-19fae02e2dad",
   "metadata": {},
   "source": [
    "#### **The iter function**\n",
    "Whenever Python needs to iterate over an object it calls the `iter` function. This built-in function checks whether: \n",
    " 1. The object implements `__iter__`, if so, it calls that to obtain an iterator.\n",
    " 2. if `__iter__` is not implemented it checks for `__getitem__`. If this is the case `iter()` returns an iterator that fetches items by index starting from 0. This is what we have done in the above code, which is enough to implement the Sequence interface.\n",
    "\n",
    "If both fail, then Python raises a TypeError 'C' object is not iterable.\n",
    "\n",
    "You can use iter() in combination with a callable (functions, methods, and classes are callable). Every next element in our sequence is now a call to the callable. In the example below I use a function that keeps throwing until 3 comes.\n"
   ]
  },
  {
   "cell_type": "code",
   "execution_count": 76,
   "id": "7e96f9c7-49dd-409e-af04-900e42963ff3",
   "metadata": {},
   "outputs": [],
   "source": [
    "from random import randint\n",
    "def die(): return randint(1,6)"
   ]
  },
  {
   "cell_type": "markdown",
   "id": "d90de8da-64b1-4c97-975a-c0b8fcfe1659",
   "metadata": {},
   "source": [
    "You should run the cell below a few times just to see the difference."
   ]
  },
  {
   "cell_type": "code",
   "execution_count": 80,
   "id": "24ebb0ba-8468-4102-b2f0-f5e54c9266fc",
   "metadata": {},
   "outputs": [
    {
     "data": {
      "text/plain": [
       "[6, 4, 4, 5, 5, 4, 5, 1, 2, 2]"
      ]
     },
     "execution_count": 80,
     "metadata": {},
     "output_type": "execute_result"
    }
   ],
   "source": [
    "die_iter = iter(die,3)\n",
    "[roll for roll in die_iter] # this not a generator but list comprehension "
   ]
  },
  {
   "cell_type": "markdown",
   "id": "90a621ac-60d3-48dd-aefe-0d244cfffb6a",
   "metadata": {},
   "source": [
    "As three is the sentinal value, this code will never show a three. https://en.wikipedia.org/wiki/Sentinel_value"
   ]
  },
  {
   "cell_type": "markdown",
   "id": "64aca7b5-6bdb-42b7-8e39-500b658b90f2",
   "metadata": {},
   "source": [
    "#### **Iterator**\n",
    "An iterator is a software design pattern (see the design patterns notebook), that abstracts the process of scanning through a sequence of elements one element at the time. All programming languages that implement iterators (not all do for instance Clojure does not) have two questions in common:\n",
    " 1. How to know if there is a next element? For instance, you need to have some sort of `hasNext` function (like Java's util.iterator interface) that returns a Boolean or catch an error when there is no more next. Python uses an error to signal that there are no more items.\n",
    " 2. How to go to the next element in a sequence a `next` function that returns the next element in the sequence. \n",
    "\n",
    "Pythons `iter` function returns an iterator object if `__iter__` is defined in the iterable, here a callable iterator.\n"
   ]
  },
  {
   "cell_type": "code",
   "execution_count": 82,
   "id": "91efb706-dbdc-4f37-b2af-8abfc0a32caf",
   "metadata": {},
   "outputs": [
    {
     "data": {
      "text/plain": [
       "<callable_iterator at 0x23a43642200>"
      ]
     },
     "execution_count": 82,
     "metadata": {},
     "output_type": "execute_result"
    }
   ],
   "source": [
    "die_iter"
   ]
  },
  {
   "cell_type": "markdown",
   "id": "9bc5c7e8-15d0-48a2-ac82-591282c38240",
   "metadata": {},
   "source": [
    "#### **Iterable**\n",
    "Any object that is a sequence: a sequence is an enumerated collection of objects in which repetitions are allowed and order matters is a priori iterable. The very Python specific the definition of an iterable is: Any object from which the built-in `iter` function can obtain an iterator. \n",
    "\n",
    "We can show that a Python iterator object actually has `next()` implemented. "
   ]
  },
  {
   "cell_type": "code",
   "execution_count": 83,
   "id": "382a202f-b8a2-4c25-b78f-195f5c535f94",
   "metadata": {},
   "outputs": [
    {
     "name": "stdout",
     "output_type": "stream",
     "text": [
      "A\n",
      "B\n",
      "C\n"
     ]
    }
   ],
   "source": [
    "t= 'ABC'\n",
    "it = iter(t)# create the iterator\n",
    "\n",
    "while True:\n",
    "    try:\n",
    "        print(next(it)) \n",
    "    except StopIteration: # iterator raises a StopIteration error when there are no more elements\n",
    "        del it # keeping your memory usage tidy by getting rid off the iterator object <callable_iterator at 0x1cb3bf87a30> is a memory address\n",
    "        break # exit the loop"
   ]
  },
  {
   "cell_type": "markdown",
   "id": "259d27b2-dbbb-4c17-be65-9be24252c5c6",
   "metadata": {},
   "source": [
    "This code is of course much easier written with a for loop. "
   ]
  },
  {
   "cell_type": "code",
   "execution_count": 84,
   "id": "ccf87d6b-e68d-4b0c-91ab-3706d88cc37b",
   "metadata": {},
   "outputs": [
    {
     "name": "stdout",
     "output_type": "stream",
     "text": [
      "A\n",
      "B\n",
      "C\n"
     ]
    }
   ],
   "source": [
    "for char in t:\n",
    "    print(char)"
   ]
  },
  {
   "attachments": {
    "53d0bbc4-5db8-4bf5-ab5d-e1c9d5c881a4.png": {
     "image/png": "[encoded data removed]"
    }
   },
   "cell_type": "markdown",
   "id": "2b2ec687-f823-4873-baf9-47ac225c926e",
   "metadata": {},
   "source": [
    "#### **Python's iterator model**\n",
    "\n",
    "![image.png](attachment:53d0bbc4-5db8-4bf5-ab5d-e1c9d5c881a4.png)\n",
    "\n",
    "There are two things you should notice in this diagram.\n",
    " 1. As we can see Python hasn't implemented a has_next() function instead it raises an error, It has implemented an `__iter__()` which allows iterators to be used where an iterable is expected. \n",
    " 2. The iterable builds the iterator. \n",
    "\n",
    "Let's investigate these points a bit more."
   ]
  },
  {
   "cell_type": "markdown",
   "id": "e329567c-6693-4349-a402-2bbce12ec87a",
   "metadata": {},
   "source": [
    "We can iterate over our sentence and will end up with an error."
   ]
  },
  {
   "cell_type": "code",
   "execution_count": 85,
   "id": "ac404021-9cd7-445e-b5cc-b85e49343b34",
   "metadata": {},
   "outputs": [
    {
     "data": {
      "text/plain": [
       "'George'"
      ]
     },
     "execution_count": 85,
     "metadata": {},
     "output_type": "execute_result"
    }
   ],
   "source": [
    "it = iter(s)\n",
    "next(it)"
   ]
  },
  {
   "cell_type": "code",
   "execution_count": 86,
   "id": "57f9f3ae-5952-48c2-9652-da658b364e03",
   "metadata": {},
   "outputs": [
    {
     "data": {
      "text/plain": [
       "'is'"
      ]
     },
     "execution_count": 86,
     "metadata": {},
     "output_type": "execute_result"
    }
   ],
   "source": [
    "next(it)"
   ]
  },
  {
   "cell_type": "code",
   "execution_count": 87,
   "id": "1882b795-a90b-448d-85d8-f3ddb346da12",
   "metadata": {},
   "outputs": [
    {
     "data": {
      "text/plain": [
       "'a'"
      ]
     },
     "execution_count": 87,
     "metadata": {},
     "output_type": "execute_result"
    }
   ],
   "source": [
    "next(it)"
   ]
  },
  {
   "cell_type": "code",
   "execution_count": 88,
   "id": "931dc508-8360-478f-a4b0-c3afb89f8e6c",
   "metadata": {},
   "outputs": [
    {
     "data": {
      "text/plain": [
       "'rhino'"
      ]
     },
     "execution_count": 88,
     "metadata": {},
     "output_type": "execute_result"
    }
   ],
   "source": [
    "next(it)"
   ]
  },
  {
   "cell_type": "code",
   "execution_count": 89,
   "id": "3ec6b0aa-eef0-4b05-9d2f-83e2ad86a7eb",
   "metadata": {},
   "outputs": [
    {
     "data": {
      "text/plain": [
       "'Croc'"
      ]
     },
     "execution_count": 89,
     "metadata": {},
     "output_type": "execute_result"
    }
   ],
   "source": [
    "next(it)"
   ]
  },
  {
   "cell_type": "code",
   "execution_count": 90,
   "id": "9a676be7-3f89-4f51-a055-3fe79dcabcce",
   "metadata": {},
   "outputs": [
    {
     "data": {
      "text/plain": [
       "'said'"
      ]
     },
     "execution_count": 90,
     "metadata": {},
     "output_type": "execute_result"
    }
   ],
   "source": [
    "next(it)"
   ]
  },
  {
   "cell_type": "code",
   "execution_count": 65,
   "id": "b9c04ea6-35f8-4ff7-8854-ea636f41a66a",
   "metadata": {},
   "outputs": [
    {
     "ename": "StopIteration",
     "evalue": "",
     "output_type": "error",
     "traceback": [
      "\u001b[1;31m---------------------------------------------------------------------------\u001b[0m",
      "\u001b[1;31mStopIteration\u001b[0m                             Traceback (most recent call last)",
      "Cell \u001b[1;32mIn[65], line 1\u001b[0m\n\u001b[1;32m----> 1\u001b[0m \u001b[38;5;28;43mnext\u001b[39;49m\u001b[43m(\u001b[49m\u001b[43mit\u001b[49m\u001b[43m)\u001b[49m\n",
      "\u001b[1;31mStopIteration\u001b[0m: "
     ]
    }
   ],
   "source": [
    "next(it)"
   ]
  },
  {
   "cell_type": "markdown",
   "id": "96427bb9-a4a5-4a44-8163-781cc11f87ec",
   "metadata": {},
   "source": [
    "We can rewrite our Sentence class so that it is an iterable."
   ]
  },
  {
   "cell_type": "code",
   "execution_count": 93,
   "id": "72e0b6fd-7773-4738-9416-e987b909a9bf",
   "metadata": {},
   "outputs": [],
   "source": [
    "import re #https://docs.python.org/3/library/re.html\n",
    "import reprlib \n",
    "from dataclasses import dataclass, field\n",
    "\n",
    "\n",
    "@dataclass\n",
    "class Sentence:\n",
    "    text:str \n",
    "    words:list[str]=field(default_factory=list)\n",
    "\n",
    "    def __post_init__(self):\n",
    "        RE_WORD = re.compile(r'\\w+')\n",
    "        self.words = RE_WORD.findall(self.text) \n",
    "    \n",
    "    def __repr__(self)->str:\n",
    "        return f'Sentence({reprlib.repr(self.text)})' \n",
    "    \n",
    "    def __iter__(self):\n",
    "        return SentenceIterator(self.words)\n",
    "    \n",
    "@dataclass\n",
    "class SentenceIterator:\n",
    "    words:list[str]=field(default_factory=list)\n",
    "    index:int=0\n",
    "    \n",
    "    def __next__(self)->str:\n",
    "        try:\n",
    "            word = self.words[self.index]\n",
    "            self.index +=1\n",
    "        except IndexError:\n",
    "            raise StopIteration()\n",
    "        return word\n",
    "    \n",
    "    def __iter__(self): # returning self allows SentenceIterator to be a subclass of an iterable \n",
    "        return self\n",
    "    "
   ]
  },
  {
   "cell_type": "code",
   "execution_count": 94,
   "id": "b2a390f7-1eef-48d8-8f61-67359003ae62",
   "metadata": {},
   "outputs": [],
   "source": [
    "s2 = Sentence('Croc is peckish as always')"
   ]
  },
  {
   "cell_type": "code",
   "execution_count": 95,
   "id": "382c78ae-b02a-4f95-94d8-4c125e2b0a0f",
   "metadata": {},
   "outputs": [
    {
     "data": {
      "text/plain": [
       "'Croc'"
      ]
     },
     "execution_count": 95,
     "metadata": {},
     "output_type": "execute_result"
    }
   ],
   "source": [
    "it = iter(s2)\n",
    "next(it)"
   ]
  },
  {
   "cell_type": "code",
   "execution_count": 96,
   "id": "a4633494-2363-4a30-b7f3-b7593b6f378e",
   "metadata": {},
   "outputs": [
    {
     "data": {
      "text/plain": [
       "'is'"
      ]
     },
     "execution_count": 96,
     "metadata": {},
     "output_type": "execute_result"
    }
   ],
   "source": [
    "next(it)"
   ]
  },
  {
   "cell_type": "code",
   "execution_count": 97,
   "id": "5cbb3221-75ae-45a9-83dd-16fed93b0b8b",
   "metadata": {},
   "outputs": [
    {
     "name": "stdout",
     "output_type": "stream",
     "text": [
      "Croc\n",
      "is\n",
      "peckish\n",
      "as\n",
      "always\n"
     ]
    }
   ],
   "source": [
    "for word in s2:\n",
    "    print(word)"
   ]
  },
  {
   "cell_type": "markdown",
   "id": "41deea68-e371-40ff-bb1a-85bd8ba5607f",
   "metadata": {},
   "source": [
    "However, having implemented an iterator and an iterable I can't slice. For I have not implemented `__getitem__`\n",
    "\n",
    "The difference in the `__getitem__`  and `__iter__` is that the latter loops over a collection, and that the former loops over an index which it assumes starts with 0. I need an index to slice, to be subscriptable."
   ]
  },
  {
   "cell_type": "code",
   "execution_count": 99,
   "id": "d925cf9e-ef0f-4a55-90f4-42dc75f40241",
   "metadata": {},
   "outputs": [
    {
     "ename": "TypeError",
     "evalue": "'Sentence' object is not subscriptable",
     "output_type": "error",
     "traceback": [
      "\u001b[1;31m---------------------------------------------------------------------------\u001b[0m",
      "\u001b[1;31mTypeError\u001b[0m                                 Traceback (most recent call last)",
      "Cell \u001b[1;32mIn[99], line 1\u001b[0m\n\u001b[1;32m----> 1\u001b[0m \u001b[43ms2\u001b[49m\u001b[43m[\u001b[49m\u001b[38;5;241;43m3\u001b[39;49m\u001b[43m]\u001b[49m\n",
      "\u001b[1;31mTypeError\u001b[0m: 'Sentence' object is not subscriptable"
     ]
    }
   ],
   "source": [
    "s2[3]"
   ]
  },
  {
   "cell_type": "markdown",
   "id": "7b97246a-d24d-4ce1-81ca-039aa6dd91e4",
   "metadata": {},
   "source": [
    "Instead of throwing an error as Python does, we ccould create a `has_next` function."
   ]
  },
  {
   "cell_type": "code",
   "execution_count": 100,
   "id": "bed829ed-d36e-4561-8f47-ba42a9c59938",
   "metadata": {},
   "outputs": [],
   "source": [
    "import re #https://docs.python.org/3/library/re.html\n",
    "import reprlib \n",
    "from dataclasses import dataclass, field\n",
    "\n",
    "\n",
    "@dataclass\n",
    "class Sentence:\n",
    "    text:str \n",
    "    words:list[str]=field(default_factory=list)\n",
    "\n",
    "    def __post_init__(self):\n",
    "        RE_WORD = re.compile(r'\\w+')\n",
    "        self.words = RE_WORD.findall(self.text) \n",
    "    \n",
    "    def __repr__(self)->str:\n",
    "        return f'Sentence({reprlib.repr(self.text)})' \n",
    "    \n",
    "    def __iter__(self):\n",
    "        return SentenceIteratorTwo(self.words)\n",
    "\n",
    "@dataclass\n",
    "class SentenceIteratorTwo:\n",
    "    words:list[str]=field(default_factory=list)\n",
    "    index:int=0\n",
    "    \n",
    "    def __next__(self)->str:\n",
    "        if self.has_next():\n",
    "            word = self.words[self.index]\n",
    "            self.index += 1\n",
    "            return word\n",
    "        else:\n",
    "            return 'There is no next item'\n",
    "            \n",
    "    def has_next(self)->bool:\n",
    "        return self.index < len(self.words)            \n",
    "    \n",
    "    def __iter__(self):\n",
    "        return self"
   ]
  },
  {
   "cell_type": "code",
   "execution_count": 101,
   "id": "6ca3da6d-b8cd-4107-9b68-70b4acabcd11",
   "metadata": {},
   "outputs": [],
   "source": [
    "s3 = Sentence('short sentence')\n",
    "it = iter(s3)"
   ]
  },
  {
   "cell_type": "code",
   "execution_count": 102,
   "id": "073f4a2a-8313-44b5-b059-0e3a3cf947ec",
   "metadata": {},
   "outputs": [
    {
     "data": {
      "text/plain": [
       "'short'"
      ]
     },
     "execution_count": 102,
     "metadata": {},
     "output_type": "execute_result"
    }
   ],
   "source": [
    "next(it)"
   ]
  },
  {
   "cell_type": "code",
   "execution_count": 103,
   "id": "2bea601a-7ed4-4e1b-aec5-4179ecedd8a0",
   "metadata": {},
   "outputs": [
    {
     "data": {
      "text/plain": [
       "'sentence'"
      ]
     },
     "execution_count": 103,
     "metadata": {},
     "output_type": "execute_result"
    }
   ],
   "source": [
    "next(it)"
   ]
  },
  {
   "cell_type": "code",
   "execution_count": 104,
   "id": "c5a9187a-9ca7-453d-82dc-80d738188caf",
   "metadata": {},
   "outputs": [
    {
     "data": {
      "text/plain": [
       "'There is no next item'"
      ]
     },
     "execution_count": 104,
     "metadata": {},
     "output_type": "execute_result"
    }
   ],
   "source": [
    "next(it)"
   ]
  },
  {
   "cell_type": "markdown",
   "id": "eab2b8b1-1b8a-4fc3-b4e5-823c2469697b",
   "metadata": {},
   "source": [
    "#### **don't confuse iterables and iterators!**\n",
    "An iterable builds an iterator but never implements the iterator interface itself. If you did you could only traverse that iterable once. You should consider this point carefully it is quite important you might not understand why your code is not working properly. \n",
    "\n",
    "The goal is of course to allow multiple traversals of the same object, so the same object can't be the iterator and the iterable.\n"
   ]
  },
  {
   "cell_type": "markdown",
   "id": "e92fad2c-8aea-480a-905c-496357880b63",
   "metadata": {},
   "source": [
    "#### **Generator**\n",
    "A generator is a function that can control the iterating behaviour of a loop. Invented by Barbera Liskov, well know for her substitution principle.\n",
    "\n",
    "In Python you can create a generator by simply using the keyword yield. (Again we are extreme duck typing here)."
   ]
  },
  {
   "cell_type": "code",
   "execution_count": 105,
   "id": "8fcdf634-6d8d-49ee-b94c-ac638c2b612c",
   "metadata": {},
   "outputs": [],
   "source": [
    "@dataclass\n",
    "class Sentence:\n",
    "    text:str \n",
    "    words:list[str]=field(default_factory=list)\n",
    "\n",
    "    def __post_init__(self):\n",
    "        RE_WORD = re.compile(r'\\w+')\n",
    "        self.words = RE_WORD.findall(self.text) \n",
    "    \n",
    "    def __repr__(self)->str:\n",
    "        return f'Sentence({reprlib.repr(self.text)})' \n",
    "    \n",
    "    def __iter__(self):\n",
    "        for word in self.words:\n",
    "            yield word\n",
    "    "
   ]
  },
  {
   "cell_type": "markdown",
   "id": "72b4eeef-36fb-4cbb-981d-cd3354b7da16",
   "metadata": {},
   "source": [
    "As you can see the code just got a lot easier to read. We removed the whole iterator object.\n",
    "\n",
    "The yield expression is used when defining a generator function and thus can only be used in the body of a function definition. Using a yield expression in a function’s body causes that function to be a generator function that returns a generator object. A generator object has a next function and a StopIteration error indeed it is an iterator.\n",
    "\n",
    "This code generates a stream of words."
   ]
  },
  {
   "cell_type": "code",
   "execution_count": 106,
   "id": "63fbaf76-40e3-49f0-9764-c54c230ef5cd",
   "metadata": {},
   "outputs": [
    {
     "data": {
      "text/plain": [
       "'Running'"
      ]
     },
     "execution_count": 106,
     "metadata": {},
     "output_type": "execute_result"
    }
   ],
   "source": [
    "s4 = Sentence('Running around in circles naked while snorting loudly is every rhinos hobby')\n",
    "it = iter(s4)\n",
    "next(it)"
   ]
  },
  {
   "cell_type": "code",
   "execution_count": 107,
   "id": "b76f600b-6fdf-4431-b335-081db252d024",
   "metadata": {},
   "outputs": [
    {
     "data": {
      "text/plain": [
       "'around'"
      ]
     },
     "execution_count": 107,
     "metadata": {},
     "output_type": "execute_result"
    }
   ],
   "source": [
    "next(it)"
   ]
  },
  {
   "cell_type": "markdown",
   "id": "66ca77ca-1afa-4819-819c-e779f8bce4fa",
   "metadata": {},
   "source": [
    "Now you might think we have made our iterable an iterator, but we have not.\n",
    "\n",
    "We used a generator to allow us to control the for loop in iter, there is not iterator object here. There is however a generator object."
   ]
  },
  {
   "cell_type": "code",
   "execution_count": 108,
   "id": "8153fb97-4122-4501-b8f7-8da0b929a8ca",
   "metadata": {},
   "outputs": [
    {
     "data": {
      "text/plain": [
       "<generator object Sentence.__iter__ at 0x0000023A41B3C040>"
      ]
     },
     "execution_count": 108,
     "metadata": {},
     "output_type": "execute_result"
    }
   ],
   "source": [
    "s4.__iter__()"
   ]
  },
  {
   "cell_type": "markdown",
   "id": "1cf28a4c-95bd-4184-b320-8c94d887bcbe",
   "metadata": {},
   "source": [
    "To prove that our class is not an iterator let's iterate over it multiple times."
   ]
  },
  {
   "cell_type": "code",
   "execution_count": 109,
   "id": "ae862961-9e0b-443b-ac79-eb99314941f8",
   "metadata": {},
   "outputs": [
    {
     "data": {
      "text/plain": [
       "'Running'"
      ]
     },
     "execution_count": 109,
     "metadata": {},
     "output_type": "execute_result"
    }
   ],
   "source": [
    "it2 = iter(s4)\n",
    "next(it2)"
   ]
  },
  {
   "cell_type": "code",
   "execution_count": 110,
   "id": "875505f1-a4a0-4bc0-aae3-948249ff22ad",
   "metadata": {},
   "outputs": [
    {
     "data": {
      "text/plain": [
       "'in'"
      ]
     },
     "execution_count": 110,
     "metadata": {},
     "output_type": "execute_result"
    }
   ],
   "source": [
    "next(it)"
   ]
  },
  {
   "cell_type": "code",
   "execution_count": 111,
   "id": "8bdf19ed-2466-4b30-91a9-c2c8ce9f5818",
   "metadata": {},
   "outputs": [
    {
     "data": {
      "text/plain": [
       "'around'"
      ]
     },
     "execution_count": 111,
     "metadata": {},
     "output_type": "execute_result"
    }
   ],
   "source": [
    "next(it2)"
   ]
  },
  {
   "cell_type": "code",
   "execution_count": 112,
   "id": "be0039fd-6218-44b9-922b-42555c93351b",
   "metadata": {},
   "outputs": [
    {
     "data": {
      "text/plain": [
       "'Running'"
      ]
     },
     "execution_count": 112,
     "metadata": {},
     "output_type": "execute_result"
    }
   ],
   "source": [
    "it3 = iter(s4)\n",
    "next(it3)"
   ]
  },
  {
   "cell_type": "code",
   "execution_count": 113,
   "id": "55c507f8-fefa-41a9-8a57-225401315fb9",
   "metadata": {},
   "outputs": [
    {
     "data": {
      "text/plain": [
       "'circles'"
      ]
     },
     "execution_count": 113,
     "metadata": {},
     "output_type": "execute_result"
    }
   ],
   "source": [
    "next(it)"
   ]
  },
  {
   "cell_type": "markdown",
   "id": "aade3889-15e3-4b41-840c-0ea0321d3e85",
   "metadata": {},
   "source": [
    "To prove that our class is not an iterator let's iterate over it multiple times.\n",
    "It is important to remember that a yield statement is different from a return statement:\n",
    " * A return statement leaves the current function call with an expression result list (you can have multiple return values in Python), or None, as the return value.\n",
    " * A yield statement yields elementwise the elements of a sequence, it doesn't return. \n",
    "\n",
    "The use of return in a generator function would immediately see the end of the loop, and control is handed over to the outer scope.\n"
   ]
  },
  {
   "cell_type": "markdown",
   "id": "b1c4c32d-9c07-4d25-977d-9e2c7c229793",
   "metadata": {},
   "source": [
    "#### **Laziness**\n",
    "Laziness depends on lazy evaluation, that is to only apply an operation when the result is need, not before. Haskell knows lazy evaluation and for instance knows the lzay list which is purely infinite. I could say `[1..]` and basically get any integer from that list.\n",
    "\n",
    "Pythons evaluation strategy is eager, where an operation is applied as soon as the operands are known. We can still use laziness in Python as the `re` module uses Lazy evaluation. "
   ]
  },
  {
   "cell_type": "code",
   "execution_count": 114,
   "id": "6f41c3b4-45d9-4509-b2ea-cc4fe150bfab",
   "metadata": {},
   "outputs": [],
   "source": [
    "import re #https://docs.python.org/3/library/re.html\n",
    "import reprlib \n",
    "from dataclasses import dataclass\n",
    "\n",
    "\n",
    "@dataclass\n",
    "class LazySentence:\n",
    "    text:str \n",
    "    \n",
    "    def __repr__(self)->str:\n",
    "        return f'Sentence({reprlib.repr(self.text)})' \n",
    "    \n",
    "    def __iter__(self):\n",
    "        for match in re.compile(r'\\w+').finditer(self.text):\n",
    "            yield match.group()"
   ]
  },
  {
   "cell_type": "code",
   "execution_count": 115,
   "id": "204d89cd-dbf9-4afa-b0f8-250d1c41844d",
   "metadata": {},
   "outputs": [
    {
     "data": {
      "text/plain": [
       "'Running'"
      ]
     },
     "execution_count": 115,
     "metadata": {},
     "output_type": "execute_result"
    }
   ],
   "source": [
    "s5 = LazySentence('Running around in circles naked while snorting loudly is every rhinos hobby')\n",
    "it = iter(s5)\n",
    "next(it)"
   ]
  },
  {
   "cell_type": "code",
   "execution_count": 116,
   "id": "1754b67f-16a7-4ec0-b3b1-b7df72f18a9a",
   "metadata": {},
   "outputs": [
    {
     "data": {
      "text/plain": [
       "'around'"
      ]
     },
     "execution_count": 116,
     "metadata": {},
     "output_type": "execute_result"
    }
   ],
   "source": [
    "next(it)"
   ]
  },
  {
   "cell_type": "markdown",
   "id": "5a4d6efd-47d1-45a4-bb47-1191dde0a111",
   "metadata": {},
   "source": [
    "The laziness is the fact that\n",
    "`['Running','around','in','circles','naked','while','snorting','loudly','is','every','rhinos','hobby]` is only evaluated one element at the time, meaning that only one element is put in memory and then gets evaluated. \n",
    "\n",
    "If we have an endless stream of words we are trying to iterate over, now we can. We don't have to put the entire stream in memory or buffer parts of the stream first before evaluating it. \n",
    "\n",
    "Instead of using yield we could also simply return a generator object by using a generator expression which creates the object.\n",
    "\n",
    "We could rewrite LazySentence using a generator expression as:"
   ]
  },
  {
   "cell_type": "code",
   "execution_count": 118,
   "id": "0100de70-88e7-4604-bdec-f10be2d49aac",
   "metadata": {},
   "outputs": [],
   "source": [
    "import re #https://docs.python.org/3/library/re.html\n",
    "import reprlib \n",
    "from dataclasses import dataclass\n",
    "\n",
    "\n",
    "@dataclass\n",
    "class LazySentence:\n",
    "    text:str \n",
    "    \n",
    "    def __repr__(self)->str:\n",
    "        return f'Sentence({reprlib.repr(self.text)})' \n",
    "    \n",
    "    def __iter__(self):\n",
    "        return (match.group() for match in re.compile(r'\\w+').finditer(self.text))\n",
    "        "
   ]
  },
  {
   "cell_type": "code",
   "execution_count": 119,
   "id": "23de1ba4-daed-40a0-b987-1ed519abf3f5",
   "metadata": {},
   "outputs": [
    {
     "data": {
      "text/plain": [
       "'Running'"
      ]
     },
     "execution_count": 119,
     "metadata": {},
     "output_type": "execute_result"
    }
   ],
   "source": [
    "s6 = LazySentence('Running around in circles naked while snorting loudly is every rhinos hobby')\n",
    "it = iter(s6)\n",
    "next(it)"
   ]
  },
  {
   "cell_type": "code",
   "execution_count": 120,
   "id": "8abe67ac-113c-43f6-941b-28c008be2a72",
   "metadata": {},
   "outputs": [
    {
     "data": {
      "text/plain": [
       "'around'"
      ]
     },
     "execution_count": 120,
     "metadata": {},
     "output_type": "execute_result"
    }
   ],
   "source": [
    "next(it)"
   ]
  },
  {
   "cell_type": "code",
   "execution_count": 121,
   "id": "794aed70-5ce7-4059-9afc-c69ebabc7842",
   "metadata": {},
   "outputs": [
    {
     "data": {
      "text/plain": [
       "Sentence('Running arou... rhinos hobby')"
      ]
     },
     "execution_count": 121,
     "metadata": {},
     "output_type": "execute_result"
    }
   ],
   "source": [
    "s6"
   ]
  },
  {
   "cell_type": "markdown",
   "id": "6c162ce3-11d5-4a0b-8710-8aec6c17951d",
   "metadata": {},
   "source": [
    "#### **Declarative programming**\n",
    "Using the internal strength of the Python we have managed to bring down our code to two methods, and still LazySentence can be iterated over. This is a good example of why declarative programming is often more concise and contains less faults than imperative. Declarative programming describes what needs to be computed and lets the compiler/interpreter take care of the how it is computed. The more general imperative style of Python programming would tell the interpreter how to compute something. Python I feel is moving ever more to declarative style of programming.\n",
    "\n",
    "True, this code is not purely declarative, but you get the point."
   ]
  },
  {
   "cell_type": "markdown",
   "id": "81780b42-07d8-4402-a871-711068a8772b",
   "metadata": {},
   "source": [
    "#### **Generator vs Iterator**\n",
    "What is the big difference between a generator and an iterator. You create an iterator by implementing a next function. \n",
    "#### \n",
    "    `def __next__(self)->str:\n",
    "        if self.has_next():\n",
    "            word = self.words[self.index]\n",
    "            self.index += 1\n",
    "            return word\n",
    "        else:\n",
    "            raise StopIteration()`\n",
    "          \n",
    "Where a generator is an iterator that is created by the compiler. You can tell the compiler in two different ways you want an iterator; you can use the yield keyword,\n",
    "\n",
    "####\n",
    "      `def __iter__(self):\n",
    "         for word in self.words:\n",
    "            yield word`\n",
    "            \n",
    "or you can use a generator expression.\n",
    "\n",
    "####\n",
    "      `def __iter__(self):\n",
    "         return (match.group() for match in re.compile(r'\\w+').finditer(self.text))`\n",
    "\n",
    "In use a generator and an iterator are the same. You should always assume the interpreter knows better, you should have the compiler create the iterator (via a generator) instead of creating your own!\n"
   ]
  },
  {
   "cell_type": "markdown",
   "id": "2b974d53-15d8-4baf-beeb-28dcc9ec518a",
   "metadata": {},
   "source": [
    "#### **itertools module**\n",
    "To fully take advantage of generators Python borrowed from functional languages as SML and Haskell to create the itertools library. A core set of fast, memory efficient tools that are useful by themselves or in combination. Combining functions is the common way to build complex programs in functional languages. \n",
    "\n",
    "####\n",
    "      `countFrom :: Num a => a -> a -> [a]\n",
    "       countFrom n step = n : countFrom (n + step)\n",
    "\n",
    "       from10to20 :: [Integer]\n",
    "       from10to20 = takeWhile (<= 20) $ countFrom 10 1`\n",
    "\n",
    "The first function creates a list of integers from some starting point `n`. The second function uses the first function to create a list from 10 to 20 while using the first function. We can do something similar in Python."
   ]
  },
  {
   "cell_type": "code",
   "execution_count": 122,
   "id": "40a37711-03b6-460f-a2e7-b66846be682b",
   "metadata": {},
   "outputs": [],
   "source": [
    "from dataclasses import dataclass\n",
    "\n",
    "@dataclass(frozen=True)\n",
    "class CountFrom:\n",
    "    begin:object\n",
    "    step:object\n",
    "    end:object\n",
    "    \n",
    "    def __iter__(self)->object:\n",
    "        result_type = type(self.begin + self.step) # the result type of our function, which is the broadest type\n",
    "        result = result_type(self.begin) # this a cast to the correct result type \n",
    "        forever = self.end is None # the list wil either end or not if forever is true\n",
    "        index = 0\n",
    "        while forever or result < self.end:\n",
    "            yield result\n",
    "            index += 1\n",
    "            result = self.begin + self.step * index"
   ]
  },
  {
   "cell_type": "code",
   "execution_count": 123,
   "id": "624c087a-e169-4214-96d2-b7e9211cc0b0",
   "metadata": {},
   "outputs": [
    {
     "data": {
      "text/plain": [
       "[0, 1, 2, 3, 4]"
      ]
     },
     "execution_count": 123,
     "metadata": {},
     "output_type": "execute_result"
    }
   ],
   "source": [
    "cf = CountFrom(0,1,5)\n",
    "list(cf)"
   ]
  },
  {
   "cell_type": "code",
   "execution_count": 124,
   "id": "9a0f303a-3229-4889-b6a5-f3504f5b0bce",
   "metadata": {},
   "outputs": [
    {
     "data": {
      "text/plain": [
       "(Decimal('0'), Decimal('0.1'), Decimal('0.2'))"
      ]
     },
     "execution_count": 124,
     "metadata": {},
     "output_type": "execute_result"
    }
   ],
   "source": [
    "from decimal import Decimal\n",
    "\n",
    "cf = CountFrom(0, Decimal('.1'), .3)\n",
    "tuple(cf)"
   ]
  },
  {
   "cell_type": "markdown",
   "id": "46c70a65-33f0-4365-b807-2cc3c0fb11e9",
   "metadata": {},
   "source": [
    "Now I can create a sort of similar from10to20 function in Python."
   ]
  },
  {
   "cell_type": "code",
   "execution_count": 125,
   "id": "34798232-0816-44aa-923e-c848338d0a98",
   "metadata": {},
   "outputs": [],
   "source": [
    "def from_ten_to_twenty(): \n",
    "    cf = CountFrom(10,1,21)\n",
    "    return list(cf)"
   ]
  },
  {
   "cell_type": "code",
   "execution_count": 126,
   "id": "b2493f42-e011-4427-ab95-0542bcee8555",
   "metadata": {},
   "outputs": [
    {
     "data": {
      "text/plain": [
       "[10, 11, 12, 13, 14, 15, 16, 17, 18, 19, 20]"
      ]
     },
     "execution_count": 126,
     "metadata": {},
     "output_type": "execute_result"
    }
   ],
   "source": [
    "from_ten_to_twenty()\n"
   ]
  },
  {
   "cell_type": "markdown",
   "id": "3dce3a23-bde7-43ad-80c4-3919f207e89b",
   "metadata": {},
   "source": [
    "The above code is of course near to the same as the range function"
   ]
  },
  {
   "cell_type": "code",
   "execution_count": 102,
   "id": "8949faed-fc2e-4614-8823-cb46ade7607d",
   "metadata": {},
   "outputs": [
    {
     "data": {
      "text/plain": [
       "[10, 11, 12, 13, 14, 15, 16, 17, 18, 19, 20]"
      ]
     },
     "execution_count": 102,
     "metadata": {},
     "output_type": "execute_result"
    }
   ],
   "source": [
    "list(range(10,21,1))"
   ]
  },
  {
   "cell_type": "markdown",
   "id": "7dc9cb1a-c44a-47d1-805e-d733d6313021",
   "metadata": {},
   "source": [
    "There are some limitations to `range` we overcome with CountFrom for instance we can use many different types of objects.\n",
    "\n",
    "CountFrom is more generic."
   ]
  },
  {
   "cell_type": "code",
   "execution_count": 127,
   "id": "8a3d95a5-40e1-495c-8141-453ac9427bb9",
   "metadata": {},
   "outputs": [
    {
     "ename": "TypeError",
     "evalue": "'Fraction' object cannot be interpreted as an integer",
     "output_type": "error",
     "traceback": [
      "\u001b[1;31m---------------------------------------------------------------------------\u001b[0m",
      "\u001b[1;31mTypeError\u001b[0m                                 Traceback (most recent call last)",
      "Cell \u001b[1;32mIn[127], line 3\u001b[0m\n\u001b[0;32m      1\u001b[0m \u001b[38;5;28;01mfrom\u001b[39;00m \u001b[38;5;21;01mfractions\u001b[39;00m \u001b[38;5;28;01mimport\u001b[39;00m Fraction\n\u001b[1;32m----> 3\u001b[0m \u001b[38;5;28mlist\u001b[39m(\u001b[38;5;28;43mrange\u001b[39;49m\u001b[43m(\u001b[49m\u001b[38;5;241;43m0\u001b[39;49m\u001b[43m,\u001b[49m\u001b[43m \u001b[49m\u001b[43mFraction\u001b[49m\u001b[43m(\u001b[49m\u001b[38;5;241;43m1\u001b[39;49m\u001b[43m,\u001b[49m\u001b[38;5;241;43m3\u001b[39;49m\u001b[43m)\u001b[49m\u001b[43m,\u001b[49m\u001b[43m \u001b[49m\u001b[38;5;241;43m2\u001b[39;49m\u001b[43m)\u001b[49m)\n",
      "\u001b[1;31mTypeError\u001b[0m: 'Fraction' object cannot be interpreted as an integer"
     ]
    }
   ],
   "source": [
    "from fractions import Fraction\n",
    "\n",
    "list(range(0, Fraction(1,3), 2))"
   ]
  },
  {
   "cell_type": "code",
   "execution_count": 128,
   "id": "9df25b20-9f61-42b3-90f7-002b62536f9a",
   "metadata": {},
   "outputs": [
    {
     "data": {
      "text/plain": [
       "[Fraction(0, 1),\n",
       " Fraction(1, 3),\n",
       " Fraction(2, 3),\n",
       " Fraction(1, 1),\n",
       " Fraction(4, 3),\n",
       " Fraction(5, 3)]"
      ]
     },
     "execution_count": 128,
     "metadata": {},
     "output_type": "execute_result"
    }
   ],
   "source": [
    "cf = CountFrom(0, Fraction(1,3), 2)\n",
    "list(cf)"
   ]
  },
  {
   "cell_type": "markdown",
   "id": "32ee35fc-1ad5-4dee-9b4f-7f3aeee6617b",
   "metadata": {},
   "source": [
    "Python's evaluation strategy is eager https://en.wikipedia.org/wiki/Evaluation_strategy#Eager_evaluation. \n",
    "\n",
    "Meaning you would have to produce the whole list before you evaluate it. This is a problem how can I create `from_ten_to_twenty` while using infinite list? Here Haskell uses takeWhile. Python's itertools provide you with basically Haskell's takeWhile function. (The itertools library is basically based on Haskell and SML)"
   ]
  },
  {
   "cell_type": "code",
   "execution_count": 129,
   "id": "6ebc798a-d1a2-4d72-9f72-508b99f25fa4",
   "metadata": {},
   "outputs": [],
   "source": [
    "import itertools\n",
    "\n",
    "def from10to20()->list[object]:\n",
    "    cf = CountFrom(10,1,None)\n",
    "    return itertools.takewhile(lambda x: x <= 20, list(cf))"
   ]
  },
  {
   "cell_type": "markdown",
   "id": "6e0e7bd2-e752-4971-a3ab-605a8b9729fc",
   "metadata": {},
   "source": [
    "No we run in to trouble, the Python compiler refuses service if you call from `from10to20`, it's still making the infinite list. \n",
    "Luckily itertools safes us again with the count function that just keeps on counting from `n` to whatever."
   ]
  },
  {
   "cell_type": "code",
   "execution_count": 130,
   "id": "698d6783-488c-4aa0-9d0a-c566077b2a2a",
   "metadata": {},
   "outputs": [
    {
     "data": {
      "text/plain": [
       "[10, 11, 12, 13, 14, 15, 16, 17, 18, 19, 20]"
      ]
     },
     "execution_count": 130,
     "metadata": {},
     "output_type": "execute_result"
    }
   ],
   "source": [
    "def from10to20():\n",
    "    return list(itertools.takewhile(lambda x: x <= 20, itertools.count(10)))\n",
    "from10to20()"
   ]
  },
  {
   "cell_type": "markdown",
   "id": "53f068f0-43b3-4be2-a573-b2ec707e0c21",
   "metadata": {},
   "source": [
    "The itertools module is full with extremely handy functions that you can combine virtually endlessly to evermore complex algorithms.\n",
    "\n",
    "For instance, you can easily chain iterables."
   ]
  },
  {
   "cell_type": "code",
   "execution_count": 109,
   "id": "8f475056-80e4-4f91-bfda-5c8379652eaa",
   "metadata": {},
   "outputs": [
    {
     "data": {
      "text/plain": [
       "['G',\n",
       " 'e',\n",
       " 'o',\n",
       " 'r',\n",
       " 'g',\n",
       " 'e',\n",
       " ' ',\n",
       " 'i',\n",
       " 's',\n",
       " ' ',\n",
       " 'a',\n",
       " ' ',\n",
       " 'r',\n",
       " 'h',\n",
       " 'i',\n",
       " 'n',\n",
       " 'o']"
      ]
     },
     "execution_count": 109,
     "metadata": {},
     "output_type": "execute_result"
    }
   ],
   "source": [
    "import itertools\n",
    "\n",
    "list(itertools.chain('George ', 'is ', 'a ', 'rhino'))"
   ]
  },
  {
   "cell_type": "markdown",
   "id": "22800203-31ba-4da5-b6b2-fa404433464c",
   "metadata": {},
   "source": [
    "#### This might not seem so handy but combined with accumulate it becomes more powerful I basically concatenated four strings"
   ]
  },
  {
   "cell_type": "code",
   "execution_count": 110,
   "id": "50f62d22-dadf-44e0-9287-0fd6e9b3cf6a",
   "metadata": {},
   "outputs": [
    {
     "data": {
      "text/plain": [
       "'George is a rhino'"
      ]
     },
     "execution_count": 110,
     "metadata": {},
     "output_type": "execute_result"
    }
   ],
   "source": [
    "import operator\n",
    "\n",
    "list(reversed(list(itertools.accumulate(list(itertools.chain('George ', 'is ', 'a ', 'rhino')), operator.add))))[0]"
   ]
  },
  {
   "cell_type": "markdown",
   "id": "9950c75e-bc8c-4dd7-84b1-1539050d92ec",
   "metadata": {},
   "source": [
    "#### of course these are lots of brackets :-)\n",
    "#### I could just use functools reduce and be done with it so much easier"
   ]
  },
  {
   "cell_type": "code",
   "execution_count": 111,
   "id": "7d27c44a-70a1-4cff-898c-a5ffc02529a8",
   "metadata": {},
   "outputs": [
    {
     "data": {
      "text/plain": [
       "'George is a rhino'"
      ]
     },
     "execution_count": 111,
     "metadata": {},
     "output_type": "execute_result"
    }
   ],
   "source": [
    "from functools import reduce\n",
    "import operator\n",
    "\n",
    "str(reduce(operator.add, itertools.chain('George ', 'is ', 'a ', 'rhino'),  ''))"
   ]
  },
  {
   "cell_type": "markdown",
   "id": "b26ce2a6-bb44-43db-ac50-a08884ce3009",
   "metadata": {},
   "source": [
    "#### Of course I cheated a little bit by adding a blank space. \n",
    "#### However you could easily write an intersperse function that distributes ` ` over the word and use it to weave the blank space in. \n",
    "#### you should try this as an excercise.\n",
    "#### Meanwhile I'll show you one more thing you can do with itertools and function composition\n",
    "#### then you should investigate itertools yourself https://docs.python.org/3/library/itertools.html rembering these are fast and memory efficient tools. So yes you can achieve this in different manners in Python, but those won't be guaranteed fast and efficient. "
   ]
  },
  {
   "cell_type": "code",
   "execution_count": 112,
   "id": "3ed16e5c-4e23-4436-a8b9-d99c07a6f11f",
   "metadata": {},
   "outputs": [
    {
     "data": {
      "text/plain": [
       "[(1, 'x'),\n",
       " (1, 'y'),\n",
       " (2, 'x'),\n",
       " (2, 'y'),\n",
       " (3, 'x'),\n",
       " (3, 'y'),\n",
       " (4, 'x'),\n",
       " (4, 'y'),\n",
       " (5, 'x'),\n",
       " (5, 'y')]"
      ]
     },
     "execution_count": 112,
     "metadata": {},
     "output_type": "execute_result"
    }
   ],
   "source": [
    "list(itertools.product([1,2,3,4,5], 'xy'))"
   ]
  },
  {
   "cell_type": "markdown",
   "id": "4b488e1a-9970-479d-b1df-c853414865c7",
   "metadata": {},
   "source": [
    "## **Recursion**\n",
    "#### Recursion is a method of solving a computational problem where the solution depends on solutions to smaller instances of the same problem. Recursion solves such recursive problems by using functions that call themselves from within their own code. \n",
    "#### Recursion is the twin of induction, induction being a mathematical technique to construct proofs. A statement P ( n ) P(n) is true for every natural number n n, that is, that the infinitely many cases $P ( 0 ) , P ( 1 ) , P ( 2 ) , P ( 3 ) , … $  all hold.\n",
    "#### A proof by induction consists of two cases. The first, the base case, proves the statement for $n = 0$  without assuming any knowledge of other cases. The second case, the induction step, proves that if the statement holds for any given case $n = k$ then it must also hold for the next case $n = k + 1$\n",
    "#### I started this notebook with a claim, that you only need three basis structures to acomplish all control flow in programming. This is actually proven by Bohm & Jacopini who wrote that proof using induction.\n",
    "#### In computer programming a proof by structural induction is often used. https://en.wikipedia.org/wiki/Structural_induction\n",
    "#### The same ideas we find in recursion, you define a base case or more base cases, and make a recursive call until you hit the base case after which you compute the result on the call stack.\n",
    "#### a clear example is needed before I explain more"
   ]
  },
  {
   "cell_type": "code",
   "execution_count": 113,
   "id": "a51b2173-a41a-4277-a25c-1c6c20022b26",
   "metadata": {},
   "outputs": [],
   "source": [
    "def factorial(n):\n",
    "    if n == 1: #base case\n",
    "        return 1\n",
    "    return n * factorial(n-1)"
   ]
  },
  {
   "cell_type": "code",
   "execution_count": 114,
   "id": "7b14b2ef-477a-4d6b-bdc7-49cc53432148",
   "metadata": {},
   "outputs": [
    {
     "data": {
      "text/plain": [
       "120"
      ]
     },
     "execution_count": 114,
     "metadata": {},
     "output_type": "execute_result"
    }
   ],
   "source": [
    "factorial(5)"
   ]
  },
  {
   "cell_type": "markdown",
   "id": "098bb21e-354c-429b-be26-d26d728d4fe9",
   "metadata": {},
   "source": [
    "#### An example with two base cases"
   ]
  },
  {
   "cell_type": "code",
   "execution_count": 115,
   "id": "62b7ab5a-7a7d-4b4e-adcf-f56119a0c87d",
   "metadata": {},
   "outputs": [],
   "source": [
    "def fibonacci(n:int)->int:\n",
    "    if n == 0: #  base case\n",
    "        return 1\n",
    "    elif n == 1:\n",
    "        return 1\n",
    "    else:     # recursive call\n",
    "        return fibonacci(n-1)+fibonacci(n-2)"
   ]
  },
  {
   "cell_type": "code",
   "execution_count": 116,
   "id": "308ecec5-f6bb-4b33-b675-f9250bc1972d",
   "metadata": {},
   "outputs": [
    {
     "data": {
      "text/plain": [
       "89"
      ]
     },
     "execution_count": 116,
     "metadata": {},
     "output_type": "execute_result"
    }
   ],
   "source": [
    "fibonacci(10)"
   ]
  },
  {
   "cell_type": "markdown",
   "id": "48e7b90a-1803-4a4f-b409-777eb74f7416",
   "metadata": {},
   "source": [
    "#### what happens with factorial is it puts the intermediate function calls on the call stack https://en.wikipedia.org/wiki/Call_stack\n",
    "#### It looks something like this:\n",
    "#### stack `[factorial 5]` <- first call\n",
    "#### stack `[factorial(5) * (factorial(4)*factorial(3)]`\n",
    "#### stack `[factorial(5) * (factorial(4)*(factorial(3)*factorial(2))]`\n",
    "#### stack `[factorial(5) * (factorial(4)*(factorial(3)*(factorial(2)*factorial(1)))]`\n",
    "#### stack `[factorial(5) * (factorial(4)*(factorial(3)*(factorial(2)*1)))]`\n",
    "#### stack `[factorial(5) * (factorial(4)*(factorial(3)*(2*1)))]`\n",
    "#### stack `[factorial(5) * (factorial(4)*(3*(2*1)))]`\n",
    "#### stack `[factorial(5)*(4*(3*(2*1)))]`\n",
    "#### stack `[5*4*3*2*1]`\n",
    "#### ...\n",
    "#### stack `[120]`\n",
    "#### As you can see the stack gets build up with all the function calls then with the intermediate results and finally the result"
   ]
  },
  {
   "cell_type": "markdown",
   "id": "2c26d920-20ce-4cdf-9aa8-e0b484367509",
   "metadata": {},
   "source": [
    "#### There are languages like Clojure and Haskell that don't have any looping mechanism. \n",
    "#### They solely rely on recursion for the process of scanning elementwise through a sequence of elements.\n",
    "#### However in Python you shouldn't use bare recursion, for Python recursion is not optimized"
   ]
  },
  {
   "cell_type": "code",
   "execution_count": 135,
   "id": "02bee82a-85e3-4ac5-a88b-48bdff215909",
   "metadata": {},
   "outputs": [
    {
     "data": {
      "text/plain": [
       "165580141"
      ]
     },
     "execution_count": 135,
     "metadata": {},
     "output_type": "execute_result"
    }
   ],
   "source": [
    "fibonacci(40) # this take a while be patient"
   ]
  },
  {
   "cell_type": "markdown",
   "id": "841c7f0a-b888-4c73-beac-e689026f8f47",
   "metadata": {},
   "source": [
    "#### In fact standard recursion in Python is a very inefficient way of programming for C has no optimization of recursion in C is one of the two languages the CPython compiler is written in. \n",
    "#### Python has a recursion depth of 3000, meaning your call stack can't grow beyond that. (It used to be less than a thousand) "
   ]
  },
  {
   "cell_type": "code",
   "execution_count": 117,
   "id": "1df081d4-353c-4390-bc4a-7d50fcaf68db",
   "metadata": {},
   "outputs": [],
   "source": [
    "def product(ns:list[int], acc)->int:\n",
    "    if len(ns)==0:\n",
    "        return acc\n",
    "    else:\n",
    "        acc = ns.pop(0)*acc\n",
    "        return product(ns,acc)"
   ]
  },
  {
   "cell_type": "code",
   "execution_count": 118,
   "id": "f6d736a4-9c69-43f3-974f-2035720d9390",
   "metadata": {},
   "outputs": [
    {
     "data": {
      "text/plain": [
       "120"
      ]
     },
     "execution_count": 118,
     "metadata": {},
     "output_type": "execute_result"
    }
   ],
   "source": [
    "product([1,2,3,4,5], 1)"
   ]
  },
  {
   "cell_type": "code",
   "execution_count": 119,
   "id": "f77ee8a3-73fc-4e39-a973-70ee7cc2fbb8",
   "metadata": {},
   "outputs": [
    {
     "ename": "RecursionError",
     "evalue": "maximum recursion depth exceeded",
     "output_type": "error",
     "traceback": [
      "\u001b[1;31m---------------------------------------------------------------------------\u001b[0m",
      "\u001b[1;31mRecursionError\u001b[0m                            Traceback (most recent call last)",
      "Cell \u001b[1;32mIn[119], line 2\u001b[0m\n\u001b[0;32m      1\u001b[0m longlist \u001b[38;5;241m=\u001b[39m [n \u001b[38;5;28;01mfor\u001b[39;00m n \u001b[38;5;129;01min\u001b[39;00m \u001b[38;5;28mrange\u001b[39m(\u001b[38;5;241m1\u001b[39m,\u001b[38;5;241m100000\u001b[39m)]\n\u001b[1;32m----> 2\u001b[0m \u001b[43mproduct\u001b[49m\u001b[43m(\u001b[49m\u001b[43mlonglist\u001b[49m\u001b[43m,\u001b[49m\u001b[38;5;241;43m1\u001b[39;49m\u001b[43m)\u001b[49m\n",
      "Cell \u001b[1;32mIn[117], line 6\u001b[0m, in \u001b[0;36mproduct\u001b[1;34m(ns, acc)\u001b[0m\n\u001b[0;32m      4\u001b[0m \u001b[38;5;28;01melse\u001b[39;00m:\n\u001b[0;32m      5\u001b[0m     acc \u001b[38;5;241m=\u001b[39m ns\u001b[38;5;241m.\u001b[39mpop(\u001b[38;5;241m0\u001b[39m)\u001b[38;5;241m*\u001b[39macc\n\u001b[1;32m----> 6\u001b[0m     \u001b[38;5;28;01mreturn\u001b[39;00m \u001b[43mproduct\u001b[49m\u001b[43m(\u001b[49m\u001b[43mns\u001b[49m\u001b[43m,\u001b[49m\u001b[43macc\u001b[49m\u001b[43m)\u001b[49m\n",
      "Cell \u001b[1;32mIn[117], line 6\u001b[0m, in \u001b[0;36mproduct\u001b[1;34m(ns, acc)\u001b[0m\n\u001b[0;32m      4\u001b[0m \u001b[38;5;28;01melse\u001b[39;00m:\n\u001b[0;32m      5\u001b[0m     acc \u001b[38;5;241m=\u001b[39m ns\u001b[38;5;241m.\u001b[39mpop(\u001b[38;5;241m0\u001b[39m)\u001b[38;5;241m*\u001b[39macc\n\u001b[1;32m----> 6\u001b[0m     \u001b[38;5;28;01mreturn\u001b[39;00m \u001b[43mproduct\u001b[49m\u001b[43m(\u001b[49m\u001b[43mns\u001b[49m\u001b[43m,\u001b[49m\u001b[43macc\u001b[49m\u001b[43m)\u001b[49m\n",
      "    \u001b[1;31m[... skipping similar frames: product at line 6 (2971 times)]\u001b[0m\n",
      "Cell \u001b[1;32mIn[117], line 6\u001b[0m, in \u001b[0;36mproduct\u001b[1;34m(ns, acc)\u001b[0m\n\u001b[0;32m      4\u001b[0m \u001b[38;5;28;01melse\u001b[39;00m:\n\u001b[0;32m      5\u001b[0m     acc \u001b[38;5;241m=\u001b[39m ns\u001b[38;5;241m.\u001b[39mpop(\u001b[38;5;241m0\u001b[39m)\u001b[38;5;241m*\u001b[39macc\n\u001b[1;32m----> 6\u001b[0m     \u001b[38;5;28;01mreturn\u001b[39;00m \u001b[43mproduct\u001b[49m\u001b[43m(\u001b[49m\u001b[43mns\u001b[49m\u001b[43m,\u001b[49m\u001b[43macc\u001b[49m\u001b[43m)\u001b[49m\n",
      "\u001b[1;31mRecursionError\u001b[0m: maximum recursion depth exceeded"
     ]
    }
   ],
   "source": [
    "longlist = [n for n in range(1,100000)]\n",
    "product(longlist,1)"
   ]
  },
  {
   "cell_type": "code",
   "execution_count": 120,
   "id": "121b01dd-3109-4573-a0ce-09660918e55c",
   "metadata": {},
   "outputs": [
    {
     "data": {
      "text/plain": [
       "3000"
      ]
     },
     "execution_count": 120,
     "metadata": {},
     "output_type": "execute_result"
    }
   ],
   "source": [
    "import sys\n",
    "sys.getrecursionlimit()"
   ]
  },
  {
   "cell_type": "markdown",
   "id": "63f57b4b-5038-4298-a9df-953146cba3d6",
   "metadata": {},
   "source": [
    "#### Of course Haskell and Clojure have optimized recursion, you could see from my above explanation of what happend at the call stack that you can easiliy optimize this process.\n",
    "#### Python doesn't and it will never dixit Guido van Rossum. He feels leaving some stack traces while eliminating others, leads to confussion while debugging.\n",
    "#### Honestly I agree Python being an imperative language (we change state) it is better to use iteration. \n",
    "#### Python has some optimization in external tools. Mainly in caching intermediate results "
   ]
  },
  {
   "cell_type": "code",
   "execution_count": 121,
   "id": "8eb8bea2-fc88-46da-b0a7-9de4542e5402",
   "metadata": {},
   "outputs": [],
   "source": [
    "from functools import cache\n",
    "\n",
    "@cache\n",
    "def fibonacci(n:int)->int:\n",
    "    return 1 if n < 2 else fibonacci(n-1)+fibonacci(n-2)\n"
   ]
  },
  {
   "cell_type": "code",
   "execution_count": 122,
   "id": "7dc0bef7-6849-4f50-bd83-f8b65e0fabf2",
   "metadata": {},
   "outputs": [
    {
     "data": {
      "text/plain": [
       "70330367711422815821835254877183549770181269836358732742604905087154537118196933579742249494562611733487750449241765991088186363265450223647106012053374121273867339111198139373125598767690091902245245323403501"
      ]
     },
     "execution_count": 122,
     "metadata": {},
     "output_type": "execute_result"
    }
   ],
   "source": [
    "fibonacci(1000)"
   ]
  },
  {
   "cell_type": "markdown",
   "id": "87e8ec60-0cb4-47e1-97c4-b641810ba512",
   "metadata": {},
   "source": [
    "#### To use cache on my product function would require a redesign of the function, as you can't hash lists.\n",
    "#### It is a good exercise for you to rewrite the product function with only hashable data.\n",
    "#### This is enough about recursion, though recursion is an important theoretical subject, a Python programmer doesn't need it. "
   ]
  },
  {
   "cell_type": "markdown",
   "id": "cf24743e-fe6a-4607-a9ec-27a396ae5949",
   "metadata": {},
   "source": [
    "## **Runtime Context**\n",
    "#### First for you might have never seen this so what is runtime context? Runtime context is a block of code that at runtime is treated as a whole where certain procedures are executed in specific order or with a specific meaning. A runtime context captures a certain pattern, that is not applicable outside of the context. \n",
    "#### The most famous of these type of contexts is the `try... except... finally...` bloc of code. Which is used to manage resources, such as files, network connections, database connections and software locks.\n",
    "#### Managing resources requires an explicit set-up phase and an explicit teardown phase. Unfortunately the latter is often forgotten, and only the error is caught"
   ]
  },
  {
   "cell_type": "code",
   "execution_count": 123,
   "id": "17dd51d9-f3c8-4c5e-8229-8f867381b2d4",
   "metadata": {},
   "outputs": [],
   "source": [
    "#set-up fase\n",
    "file = open(\"hello.txt\", 'w')\n",
    "\n",
    "try:\n",
    "    file.write('George is a rhino')\n",
    "except Exception as e: # you might be specific about the exception\n",
    "    print(f'unfortunately {e} has occured')"
   ]
  },
  {
   "attachments": {
    "215f26d0-454d-4a1c-af0c-a3b9e7809c3d.png": {
     "image/png": "[encoded data removed]"
    },
    "a17efca4-e739-40d0-b844-9c6618b6ad42.png": {
     "image/png": "[encoded data removed]"
    }
   },
   "cell_type": "markdown",
   "id": "6e123e10-a906-49f4-8c0f-ee69b3ab04ea",
   "metadata": {},
   "source": [
    "#### You will see this kind of code quite often.\n",
    "#### For instance when you open a database connection, acquire a lock or network service. \n",
    "#### This code is the common way to handle exceptions in Python\n",
    "![image.png](attachment:215f26d0-454d-4a1c-af0c-a3b9e7809c3d.png)\n",
    "#### However running this code with an external resource is problematic, catching the error **does not** release the resource. \n",
    "#### Having the resource not released can lead to very specific hard to debug problems. You can lock someone out of a thread they need by not releasing the lock, you can slow down database and network connections by keeping unused connections open (memory leakage). You can prevent file access by keeping the file open (If there is the policy thay only one process can write to a file, which there should be)\n",
    "#### For file, network, database and concurrent operations you need to use the keyword finally and explicitely teardown the resource you used\n",
    "![afbeelding.png](attachment:a17efca4-e739-40d0-b844-9c6618b6ad42.png)"
   ]
  },
  {
   "cell_type": "code",
   "execution_count": 124,
   "id": "4200b5cc-317b-4ab2-b557-623beab5a40d",
   "metadata": {},
   "outputs": [],
   "source": [
    "#set-up fase\n",
    "file = open(\"hello.txt\", 'w')\n",
    "\n",
    "try:\n",
    "    file.write('George is a rhino')\n",
    "except Exception as e: # you might be specific about the exception\n",
    "    print(f'unfortunately {e} has occured')\n",
    "finally:# teardown phase\n",
    "    file.close()"
   ]
  },
  {
   "cell_type": "markdown",
   "id": "367d3a9a-85f6-4428-b0f4-d2d1df0ee4f0",
   "metadata": {},
   "source": [
    "#### Reading is a different CRUD operation than writing and should have it's own context"
   ]
  },
  {
   "cell_type": "code",
   "execution_count": 125,
   "id": "5a24ba8c-f352-4e9a-b283-6a9b0ae4ce5c",
   "metadata": {},
   "outputs": [
    {
     "name": "stdout",
     "output_type": "stream",
     "text": [
      "George is a rhino\n"
     ]
    }
   ],
   "source": [
    "#set-up fase\n",
    "file = open(\"hello.txt\", 'r')\n",
    "\n",
    "try:\n",
    "    print(file.readline())\n",
    "except Exception as e: # you might be specific about the exception\n",
    "    print(f'unfortunately {e} has occured')\n",
    "finally:# teardown phase\n",
    "    file.close()"
   ]
  },
  {
   "cell_type": "markdown",
   "id": "7ac1fa93-5b7b-4236-b887-a79c4190a737",
   "metadata": {},
   "source": [
    "#### Python introduced the `with` statement to factor out standard use cases of `try... except... finally`\n",
    "#### `with expression as target:` The with statement creates a context manager object by evaluating the expression after the with statement. \n",
    "#### The object that is returned must implement the context manager interface, which exists of two special methods. \n",
    "#### The Python compiler calls the `__enter__()` method when it encounters  the `with` keyword and you enter the runtime context this is your explicit set-up phase\n",
    "#### The compiler calls the `__exit__()` method when the runtime context is exited. This is your specific teardown phase.  "
   ]
  },
  {
   "cell_type": "code",
   "execution_count": 126,
   "id": "39e80d91-06a2-4d80-921e-9f1528b77f7e",
   "metadata": {},
   "outputs": [],
   "source": [
    "with open('hello.txt', 'w') as file:\n",
    "    file.writelines(['Purple is a great colour for a rhino',', ',' George is a rhino'])"
   ]
  },
  {
   "cell_type": "markdown",
   "id": "97e51834-df3a-45fb-80b7-715cb170d172",
   "metadata": {},
   "source": [
    "#### As you can see the file was opened and closed in one statement"
   ]
  },
  {
   "cell_type": "code",
   "execution_count": 127,
   "id": "251a1d18-54ea-4fd4-9893-bc4152bcabbc",
   "metadata": {},
   "outputs": [
    {
     "ename": "ValueError",
     "evalue": "I/O operation on closed file.",
     "output_type": "error",
     "traceback": [
      "\u001b[1;31m---------------------------------------------------------------------------\u001b[0m",
      "\u001b[1;31mValueError\u001b[0m                                Traceback (most recent call last)",
      "Cell \u001b[1;32mIn[127], line 1\u001b[0m\n\u001b[1;32m----> 1\u001b[0m \u001b[43mfile\u001b[49m\u001b[38;5;241;43m.\u001b[39;49m\u001b[43mreadline\u001b[49m\u001b[43m(\u001b[49m\u001b[43m)\u001b[49m\n",
      "\u001b[1;31mValueError\u001b[0m: I/O operation on closed file."
     ]
    }
   ],
   "source": [
    "file.readline()"
   ]
  },
  {
   "cell_type": "markdown",
   "id": "48cbd927-b805-4c18-9120-9cb0439870e8",
   "metadata": {},
   "source": [
    "#### You need to reopen the file to read the content"
   ]
  },
  {
   "cell_type": "code",
   "execution_count": 129,
   "id": "60f13969-cc5d-4f37-b41e-b987e29455ef",
   "metadata": {},
   "outputs": [
    {
     "name": "stdout",
     "output_type": "stream",
     "text": [
      "['Purple is a great colour for a rhino,  George is a rhino']\n"
     ]
    }
   ],
   "source": [
    "with open('hello.txt', 'r') as file:\n",
    "    print(file.readlines())"
   ]
  },
  {
   "cell_type": "markdown",
   "id": "e040ec75-3ac1-4324-b90f-8a060d6644f9",
   "metadata": {},
   "source": [
    "#### You can use multiple expressions after a with statement `with A() as a, B() as b:`"
   ]
  },
  {
   "cell_type": "code",
   "execution_count": 130,
   "id": "1791f048-9949-4046-bd66-db38b4f23f05",
   "metadata": {},
   "outputs": [],
   "source": [
    "with open('hello.txt', 'w') as f, open('hello2.txt', 'w') as g :\n",
    "    f.writelines(['Croc', ' is', ' Peckish!'])\n",
    "    g.write('snackies!!!')"
   ]
  },
  {
   "cell_type": "code",
   "execution_count": 131,
   "id": "e318e5ec-bea4-4544-a90a-b35420fc428f",
   "metadata": {},
   "outputs": [
    {
     "name": "stdout",
     "output_type": "stream",
     "text": [
      "Croc is Peckish!\n",
      "snackies!!!\n"
     ]
    }
   ],
   "source": [
    "with open('hello.txt', 'r') as f, open('hello2.txt', 'r') as g:\n",
    "    print(f.readlines()[0])\n",
    "    print(g.read())"
   ]
  },
  {
   "cell_type": "markdown",
   "id": "5bfd7584-efb5-4ffb-b69d-9c39e74e0163",
   "metadata": {},
   "source": [
    "#### This idea of using a context manager to define a runtime context is very powerful\n",
    "#### You can do much more in such a context than grouping a set of operations together. \n",
    "#### I can can create abnormal behavior in such a context, and once leaving that context return to the default behaviour. See the code below. "
   ]
  },
  {
   "cell_type": "code",
   "execution_count": 132,
   "id": "fa6d962e-5c6a-4cc0-a8d9-9c76c9fa9bf2",
   "metadata": {},
   "outputs": [],
   "source": [
    "import sys\n",
    "\n",
    "class ReversePrint:\n",
    "    \n",
    "    def __enter__(self): # 1\n",
    "        self.original_write = sys.stdout.write # 2\n",
    "        sys.stdout.write = self.reverse_write # 3\n",
    "        return 'and George' # 4\n",
    "    \n",
    "    def reverse_write(self, text): # 5\n",
    "        self.original_write(text[::-1]) #6\n",
    "        \n",
    "    def __exit__(self, exception_type=None, exception_value=None, traceback=None): #7\n",
    "        sys.stdout.write = self.original_write # 8\n",
    "        if exception_type is OSError: # 9\n",
    "            print(f'an OSError has occured with as value {exception_value}')\n",
    "            return True #10\n",
    "        \n",
    "        "
   ]
  },
  {
   "cell_type": "code",
   "execution_count": 133,
   "id": "101da482-dbbe-4c33-8f50-9b84833ac2ca",
   "metadata": {},
   "outputs": [
    {
     "name": "stdout",
     "output_type": "stream",
     "text": [
      "corC ,onihR ,etnE\n",
      "egroeG dna\n"
     ]
    }
   ],
   "source": [
    "with ReversePrint() as wtf:\n",
    "    print('Ente, Rhino, Croc')\n",
    "    print(wtf)"
   ]
  },
  {
   "cell_type": "code",
   "execution_count": 134,
   "id": "a23d9a28-1799-4b42-9da2-89ceb9a978cc",
   "metadata": {},
   "outputs": [
    {
     "data": {
      "text/plain": [
       "'and George'"
      ]
     },
     "execution_count": 134,
     "metadata": {},
     "output_type": "execute_result"
    }
   ],
   "source": [
    "wtf"
   ]
  },
  {
   "cell_type": "markdown",
   "id": "2adbf4ac-ff71-4ad3-bd17-06bf31b57429",
   "metadata": {},
   "source": [
    "#### What have we done in ReversePrint?\n",
    "#### We have taken a regular print statement and reversed the print order, but only within the context of the code block starting with the with keyword\n",
    "#### Let's look at it point for point\n",
    "#### 1 Python invokes the special method `__enter__()`\n",
    "#### 2 we caputure the actually sys.stdout.write (which is a method and as argument has text) and safe it so we can restore it later.\n",
    "#### 3 we monky patch sys.stdout.write with our own method. https://stackoverflow.com/questions/5626193/what-is-monkey-patching \n",
    "#### 4 We have named a target variable `wtf` with the as keyword, returning this gives `wtf` a value, namely 'and George'\n",
    "#### 5 our replacement to sys.stdout.write reverse the text argument\n",
    "#### 6 and calls the original implementation. Remember sys.stdout.write is method with as argument text\n",
    "#### 7 Python calls the special method `__exit__()` with None, None, None It knows to do this because we have executed reverse_write\n",
    "#### 8 we set the original value of sys.stdout.write back\n",
    "#### 9 If there was an error to propogate it gets handled now\n",
    "#### 10 returns True so the interpreter knows the error was caught.\n",
    "#### When the context we have just created runs in runtime, every call to print('text') will print that text reseverd. If there are no more calls to print, control is given back to the regular runtime. \n",
    "#### The creation of a context where I can determine the suite of actions that execute is indeed a very powerful idea."
   ]
  },
  {
   "cell_type": "markdown",
   "id": "fc41e984-9f86-4c27-8a59-927e48f2878e",
   "metadata": {},
   "source": [
    "## **contextlib**\n",
    "#### Python has a library with all kinds useful utility functions for context managers.\n",
    "#### check it outhttps://docs.python.org/3/library/contextlib.html\n",
    "#### one of them is the decorator `@contextmanager`\n",
    "#### We can use the decorator to rewrite ReversePrint this time not as an expensive class, but as a cheap function (why is a function cheap and a class not?)"
   ]
  },
  {
   "cell_type": "code",
   "execution_count": 135,
   "id": "a2363235-4553-439f-84b3-1a20d1a0afd7",
   "metadata": {},
   "outputs": [],
   "source": [
    "from contextlib import contextmanager\n",
    "import sys\n",
    "\n",
    "@contextmanager\n",
    "def reverse_printer():\n",
    "    original_write = sys.stdout.write\n",
    "    \n",
    "    def reverse_write(text): \n",
    "        original_write(text[::-1]) \n",
    "    \n",
    "    sys.stdout.write = reverse_write\n",
    "    yield 'and George' #\n",
    "    sys.stdout.write = original_write  "
   ]
  },
  {
   "cell_type": "code",
   "execution_count": 136,
   "id": "ada3d96b-f60a-4255-92a1-fdafd968e22b",
   "metadata": {},
   "outputs": [
    {
     "name": "stdout",
     "output_type": "stream",
     "text": [
      "corC ,onihR ,etnE\n",
      "egroeG dna\n"
     ]
    }
   ],
   "source": [
    "with reverse_printer() as wtf:\n",
    "    print('Ente, Rhino, Croc')\n",
    "    print(wtf)"
   ]
  },
  {
   "cell_type": "markdown",
   "id": "2b97529b-0259-40b2-8b4a-4912e9082e51",
   "metadata": {},
   "source": [
    "#### Using a generator has a specific effect in use with the @contextmanager\n",
    "#### Everything before the yield will be executed at the beginning of the block when the interpreter calls `__enter__()`\n",
    "#### Everything after the yield will run when `__exit__()` is called. \n",
    "#### There is however a flaw in this code. I don't expect you to see it but if there is an exception in this code the Python interpreter will propogate that to to the yield expression\n",
    "#### We should fix this"
   ]
  },
  {
   "cell_type": "code",
   "execution_count": 137,
   "id": "de8e76ca-8345-4e51-a960-440c213230fe",
   "metadata": {},
   "outputs": [],
   "source": [
    "from contextlib import contextmanager\n",
    "import sys\n",
    "\n",
    "@contextmanager\n",
    "def reverse_printer():\n",
    "    original_write = sys.stdout.write\n",
    "    \n",
    "    def reverse_write(text): \n",
    "        original_write(text[::-1]) \n",
    "    \n",
    "    sys.stdout.write = reverse_write\n",
    "    msg = ''\n",
    "    try:\n",
    "        yield 'and George' \n",
    "    except Exception as e:\n",
    "        msg = f'unfortunately {e}'\n",
    "    finally:\n",
    "        sys.stdout.write = original_write\n",
    "        if msg: print(msg)"
   ]
  },
  {
   "cell_type": "code",
   "execution_count": 138,
   "id": "96c16a49-8dfd-43d9-898a-171390927de5",
   "metadata": {},
   "outputs": [
    {
     "name": "stdout",
     "output_type": "stream",
     "text": [
      "corC ,onihR ,etnE\n",
      "egroeG dna\n"
     ]
    }
   ],
   "source": [
    "with reverse_printer() as wtf:\n",
    "    print('Ente, Rhino, Croc')\n",
    "    print(wtf)"
   ]
  },
  {
   "cell_type": "code",
   "execution_count": 139,
   "id": "3fd780a1-7a97-4c03-963b-b29aa129a2d9",
   "metadata": {},
   "outputs": [
    {
     "name": "stdout",
     "output_type": "stream",
     "text": [
      "unfortunately name 'zz' is not defined\n"
     ]
    }
   ],
   "source": [
    "with reverse_printer() as wtf:\n",
    "    print(zz)\n",
    "    print(wtf)"
   ]
  },
  {
   "cell_type": "markdown",
   "id": "8f4728f4-28dd-4e35-8029-e3c86e7381c5",
   "metadata": {},
   "source": [
    "#### You could use the `@contextmanager` to create a context where you deviate from existing behaviour. \n",
    "#### For instance if you want to a terribly exact calculation where usually a standard will suffice\n",
    "#### For exact calculations can you use the decimal library https://docs.python.org/3/library/decimal.html which as a context manager localcontext"
   ]
  },
  {
   "cell_type": "code",
   "execution_count": 140,
   "id": "bf92ba3f-248b-4c4f-a921-ca9fa79b5c9b",
   "metadata": {},
   "outputs": [
    {
     "name": "stdout",
     "output_type": "stream",
     "text": [
      "0.333333333333333333333333333333333333333333\n"
     ]
    }
   ],
   "source": [
    "from decimal import Decimal, localcontext\n",
    "\n",
    "with localcontext() as precise:\n",
    "    precise.prec = 42\n",
    "    print(Decimal('1') / Decimal('3'))"
   ]
  },
  {
   "cell_type": "markdown",
   "id": "0adbac0e-930c-49bc-a312-763377d02fa8",
   "metadata": {},
   "source": [
    "#### Or maybe you need that not so precise in a context as Decimal's standard precision is already 28 digits after the point"
   ]
  },
  {
   "cell_type": "code",
   "execution_count": 141,
   "id": "79c6fe04-cd03-4b31-9708-c45fbbfec2a4",
   "metadata": {},
   "outputs": [
    {
     "name": "stdout",
     "output_type": "stream",
     "text": [
      "0.333\n"
     ]
    }
   ],
   "source": [
    "from decimal import Decimal, localcontext\n",
    "\n",
    "with localcontext() as approx:\n",
    "    approx.prec = 3\n",
    "    print(Decimal('1') / Decimal('3'))"
   ]
  },
  {
   "cell_type": "markdown",
   "id": "379acef9-7e95-4a98-8e96-ea250e865579",
   "metadata": {},
   "source": [
    "#### As you can see it is very useful to have the ability to temporary deviate from the usual\n",
    "#### Without you having to explictely revert back to the normal as the contextmanager will take care of that for you"
   ]
  },
  {
   "cell_type": "markdown",
   "id": "dbb9f95e-cc3a-40bb-a2d9-cb4d28cd0615",
   "metadata": {},
   "source": [
    "#### `@contextmanager` has many elegant ways of solving a problem. \n",
    "#### Martijn Pieters wrote an elegant example for the problem of rewriting a file in place using the `@contextmanager` see https://www.zopatista.com/python/2013/11/26/inplace-file-rewriting/\n",
    "#### As last remark about context managers, a lot of external libraries implement the context manager interface."
   ]
  },
  {
   "cell_type": "markdown",
   "id": "00cee5b6-11e5-492b-8887-429d40893737",
   "metadata": {},
   "source": [
    "## **Else**\n",
    "#### I guess you know this but you can use the `else` statement outside an `if/else`.\n",
    "#### You can use it in a `for/else`\n",
    "#### You should realise this else statement will only run if the loop runs to completion. You can't use break. "
   ]
  },
  {
   "cell_type": "code",
   "execution_count": 142,
   "id": "a7eed2eb-9ecc-4ed7-a893-88cbe413ab97",
   "metadata": {},
   "outputs": [
    {
     "name": "stdout",
     "output_type": "stream",
     "text": [
      "Croc loves Blue Heron\n",
      "Croc loves Cote du Boeuf\n",
      "Croc loves Wallaby\n",
      "I am peckish\n"
     ]
    }
   ],
   "source": [
    "snackies = ['Blue Heron','Cote du Boeuf','Wallaby']\n",
    "\n",
    "for snack in snackies:\n",
    "    print(f'Croc loves {snack}')\n",
    "else:\n",
    "    print('I am peckish')"
   ]
  },
  {
   "cell_type": "markdown",
   "id": "ca05b6ea-62e1-45d5-8c10-6c6caa32c0e1",
   "metadata": {},
   "source": [
    "####  Of course as you know a for loop is syntactic sugar for a while loop, you can see the `while/else`straight away."
   ]
  },
  {
   "cell_type": "code",
   "execution_count": 143,
   "id": "67e601cb-d1d2-4066-87ba-80f78c6495ba",
   "metadata": {},
   "outputs": [
    {
     "name": "stdout",
     "output_type": "stream",
     "text": [
      "Croc loves Blue Heron\n",
      "Croc loves Cote du Boeuf\n",
      "Croc loves Wallaby\n",
      "I am still peckish!\n"
     ]
    }
   ],
   "source": [
    "n = 0 \n",
    "\n",
    "while n < len(snackies):\n",
    "    print(f'Croc loves {snackies[n]}')\n",
    "    n += 1\n",
    "else:\n",
    "    print('I am still peckish!')"
   ]
  },
  {
   "cell_type": "markdown",
   "id": "4206471f-be8a-4028-858c-9c1d8c775d80",
   "metadata": {},
   "source": [
    "#### As I already showed you Try/ Except is used quite a lot for control flow in Python.\n",
    "#### Python programs in Easier to ask for forgiveness than permission see https://docs.python.org/3/glossary.html#term-eafp So Python states this is clean code...\n",
    "#### However there is room to improve on these type of `try/except` blocks because just catching an exception is usually not enough to let program continued in a good state. You want to be more explicit."
   ]
  },
  {
   "cell_type": "code",
   "execution_count": 144,
   "id": "06c693aa-15b3-4b26-9cfb-773a6e64a5ca",
   "metadata": {},
   "outputs": [
    {
     "data": {
      "text/plain": [
       "'Ente is very dangerous, Croc is sweety'"
      ]
     },
     "execution_count": 144,
     "metadata": {},
     "output_type": "execute_result"
    }
   ],
   "source": [
    "def danger(n):\n",
    "    if n != 1:\n",
    "        raise Exception('This is very dangerous')\n",
    "    else:\n",
    "        print('Purple is the best colour')\n",
    "\n",
    "def after():\n",
    "    return 'Ente is very dangerous, Croc is sweety'\n",
    "\n",
    "def log(e:Exception)->None:\n",
    "    f = open('log.txt', 'w')\n",
    "    f.write(str(e))\n",
    "\n",
    "\n",
    "try:\n",
    "    danger(0)\n",
    "except Exception as e:\n",
    "    log(e)\n",
    "    \n",
    "after()\n",
    "\n",
    "         "
   ]
  },
  {
   "cell_type": "markdown",
   "id": "ae21c068-0002-436c-8dad-9a012d8320a1",
   "metadata": {},
   "source": [
    "#### In the above code I will continue even if exception happened\n",
    "#### In the below code I will only go to `after()` if there is no exception"
   ]
  },
  {
   "cell_type": "code",
   "execution_count": 146,
   "id": "43f3e042-c17f-41bf-b4fe-1ba0b0382f47",
   "metadata": {},
   "outputs": [
    {
     "data": {
      "text/plain": [
       "'This is very dangerous'"
      ]
     },
     "execution_count": 146,
     "metadata": {},
     "output_type": "execute_result"
    }
   ],
   "source": [
    "try:\n",
    "    danger(0)\n",
    "except Exception as e:\n",
    "    log(e)\n",
    "else:\n",
    "    after()\n",
    "\n",
    "f = open('log.txt', 'r')\n",
    "f.readline()"
   ]
  },
  {
   "cell_type": "markdown",
   "id": "6c39e1ca-994a-4407-bf66-13f1a20c4f3f",
   "metadata": {},
   "source": [
    "## **Finally**\n",
    "#### Bringing structure to your code is extremely important\n",
    "#### Not only will it make your code much more readable, it will have greater logic and contains less mistakes, the mistakes that occur are easier to track and therefore to debug.\n",
    "#### Knowing these concepts will make your code structured.\n",
    "## **The end**"
   ]
  },
  {
   "cell_type": "code",
   "execution_count": null,
   "id": "8ae240ad-22ee-43d7-b4eb-a1ce91fa3bdf",
   "metadata": {},
   "outputs": [],
   "source": []
  }
 ],
 "metadata": {
  "kernelspec": {
   "display_name": "Python 3 (ipykernel)",
   "language": "python",
   "name": "python3"
  },
  "language_info": {
   "codemirror_mode": {
    "name": "ipython",
    "version": 3
   },
   "file_extension": ".py",
   "mimetype": "text/x-python",
   "name": "python",
   "nbconvert_exporter": "python",
   "pygments_lexer": "ipython3",
   "version": "3.11.1"
  }
 },
 "nbformat": 4,
 "nbformat_minor": 5
}
