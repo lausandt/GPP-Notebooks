{
 "cells": [
  {
   "cell_type": "markdown",
   "id": "9008a360-5971-43d9-9d88-28026e76c139",
   "metadata": {},
   "source": [
    "## **Decorators & higher order functions**\n",
    "---\n",
    "When I first got confronted with decorators in Python I was quite confused with the concept. Coming from Java I had of course seen a decorator `@override` which is Java to say you have overridden some method specified in an interface, in Java these are called annotations. Of course, you can implement the decorator programming pattern in Java, which Wikipedia tells me not to confuse with a Python decorator, I find that too strict. The decorator pattern adds behaviour to a single object, Python decorators adds behaviour to foremostly functions/methods, but can also add /modify behaviour of an entire class, as we will see in this notebook. \n",
    "\n",
    "So, from a practical view both the decorator pattern and Python decorators are at minimal similar. There is a glaring difference too, Python decorators are  higher order functions. Java does not know higher order functions. I should first answer the question what it is a higher-order function. A higher-order function is a function that does at least one of the following:\n",
    " 1. It takes one or more functions as arguments.\n",
    " 2. It returns a function as its result.\n",
    "\n",
    "Before we look at a decorator let's look at function composition, for function composition is an example of a higher-order function $f \\circ g$  or $g(f(x))$.\n",
    "The three standard operations on a sequence type (tuple, list, and array); map, filter, and fold (aka reduce) are higher-order functions. Let's see them in action.\n"
   ]
  },
  {
   "cell_type": "code",
   "execution_count": 1,
   "id": "bff05ea8-c73a-4abd-a35e-fd0f537f61e0",
   "metadata": {},
   "outputs": [
    {
     "data": {
      "text/plain": [
       "(1, 4, 9, 16, 25, 36, 49, 64, 81, 100)"
      ]
     },
     "execution_count": 1,
     "metadata": {},
     "output_type": "execute_result"
    }
   ],
   "source": [
    "tuple(map(lambda x : x**2, range(1,11)))"
   ]
  },
  {
   "cell_type": "code",
   "execution_count": 2,
   "id": "049f7dec-32a3-47cf-b56d-250175f8e11c",
   "metadata": {},
   "outputs": [
    {
     "data": {
      "text/plain": [
       "(64, 81, 100)"
      ]
     },
     "execution_count": 2,
     "metadata": {},
     "output_type": "execute_result"
    }
   ],
   "source": [
    "tuple(filter(lambda x : x > 50, tuple(map(lambda x : x**2, range(1,11)))))"
   ]
  },
  {
   "cell_type": "code",
   "execution_count": 3,
   "id": "fd6440c9-1e77-4fa0-a1d0-102c3c4804ab",
   "metadata": {},
   "outputs": [
    {
     "data": {
      "text/plain": [
       "518400"
      ]
     },
     "execution_count": 3,
     "metadata": {},
     "output_type": "execute_result"
    }
   ],
   "source": [
    "from functools import reduce\n",
    "from operator import mul\n",
    "\n",
    "# multiplying the numbers bigger than 50. 64 x 81, 100\n",
    "reduce(mul,tuple(filter(lambda x : x > 50, tuple(map(lambda x : x**2, range(1,11))))))"
   ]
  },
  {
   "cell_type": "markdown",
   "id": "49613c5c-6b75-4beb-9479-e8bc1bfb9ce9",
   "metadata": {},
   "source": [
    "#### **Closure**\n",
    "The decorator functions as a closure, a closure is a nested function that references one or more variables from its enclosing scope. This definition probably makes more sense with an example.\n",
    "\n",
    "In the code below `display` is the closure. nested within `say`, `display` uses `greeting` which is defined outside of the local scope of `display`. However, greeting is part of `say()` which is also encompassing scope for `display`.\n",
    "\n",
    "The variable with name greeting stays \"alive\" even if display does nothing.\n"
   ]
  },
  {
   "cell_type": "code",
   "execution_count": 13,
   "id": "46b59fb4-c380-428c-88d1-ebc3f0b4698d",
   "metadata": {},
   "outputs": [],
   "source": [
    "def say():\n",
    "    greeting = 'Hello'\n",
    "\n",
    "    def display():\n",
    "        print(greeting)\n",
    "        \n",
    "\n",
    "    return display()    "
   ]
  },
  {
   "cell_type": "code",
   "execution_count": 14,
   "id": "5d150fd3-1447-4337-8021-6316a50612ee",
   "metadata": {},
   "outputs": [
    {
     "name": "stdout",
     "output_type": "stream",
     "text": [
      "Hello\n"
     ]
    }
   ],
   "source": [
    "say()"
   ]
  },
  {
   "cell_type": "markdown",
   "id": "e0d3a1ee-654e-4aa2-91d6-1433b8de341c",
   "metadata": {},
   "source": [
    "\n",
    "You can access the closure directly, the interpreter knows of the existence, but trying to, does not lead to a result, as `display` need `say` to function."
   ]
  },
  {
   "cell_type": "code",
   "execution_count": 24,
   "id": "76f2cb9e-0284-4fdf-9979-24bc663856ed",
   "metadata": {},
   "outputs": [],
   "source": [
    "display() "
   ]
  },
  {
   "cell_type": "markdown",
   "id": "3b6756cb-338c-4136-9edf-47325d676b84",
   "metadata": {},
   "source": [
    "## **decorators**\n",
    "Formally closures make it is possible to give a sub-procedure one or more private variables that remain in existence between procedure calls. You actually see closures quite often in Python as you use a lot of decorators in Python. Decorators can be used in Python as higher-order functions and the decorated function has access to the decorator, the decorator contains the closure. Let's look at an example:"
   ]
  },
  {
   "cell_type": "code",
   "execution_count": 26,
   "id": "9a9c72ee-fef5-4ac9-aaaf-44e17ed80a01",
   "metadata": {},
   "outputs": [
    {
     "name": "stdout",
     "output_type": "stream",
     "text": [
      "George is a wooly rhino!\n",
      "George is a wooly rhino!\n"
     ]
    },
    {
     "data": {
      "text/plain": [
       "'hi George!'"
      ]
     },
     "execution_count": 26,
     "metadata": {},
     "output_type": "execute_result"
    }
   ],
   "source": [
    "def decorator(func):\n",
    "    \n",
    "    def wrapper_decorator(*args, **kwargs):\n",
    "        # Do something before\n",
    "        func(*args, **kwargs) # This the fst time\n",
    "        # Do something after\n",
    "        return func(*args, **kwargs) #This is the third time \n",
    "    return wrapper_decorator\n",
    "\n",
    "@decorator\n",
    "def george(name):\n",
    "    '''This is George his function'''\n",
    "    print('George is a wooly rhino!')\n",
    "    return f\"hi {name}!\"\n",
    "\n",
    "george('George')"
   ]
  },
  {
   "cell_type": "markdown",
   "id": "26ceedc8-d129-454e-8388-97bca13c4b86",
   "metadata": {},
   "source": [
    "This simple decorator does only one thing, it executes the print statement twice.\n",
    "\n",
    "There is simple boilerplate code that allows you to write any decorator you want:"
   ]
  },
  {
   "cell_type": "code",
   "execution_count": 29,
   "id": "31c57b41-352d-4888-9e95-e0af9a78960e",
   "metadata": {},
   "outputs": [],
   "source": [
    "import functools\n",
    "\n",
    "def decorator(func): # 1\n",
    "    @functools.wraps(func) # 2\n",
    "    def wrapper_decorator(*args, **kwargs): # 3 \n",
    "        #  4 do something\n",
    "        return func(*args, **kwargs) # 5\n",
    "    return wrapper_decorator # 6"
   ]
  },
  {
   "cell_type": "markdown",
   "id": "69557114-538b-4ca9-af4d-270927663653",
   "metadata": {},
   "source": [
    "#### Code comment\n",
    " 1. The name of the function to be used as the decorator, here aptly called decorator.\n",
    " 2. The decorator at `@functools.wraps` ensures that you can inspect your decorated function and not the decorator.\n",
    " 3. The convention is to call these functions wrapper_decorator_name, which in our case is decorator.\n",
    " 4. Room to add to the functionality of the decorated function.\n",
    " 5. If we want the function to do something else outside of the decorator, we need to return the original function with original arguments.\n",
    " 6. Return for the decorator.\n",
    "\n",
    "On point three inspecting `george` would result into useless info without the wraps decorator.\n"
   ]
  },
  {
   "cell_type": "code",
   "execution_count": 30,
   "id": "b5e71831-c07c-4d17-a6e9-a3320e4eed18",
   "metadata": {},
   "outputs": [
    {
     "data": {
      "text/plain": [
       "<function __main__.decorator.<locals>.wrapper_decorator(*args, **kwargs)>"
      ]
     },
     "execution_count": 30,
     "metadata": {},
     "output_type": "execute_result"
    }
   ],
   "source": [
    "george"
   ]
  },
  {
   "cell_type": "code",
   "execution_count": 31,
   "id": "ae5c64e4-a1f3-421d-94ae-48ed4a7b0915",
   "metadata": {},
   "outputs": [
    {
     "name": "stdout",
     "output_type": "stream",
     "text": [
      "Help on function wrapper_decorator in module __main__:\n",
      "\n",
      "wrapper_decorator(*args, **kwargs)\n",
      "\n"
     ]
    }
   ],
   "source": [
    "help(george)"
   ]
  },
  {
   "cell_type": "code",
   "execution_count": 32,
   "id": "c8d4bb5e-9e01-487b-ae19-f5585d30f52a",
   "metadata": {},
   "outputs": [],
   "source": [
    "from functools import wraps\n",
    "\n",
    "def decorator(func):\n",
    "    @wraps(func)\n",
    "    def wrapper_decorator(*args, **kwargs):\n",
    "        # Do something before\n",
    "        func(*args, **kwargs) # This the fst time\n",
    "        func(*args, **kwargs) # This is the snd time\n",
    "        # Do something after\n",
    "        return func(*args, **kwargs) #This is the third time \n",
    "    return wrapper_decorator\n",
    "\n",
    "@decorator\n",
    "def george(name):\n",
    "    '''This is George's his function'''\n",
    "    print('George is a rhino!')\n",
    "    return f\"hi {name}!\""
   ]
  },
  {
   "cell_type": "code",
   "execution_count": 33,
   "id": "a377d849-6395-44aa-96a9-ef01e4499eeb",
   "metadata": {},
   "outputs": [
    {
     "data": {
      "text/plain": [
       "<function __main__.george(name)>"
      ]
     },
     "execution_count": 33,
     "metadata": {},
     "output_type": "execute_result"
    }
   ],
   "source": [
    "george"
   ]
  },
  {
   "cell_type": "code",
   "execution_count": 34,
   "id": "485fc917-56d9-40fd-9325-9ecd1efff37c",
   "metadata": {},
   "outputs": [
    {
     "name": "stdout",
     "output_type": "stream",
     "text": [
      "Help on function george in module __main__:\n",
      "\n",
      "george(name)\n",
      "    This is George's his function\n",
      "\n"
     ]
    }
   ],
   "source": [
    "help(george)"
   ]
  },
  {
   "cell_type": "markdown",
   "id": "ef2aa267-ff40-4ef0-91c1-47757e2a165a",
   "metadata": {},
   "source": [
    "\n",
    "The primary use of decorators is to enrich functions with outside behaviour. \n",
    "\n",
    "Consider the simple fibonacci function below which returns us the n-th fibonacci number"
   ]
  },
  {
   "cell_type": "code",
   "execution_count": 53,
   "id": "e91a2760-4f07-4dfe-9229-c3fbe8909c61",
   "metadata": {},
   "outputs": [],
   "source": [
    "ok = 10 \n",
    "waisting_time = 40\n",
    "are_you_crazy = 1000"
   ]
  },
  {
   "cell_type": "code",
   "execution_count": 54,
   "id": "74174a14-b42f-45f2-9d9a-02cc780ba30d",
   "metadata": {},
   "outputs": [
    {
     "data": {
      "text/plain": [
       "55"
      ]
     },
     "execution_count": 54,
     "metadata": {},
     "output_type": "execute_result"
    }
   ],
   "source": [
    "def fibonacci(n:int)->int:\n",
    "    if n == 0: return 0\n",
    "    if n == 1: return 1\n",
    "    else: return fibonacci(n-1) + fibonacci(n-2)  \n",
    "fibonacci(ok)"
   ]
  },
  {
   "cell_type": "markdown",
   "id": "7811385b-2230-4da0-a987-22140d43afce",
   "metadata": {},
   "source": [
    "As we can see it works, but unfortunately this is not a very efficient function, which we see if we compute the 40th Fibonacci number."
   ]
  },
  {
   "cell_type": "code",
   "execution_count": 55,
   "id": "b1d57552-d722-42b7-8d67-4e8500f31a3d",
   "metadata": {},
   "outputs": [
    {
     "name": "stdout",
     "output_type": "stream",
     "text": [
      "CPU times: total: 42.5 s\n",
      "Wall time: 42.5 s\n"
     ]
    },
    {
     "data": {
      "text/plain": [
       "102334155"
      ]
     },
     "execution_count": 55,
     "metadata": {},
     "output_type": "execute_result"
    }
   ],
   "source": [
    "%time fibonacci(waisting_time)"
   ]
  },
  {
   "cell_type": "markdown",
   "id": "f955b39b-c122-47d4-a74b-cd80fb6634ee",
   "metadata": {},
   "source": [
    "The inefficiency is in that we don't store intermediate results after all we have already computed the eight fibonacci number (34 in 34 + 55  = 89).\n",
    "We could apply a bit of tabulation and store the intermediate results."
   ]
  },
  {
   "cell_type": "code",
   "execution_count": 62,
   "id": "b168b9ee-ec08-4d10-96cd-d31bf19d56d4",
   "metadata": {},
   "outputs": [
    {
     "data": {
      "text/plain": [
       "102334155"
      ]
     },
     "execution_count": 62,
     "metadata": {},
     "output_type": "execute_result"
    }
   ],
   "source": [
    "def fibonacci(n:int)->int:\n",
    "    '''fibonacci with tabulation'''\n",
    "    table = [None]*(n+1)\n",
    "    table[0] = 0\n",
    "    table[1] = 1\n",
    "    for index in range(2,n+1):\n",
    "        table[index] = table[index-1] + table[index-2]\n",
    "    return table[n]\n",
    "fibonacci(waisting_time)"
   ]
  },
  {
   "cell_type": "markdown",
   "id": "cba24f25-513a-412f-a38c-4406cb9fe2fc",
   "metadata": {},
   "source": [
    "This wil surely stop waisting all that time by recalculating intermediate results.  \n",
    "There is a simple decorator in the functools library with which we enrich our original function to store intermediate results. With caching I can compute the 1000th fibonacci number in a flash"
   ]
  },
  {
   "cell_type": "code",
   "execution_count": 63,
   "id": "46b659a8-088a-43a6-9098-169954b79416",
   "metadata": {},
   "outputs": [
    {
     "data": {
      "text/plain": [
       "43466557686937456435688527675040625802564660517371780402481729089536555417949051890403879840079255169295922593080322634775209689623239873322471161642996440906533187938298969649928516003704476137795166849228875"
      ]
     },
     "execution_count": 63,
     "metadata": {},
     "output_type": "execute_result"
    }
   ],
   "source": [
    "from functools import cache\n",
    "\n",
    "@cache\n",
    "def fibonacci(n:int)->int:\n",
    "    '''this fibonacci method returns the n-th fibonacci number'''\n",
    "    if n == 0: return 0\n",
    "    if n == 1: return 1\n",
    "    else: return fibonacci(n-1) + fibonacci(n-2)  \n",
    "fibonacci(are_you_crazy)"
   ]
  },
  {
   "cell_type": "markdown",
   "id": "4b351e37-97bd-4e22-a35a-e104c5d97059",
   "metadata": {},
   "source": [
    "#### **Library decorators**\n",
    "Python has many libraries that offer function decorators. Functools for instance, functools offers a function with which we can overload methods, something Python as a dynamically typed language does not support natively. See https://en.wikipedia.org/wiki/Function_overloading.\n",
    "\n",
    "The idea behind these overloaded function is that you let the compiler decide which one to use at runtime. To be able to make this distinction the compiler needs two things: \n",
    " 1. It needs to know this function is overloaded, the decorator `@singledispatch` takes care of this.\n",
    " 2. It needs to register the different implementations `@fun.register` takes care of that."
   ]
  },
  {
   "cell_type": "code",
   "execution_count": 65,
   "id": "12486cfe-d553-4819-9cad-2d817dd5a63d",
   "metadata": {},
   "outputs": [],
   "source": [
    "from functools import singledispatch\n",
    "\n",
    "@singledispatch\n",
    "def fun(arg, verbose=False):\n",
    "    if verbose:\n",
    "        print(\"Let me just say,\", end=\" \")\n",
    "    print(arg)"
   ]
  },
  {
   "cell_type": "code",
   "execution_count": 66,
   "id": "6e941049-af4a-4365-9b6d-dd093dba67af",
   "metadata": {},
   "outputs": [],
   "source": [
    "@fun.register\n",
    "def _(arg: int, verbose=False):\n",
    "    if verbose:\n",
    "        print(\"Strength in numbers, eh?\", end=\" \")\n",
    "    print(arg)\n",
    "\n",
    "\n",
    "@fun.register\n",
    "def _(arg: list, verbose=False):\n",
    "    if verbose:\n",
    "        print(\"Enumerate this:\")\n",
    "    for i, elem in enumerate(arg):\n",
    "        print(i+1, elem)"
   ]
  },
  {
   "cell_type": "code",
   "execution_count": 67,
   "id": "aa209e41-f4ce-4945-977d-c8905007d15d",
   "metadata": {},
   "outputs": [
    {
     "name": "stdout",
     "output_type": "stream",
     "text": [
      "1\n"
     ]
    }
   ],
   "source": [
    "fun(1)"
   ]
  },
  {
   "cell_type": "code",
   "execution_count": 68,
   "id": "42ce0a4b-c2a6-467b-9b02-7e0d318475b9",
   "metadata": {},
   "outputs": [
    {
     "name": "stdout",
     "output_type": "stream",
     "text": [
      "1 Ente\n",
      "2 Rhino\n",
      "3 Croc\n",
      "4 George\n"
     ]
    }
   ],
   "source": [
    "fun(['Ente', 'Rhino', 'Croc', 'George'])"
   ]
  },
  {
   "cell_type": "markdown",
   "id": "be440b62-d15b-441f-959f-1b08895befee",
   "metadata": {},
   "source": [
    "As you see the only difference between `fun()` functions is the type of their argument.\n",
    "This is the only thing the compiler needs to choose between these functions. Other libraries also function decorators. One library that you will use a lot is Pytest, it knows decorators.\n",
    "\n",
    "Run the code outside of this notebook, as notebooks usually are tested with doctest."
   ]
  },
  {
   "cell_type": "code",
   "execution_count": 72,
   "id": "0fc235e1-3f96-4cbe-b8d4-0eafd8d568be",
   "metadata": {},
   "outputs": [],
   "source": [
    "import pytest\n",
    "\n",
    "@pytest.mark.parametrize(\"test_input,expected\", [(\"3+5\", 8), (\"2+4\", 6), (\"6*9\", 42)])\n",
    "def test_eval(test_input, expected):\n",
    "    assert eval(test_input) == expected\n",
    "       "
   ]
  },
  {
   "cell_type": "markdown",
   "id": "545cda85-850f-456e-920b-e8f2dad926c2",
   "metadata": {},
   "source": [
    "## **Class decorators**\n",
    "#### Your not bound to only use decorators on functions or methods but you can also use a decorator on a class.\n",
    "#### With Python 3.7 introduced the dataclasses module with the @dataclass decorator \n",
    "#### I would advocate the use of the dataclasses for three reasons\n",
    "#### 1 Dataclasses bring consistency in developing classes\n",
    "#### 2 Dataclasses solve the empty list as default value problem\n",
    "#### 3 Dataclasses allow for the easy use of Python's special methods  "
   ]
  },
  {
   "cell_type": "markdown",
   "id": "2a316cc6-7bc0-48af-9e08-c7347f0241e1",
   "metadata": {},
   "source": [
    "#### **One consistency in developing classes**  \n",
    "#### Python is a very flexible language, not only in its Typing but also in the way you use it.\n",
    "#### Dataclasses give you structure in how to develop classes and force concise typing\n",
    "#### In Python you can set up a class in different manners"
   ]
  },
  {
   "cell_type": "code",
   "execution_count": 12,
   "id": "c2d32929-79ae-4c54-b6c0-31aa9745a7cc",
   "metadata": {},
   "outputs": [],
   "source": [
    "class ExampleOne:\n",
    "    \n",
    "    def __init__(self, att_one, att_two, att_three):\n",
    "        self.att_one   = att_one\n",
    "        self.att_two   = att_two\n",
    "        self.att_three = att_three     \n",
    "        \n",
    "        def __str__(self):\n",
    "            return f'This class {type(self).__name__} is written without the dataclasses module'\n",
    "        "
   ]
  },
  {
   "cell_type": "code",
   "execution_count": 13,
   "id": "a310dfcd-b795-48ec-833e-bd8d8c68db00",
   "metadata": {},
   "outputs": [
    {
     "data": {
      "text/plain": [
       "1"
      ]
     },
     "execution_count": 13,
     "metadata": {},
     "output_type": "execute_result"
    }
   ],
   "source": [
    "one = ExampleOne(1, 'two', True)\n",
    "one.att_one"
   ]
  },
  {
   "cell_type": "code",
   "execution_count": 14,
   "id": "9f85abe3-94e3-474e-bca6-eae9d05f820e",
   "metadata": {},
   "outputs": [
    {
     "name": "stdout",
     "output_type": "stream",
     "text": [
      "<__main__.ExampleOne object at 0x000001A8508058D0>\n"
     ]
    }
   ],
   "source": [
    "print(one)"
   ]
  },
  {
   "cell_type": "code",
   "execution_count": 15,
   "id": "760015fa-3093-49e3-af47-f22a438036dd",
   "metadata": {},
   "outputs": [
    {
     "name": "stdout",
     "output_type": "stream",
     "text": [
      "Help on ExampleOne in module __main__ object:\n",
      "\n",
      "class ExampleOne(builtins.object)\n",
      " |  ExampleOne(att_one, att_two, att_three)\n",
      " |  \n",
      " |  Methods defined here:\n",
      " |  \n",
      " |  __init__(self, att_one, att_two, att_three)\n",
      " |      Initialize self.  See help(type(self)) for accurate signature.\n",
      " |  \n",
      " |  ----------------------------------------------------------------------\n",
      " |  Data descriptors defined here:\n",
      " |  \n",
      " |  __dict__\n",
      " |      dictionary for instance variables (if defined)\n",
      " |  \n",
      " |  __weakref__\n",
      " |      list of weak references to the object (if defined)\n",
      "\n"
     ]
    }
   ],
   "source": [
    "help(one)"
   ]
  },
  {
   "cell_type": "code",
   "execution_count": 16,
   "id": "fa70a9ad-5d11-4ef6-8d51-de1e59002bd1",
   "metadata": {},
   "outputs": [],
   "source": [
    "class ExampleTwo:\n",
    "    \n",
    "    def __init__(self):\n",
    "        self.att_one   = 1\n",
    "        self.att_two   = 'two'\n",
    "        self.att_three = True     \n",
    "        \n",
    "        def __str__(self):\n",
    "            return f'This class {type(self).__name__} is written without the dataclasses module'"
   ]
  },
  {
   "cell_type": "code",
   "execution_count": 17,
   "id": "c8ae5b0a-2466-468b-9463-11fbe8cb0950",
   "metadata": {},
   "outputs": [
    {
     "data": {
      "text/plain": [
       "1"
      ]
     },
     "execution_count": 17,
     "metadata": {},
     "output_type": "execute_result"
    }
   ],
   "source": [
    "two = ExampleTwo()\n",
    "two.att_one"
   ]
  },
  {
   "cell_type": "code",
   "execution_count": 18,
   "id": "3e9fd385-de21-4b79-a4d1-7693863437b2",
   "metadata": {},
   "outputs": [
    {
     "name": "stdout",
     "output_type": "stream",
     "text": [
      "<__main__.ExampleTwo object at 0x000001A850809A50>\n"
     ]
    }
   ],
   "source": [
    "print(two)"
   ]
  },
  {
   "cell_type": "code",
   "execution_count": 19,
   "id": "3a9dab35-225b-4d33-8382-15edc70beea5",
   "metadata": {},
   "outputs": [],
   "source": [
    "class ExampleThree:\n",
    "    att_one = 1\n",
    "    att_two  = 'two'\n",
    "    att_three = True  \n",
    "    \n",
    "    def __str__(self):\n",
    "            return f'This class {type(self).__name__} is written without the dataclasses module'\n",
    "    "
   ]
  },
  {
   "cell_type": "code",
   "execution_count": 20,
   "id": "302a873a-d6f8-44bc-9131-680764c8899f",
   "metadata": {},
   "outputs": [
    {
     "data": {
      "text/plain": [
       "1"
      ]
     },
     "execution_count": 20,
     "metadata": {},
     "output_type": "execute_result"
    }
   ],
   "source": [
    "three = ExampleThree()\n",
    "three.att_one"
   ]
  },
  {
   "cell_type": "code",
   "execution_count": 28,
   "id": "63803cc6-0171-412c-8f6c-9fc1006a3edc",
   "metadata": {},
   "outputs": [],
   "source": [
    "class ExampleFour:\n",
    "    \n",
    "    def __init__(self, att_one=1, att_two='two', att_three=True):\n",
    "        self.att_one   = att_one\n",
    "        self.att_two   = att_two\n",
    "        self.att_three = att_three    \n",
    "        \n",
    "    def __str__(self):\n",
    "        return f'This class {type(self).__name__} is written without the dataclasses module'\n",
    "    \n"
   ]
  },
  {
   "cell_type": "code",
   "execution_count": 29,
   "id": "853f320c-5cbb-41bd-b668-03651771adcd",
   "metadata": {},
   "outputs": [
    {
     "name": "stdout",
     "output_type": "stream",
     "text": [
      "This class ExampleFour is written without the dataclasses module\n"
     ]
    }
   ],
   "source": [
    "four = ExampleFour()\n",
    "print(four)"
   ]
  },
  {
   "cell_type": "code",
   "execution_count": 30,
   "id": "99ceb7cd-88b3-4ae2-beb3-6bf773f84779",
   "metadata": {},
   "outputs": [
    {
     "data": {
      "text/plain": [
       "1"
      ]
     },
     "execution_count": 30,
     "metadata": {},
     "output_type": "execute_result"
    }
   ],
   "source": [
    "four.att_one"
   ]
  },
  {
   "cell_type": "markdown",
   "id": "8188f3fc-bcae-4c8c-8c74-73531d05526d",
   "metadata": {},
   "source": [
    "#### you can even create a class using type, this is a form of meta programming see that notebook for details"
   ]
  },
  {
   "cell_type": "code",
   "execution_count": 31,
   "id": "dcbfb162-65e1-40bc-95b6-f345ccdefab9",
   "metadata": {},
   "outputs": [
    {
     "name": "stdout",
     "output_type": "stream",
     "text": [
      "This class ExampleFive is written without the dataclasses module\n"
     ]
    }
   ],
   "source": [
    "def __str__(self):\n",
    "    return f'This class {type(self).__name__} is written without the dataclasses module'\n",
    "\n",
    "ExampleFive = type('ExampleFive', (), {'att_one':1, 'att_two':'two','att_three':True, '__str__':__str__})\n",
    "five = ExampleFive()\n",
    "print(five)"
   ]
  },
  {
   "cell_type": "code",
   "execution_count": 32,
   "id": "bb442651-a5d1-43e3-9b5b-10ab5b64f1b1",
   "metadata": {},
   "outputs": [
    {
     "data": {
      "text/plain": [
       "True"
      ]
     },
     "execution_count": 32,
     "metadata": {},
     "output_type": "execute_result"
    }
   ],
   "source": [
    "five.att_three"
   ]
  },
  {
   "cell_type": "markdown",
   "id": "2b83d717-c1e2-4316-9f70-e914a5a53363",
   "metadata": {},
   "source": [
    "#### These are four quite common ways to see a class created in Python (and one very uncommon :-) )\n",
    "#### These different ways of creating classes are confusing not only for beginning programmers but for everybody there is no consistency here, and it is very buggy. \n",
    "#### Python dataclasses overcome this by providing a scaffolding or framework for building classes, if everybody uses that framework, then all classes will be written in a consistent manner. \n",
    "#### The scaffolding is build upon the concept of an object, it has traits (attributes) which represent state and it has methods to change that state. Dataclasses follow this theoretical model which makes sure that programmers from different OO langauages would understand this perfectly well, as providing beginners with solid structure"
   ]
  },
  {
   "cell_type": "code",
   "execution_count": null,
   "id": "be816134-d57c-49df-819c-e1e4478dc292",
   "metadata": {},
   "outputs": [],
   "source": [
    "from dataclasses import dataclass, field\n",
    "\n",
    "@dataclass\n",
    "class ExampleFive:\n",
    "    #attributes\n",
    "    att_one:int\n",
    "    att_two:str\n",
    "    att_three:bool\n",
    "    \n",
    "    #methods\n",
    "    def __str__(self):\n",
    "        return f'This class {type(self).__name__} is written with the dataclasses module'\n",
    "    "
   ]
  },
  {
   "cell_type": "code",
   "execution_count": null,
   "id": "49d60115-60d3-470a-b64f-35b0d521b08b",
   "metadata": {},
   "outputs": [],
   "source": [
    "five = ExampleFive(att_one=1, att_two='two', att_three=True)\n",
    "print(five)"
   ]
  },
  {
   "cell_type": "markdown",
   "id": "572ee32e-d76e-4e2f-bdd5-acad394fa1e3",
   "metadata": {},
   "source": [
    "#### The dataclasses module is linked with Typing.\n",
    "#### It enforces you name a type when declaring a field.\n",
    "#### A field is an attribute with type. \n",
    "#### The compiler checks this"
   ]
  },
  {
   "cell_type": "code",
   "execution_count": null,
   "id": "c8930a65-1bbb-4261-a34d-10e2f25c37c9",
   "metadata": {},
   "outputs": [],
   "source": [
    "from dataclasses import dataclass, field\n",
    "\n",
    "@dataclass\n",
    "class ExampleSix:\n",
    "    #attributes\n",
    "    att_one\n",
    "    att_two:str\n",
    "    att_three:bool\n",
    "    \n",
    "    #methods\n",
    "    def __str__(self):\n",
    "        return f'This class {type(self).__name__} is written with the dataclasses module'"
   ]
  },
  {
   "cell_type": "markdown",
   "id": "46a506d9-660a-4017-adb5-37da390cf2ff",
   "metadata": {},
   "source": [
    "#### Python being Python a dynamic language I can still create a class with whatever type I fancy  "
   ]
  },
  {
   "cell_type": "code",
   "execution_count": null,
   "id": "8b0840fe-a88e-4ef1-9b0b-5ec8fed5de99",
   "metadata": {},
   "outputs": [],
   "source": [
    "five = ExampleFive(3.7, 'George', 0)\n",
    "five"
   ]
  },
  {
   "cell_type": "markdown",
   "id": "809a8cc5-5218-42c5-868c-7617b42eb531",
   "metadata": {},
   "source": [
    "#### I would need to use an external type checker as MyPy to catch type errors. \n",
    "#### Using MyPy allows you to program static Python. I am not sure if this the way to go in Python. Despite the obvious advantages static languages have faster and less prone to faults, I believe the flexibility of Python might out way it. Having said that I wouldn't write software for a hart monitor in Python, or critical resource for that matter."
   ]
  },
  {
   "cell_type": "markdown",
   "id": "5a5b0703-14be-4119-8772-7c9c0852fa78",
   "metadata": {},
   "source": [
    "#### You can default values in classes with fields. \n",
    "#### You need to ensure that fields with default values come after fields with no values\n",
    "#### And you need to use the field function to create empty list, set or tuples"
   ]
  },
  {
   "cell_type": "code",
   "execution_count": null,
   "id": "8d9642ac-7b58-45fa-ae5c-2acbb96cec4c",
   "metadata": {},
   "outputs": [],
   "source": [
    "from dataclasses import dataclass, field\n",
    "\n",
    "@dataclass\n",
    "class ExampleSix:\n",
    "    #attributes\n",
    "    att_one:int\n",
    "    att_two:str\n",
    "    att_three:bool\n",
    "    # default values\n",
    "    att_four:list[str] = field(default_factory=list)\n",
    "    att_five:set[int] = field(default_factory=set)\n",
    "    \n",
    "    #methods\n",
    "    def __str__(self):\n",
    "        return f'This class {type(self).__name__} is written with the dataclasses module'"
   ]
  },
  {
   "cell_type": "code",
   "execution_count": null,
   "id": "cb06c0f4-5cec-488e-b21c-1bc82b355d9c",
   "metadata": {},
   "outputs": [],
   "source": [
    "six = ExampleSix(1, 'George', True)\n",
    "six"
   ]
  },
  {
   "cell_type": "code",
   "execution_count": null,
   "id": "dd4b254d-951b-4f65-8502-b7951f32b016",
   "metadata": {},
   "outputs": [],
   "source": [
    "print(six)"
   ]
  },
  {
   "cell_type": "markdown",
   "id": "9ed3e1f9-f069-4ff6-9f20-ef3116a7bd54",
   "metadata": {},
   "source": [
    "#### **The empty list as default value problem**\n",
    "#### You have probably seen this problem. Without completely understanding what was happening. \n",
    "#### The empty list as default value problem is a nefarious problem for Python to solve and very difficult to understand if your knowledge of storables in Python is weak.\n",
    "#### Let me show you the problrem, and that `@dataclass` solves it."
   ]
  },
  {
   "cell_type": "code",
   "execution_count": null,
   "id": "dcebb847-ef2a-449f-aa42-95f64208cbcf",
   "metadata": {},
   "outputs": [],
   "source": [
    "class Taxi:\n",
    "    '''Class to illustrate the empty default list problem'''\n",
    "    \n",
    "    def __init__(self, passengers=[]): # de taxi is initially empty\n",
    "        self.passengers=passengers\n",
    "        \n",
    "    def pick_up(self,name:str):\n",
    "        self.passengers.append(name)\n",
    "    \n",
    "    def drop_off(self,name:str):\n",
    "        self.passengers.remove(name)  "
   ]
  },
  {
   "cell_type": "markdown",
   "id": "9510c05b-c216-4c9c-9866-ebf8510d50a6",
   "metadata": {},
   "source": [
    "#### Let's make a taxi"
   ]
  },
  {
   "cell_type": "code",
   "execution_count": null,
   "id": "603a89a9-09c1-441f-b581-e51835322b8c",
   "metadata": {},
   "outputs": [],
   "source": [
    "taxi_one = Taxi(passengers=['Ente', 'Croc'])\n",
    "taxi_one.passengers"
   ]
  },
  {
   "cell_type": "code",
   "execution_count": null,
   "id": "5dec831d-f43d-4c0e-ac25-738ea9c28fcc",
   "metadata": {},
   "outputs": [],
   "source": [
    "taxi_one.drop_off('Ente')\n",
    "taxi_one.passengers"
   ]
  },
  {
   "cell_type": "code",
   "execution_count": null,
   "id": "192f17aa-0cfd-47d9-b144-9c8d7fb3a16b",
   "metadata": {},
   "outputs": [],
   "source": [
    "taxi_one.pick_up('Rhino')\n",
    "taxi_one.passengers"
   ]
  },
  {
   "cell_type": "markdown",
   "id": "5d39eaef-b713-4561-a4a0-e7f660bed343",
   "metadata": {},
   "source": [
    "#### so far the taxi class works as it supposed to do. But I have a few taxi's and really would like to instantiate them at the same time, before their shift begins so to say"
   ]
  },
  {
   "cell_type": "code",
   "execution_count": null,
   "id": "43899b4c-e25c-42c9-9c95-b1d951ba2f9d",
   "metadata": {},
   "outputs": [],
   "source": [
    "taxi_two = Taxi()\n",
    "taxi_three= Taxi()\n",
    "taxi_two.passengers"
   ]
  },
  {
   "cell_type": "code",
   "execution_count": null,
   "id": "ae9b2bad-e0af-43ad-a003-f6bdbd0bbe19",
   "metadata": {},
   "outputs": [],
   "source": [
    "taxi_three.passengers"
   ]
  },
  {
   "cell_type": "markdown",
   "id": "0d9311c3-b0aa-45a3-b946-d41e5e26f186",
   "metadata": {},
   "source": [
    "#### Both lists are empty, so far so good let's pick up a passenger"
   ]
  },
  {
   "cell_type": "code",
   "execution_count": null,
   "id": "8501652f-fab7-4d68-b419-90c8a47189ad",
   "metadata": {},
   "outputs": [],
   "source": [
    "taxi_two.pick_up('George')\n",
    "taxi_two.passengers"
   ]
  },
  {
   "cell_type": "markdown",
   "id": "e9bdaf74-7eb5-42b7-8834-21831222840d",
   "metadata": {},
   "source": [
    "#### Now hopefully we can agree that taxi_three has no passengers"
   ]
  },
  {
   "cell_type": "code",
   "execution_count": null,
   "id": "e3efa78d-61d6-4410-a597-cc7c105d5c59",
   "metadata": {},
   "outputs": [],
   "source": [
    "taxi_three.passengers"
   ]
  },
  {
   "cell_type": "markdown",
   "id": "1e01cf76-7c31-491f-a4f6-b88b45b11631",
   "metadata": {},
   "source": [
    "#### However George was picked up by taxi_three too, let's get rid off George in that taxi"
   ]
  },
  {
   "cell_type": "code",
   "execution_count": null,
   "id": "bec8d659-7301-47be-bcc7-b24c46f7ca78",
   "metadata": {},
   "outputs": [],
   "source": [
    "taxi_three.drop_off('George')\n",
    "taxi_two.passengers"
   ]
  },
  {
   "cell_type": "markdown",
   "id": "62483062-f611-4633-a6ad-43af6e982bf0",
   "metadata": {},
   "source": [
    "#### By George! George has gone from both taxi's\n",
    "#### As I stated this is quite the nefarious problem for Python to solve. The root cause is that Python has only two storables, primitives and pointers. \n",
    "#### What happens is that both taxi_two and taxi_three passenger list points to the same memory location, if you do an operation on that list both taxi's will have the result of that operation, for it is the same list. The class is after all defined with an empty list as a default. Taxi_one overrides this by using its own list at creation and does not have this problem.\n",
    "#### Now for Python to solve this wouldn't be easy this is very deep in the core of Python. So they created a work around a solution for wanting to instantiate objects with empty lists, dataclasses' field function.\n",
    "#### Let's use our FrameWork to build the same class"
   ]
  },
  {
   "cell_type": "code",
   "execution_count": null,
   "id": "5cf1c594-0ade-4853-ac42-4faa60fe637b",
   "metadata": {},
   "outputs": [],
   "source": [
    "from dataclasses import dataclass, field\n",
    "\n",
    "@dataclass\n",
    "class Taxi:\n",
    "    passengers:list[str]= field(default_factory=list)\n",
    "    \n",
    "    def pick_up(self,name:str):\n",
    "        self.passengers.append(name)\n",
    "    \n",
    "    def drop_off(self,name:str):\n",
    "        self.passengers.remove(name)"
   ]
  },
  {
   "cell_type": "code",
   "execution_count": null,
   "id": "53774845-d13d-4da1-9a92-fd81ecd190be",
   "metadata": {},
   "outputs": [],
   "source": [
    "taxi_two = Taxi()\n",
    "taxi_three = Taxi()"
   ]
  },
  {
   "cell_type": "code",
   "execution_count": null,
   "id": "820a11f9-232a-4631-a48a-ff670b65e8e4",
   "metadata": {},
   "outputs": [],
   "source": [
    "taxi_two.pick_up('George')\n",
    "taxi_two.passengers"
   ]
  },
  {
   "cell_type": "code",
   "execution_count": null,
   "id": "c4896aef-6246-4ea6-8c0c-e94c951b9a21",
   "metadata": {},
   "outputs": [],
   "source": [
    "taxi_three.passengers"
   ]
  },
  {
   "cell_type": "markdown",
   "id": "070bd33e-e499-4a47-8c21-70fbd1e118ac",
   "metadata": {},
   "source": [
    "#### The problem is solved"
   ]
  },
  {
   "cell_type": "markdown",
   "id": "224d425f-ef60-439b-94de-8d2c8adb6a75",
   "metadata": {},
   "source": [
    "## **Special Methods**\n",
    "#### Dataclasses allow for the easy use of Python's special methods. \n",
    "#### Special methods allow you to better leverage the Python Data Model in your programming. \n",
    "#### The use of special methods allows you to:\n",
    "#### 1 make better use the rich Python standard library and the Python Data Model\n",
    "#### 2 standard operations can be used, called with standard function and can have have the same name throughout classes\n",
    "#### 3 create clear and concise API's that other programmers will understand. \n",
    "#### You have of course observed that all example classes have `__str__()` method. This is a special method, Python has 80 of them. \n",
    "#### You don't call these 80 special methods yourself, they are linked with functions like `len()` and `print()` or operators like `+` and `%`. \n",
    "#### Other programmers, serious Python developers, expect you to have used these special methods. Most of these special methods are part of the object class. Google expected people to make explicit that any base class would inherit from object, `class BaseClass(object):` so you would have access to most of these  special methods. \n",
    "#### However with the advent dataclasses this work method is obsolete. Dataclasses gives you access to all of them without having to inherit object explicitely. No base classes or metaclasses are used by Data Classes. Users of these classes are free to use inheritance and metaclasses without any interference from Data Classes. The decorated classes are truly “normal” Python classes. The Data Class decorator should not interfere with any usage of the class.\n",
    "#### dataclasses comes with many special methods predefined for you, eg. `__repr__()` or `__data__()`. So that you can call on a clear` help()` functions for your classes or a clear `repr()`.\n",
    "#### others like `__hash__()` you would have to implement yourself."
   ]
  },
  {
   "cell_type": "code",
   "execution_count": null,
   "id": "7ed9d94b-b7f8-4945-a824-949c993c4877",
   "metadata": {},
   "outputs": [],
   "source": [
    "from dataclasses import dataclass, field\n",
    "\n",
    "@dataclass\n",
    "class Taxi:\n",
    "    passengers:list[str]= field(default_factory=list)\n",
    "    \n",
    "    def pick_up(self,name:str):\n",
    "        self.passengers.append(name)\n",
    "        \n",
    "    def drop_off(self,name:str):\n",
    "        self.passengers.remove(name)\n",
    "        \n",
    "    def __len__(self):\n",
    "        return len(self.passengers)\n",
    "        \n"
   ]
  },
  {
   "cell_type": "code",
   "execution_count": null,
   "id": "bd1db334-1c45-4c75-964f-b29da69b3221",
   "metadata": {},
   "outputs": [],
   "source": [
    "taxi = Taxi()\n",
    "taxi"
   ]
  },
  {
   "cell_type": "code",
   "execution_count": null,
   "id": "9ebc9a57-5e3c-4367-a576-1911187af5f8",
   "metadata": {},
   "outputs": [],
   "source": [
    "taxi.pick_up('Ente')\n",
    "taxi"
   ]
  },
  {
   "cell_type": "code",
   "execution_count": null,
   "id": "b0f53107-1d81-4799-b4c2-978823eab367",
   "metadata": {},
   "outputs": [],
   "source": [
    "taxi.pick_up('Croc')\n",
    "taxi"
   ]
  },
  {
   "cell_type": "code",
   "execution_count": null,
   "id": "d3e07675-3718-4b35-9879-88ebc6f2d8a4",
   "metadata": {},
   "outputs": [],
   "source": [
    "len(taxi)"
   ]
  },
  {
   "cell_type": "markdown",
   "id": "cc585026-1d0d-4085-b062-2e50b0f85e43",
   "metadata": {},
   "source": [
    "#### For more information I will refer you to PEP 557 https://peps.python.org/pep-0557/ "
   ]
  },
  {
   "cell_type": "markdown",
   "id": "a9b94c43-8334-4c03-833a-c376d0f02346",
   "metadata": {},
   "source": [
    "## **The Python Data Model**\n",
    "#### Every programmer in Python should know the Python data model. Of course this is something you build knowledge off as you gain experience, but it doesn't hurt to read it a few times in the Python documentation. \n",
    "#### see https://docs.python.org/3/reference/datamodel.html#"
   ]
  },
  {
   "cell_type": "code",
   "execution_count": null,
   "id": "366f2db6-7dea-4441-b787-68d16aca92da",
   "metadata": {},
   "outputs": [],
   "source": []
  }
 ],
 "metadata": {
  "kernelspec": {
   "display_name": "Python 3 (ipykernel)",
   "language": "python",
   "name": "python3"
  },
  "language_info": {
   "codemirror_mode": {
    "name": "ipython",
    "version": 3
   },
   "file_extension": ".py",
   "mimetype": "text/x-python",
   "name": "python",
   "nbconvert_exporter": "python",
   "pygments_lexer": "ipython3",
   "version": "3.11.1"
  }
 },
 "nbformat": 4,
 "nbformat_minor": 5
}
