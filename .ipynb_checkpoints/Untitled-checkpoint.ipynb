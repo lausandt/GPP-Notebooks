{
 "cells": [
  {
   "cell_type": "code",
   "execution_count": 23,
   "id": "a8fc3c1f-e81f-45ad-90ec-9f811aa70aaf",
   "metadata": {},
   "outputs": [],
   "source": [
    "from operator import * \n",
    "from typing import Callable\n",
    "from inspect import signature\n",
    "\n",
    "\n",
    "def lift2(f:Callable, xs:list[int], ys:list[int]) -> list[int] | None:\n",
    "    if len(signature(d).parameters) != 2:\n",
    "        return None\n",
    "    try:\n",
    "         return [f(x, y) for x in xs for y in ys]      \n",
    "    except TypeError:\n",
    "        return None\n",
    "   "
   ]
  },
  {
   "cell_type": "code",
   "execution_count": 24,
   "id": "2d8eb65c-a917-4cd4-84ca-1f32063b915f",
   "metadata": {},
   "outputs": [
    {
     "data": {
      "text/plain": [
       "[102,\n",
       " 103,\n",
       " 104,\n",
       " 105,\n",
       " 106,\n",
       " 103,\n",
       " 104,\n",
       " 105,\n",
       " 106,\n",
       " 107,\n",
       " 104,\n",
       " 105,\n",
       " 106,\n",
       " 107,\n",
       " 108,\n",
       " 105,\n",
       " 106,\n",
       " 107,\n",
       " 108,\n",
       " 109,\n",
       " 106,\n",
       " 107,\n",
       " 108,\n",
       " 109,\n",
       " 110]"
      ]
     },
     "execution_count": 24,
     "metadata": {},
     "output_type": "execute_result"
    }
   ],
   "source": [
    "xs = [i for i in range(1,6)] \n",
    "ys = [i for i in range(101,106)]\n",
    "lift2(add, xs, ys)"
   ]
  },
  {
   "cell_type": "code",
   "execution_count": 25,
   "id": "fd0528b5-ed3a-4965-80b2-fdac40bba91f",
   "metadata": {},
   "outputs": [
    {
     "data": {
      "text/plain": [
       "NoneType"
      ]
     },
     "execution_count": 25,
     "metadata": {},
     "output_type": "execute_result"
    }
   ],
   "source": [
    "type(lift2(5, xs, ys))"
   ]
  },
  {
   "cell_type": "code",
   "execution_count": 26,
   "id": "fd920bbe-eddf-4bcb-8ff9-f48b9cf49208",
   "metadata": {},
   "outputs": [
    {
     "data": {
      "text/plain": [
       "2"
      ]
     },
     "execution_count": 26,
     "metadata": {},
     "output_type": "execute_result"
    }
   ],
   "source": [
    "len(signature(add).parameters)"
   ]
  },
  {
   "cell_type": "code",
   "execution_count": null,
   "id": "64e8730c-6c05-4e14-b3c0-fd0a6e0d37c6",
   "metadata": {},
   "outputs": [],
   "source": []
  }
 ],
 "metadata": {
  "kernelspec": {
   "display_name": "Python 3 (ipykernel)",
   "language": "python",
   "name": "python3"
  },
  "language_info": {
   "codemirror_mode": {
    "name": "ipython",
    "version": 3
   },
   "file_extension": ".py",
   "mimetype": "text/x-python",
   "name": "python",
   "nbconvert_exporter": "python",
   "pygments_lexer": "ipython3",
   "version": "3.10.12"
  }
 },
 "nbformat": 4,
 "nbformat_minor": 5
}
