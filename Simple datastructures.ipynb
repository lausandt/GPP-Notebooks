{
 "cells": [
  {
   "cell_type": "markdown",
   "id": "6336c2aa-22d0-4761-9c15-805dc59f6515",
   "metadata": {},
   "source": [
    "## **Five simple datastructures in Python**\n",
    "\n",
    "---\n",
    "A data structure is a structure for the organisation, management, and storage of data. The choice of data structure determines the efficiency, correctness, and testability (ease of) of programs. \n",
    "Python knows many data structures, from simple to very complex. However despite the built-in riches, most junior & medior programmers will opt for the list as data structure, the list is flexible and knows an application programming interface (API) full with useful methods. However, the list is often not the right choice as data structure it isn't even the \"Pythonic\" choice (recommended by Python itself) for data structure that would be the tuple. \n",
    "\n",
    "What data structure you should use depends on what you want to achieve with that data structure. For instance, if needs to be fast, should the data structure only contain unique elements, should the content of your data structure never change, you want to able to order the elements fast, or store it in a specific order? These are the type of questions you need to ask yourselves while make a choice of data structure. You've probably guessed it, but a list is the wrong answer to all these questions.   \n",
    "\n",
    "This notebook will discuss the five easiest data structure Python has. Give you an understanding when to use them and when not. The simple datastructures that all Python programmers should know are in order of discussion & complexity:\n",
    " 1. set \n",
    " 2. tuple\n",
    " 3. list \n",
    " 4. array \n",
    " 5. dictionary\n",
    "\n",
    "All five are a direct or indirect subclass of the collections class https://docs.python.org/3/library/collections.html. Set is a direct subclass, tuple, list, and array are subclasses of Sequence (to quote Luciano Ramalho of FPY: Python loves sequences) and dictionary is a subclass of Mappings.\n"
   ]
  },
  {
   "cell_type": "markdown",
   "id": "3046d10a-5ece-4068-bcb6-4421d8cd09a6",
   "metadata": {},
   "source": [
    "#### **an example of the five structures**"
   ]
  },
  {
   "cell_type": "code",
   "execution_count": null,
   "id": "9d3ec6b0-22dc-416c-b9e8-c0869cb20d35",
   "metadata": {},
   "outputs": [],
   "source": [
    "s = {1,2,3,4,5}\n",
    "s"
   ]
  },
  {
   "cell_type": "code",
   "execution_count": null,
   "id": "682b9337-f98d-474a-b230-fdc25e7d2f91",
   "metadata": {},
   "outputs": [],
   "source": [
    "t = (1,2,3,4,5)\n",
    "t"
   ]
  },
  {
   "cell_type": "code",
   "execution_count": null,
   "id": "3bbd8fd7-c8dc-42c2-9594-41cd1449e138",
   "metadata": {},
   "outputs": [],
   "source": [
    "l = [1,2,3,4,5]\n",
    "l"
   ]
  },
  {
   "cell_type": "code",
   "execution_count": null,
   "id": "82fd9563-f046-4218-980d-2b5d7e7aba04",
   "metadata": {},
   "outputs": [],
   "source": [
    "from array import array \n",
    "a = array('i', [1,2,3,4,5])\n",
    "a"
   ]
  },
  {
   "cell_type": "code",
   "execution_count": null,
   "id": "e8147486-822b-4393-932e-a4db46536b76",
   "metadata": {},
   "outputs": [],
   "source": [
    "d = {'a':1, 'b':2, 'c':3, 'd':4, 'e':5}  \n",
    "d"
   ]
  },
  {
   "cell_type": "markdown",
   "id": "72dcad8d-88b4-4700-b407-da1c23f4af32",
   "metadata": {
    "tags": []
   },
   "source": [
    "#### **Set and generators**\n",
    "A set is an unordered collection of unique elements. It is the simplest of the five datastructures, it is a subclass of Collection, but not of Reversable. Consider that a set is unordered it is of course obvious that we cannot reverse it.\n",
    "\n",
    "From set theory we know set notation {1,2,3} and we know how to generate sets. Sets can be generated from different sets e.g. {x^2| x $ \\in $ {1..5}} = {1,4,9,16,25}. A set generator consists of three parts:\n",
    " 1. Allocation: x^2 in our example\n",
    " 2. The generator: x in {1..5} \n",
    " 3. The guard: x % 2 == 1 (a guard is optional)\n",
    " \n",
    "generator = {allocation| generator, guard}\n",
    "\n",
    "Python gives us the near enough the same notation for its generator."
   ]
  },
  {
   "cell_type": "code",
   "execution_count": null,
   "id": "2d9982ae-b6a4-4de6-8c84-691d73637b62",
   "metadata": {},
   "outputs": [],
   "source": [
    "s = (n**2 for n in {1,2,3,4,5})\n",
    "s"
   ]
  },
  {
   "cell_type": "markdown",
   "id": "2ca3d68e-8ec1-498b-8c45-5ff2d47f3692",
   "metadata": {},
   "source": [
    "If I use brackets without any form of cast, I get a generator object back.\n",
    "\n",
    "There are in two ways of casting, to get a useful structure back.\n",
    " 1. Explicit cast. \n",
    " 2. Using a comprehension.\n",
    " \n",
    "See the examples below. "
   ]
  },
  {
   "cell_type": "code",
   "execution_count": null,
   "id": "11a3d15b-a24b-40be-ae0c-6b8b676265d9",
   "metadata": {},
   "outputs": [],
   "source": [
    "set(s)"
   ]
  },
  {
   "cell_type": "code",
   "execution_count": null,
   "id": "db47193f-541f-46db-8003-a70b7a9084ba",
   "metadata": {},
   "outputs": [],
   "source": [
    "s = {n**2 for n in range(1,6)}\n",
    "s"
   ]
  },
  {
   "cell_type": "code",
   "execution_count": null,
   "id": "a618d237-f4c5-4fd2-b8c1-1a6b80a48d71",
   "metadata": {},
   "outputs": [],
   "source": [
    "type(s)"
   ]
  },
  {
   "cell_type": "markdown",
   "id": "147b85b4-453f-427e-9039-9527d5a4722f",
   "metadata": {},
   "source": [
    "\n",
    "Only lists and set can use a comprehension. A comprehension is basically enclosing the generator with the brackets of  a certain type. Python uses those brackets to perform a cast of sorts. Obviously, this will not work for a tuple, as the brackets are the same as for the generic generator."
   ]
  },
  {
   "cell_type": "code",
   "execution_count": null,
   "id": "50e23e01-3e74-4062-9e72-900c91e256fb",
   "metadata": {},
   "outputs": [],
   "source": [
    "t = (n for n in range(1,100000000000001) if n < 11)\n",
    "t"
   ]
  },
  {
   "cell_type": "markdown",
   "id": "cc0110f4-b978-4dde-9a19-70fe8d6af097",
   "metadata": {},
   "source": [
    "Back to sets, the elements of a set do not have to be of the same type."
   ]
  },
  {
   "cell_type": "code",
   "execution_count": null,
   "id": "e246e80a-96fb-4b85-9d7a-0ed173eb1b77",
   "metadata": {},
   "outputs": [],
   "source": [
    "s = {3, 'a'}\n",
    "s"
   ]
  },
  {
   "cell_type": "markdown",
   "id": "3841ef30-b834-4e98-a870-8eb830cacbf3",
   "metadata": {},
   "source": [
    "As you know functions are first class citizens in Python, they too can be part of a set."
   ]
  },
  {
   "cell_type": "code",
   "execution_count": null,
   "id": "f5d61a4c-8a57-411b-b699-122cfc0dda4a",
   "metadata": {},
   "outputs": [],
   "source": [
    "s = {1+2, 'a'}\n",
    "s"
   ]
  },
  {
   "cell_type": "markdown",
   "id": "58b137d7-2ac1-439b-acea-904141198703",
   "metadata": {},
   "source": [
    "order doesn't matter in sets"
   ]
  },
  {
   "cell_type": "code",
   "execution_count": null,
   "id": "60024675-47a0-47c8-8f71-712da250bf61",
   "metadata": {},
   "outputs": [],
   "source": [
    "s1 = {'a', 3}\n",
    "s == s1"
   ]
  },
  {
   "cell_type": "markdown",
   "id": "7598a430-8160-4e49-aef6-dc28559415c3",
   "metadata": {},
   "source": [
    "Although the sets are the same mathematically, for Python they are different objects."
   ]
  },
  {
   "cell_type": "code",
   "execution_count": null,
   "id": "452184bf-a102-483c-89f4-fd78793e7f5e",
   "metadata": {},
   "outputs": [],
   "source": [
    "s is s1"
   ]
  },
  {
   "cell_type": "markdown",
   "id": "0369f633-02b3-42dc-9594-d52e978621ba",
   "metadata": {},
   "source": [
    "Uniqueness of the elements does matter."
   ]
  },
  {
   "cell_type": "code",
   "execution_count": null,
   "id": "581f3145-d3ea-44bd-b3c6-197b65aeba69",
   "metadata": {},
   "outputs": [],
   "source": [
    "s = {1+2, 3, 'a', 'a', 'a'}\n",
    "s"
   ]
  },
  {
   "cell_type": "markdown",
   "id": "c6d94184-82e0-4e4c-a059-556e6d3197c9",
   "metadata": {},
   "source": [
    "`set` inherits many of its methods from Collections, so do list, tuple and array, and they have several special methods in common, for instance:\n",
    " - The special method to have the length returned; `__len__`, callable buy the function `len()`\n",
    " - Check of an element is part of the collectionable; `__contains__`, callable by the `in`-operator.\n",
    " - Sum all elements in the collection; `__sum__`, callable by `sum`, if and only if summing makes sense give the type of the elements in the collection.\n",
    " \n",
    "At the end of the notebook there is a graph of the collections API."
   ]
  },
  {
   "cell_type": "code",
   "execution_count": null,
   "id": "28d3469b-79f4-4071-857a-f8309ea2b565",
   "metadata": {},
   "outputs": [],
   "source": [
    "s = {n**3 for n in range(11) if n % 2 == 0}\n",
    "s"
   ]
  },
  {
   "cell_type": "code",
   "execution_count": null,
   "id": "1e21bbac-0f99-4040-9db6-e74c4cba943d",
   "metadata": {},
   "outputs": [],
   "source": [
    "len(s)"
   ]
  },
  {
   "cell_type": "code",
   "execution_count": null,
   "id": "2fe321d9-2bb7-4d09-a1b1-9931e29488c0",
   "metadata": {},
   "outputs": [],
   "source": [
    "sum(s)"
   ]
  },
  {
   "cell_type": "code",
   "execution_count": null,
   "id": "eaee58ca-c2aa-4121-8bb4-865843c564d8",
   "metadata": {},
   "outputs": [],
   "source": [
    "7 in s"
   ]
  },
  {
   "cell_type": "code",
   "execution_count": null,
   "id": "008f76f3-12c8-44b4-9d00-29c65fa6f187",
   "metadata": {},
   "outputs": [],
   "source": [
    "216 in s"
   ]
  },
  {
   "cell_type": "markdown",
   "id": "ae52268b-76bd-4878-bdce-adba4c31f19c",
   "metadata": {},
   "source": [
    "Sets are mutable using methods as:\n",
    " - `set.add(e)`\n",
    " - `set.remove(e)`\n",
    " - `set.update(collection)`\n",
    " \n",
    "Where `e` is an element, and `collection` is a collection of elements, not limited to a set."
   ]
  },
  {
   "cell_type": "code",
   "execution_count": null,
   "id": "7dc0a05e-268e-4178-bc6a-49763d3dad6d",
   "metadata": {},
   "outputs": [],
   "source": [
    "s = {1,2,3,4,5}\n",
    "s.add(789)\n",
    "s"
   ]
  },
  {
   "cell_type": "code",
   "execution_count": null,
   "id": "916f11e2-d8a1-46b0-81ab-19b277851429",
   "metadata": {},
   "outputs": [],
   "source": [
    "s.remove(3)\n",
    "s"
   ]
  },
  {
   "cell_type": "code",
   "execution_count": null,
   "id": "798cac86-e30a-4d96-9da7-70f5d566027e",
   "metadata": {},
   "outputs": [],
   "source": [
    "l = [n for n in range(5) if n % 2 != 0] \n",
    "l"
   ]
  },
  {
   "cell_type": "code",
   "execution_count": null,
   "id": "01e32d29-890e-4c32-b5d6-8bca29740449",
   "metadata": {},
   "outputs": [],
   "source": [
    "s.update(l) # updating s with list l\n",
    "s"
   ]
  },
  {
   "cell_type": "markdown",
   "id": "85438b82-1534-45ee-b0e0-a1e645e6ba5c",
   "metadata": {},
   "source": [
    "\n",
    "Set knows all the mathematical set operations, for instance intersection (see the api https://docs.python.org/3/library/collections.abc.html?highlight=set#collections.abc.Set)."
   ]
  },
  {
   "cell_type": "code",
   "execution_count": null,
   "id": "6bbb1bcc-f70c-4e75-9a69-36de173b1887",
   "metadata": {},
   "outputs": [],
   "source": [
    "s.intersection_update({3, 87, 789, 999})\n",
    "s"
   ]
  },
  {
   "cell_type": "markdown",
   "id": "84237687-6c1a-4015-9dbf-09371d9f11f6",
   "metadata": {},
   "source": [
    "#### **The subclasses of the Sequence interface**\n",
    "Three of the five data structures are a subclass of sequence.  A sequence (arrays, list, tuples) is an enumerated collection of objects in which repetitions are allowed and order does matter. In order of discussion, they are:\n",
    " 1. Tuple\n",
    " 2. List\n",
    " 3. Array"
   ]
  },
  {
   "cell_type": "markdown",
   "id": "91ec1250-3e37-40c0-ac44-3e3ae744802c",
   "metadata": {},
   "source": [
    "#### **Tuple**\n",
    "Tuples are Python's primary choice of datastructure, they serve several purposes:\n",
    " 1. Immutable list\n",
    " 2. Record\n",
    " 3. Named Tuple "
   ]
  },
  {
   "cell_type": "markdown",
   "id": "09439abc-29aa-431a-bc37-c5f665857995",
   "metadata": {},
   "source": [
    "#### **Immutable lists with tuples**\n",
    "The Pythonic manner of programming with a sequence is to program using tuples, not lists. Yes lists are flexible and easy in use but they introduce a whole new class of problems. Problems that are common and difficult to debug e.g., the problem of changing and disappearing elements. There is nothing to guard the elements of a list being changed or removed, this creates problems when the same list is being used by multiple developers at different locations in programs. If one developer depends on a value of an element in a list and another developer in different location removes the element or changes the value of that element, a bug has been introduced. One that is notoriously difficult to debug or discover during testing.\n",
    "\n",
    "Immutable lists prevent this by simply not allowing change, see this explanation of MIT https://web.mit.edu/6.005/www/fa15/classes/09-immutability/. Tuple is Python's version of immutable list. They have to other 2 specific advantages besides being less prone to bugs: \n",
    " 1. Tuples are faster in use see https://stackoverflow.com/questions/68630/are-tuples-more-efficient-than-lists-in-python/22140115#22140115 (Raymond Hettinger is a core developer of Python) \n",
    " 2. More important tuples allow for local reasoning. You don't need to know the global context (every value of every element in the program at a certain time). This ensures that programs can be better tested, maintained, and scaled.\n"
   ]
  },
  {
   "cell_type": "code",
   "execution_count": null,
   "id": "5f207c5d-df00-4610-8185-09f7f146b030",
   "metadata": {},
   "outputs": [],
   "source": [
    "immutable = tuple(x for x in range(20) if x % 2 ==1)\n",
    "immutable"
   ]
  },
  {
   "cell_type": "code",
   "execution_count": null,
   "id": "e775563f-b0ac-4d6a-badd-8a1b9b9cae3c",
   "metadata": {},
   "outputs": [],
   "source": [
    "immutable[1]"
   ]
  },
  {
   "cell_type": "markdown",
   "id": "d5c21fb3-224e-4492-902b-48e70907444e",
   "metadata": {},
   "source": [
    "You cannot assign to a tuple, nor can you add to it, nor pop it."
   ]
  },
  {
   "cell_type": "code",
   "execution_count": null,
   "id": "9852a1b3-fdcb-4c1a-82d5-ab1910e5191c",
   "metadata": {},
   "outputs": [],
   "source": [
    "immutable[1] = 4"
   ]
  },
  {
   "cell_type": "code",
   "execution_count": null,
   "id": "607a9a1b-afc3-4d6c-9ab6-5ce5feb7021e",
   "metadata": {},
   "outputs": [],
   "source": [
    "immutable.add(34)"
   ]
  },
  {
   "cell_type": "code",
   "execution_count": null,
   "id": "36eaefb7-ffca-4a51-9936-a513eefc1cc6",
   "metadata": {},
   "outputs": [],
   "source": [
    "immutable.pop()"
   ]
  },
  {
   "cell_type": "markdown",
   "id": "1b956dd3-e9b3-4c13-bcd5-01da8aa887ef",
   "metadata": {},
   "source": [
    "But of course tuples have the collection interface methods, callable with the following functions:\n",
    " 1. `len`\n",
    " 2. `sum`\n",
    " 3. `in`"
   ]
  },
  {
   "cell_type": "code",
   "execution_count": null,
   "id": "ad855cb3-79e0-4664-b7b6-a89fe5e0ed43",
   "metadata": {},
   "outputs": [],
   "source": [
    "len(immutable)"
   ]
  },
  {
   "cell_type": "code",
   "execution_count": null,
   "id": "31478621-1185-41c6-b9fc-742968c615ef",
   "metadata": {},
   "outputs": [],
   "source": [
    "sum(immutable)"
   ]
  },
  {
   "cell_type": "code",
   "execution_count": null,
   "id": "f331d8da-de55-46b8-a7f1-c62cc6bae525",
   "metadata": {},
   "outputs": [],
   "source": [
    "17 in immutable"
   ]
  },
  {
   "cell_type": "markdown",
   "id": "b602f4da-f960-47bb-99a8-641bbe5bf721",
   "metadata": {},
   "source": [
    "\n",
    "But what if I do want to use part of the tuple? Well you use the tuple to generate a new tuple with the value(s) you want, the original tuple will stay the same. In fact, we can use a tuple to generate any collectionable."
   ]
  },
  {
   "cell_type": "code",
   "execution_count": null,
   "id": "e07b8112-9fc0-4878-af75-d3357ef88f6e",
   "metadata": {},
   "outputs": [],
   "source": [
    "small = tuple(n for n in immutable if n <9)\n",
    "small"
   ]
  },
  {
   "cell_type": "code",
   "execution_count": null,
   "id": "0b019fe0-14c5-4146-bced-56a73d81eb23",
   "metadata": {},
   "outputs": [],
   "source": [
    "type(small)"
   ]
  },
  {
   "cell_type": "markdown",
   "id": "688aa214-fd7e-4fcc-b8e4-a970b5265575",
   "metadata": {},
   "source": [
    "We can use a tuple to generate a set."
   ]
  },
  {
   "cell_type": "code",
   "execution_count": null,
   "id": "f123f80e-a267-46dd-806f-de5eb22e1aff",
   "metadata": {},
   "outputs": [],
   "source": [
    "small_set = set(n for n in immutable if n < 9)\n",
    "small_set"
   ]
  },
  {
   "cell_type": "markdown",
   "id": "a49de728-4c55-4e32-ad9c-cf1e54d0fa5b",
   "metadata": {},
   "source": [
    "or a list."
   ]
  },
  {
   "cell_type": "code",
   "execution_count": null,
   "id": "f7f65bbe-4546-4481-9e23-d09fbce5d028",
   "metadata": {},
   "outputs": [],
   "source": [
    "small_list = [n for n in immutable if n < 9]\n",
    "small_list"
   ]
  },
  {
   "cell_type": "markdown",
   "id": "d9bb04c0-a4d5-4ffa-b8c8-802fd94cda42",
   "metadata": {},
   "source": [
    "\n",
    "Perhaps you have noticed there is something odd when generating a list; I didn't use the `list()` function,  where I used `set()` and `tuple()`.\n",
    "\n",
    "For lists Python created a special generator called a list comprehension. Of course, you could use the `list()` function, and perhaps should to stay consistent, this up to you. "
   ]
  },
  {
   "cell_type": "code",
   "execution_count": null,
   "id": "4dd2d5b1-27a2-479a-9bf2-15e52f58f456",
   "metadata": {},
   "outputs": [],
   "source": [
    "small_list_ex = list(n for n in immutable if n < 9)\n",
    "small_list_ex"
   ]
  },
  {
   "cell_type": "markdown",
   "id": "80c56cf5-ba31-4d85-87d2-d0bb956d1046",
   "metadata": {},
   "source": [
    "\n",
    "Unfortunately, tuples are not really immutable. If an element of the tuple is mutable, then it is also mutable within a tuple. I think it is often perplexing for developers to see this in action."
   ]
  },
  {
   "cell_type": "code",
   "execution_count": null,
   "id": "87e42acf-3836-40b7-8df9-29de4282bee8",
   "metadata": {},
   "outputs": [],
   "source": [
    "really = (1,2,[3,4],5)\n",
    "really "
   ]
  },
  {
   "cell_type": "code",
   "execution_count": null,
   "id": "27b85cc3-2ec7-479e-a626-01ebb3b55e4c",
   "metadata": {},
   "outputs": [],
   "source": [
    "really[2][1] = 7\n",
    "really"
   ]
  },
  {
   "cell_type": "markdown",
   "id": "d2fe63ff-d1c9-451c-90ff-4ca933d6d3cc",
   "metadata": {},
   "source": [
    "With hash(tuple) you can check of all elements of your tuple are immutable. This is of course a trick, only primitives are hashable."
   ]
  },
  {
   "cell_type": "code",
   "execution_count": null,
   "id": "4ad9a685-6346-4b8a-905d-e0d88b3ca84e",
   "metadata": {},
   "outputs": [],
   "source": [
    "hash(really)"
   ]
  },
  {
   "cell_type": "code",
   "execution_count": null,
   "id": "28898acd-e57f-4599-96de-1f0abdc1cc6d",
   "metadata": {},
   "outputs": [],
   "source": [
    "hash(immutable)"
   ]
  },
  {
   "cell_type": "markdown",
   "id": "3d6b06c0-16be-42f5-b458-74650e640c1f",
   "metadata": {},
   "source": [
    "#### **Tuples as records**\n",
    "Tuples are usable as records as in a database record, by using tuple as a record you can use variable allocation or pattern matching to get a value."
   ]
  },
  {
   "cell_type": "code",
   "execution_count": null,
   "id": "d6ac34c0-54a0-43aa-a405-dc46993b811d",
   "metadata": {},
   "outputs": [],
   "source": [
    "# using variable allocation\n",
    "country, capital, language, population = ('The Netherlands', 'Amsterdam', 'Dutch', '18.000.000')\n",
    "country"
   ]
  },
  {
   "cell_type": "code",
   "execution_count": null,
   "id": "46e788f7-4959-415a-9ae5-6f5cba23fa66",
   "metadata": {},
   "outputs": [],
   "source": [
    "# using pattern matching\n",
    "country, _, _, population = ('The Netherlands', 'Amsterdam', 'Dutch', '18.000.000')\n",
    "population"
   ]
  },
  {
   "cell_type": "markdown",
   "id": "6414ef8f-16dc-44da-b6e0-1f52ad00f4b7",
   "metadata": {},
   "source": [
    "Of cou,rse you could use indexing but that is simply inferior."
   ]
  },
  {
   "cell_type": "code",
   "execution_count": null,
   "id": "fb094efa-29b6-459d-920f-2e18c6518fa4",
   "metadata": {},
   "outputs": [],
   "source": [
    "x =  ('The Netherlands', 'Amsterdam', 'Dutch', '18.000.000')\n",
    "x[0]"
   ]
  },
  {
   "cell_type": "markdown",
   "id": "d9b0844e-a857-4877-8723-6b7fd0ce207c",
   "metadata": {},
   "source": [
    "#### **Named Tuples**\n",
    "The collections module knows the namedtuple. A namedtuple is a factory function that allows you to create tuple subclasses with named fields. It is akin to an algebraic data type (ADT), that is a type that is built from two or more types, https://en.wikipedia.org/wiki/Algebraic_data_type. A namedtuple is thus the cartesian product of two or more types, perhaps easiest understood as an object without any methods. \n",
    "\n",
    "Namedtuples are powerful in use with SQL see https://docs.python.org/3.9/library/collections.html?highlight=namedtuple#collections.namedtuple.While ADT's are a powerful concept in the design of data, and it allows for pattern matching (with some typical Pythonic oddities of course).\n",
    "\n",
    "See the example.\n"
   ]
  },
  {
   "cell_type": "code",
   "execution_count": null,
   "id": "1ba1de44-9e68-4c6f-a3d6-e84a94cfb7ae",
   "metadata": {},
   "outputs": [],
   "source": [
    "from collections import namedtuple\n",
    "from random import choice\n",
    "\n",
    "Card =namedtuple('Card',['rank', 'suit']) \n",
    "\n",
    "class Deck:\n",
    "    ranks = [str(n) for n in range(2,11)] + list('JQKA') \n",
    "    suits = 'spades diamonds clubs hearts'.split()\n",
    "    \n",
    "    def __init__(self):\n",
    "        self._cards = [Card(rank,suit) for rank in self.ranks for suit in self.suits] \n",
    "        \n",
    "    def __len__(self)->int:\n",
    "        return len(self._cards)\n",
    "        \n",
    "    def __getitem__(self, position)->Card:\n",
    "        return self._cards[position]\n",
    "        "
   ]
  },
  {
   "cell_type": "code",
   "execution_count": null,
   "id": "5081be43-8b00-46ab-ba1b-4472b207a902",
   "metadata": {},
   "outputs": [],
   "source": [
    "card = Card('7', 'clubs')\n",
    "card"
   ]
  },
  {
   "cell_type": "code",
   "execution_count": null,
   "id": "08040273-9934-468c-ba14-2ba129684003",
   "metadata": {},
   "outputs": [],
   "source": [
    "card._fields"
   ]
  },
  {
   "cell_type": "markdown",
   "id": "3f808d54-d49c-41cb-9736-1d4de8424ba0",
   "metadata": {},
   "source": [
    "The named tuple has a `_make` class method that allows you to make named tuples if that type."
   ]
  },
  {
   "cell_type": "code",
   "execution_count": null,
   "id": "16d652eb-05ae-41b7-8040-6b542197d312",
   "metadata": {},
   "outputs": [],
   "source": [
    "c = {'7', 'hearts'}\n",
    "Card._make(c)"
   ]
  },
  {
   "cell_type": "markdown",
   "id": "4f3b2444-d299-4603-87f5-7973bc4f6a87",
   "metadata": {},
   "source": [
    "Python does not enforce types which allows you to do strange things, also with named tuples.   "
   ]
  },
  {
   "cell_type": "code",
   "execution_count": null,
   "id": "a8bcdf57-4f2b-48d8-abdf-af3c179cbc87",
   "metadata": {},
   "outputs": [],
   "source": [
    "strange_card = Card(3.14, 'George is a rhino!') \n",
    "strange_card"
   ]
  },
  {
   "cell_type": "markdown",
   "id": "fc207f08-1931-4f8d-abbe-a2031c26f9c5",
   "metadata": {},
   "source": [
    "Card('7', 'clubs', 'diamonds') will trow a TypeError, which is a bit weird Python throws an error because you use to many arguments but not about type of that argument. Is this even a TypeError?"
   ]
  },
  {
   "cell_type": "code",
   "execution_count": null,
   "id": "619f2209-278a-415d-bfd6-1eeba02c2445",
   "metadata": {},
   "outputs": [],
   "source": [
    "type_error_card = Card('7', '8', 'clubs')\n",
    "type_error_card"
   ]
  },
  {
   "cell_type": "markdown",
   "id": "b8058c18-c0f4-4dbb-975b-474de5caf196",
   "metadata": {},
   "source": [
    "#### **Typing**\n",
    "Python has the typing library that allows you to use type hints in your code. You can use type hints as formal comment on your code. By using type hints as such, you alleviate the necessity for most comment on functions and methods, leaving you with just commenting on your classes. \n",
    "\n",
    "If you take Haskell as an example, though not necessary, it is regarded as best practice to use function signatures:   \n",
    "\n",
    "`sum :: Num a => [a] -> a`\n",
    "\n",
    "This type of function signature is like a comment, I have a function named sum, if you give me a list of numeric types `a`, I will return a single object type of `a`. \n",
    "\n",
    "In Python you could write the following to have the same effect:\n",
    "\n",
    "`def sum(l: list[int])->int:`.\n",
    "\n",
    "Again, we have function named sum, it takes list l, a list of type int, and returns an int.\n",
    "\n",
    "Typed function signatures are clearer, they function much better than trying to find only a name that describes what the function does, those names tend to get awfully long and opaque. Again, the necessity to document code becomes less. If you are a developer, you should be able to read these signatures.\n",
    "\n",
    "The typing library also knows a NamedTuple, this one is more upto date and knows type hints. See the example below."
   ]
  },
  {
   "cell_type": "code",
   "execution_count": null,
   "id": "d8149232-62e7-417c-a94e-cac12f894a69",
   "metadata": {},
   "outputs": [],
   "source": [
    "import typing \n",
    "\n",
    "Coordinate = typing.NamedTuple('Coordinate', [('lat', float),('lon', float)])\n",
    "typing.get_type_hints(Coordinate)"
   ]
  },
  {
   "cell_type": "code",
   "execution_count": null,
   "id": "4d33af95-c277-41ae-b389-803eb16f4204",
   "metadata": {},
   "outputs": [],
   "source": [
    "ams_coordinates = Coordinate(52.370216, 4.895168) \n",
    "type(ams_coordinates.lat)"
   ]
  },
  {
   "cell_type": "markdown",
   "id": "a2a24d47-2267-4b24-8052-fb8a4b269c4b",
   "metadata": {},
   "source": [
    "You could still abuse it, as types are not enforced in Python, they are hints after all.\n",
    "\n",
    "If you want to enforce typing in Python you need an external type checker like MyPy, see https://mypy.readthedocs.io/en/stable/."
   ]
  },
  {
   "cell_type": "code",
   "execution_count": null,
   "id": "3116f3c8-4173-420f-9e60-f31e5071249c",
   "metadata": {},
   "outputs": [],
   "source": [
    "ny_coordinates = Coordinate('George','is a rhino!')\n",
    "ny_coordinates.lat + ' ' +  ny_coordinates.lon "
   ]
  },
  {
   "cell_type": "markdown",
   "id": "3b2d5db7-1707-4d8b-8db1-ddec69912450",
   "metadata": {},
   "source": [
    "The named tuples from collections and typing come with several useful methods see https://docs.python.org/3.9/library/collections.html?highlight=namedtuple#collections.namedtuple."
   ]
  },
  {
   "cell_type": "code",
   "execution_count": null,
   "id": "d22b152e-0553-49ca-9c4a-6f8b5e88eacb",
   "metadata": {},
   "outputs": [],
   "source": [
    "from collections import namedtuple  \n",
    "\n",
    "City = namedtuple('City', ['name', 'country', 'population', 'coordinates']) \n",
    "paris_data= ('Paris', 'France', 11.132, Coordinate(48.8534100, 2.3488000))\n",
    "paris = City._make(paris_data) # _make() useful if you need to make a lot of named tuples from a csv file or so\n",
    "paris"
   ]
  },
  {
   "cell_type": "code",
   "execution_count": null,
   "id": "9752378f-2075-4488-af84-20489cd506d3",
   "metadata": {},
   "outputs": [],
   "source": [
    "paris.coordinates"
   ]
  },
  {
   "cell_type": "code",
   "execution_count": null,
   "id": "fe6b9f1b-23e3-4e4d-9746-24f233b8a67b",
   "metadata": {},
   "outputs": [],
   "source": [
    "paris.coordinates.lat"
   ]
  },
  {
   "cell_type": "code",
   "execution_count": null,
   "id": "afd0fd4c-52ec-4713-8fca-65d0097eff32",
   "metadata": {},
   "outputs": [],
   "source": [
    "p = paris._asdict() # the ._asdict() converts your named tuple to a dictionary\n",
    "p"
   ]
  },
  {
   "cell_type": "markdown",
   "id": "f7c0dcb6-0e38-4620-a31a-75af294d9e32",
   "metadata": {},
   "source": [
    "#### **namedtuple and SQL/CSV**\n",
    "Named tuples are especially useful for assigning field names to result tuples returned by the csv or sqlite3 modules. You can move in one step, from data from  an SQL or CSV to a Python class.\n",
    "\n",
    "`import sqlite3`\n",
    "\n",
    "`conn = sqlite3.connect('/companydata')`    \n",
    "`cursor = conn.cursor()`    \n",
    "\n",
    "`City = namedtuple('City', ['name', 'country', 'population', 'coordinates'])`     \n",
    "`cursor.execute('SELECT name, country, population, ccordinates, FROM cities')`    \n",
    "`for city in map(City_make, cursor.fetchall()): print(city.name, city.population)`"
   ]
  },
  {
   "cell_type": "markdown",
   "id": "8aec7b44-cdf8-4ee7-bdaa-149ed6c2ba17",
   "metadata": {},
   "source": [
    "#### **Unpacking tuples (and other subclasses of Sequence)**\n",
    "Python has several ways to unpack tuples, lists and arrays: \n",
    " 1. Indexing\n",
    " 2. Pattern matching & variable assignment\n",
    " 3. The start operator `*`\n",
    " \n",
    "I will treat indexing and slicing (being a form of indexing) as known. \n",
    " "
   ]
  },
  {
   "cell_type": "code",
   "execution_count": null,
   "id": "da7e17c3-87df-4af0-8a86-b2d283825c42",
   "metadata": {},
   "outputs": [],
   "source": [
    "ams_coordinates = (52.370216, 4.895168)\n",
    "ams_coordinates[0]"
   ]
  },
  {
   "cell_type": "markdown",
   "id": "db37a1e3-a78e-4801-844c-7c1524d96b11",
   "metadata": {},
   "source": [
    "#### **pattern matching & variable assignment**\n",
    "Pattern matching can be used to obtain partial information. Pattern matching in Python uses an `_` the underscore is a dummy variable, or wild card.\n",
    "Working with pattern matching is worth the exercise, eventually once being used to the process, you will not want to turn back.\n"
   ]
  },
  {
   "cell_type": "code",
   "execution_count": null,
   "id": "967afac1-6d55-420f-a44a-b0c1a4303862",
   "metadata": {},
   "outputs": [],
   "source": [
    "lattitude, longitude = ams_coordinates\n",
    "lattitude"
   ]
  },
  {
   "cell_type": "code",
   "execution_count": null,
   "id": "35b14de9-b25a-4046-869c-7aae08283ce1",
   "metadata": {},
   "outputs": [],
   "source": [
    "nl_info = ('The Netherlands', 'Amsterdam', 'Dutch', '18.000.000')\n",
    "name,_,_,population = nl_info \n",
    "print(f'{name} has a population of {population}.')"
   ]
  },
  {
   "cell_type": "markdown",
   "id": "5b9a8d12-62a7-43a6-94e3-da2a1d1fe46c",
   "metadata": {},
   "source": [
    "#### **The `*`-reference** \n",
    "The star reference comes to Python from C. The `*`-reference refers to the memory location of variable, it is a pointer.\n",
    "  \n",
    "Let me give a few examples. You can use it in a function like `divmod`."
   ]
  },
  {
   "cell_type": "code",
   "execution_count": null,
   "id": "e2017aad-c72c-486b-aec3-a7136e13b4b4",
   "metadata": {},
   "outputs": [],
   "source": [
    "t = (20,8)\n",
    "divmod(*t)"
   ]
  },
  {
   "cell_type": "markdown",
   "id": "2bf6ae34-7315-4111-b19b-4f4ea0f6fe1c",
   "metadata": {},
   "source": [
    "You can unpack multiple elements with the `*`-reference. You can do this because we look at a memory address. "
   ]
  },
  {
   "cell_type": "code",
   "execution_count": null,
   "id": "7fc517f5-5b0d-4b4b-a8b4-261beb058d7a",
   "metadata": {},
   "outputs": [],
   "source": [
    "a, b, *rest = range(5)\n",
    "a, b, rest"
   ]
  },
  {
   "cell_type": "code",
   "execution_count": null,
   "id": "e12f2818-fc61-4b7c-b212-3ea21e4b7da4",
   "metadata": {},
   "outputs": [],
   "source": [
    "rest"
   ]
  },
  {
   "cell_type": "markdown",
   "id": "62090a63-318b-4c48-9ee8-20a2b6127bae",
   "metadata": {},
   "source": [
    "You can use the `*`-reference in the beginning or the middle too, but you would need a bit of pattern matching or variable assignment."
   ]
  },
  {
   "cell_type": "code",
   "execution_count": null,
   "id": "400996b7-51e6-46e7-b8b7-63d31e4896af",
   "metadata": {},
   "outputs": [],
   "source": [
    "_, *body, _, _ = range(10)\n",
    "body"
   ]
  },
  {
   "cell_type": "code",
   "execution_count": null,
   "id": "b6a030f9-e381-4148-97c3-26f89589625a",
   "metadata": {},
   "outputs": [],
   "source": [
    "*head, _, _, _ = range(10)\n",
    "head"
   ]
  },
  {
   "cell_type": "code",
   "execution_count": null,
   "id": "1ed6b8b6-d7e6-4196-8459-3ea453542dd4",
   "metadata": {},
   "outputs": [],
   "source": [
    "tup = tuple(range(10))\n",
    "*head,b,c,d\n",
    "head"
   ]
  },
  {
   "cell_type": "code",
   "execution_count": null,
   "id": "36c5e6e6-ef60-4040-b0c7-412622d775cb",
   "metadata": {},
   "outputs": [],
   "source": [
    "head,b"
   ]
  },
  {
   "cell_type": "markdown",
   "id": "68771dc8-56d9-4c8e-bafa-4e16e790c98a",
   "metadata": {},
   "source": [
    "In a function call you can even use the `*`-reference multiple times.  "
   ]
  },
  {
   "cell_type": "code",
   "execution_count": null,
   "id": "b5ace1ec-c0c6-4d2f-8bbe-80703740ba47",
   "metadata": {},
   "outputs": [],
   "source": [
    "def func(a,b,c,d,*rest):\n",
    "    return a,b,c,d,rest\n",
    "\n",
    "func(1,2,3,*range(4,7))"
   ]
  },
  {
   "cell_type": "code",
   "execution_count": null,
   "id": "a151d416-f712-4b73-bd5e-79cb61061b4a",
   "metadata": {},
   "outputs": [],
   "source": [
    "func(*[1,2],3,*range(4,7))"
   ]
  },
  {
   "cell_type": "markdown",
   "id": "fe07bd07-bf04-4905-8858-3e4ca67b7cd0",
   "metadata": {},
   "source": [
    "You can use the `*`-reference to quickly create a collection, remember it is pointer to memory location. \n",
    "\n",
    "If create a collection we just fill that location, you will have to signal the last element in that memory location, the last element of your collection."
   ]
  },
  {
   "cell_type": "code",
   "execution_count": null,
   "id": "cd5de6a9-22ff-4395-92ea-a91dc2a6bc02",
   "metadata": {},
   "outputs": [],
   "source": [
    "immutable_list = *range(1,5),5\n",
    "immutable_list"
   ]
  },
  {
   "cell_type": "code",
   "execution_count": null,
   "id": "d0781b27-ef62-41ff-8a25-6821dd103103",
   "metadata": {},
   "outputs": [],
   "source": [
    "mutable_list = [*range(1,5),5]\n",
    "mutable_list"
   ]
  },
  {
   "cell_type": "markdown",
   "id": "cd77bf32-95fe-4eb0-98a7-23d65d9e4d52",
   "metadata": {},
   "source": [
    "A tuple is smaller in memory than a list, this because there needs to be no over allocation. A tuple won't grow in size."
   ]
  },
  {
   "cell_type": "code",
   "execution_count": null,
   "id": "a69c7292-27d2-4847-8912-62353e067805",
   "metadata": {},
   "outputs": [],
   "source": [
    "import sys\n",
    "\n",
    "f'the size of the tuple is {sys.getsizeof(immutable_list)} bytes, the size of the list is {sys.getsizeof(mutable_list)} bytes.'"
   ]
  },
  {
   "cell_type": "markdown",
   "id": "867b53ef-fa0c-4a76-891e-64506346a9fa",
   "metadata": {},
   "source": [
    "#### **List**\n",
    "The list datastructure is easy in use and very flexible. This explains why it the datastructure of choice for junior and medior Python developers. That choice is not a consequence of thought, but one of lack of thought. Not considering what data structure to use leads to easy avoidable mistakes, and inefficiencies in memory use, and speed. Don't get me wrong I have nothing against the list, it is very useful, but you must have reasons why you use a list.\n",
    "\n",
    "What I can do with a tuple I can do with a list (and more obviously)."
   ]
  },
  {
   "cell_type": "code",
   "execution_count": null,
   "id": "4ae051d0-4ebd-45fc-a8f6-a4909182bc79",
   "metadata": {},
   "outputs": [],
   "source": [
    "[lattitude, longitude] =  [52.370216, 4.895168]\n",
    "lattitude"
   ]
  },
  {
   "cell_type": "code",
   "execution_count": null,
   "id": "f3f47b2e-15d2-4c6e-9574-474e88b93287",
   "metadata": {},
   "outputs": [],
   "source": [
    "nl_info_list = list(nl_info)\n",
    "nl_info_list"
   ]
  },
  {
   "cell_type": "code",
   "execution_count": null,
   "id": "849be263-ef71-4009-b2c7-fba765a5aed3",
   "metadata": {},
   "outputs": [],
   "source": [
    "[name,_,_,population] = nl_info_list\n",
    "name,population"
   ]
  },
  {
   "cell_type": "markdown",
   "id": "bf549b0c-dfb2-44f6-b1fe-2ddc4bbaccde",
   "metadata": {},
   "source": [
    "list has a host of functions not defined for the immutable tuple."
   ]
  },
  {
   "cell_type": "code",
   "execution_count": null,
   "id": "90f8a757-047b-421d-be0a-aa1fe8d0d04e",
   "metadata": {},
   "outputs": [],
   "source": [
    "l1 = [*range(1,10),10]\n",
    "l1"
   ]
  },
  {
   "cell_type": "code",
   "execution_count": null,
   "id": "3c7f18a6-3fb5-4d40-8f53-713bf7fb20cc",
   "metadata": {},
   "outputs": [],
   "source": [
    "l1.append(11)\n",
    "l1"
   ]
  },
  {
   "cell_type": "code",
   "execution_count": null,
   "id": "c92b86c3-be8e-4e04-91ce-1e5dc06fad86",
   "metadata": {},
   "outputs": [],
   "source": [
    "l2 = l1\n",
    "l2"
   ]
  },
  {
   "cell_type": "code",
   "execution_count": null,
   "id": "f765de95-0ade-45b5-bf3e-c00be3e30828",
   "metadata": {},
   "outputs": [],
   "source": [
    "l2.pop()\n",
    "l2"
   ]
  },
  {
   "cell_type": "code",
   "execution_count": null,
   "id": "ad741de9-6539-4dd5-b15c-0ee1c55258e3",
   "metadata": {},
   "outputs": [],
   "source": [
    "l1"
   ]
  },
  {
   "cell_type": "markdown",
   "id": "2db01fa1-6d4f-4ab0-a816-7deda2979c2f",
   "metadata": {},
   "source": [
    "#### **Aliasing in lists**\n",
    "I have accidentally changed `l1`, to quote Marvin Gaye: 'What's going on'. By writing assigning `l2 = l1` I have created an alias. Both `l1` and `l2` share the same memory location, as a cause of this `l1` changes when `l2` changes. I have written a notebook on programming concepts where I expound on this, for now it is enough to know that you shouldn't use assignment `=` but the `copy()` method of a list.\n",
    "\n",
    "Unfortunately, this will make only a shallow copy. If you have a storable like a list as an element of your list, you need to use `deepcopy()` again the reasons for this are explained in some detail in the programming concepts notebook."
   ]
  },
  {
   "cell_type": "code",
   "execution_count": null,
   "id": "531f5033-ff9a-48cf-b46a-4dfe58e0f302",
   "metadata": {},
   "outputs": [],
   "source": [
    "l2=l1.copy()\n",
    "l2"
   ]
  },
  {
   "cell_type": "code",
   "execution_count": null,
   "id": "a5b2fc5f-d489-427b-9012-77ee22e2acad",
   "metadata": {},
   "outputs": [],
   "source": [
    "l2.append(666)\n",
    "l2"
   ]
  },
  {
   "cell_type": "markdown",
   "id": "5f213174-ef4e-44a9-8873-7a24239771eb",
   "metadata": {},
   "source": [
    "Now `l1` and `l2` are different objects, with a different location in memory."
   ]
  },
  {
   "cell_type": "code",
   "execution_count": null,
   "id": "c4b259eb-3071-4713-8df5-365fb039a0d5",
   "metadata": {},
   "outputs": [],
   "source": [
    "l1 "
   ]
  },
  {
   "cell_type": "code",
   "execution_count": null,
   "id": "39011829-0bb6-4ce9-9e55-b21b3d168261",
   "metadata": {},
   "outputs": [],
   "source": [
    "l2.pop()\n",
    "l2==l1"
   ]
  },
  {
   "cell_type": "markdown",
   "id": "2a8453a5-57c1-43aa-8360-f81bf43c5e2c",
   "metadata": {},
   "source": [
    "If you want to know if different objects are alliasses (share their location in memory) you need to use the `is`-operator."
   ]
  },
  {
   "cell_type": "code",
   "execution_count": null,
   "id": "5ce4669c-e978-407e-aa9d-3822b3077c0d",
   "metadata": {},
   "outputs": [],
   "source": [
    "l2 is l1"
   ]
  },
  {
   "cell_type": "markdown",
   "id": "ce8d06af-9ba7-4ef6-add7-0ee9168ee515",
   "metadata": {},
   "source": [
    "list isn't just a subclass of sequence but also of reversible."
   ]
  },
  {
   "cell_type": "code",
   "execution_count": null,
   "id": "3c474b07-6252-4b05-b459-c1d6017bf08b",
   "metadata": {},
   "outputs": [],
   "source": [
    "l2.reverse()\n",
    "l2"
   ]
  },
  {
   "cell_type": "code",
   "execution_count": null,
   "id": "42c6db2a-bca8-4ee3-b5a8-f019e7ee4bd9",
   "metadata": {},
   "outputs": [],
   "source": [
    "s = set(n for n in range(1,11))\n",
    "s"
   ]
  },
  {
   "cell_type": "markdown",
   "id": "e133caf9-1137-4c60-8559-b12fa4be32d1",
   "metadata": {},
   "source": [
    "Do you think set is a subclass of reversible too? "
   ]
  },
  {
   "cell_type": "code",
   "execution_count": null,
   "id": "50e40c1d-9ef5-43fc-b685-8e5a76ef0edc",
   "metadata": {},
   "outputs": [],
   "source": [
    "s.reverse()"
   ]
  },
  {
   "cell_type": "markdown",
   "id": "ed516bbd-ee56-48cf-ac3b-00d194e11bdc",
   "metadata": {},
   "source": [
    "If this answer surprises you consider if reversability make sense given the definition of a set?\n",
    "\n",
    "Is tuple reversable?"
   ]
  },
  {
   "cell_type": "code",
   "execution_count": null,
   "id": "ca328e4e-f937-4ee9-8f4c-b05b5e677e71",
   "metadata": {},
   "outputs": [],
   "source": [
    "t = tuple(n for n in range(1,11))\n",
    "t"
   ]
  },
  {
   "cell_type": "code",
   "execution_count": null,
   "id": "5a68ea21-fbf3-4ed8-b357-44170987d658",
   "metadata": {},
   "outputs": [],
   "source": [
    "t.reverse()"
   ]
  },
  {
   "cell_type": "markdown",
   "id": "fcb8ea83-03a7-4d2a-a26c-b7621a10f3c6",
   "metadata": {},
   "source": [
    "Of course not, reversing the order is mutating the tuple tuples are immutable.\n",
    "\n",
    "List is popular exactly because we can mutate it, reverse it, and sort it. The very same reasons that list is such a popular data structure are also the cause why you should not trust lists. Lists are major causes of faults in Python.\n"
   ]
  },
  {
   "cell_type": "markdown",
   "id": "715fbac7-e516-4950-bbb2-2304849208ce",
   "metadata": {},
   "source": [
    "#### **sort versus sorted**\n",
    "Python knows two sorting methods/functions that differ in detail:\n",
    "\n",
    " 1. The function `sorted` creates a new list that it fills with the sorted elements of the old list, it returns the new list. Usually this is what you want to use, as the old list is being kept.\n",
    " 2. The method `sort()` sorts in-place meaning that it doesn't return a list it returns `None` and that the original list is gone for ever.\n",
    " \n",
    "The function `sorted` takes any iterable as input and returns a list. You can therefore use a tuple or set as argument."
   ]
  },
  {
   "cell_type": "code",
   "execution_count": null,
   "id": "4018011c-172a-456e-8fd0-3ab8f607596e",
   "metadata": {},
   "outputs": [],
   "source": [
    "l4 = [5,3,7,2,1,10,9,8,4]\n",
    "sorted(l4)"
   ]
  },
  {
   "cell_type": "code",
   "execution_count": null,
   "id": "964ef6f6-b0c4-4411-8a3b-e141a3e4cfda",
   "metadata": {},
   "outputs": [],
   "source": [
    "l4"
   ]
  },
  {
   "cell_type": "code",
   "execution_count": null,
   "id": "cc41fcc5-b29e-414e-bb8a-300db9484db9",
   "metadata": {},
   "outputs": [],
   "source": [
    "t4 = tuple(n for n in l4)\n",
    "t4"
   ]
  },
  {
   "cell_type": "code",
   "execution_count": null,
   "id": "7b401b45-ab9a-4577-9a34-b09de3f3f4fd",
   "metadata": {},
   "outputs": [],
   "source": [
    "sorted(t4)"
   ]
  },
  {
   "cell_type": "markdown",
   "id": "dbcb4e9d-785b-4c4a-9aaf-ae68b76d8ce8",
   "metadata": {},
   "source": [
    "It is important to remeber that if I use the function `sorted`, a list is returned even if the input is a tuple."
   ]
  },
  {
   "cell_type": "code",
   "execution_count": null,
   "id": "2677a405-9d04-45b6-8cbe-988034ea79a7",
   "metadata": {},
   "outputs": [],
   "source": [
    "t4 "
   ]
  },
  {
   "cell_type": "markdown",
   "id": "0629f108-5ded-4596-bce4-95a7e14c9def",
   "metadata": {},
   "source": [
    "#### **Sort**\n",
    "sort is a method of the list API. `list.sort` sorts in place, meaning no new list is created, the list that you sort on has changed irreversibly. One reason to use `sort()` is that it is slightly more efficient in use.\n",
    "\n",
    "Not all iterables (things you can iterate over) have implemented their own `sort()`, set and tuple have not. You can implement sort on the iterable you've created yourself though. See the StructuredProgramming notebook on how to create your own iterables."
   ]
  },
  {
   "cell_type": "code",
   "execution_count": null,
   "id": "c90de18b-1b9a-4048-96cc-16e5045672d8",
   "metadata": {},
   "outputs": [],
   "source": [
    "l4"
   ]
  },
  {
   "cell_type": "code",
   "execution_count": null,
   "id": "dbb2d3e4-1a51-4ad0-8578-a592c1f80b47",
   "metadata": {},
   "outputs": [],
   "source": [
    "l4.sort() # l4 has changed for ever\n",
    "l4 "
   ]
  },
  {
   "cell_type": "markdown",
   "id": "fc542176-a559-481c-ba3a-bfef6de34ed6",
   "metadata": {},
   "source": [
    "Sorting is an important subject see https://docs.python.org/3/howto/sorting.html for more on sorting."
   ]
  },
  {
   "cell_type": "markdown",
   "id": "7a005090-cc75-4aa7-a5c5-e2ff9b70ee9b",
   "metadata": {},
   "source": [
    "List comprehension can be used to filter and map (not reduce), they are very apt at creating cartesion products, but also for creating list of lists. Say you want to program tic-tac-toe."
   ]
  },
  {
   "cell_type": "code",
   "execution_count": null,
   "id": "6023df27-f296-4d1d-a0d5-0a501951e58c",
   "metadata": {},
   "outputs": [],
   "source": [
    "bord = [['-'] *3 for i in range(3)]\n",
    "bord"
   ]
  },
  {
   "cell_type": "code",
   "execution_count": null,
   "id": "45125522-3b16-4237-ba5a-6fbcfa534047",
   "metadata": {},
   "outputs": [],
   "source": [
    "bord[1][1] = 'X'\n",
    "bord"
   ]
  },
  {
   "cell_type": "code",
   "execution_count": null,
   "id": "5e213b2a-1974-48ae-9474-2ad2fbd27b0e",
   "metadata": {},
   "outputs": [],
   "source": [
    "bord[0][1] = 'O'\n",
    "bord"
   ]
  },
  {
   "cell_type": "markdown",
   "id": "d43acad7-1fa7-430c-967e-236b02821331",
   "metadata": {},
   "source": [
    "However, if you want to do serious operations on your list of lists a.k.a matrices, I suggest you use SymPy or NumPy"
   ]
  },
  {
   "cell_type": "code",
   "execution_count": null,
   "id": "c5978a8e-9ad8-4c2d-b9f0-38112f41e6b7",
   "metadata": {},
   "outputs": [],
   "source": [
    "from sympy import * #pip install sympy\n",
    "\n",
    "A = Matrix([[1,2],\n",
    "            [3,4]])\n",
    "A"
   ]
  },
  {
   "cell_type": "code",
   "execution_count": null,
   "id": "b8fbd2ff-02c2-4d21-8ec4-8f2cb624b795",
   "metadata": {},
   "outputs": [],
   "source": [
    "A.T"
   ]
  },
  {
   "cell_type": "markdown",
   "id": "d2551efb-8016-443e-89dd-2ae1822b5cec",
   "metadata": {},
   "source": [
    "#### **Array** \n",
    "*\"A list is the most common iterable and most similar to arrays in C\"*  https://pythongeeks.org/iterables-in-python/.\n",
    "\n",
    "What the quote says is painfully wrong, Python lists are nothing like C arrays and is the most common iterable in Python for it has all the flexibility a C array lacks. There is a  lesson to learn; Where you get your information from, can you trust that source. The internet is filled with sources of information. They are attractive, for most times free. Unfortunately, there are many mistakes on those websites, and sometimes even outright nonsense as the above quote.\n",
    "\n",
    "If you have questions about Python, use the Python doc as your first choice of information. Books are good, a computer scientist usually writes them. Not a user of a programming languages, that often know a lot of the features of a language, but often lack the deep theoretical understanding of the concepts of programming languages. Furthermore, books and Python doc are rigorously edited, mistakes will be removed. Many free websites lack that rigour. (Python doc has rigour).\n",
    "\n",
    "A C array like a Python array (Python actually use the CPython array, which is the C array) follows closely the von Neumann Architecture (https://en.wikipedia.org/wiki/Von_Neumann_architecture). An array wants an adjacent block of memory. That's why you have to specify the length of your array (implicit this is Python after all). You also have to specify the type of the elements your array will be using. Finally, you can only use primitive types like integers or float, no composite types as lists.\n",
    "\n",
    "If you want to know, the Python list looks like a C linked-list, but then again all lists in imperative languages do (Haskell's list does not, it is a recursive data structure).\n"
   ]
  },
  {
   "cell_type": "code",
   "execution_count": null,
   "id": "1a194695-7c6d-4abb-a9aa-a18f3e617532",
   "metadata": {},
   "outputs": [],
   "source": [
    "from array import array\n",
    "\n",
    "a = array('i', [1,2,3,4,5]) # i == int and length comes from your second argument\n",
    "a"
   ]
  },
  {
   "cell_type": "markdown",
   "id": "8b6b4820-0de5-4475-a051-846b689daca4",
   "metadata": {},
   "source": [
    "Arrays are fast and efficient because of the manner in which they are ported on physical memory."
   ]
  },
  {
   "cell_type": "code",
   "execution_count": null,
   "id": "0eacab94-a5e7-49f5-8060-2bb361751885",
   "metadata": {},
   "outputs": [],
   "source": [
    "len(a)"
   ]
  },
  {
   "cell_type": "code",
   "execution_count": null,
   "id": "8cbd2d1b-62b9-42c6-83e9-388cc0cc7d4f",
   "metadata": {},
   "outputs": [],
   "source": [
    "a.append(6)\n",
    "a"
   ]
  },
  {
   "cell_type": "code",
   "execution_count": null,
   "id": "01d122c2-7cf6-462a-9a06-93d81b8622e7",
   "metadata": {},
   "outputs": [],
   "source": [
    "a.pop()\n",
    "a"
   ]
  },
  {
   "cell_type": "code",
   "execution_count": null,
   "id": "bd771278-da41-4dce-8200-d5989b87ee91",
   "metadata": {},
   "outputs": [],
   "source": [
    "a[2]"
   ]
  },
  {
   "cell_type": "code",
   "execution_count": null,
   "id": "60827bbd-99ba-4e81-86bb-90a74df71502",
   "metadata": {},
   "outputs": [],
   "source": [
    "a.index(3)"
   ]
  },
  {
   "cell_type": "markdown",
   "id": "3d419f54-7604-4cd2-9a65-e74a400e9d95",
   "metadata": {},
   "source": [
    "So why not always use array? \n",
    "\n",
    "Well because they are inflexible and wieldy in use. For instance, you cannot have multiple types in array, in fact you can only have numeric types see https://docs.python.org/3/library/stdtypes.html. You can't endlessly expand arrays without losing the benefit of adjacent memory blocks. When you create an array of say five elements, the compiler assigns a free block of memory that is bigger than you asked for, say enough to house 10 elements. This to allow for some flexibility. However, after the 11th element is added the compiler will either have to assign a new memory block to the array with all elements or add another not adjacent memory block. The former is expensive the latter loses you the advantage of adjacent memory.\n",
    "\n",
    "So, when to use an array? Use it if you have a large number (and I mean large at least a few million) of numeric values you want to do operations on, then you can really make use of the speed an array has to offer.\n"
   ]
  },
  {
   "cell_type": "markdown",
   "id": "ab2b6597-6dd1-4c5f-8de5-77a4980b449e",
   "metadata": {},
   "source": [
    "#### **NumPy & SymPy**\n",
    "If you need to work with large numbers of numerical values  or do actual math you should really be working with the Numeric Python library NumPy or the Symbolic Python library (for all your algebra) SymPy.\n",
    "\n",
    "Both have amazingly fast arrays, which are encoded close to the hardware layer and will give a C array a run for its money on speed.\n",
    "\n",
    "See https://numpy.org/doc/stable/reference/generated/numpy.array.html and/or #### https://docs.sympy.org/latest/index.html.\n"
   ]
  },
  {
   "cell_type": "code",
   "execution_count": null,
   "id": "dddad7f5-1c09-4b7a-85ba-90ec1a635cb0",
   "metadata": {},
   "outputs": [],
   "source": [
    "import numpy as np #pip install numpy\n",
    "\n",
    "a1 = np.array([1,2,3,4,5])\n",
    "a1\n",
    "\n"
   ]
  },
  {
   "cell_type": "markdown",
   "id": "283f9f37-b31a-4b4e-8ca1-214820ff0d83",
   "metadata": {},
   "source": [
    "With numpy arrays you can work with complex numbers."
   ]
  },
  {
   "cell_type": "code",
   "execution_count": null,
   "id": "7b09ab42-6e90-49cf-8b49-a0b7fda68d96",
   "metadata": {},
   "outputs": [],
   "source": [
    "a2 = np.array([1,2,3], dtype=complex)\n",
    "a2"
   ]
  },
  {
   "cell_type": "markdown",
   "id": "33053cbc-b3e6-44bf-9673-6d824841aff4",
   "metadata": {},
   "source": [
    "Sympy is symbolic, meaning that SymPy allows you to work with mathematical variables (which have no assignment of course)."
   ]
  },
  {
   "cell_type": "code",
   "execution_count": null,
   "id": "77bb8d4b-64da-4383-8073-052ea9675c56",
   "metadata": {},
   "outputs": [],
   "source": [
    "from sympy import Array\n",
    "\n",
    "a3 = Array([1,2,3,4,5])\n",
    "a3"
   ]
  },
  {
   "cell_type": "code",
   "execution_count": null,
   "id": "cc02c6be-8c08-4ae2-b94e-8760824e69ce",
   "metadata": {},
   "outputs": [],
   "source": [
    "from sympy.abc import x,y,z\n",
    "\n",
    "a4 = Array([x**3, x*y, z])\n",
    "a4"
   ]
  },
  {
   "cell_type": "code",
   "execution_count": null,
   "id": "179b1699-4c9a-4e9a-a15e-bc93ba90a978",
   "metadata": {},
   "outputs": [],
   "source": [
    "a4.diff(x)"
   ]
  },
  {
   "cell_type": "markdown",
   "id": "e0b3d375-1998-451a-9827-ae62559ed3b3",
   "metadata": {},
   "source": [
    "#### **Dictionaries**\n",
    "The last of the easy datastructures, one that Python uses a lot internally, is the dictionary. Dictionaries are collections of key/value mappings. Dictionary is then also not a subclass of sequence but of mapping.\n",
    "\n",
    "A dictionary (usually shortened to dict)  has the following structure { key : value }. Dictionaries can easily be created by generators. "
   ]
  },
  {
   "cell_type": "code",
   "execution_count": null,
   "id": "dbd91f18-12b7-47e0-b5c2-0a49c6b7c46d",
   "metadata": {},
   "outputs": [],
   "source": [
    "d1 = { k:v for (k,v) in [(1,'a'),(2,'b'),(3,'c')]}\n",
    "d1"
   ]
  },
  {
   "cell_type": "markdown",
   "id": "cea1b081-5f21-4af0-89a7-7df6a0b605a0",
   "metadata": {},
   "source": [
    "Be a bit careful how you use a generator to create dicts they might contain a somewhat surprising result."
   ]
  },
  {
   "cell_type": "code",
   "execution_count": null,
   "id": "9db009ca-cf02-4ac1-9755-19ab5f526473",
   "metadata": {},
   "outputs": [],
   "source": [
    "d2 = { key:value for key in range(1,11) for value in range(100,110)}\n",
    "d2"
   ]
  },
  {
   "cell_type": "code",
   "execution_count": null,
   "id": "8903b620-9af2-4d81-a381-60a7e1a4721e",
   "metadata": {},
   "outputs": [],
   "source": [
    "d2 = { key : value for (key,value) in zip([n for n in range(1,11)],[m for m in range(100,110)])} \n",
    "d2"
   ]
  },
  {
   "cell_type": "markdown",
   "id": "eaf61c37-a9dc-4831-9fd1-03f7c8459278",
   "metadata": {},
   "source": [
    "#### **Zip** \n",
    "A zip is also a collection, meaning it a subclass is of the collection interface. Like all the other data structures I have talked about. The function `zip()` takes two iterables and returns a tuple, `zip()` stops as one of the iterators reaches its end. \n",
    "\n",
    "`zip` is your best friend when creating dicts, see https://docs.python.org/3/library/functions.html#zip."
   ]
  },
  {
   "cell_type": "markdown",
   "id": "556d75ca-872c-411f-8e15-0e6daf00b989",
   "metadata": {},
   "source": [
    "You can use generators to iterate over dicts. "
   ]
  },
  {
   "cell_type": "code",
   "execution_count": null,
   "id": "4fbce719-1a4a-49fe-9e52-1a83a7db536f",
   "metadata": {},
   "outputs": [],
   "source": [
    "songs = ['movin on up', 'slip inside this house', 'don`t fight it, feel it', 'higher than the sun', 'inner fligt', 'Come together', 'loaded', 'damaged', 'i`m coming down', 'higher than the sun dub', 'shine like stars'] \n",
    "screamadelica = { key:value for (key,value) in zip([n for n in range(1,len(songs)+1)],songs) }\n",
    "screamadelica"
   ]
  },
  {
   "cell_type": "code",
   "execution_count": null,
   "id": "df09bcd4-f5ad-4708-b0ec-227af4a16154",
   "metadata": {},
   "outputs": [],
   "source": [
    "{song for song in screamadelica.values() } "
   ]
  },
  {
   "cell_type": "markdown",
   "id": "b6c0cb7c-54dd-435e-8cca-4970a282f614",
   "metadata": {},
   "source": [
    "\n",
    "Python knows a function to create dictionaries `dict()` it either takes an interable with tuples, or it could also take a mapping, for instance a key/argument assignment."
   ]
  },
  {
   "cell_type": "code",
   "execution_count": null,
   "id": "4f14eb7b-7235-4e16-9072-e634b1f2b4ff",
   "metadata": {},
   "outputs": [],
   "source": [
    "d4 = dict([('George','is a rhino!'),('Croc','is peckish!'),('Ente','Hallo Mädchen!'),('Rhino', 'Purple would look lovely on you')])\n",
    "d4"
   ]
  },
  {
   "cell_type": "code",
   "execution_count": null,
   "id": "88f45a72-a4c7-475f-a13b-b3d03a329b54",
   "metadata": {},
   "outputs": [],
   "source": [
    "d4['George'] "
   ]
  },
  {
   "cell_type": "code",
   "execution_count": null,
   "id": "254895aa-542f-4dc0-a925-13bc4ca5e5f7",
   "metadata": {},
   "outputs": [],
   "source": [
    "d5 = dict(George='is a rhino!',Croc='is peckish!',Ente='Hallo Mädchen!',Rhino='the Pino')\n",
    "d5"
   ]
  },
  {
   "cell_type": "code",
   "execution_count": null,
   "id": "c654c0b9-659c-4e75-acf4-430e22c3debb",
   "metadata": {},
   "outputs": [],
   "source": [
    "d5['Croc'] "
   ]
  },
  {
   "cell_type": "code",
   "execution_count": null,
   "id": "0c197f17-6241-4b56-9001-46d2328e1711",
   "metadata": {},
   "outputs": [],
   "source": [
    "d5['Ente']"
   ]
  },
  {
   "cell_type": "code",
   "execution_count": null,
   "id": "b77feded-2a17-437b-ba1f-210667223e05",
   "metadata": {},
   "outputs": [],
   "source": [
    "class Example:\n",
    "    \n",
    "    def __init__(self):\n",
    "        self.num = 10\n",
    "        self.txt = 'Example class'"
   ]
  },
  {
   "cell_type": "markdown",
   "id": "2233bbb9-51b6-44ce-863a-97b5b619db3f",
   "metadata": {},
   "source": [
    "Python uses dictionaries to store namespaces of modules, global programs and objects. \n",
    "\n",
    "Below is an example of an objects instance attribute dictionary"
   ]
  },
  {
   "cell_type": "code",
   "execution_count": null,
   "id": "3c6c3377-fb98-4c78-a92f-81c273530f06",
   "metadata": {},
   "outputs": [],
   "source": [
    "example = Example()\n",
    "example.__dict__"
   ]
  },
  {
   "cell_type": "markdown",
   "id": "290bbaad-2827-490e-88aa-b55d855f03ca",
   "metadata": {},
   "source": [
    "#### **LIFO & FIFO**\n",
    "There are many more datastructures in existance from simpele ones like a stack and queue to more complicated ones like heaps and splay trees. However, any Python programmer needs to be comfortable using the five in this notebook, it will make you a lot better programmer!\n",
    "\n",
    "Once you know these data structures, you can build on this knowledge and create specialist datastructures for instance a stack and a queue."
   ]
  },
  {
   "cell_type": "code",
   "execution_count": null,
   "id": "336d63a9-fc61-49d4-ae46-b3f8450958bc",
   "metadata": {},
   "outputs": [],
   "source": [
    "from dataclasses import dataclass, field\n",
    "from typing import Any\n",
    "\n",
    "\n",
    "@dataclass\n",
    "class Stack: # a simple last in first out (LIFO) stack think a stack of plates \n",
    "    stack:list[Any] = field(default_factory = list)\n",
    "    \n",
    "    def append(self, value):\n",
    "        self.stack.insert(0,value)\n",
    "        \n",
    "    def pop(self):\n",
    "        try:\n",
    "            return self.stack.pop(0)\n",
    "        except IndexError:\n",
    "            return 'trying to pop an empty stack'\n",
    "\n",
    "    def __len__(self):\n",
    "        return len(self.stack)\n",
    "    \n",
    "    def stack_print(self):\n",
    "        for item in self.stack:\n",
    "            print(item)\n",
    "        "
   ]
  },
  {
   "cell_type": "code",
   "execution_count": null,
   "id": "1a04a15d-cb07-4430-93db-70992eddb050",
   "metadata": {},
   "outputs": [],
   "source": [
    "stack = Stack()\n",
    "stack.stack_print()"
   ]
  },
  {
   "cell_type": "code",
   "execution_count": null,
   "id": "d56d9d69-838d-41aa-af52-25a955bc2913",
   "metadata": {},
   "outputs": [],
   "source": [
    "stack.append(1)"
   ]
  },
  {
   "cell_type": "code",
   "execution_count": null,
   "id": "c3d9c92c-1a9f-40f5-9990-a8bcaf0c5488",
   "metadata": {},
   "outputs": [],
   "source": [
    "stack.append(2)"
   ]
  },
  {
   "cell_type": "code",
   "execution_count": null,
   "id": "253b770c-1b79-4312-8c1d-34a6395482e0",
   "metadata": {},
   "outputs": [],
   "source": [
    "stack.stack_print()"
   ]
  },
  {
   "cell_type": "code",
   "execution_count": null,
   "id": "bb6a890f-02b9-444f-b3c1-8f15f2777462",
   "metadata": {},
   "outputs": [],
   "source": [
    "stack.append(3)"
   ]
  },
  {
   "cell_type": "code",
   "execution_count": null,
   "id": "fee6697b-451d-41fd-9b55-a085fea0873c",
   "metadata": {},
   "outputs": [],
   "source": [
    "stack.stack_print()"
   ]
  },
  {
   "cell_type": "code",
   "execution_count": null,
   "id": "fa8e943d-6b40-48e8-803d-fff8aa2eb12e",
   "metadata": {},
   "outputs": [],
   "source": [
    "stack.pop()"
   ]
  },
  {
   "cell_type": "code",
   "execution_count": null,
   "id": "b6721abb-f2c6-43db-8a46-034ca3ca6f66",
   "metadata": {},
   "outputs": [],
   "source": [
    "stack.stack_print()"
   ]
  },
  {
   "cell_type": "code",
   "execution_count": null,
   "id": "e9cf3fd7-1f81-46c6-a62d-bbb4a6f55f0f",
   "metadata": {},
   "outputs": [],
   "source": [
    "stack.pop()\n",
    "stack.stack_print()"
   ]
  },
  {
   "cell_type": "code",
   "execution_count": null,
   "id": "176abe7a-54d3-450e-a2d5-e0e9a4013da2",
   "metadata": {},
   "outputs": [],
   "source": [
    "stack.pop()\n",
    "stack.stack_print()"
   ]
  },
  {
   "cell_type": "code",
   "execution_count": null,
   "id": "7d4b283b-37da-4e4d-9493-9c6b849ea790",
   "metadata": {},
   "outputs": [],
   "source": [
    "from dataclasses import dataclass, field\n",
    "\n",
    "@dataclass\n",
    "class Queue: # a simple first in first out (FIFO) queue (think telephone waiting queue)\n",
    "    queue:list=field(default_factory=list)    \n",
    "    \n",
    "    def append(self,x):\n",
    "        self.queue.append(x)\n",
    "    \n",
    "    def pop(self):\n",
    "        if len(self.queue) != 0:\n",
    "            self.queue.pop(0)\n",
    "    \n",
    "    def __len__(self):\n",
    "        return len(self.queue)\n",
    "    \n",
    "    def queue_print(self):\n",
    "        if len(self.queue) != 0:\n",
    "            for item in self.queue:\n",
    "                print(item)\n",
    "        else:\n",
    "            print('The waiting is finally over')\n",
    "        "
   ]
  },
  {
   "cell_type": "code",
   "execution_count": null,
   "id": "fe6c824b-b72b-4671-a72b-289b528088ea",
   "metadata": {},
   "outputs": [],
   "source": [
    "q = Queue()\n",
    "q.append(1)\n",
    "q.append(2)\n",
    "q.append(3)\n",
    "q.queue_print()\n"
   ]
  },
  {
   "cell_type": "code",
   "execution_count": null,
   "id": "87094cd4-2d2b-4f43-bff0-88add57c78d1",
   "metadata": {},
   "outputs": [],
   "source": [
    "q.pop()\n",
    "q.queue_print()"
   ]
  },
  {
   "cell_type": "markdown",
   "id": "9af5aba2-33d1-4521-b7f7-6754d5d2132f",
   "metadata": {},
   "source": [
    "\n",
    "As you can see the difference between a stack and a queue is who gets out first. You can build upon a structure like this. You could for instance add a tuple with a number and a time stamp to your queue and tell people what number they are in the queue and how long they have been waiting."
   ]
  },
  {
   "attachments": {
    "22d6b235-eef2-4e41-98a2-5d12dd9db345.png": {
     "image/png": "[encoded data removed]"
    }
   },
   "cell_type": "markdown",
   "id": "affcd4b6-db63-46d1-b340-59c06ed5d9e4",
   "metadata": {},
   "source": [
    "#### **Containers**\n",
    "As you hopefully realized by now these five datastructures are all containers. They store things. In general datastructures are storables, most are also iterable (in the sense that to be next has a meaning) and they have a size.\n",
    "\n",
    "The Collection API is than also a a subclass of Iterable, Sized and Container classes. (Python does multiple inheritance). The Collection API looks like:\n",
    "\n",
    "![image.png](attachment:22d6b235-eef2-4e41-98a2-5d12dd9db345.png)"
   ]
  },
  {
   "cell_type": "code",
   "execution_count": null,
   "id": "8c95c75f-3118-43cb-8e89-fd6ebc85007f",
   "metadata": {},
   "outputs": [],
   "source": []
  }
 ],
 "metadata": {
  "kernelspec": {
   "display_name": "Python 3 (ipykernel)",
   "language": "python",
   "name": "python3"
  },
  "language_info": {
   "codemirror_mode": {
    "name": "ipython",
    "version": 3
   },
   "file_extension": ".py",
   "mimetype": "text/x-python",
   "name": "python",
   "nbconvert_exporter": "python",
   "pygments_lexer": "ipython3",
   "version": "3.11.1"
  }
 },
 "nbformat": 4,
 "nbformat_minor": 5
}
