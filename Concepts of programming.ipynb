{
 "cells": [
  {
   "cell_type": "markdown",
   "id": "fe5962b3-1628-4915-8bc6-af8bf21b6d48",
   "metadata": {},
   "source": [
    "## **Concepts of programming**\n",
    "---\n",
    "If you want to be a better programmer, it is important to understand certain concepts of programming languages. Of course, I will focus on Python, but just to make a point some Haskell could pop up as comparison. I am going to keep this pretty terse as it might be a tad boring.\n",
    "Many a programmer has a less than solid idea of what is a variable. They confuse the concepts value, binding, and variable. One of those misapprehensions is that `identifier` in the following code is a variable.\n"
   ]
  },
  {
   "cell_type": "code",
   "execution_count": 1,
   "id": "8f658dc3-36a9-42be-a306-5bca16ad049f",
   "metadata": {},
   "outputs": [
    {
     "data": {
      "text/plain": [
       "[1, 2, 3, 4, 5, 6, 7, 8, 9, 10]"
      ]
     },
     "execution_count": 1,
     "metadata": {},
     "output_type": "execute_result"
    }
   ],
   "source": [
    "identifier = [n for n in range(1,11)]\n",
    "identifier"
   ]
  },
  {
   "cell_type": "markdown",
   "id": "a2e1569d-5f70-425b-9543-c09582eb5e1f",
   "metadata": {},
   "source": [
    "#### **Formal definitions**\n",
    "\n",
    "`identifier` is an identifier, it binds a human readable name (hopefully a bit more meaningful than this one) to the variable. \n",
    "\n",
    "The list on the right side of the allocation is also not the variable, it is the value. But what then is the variable? A variable in Python is a container for the value. The container is a location in memory, where the value is stored, which can be inspected at will by using the binding. In languages like Python the value in the container can be changed via assignment.\n",
    "\n",
    "This leads us to the following formal definitions:\n",
    "\n",
    " * Variable; a variable is a container; the container is a memory cell (or multiple) with an address. the container contains a value.\n",
    " * Value; a value is an entity that can be manipulated by a program. Values can be evaluated, stored, passed as arguments, returned as function results. Python supports primitive values like int, float, bool, and it supports composed values like array and objects. \n",
    " * Binding; a binding is made up of an identifier that is bound to a bindable entity. In Python these bindables are values, attributes, methods, objects, packages etc. \n",
    " * Identifier; a human readable name that is used as part of a binding. You call a bindable via the identifier.\n"
   ]
  },
  {
   "cell_type": "code",
   "execution_count": 13,
   "id": "8cec81a1-4a3f-4e68-959a-d79daed8056c",
   "metadata": {},
   "outputs": [
    {
     "name": "stdout",
     "output_type": "stream",
     "text": [
      "The value of x(4) = 6\n"
     ]
    }
   ],
   "source": [
    "def plus2(n:int)->int:\n",
    "    return n + 2\n",
    "\n",
    "x = plus2 # x gets bound to the function plus2 \n",
    "\n",
    "print(f'The value of x(4) = {x(4)}')"
   ]
  },
  {
   "cell_type": "markdown",
   "id": "c40b6e7b-5874-4d64-a7c0-157ee5fac812",
   "metadata": {},
   "source": [
    "Let me prove that my definition of a variable is correct."
   ]
  },
  {
   "cell_type": "code",
   "execution_count": 8,
   "id": "8d9dcb44-84a9-4907-a3d0-fb913f4ced72",
   "metadata": {},
   "outputs": [
    {
     "data": {
      "text/plain": [
       "[1, 2, 3, 4, 5, 6, 7, 8, 9, 10]"
      ]
     },
     "execution_count": 8,
     "metadata": {},
     "output_type": "execute_result"
    }
   ],
   "source": [
    "one = [n for n in range(1,11)]\n",
    "one"
   ]
  },
  {
   "cell_type": "code",
   "execution_count": 9,
   "id": "7b672397-79e8-4a95-a49f-306c1434d740",
   "metadata": {},
   "outputs": [
    {
     "data": {
      "text/plain": [
       "[1, 2, 3, 4, 5, 6, 7, 8, 9, 10]"
      ]
     },
     "execution_count": 9,
     "metadata": {},
     "output_type": "execute_result"
    }
   ],
   "source": [
    "two = one \n",
    "two"
   ]
  },
  {
   "cell_type": "code",
   "execution_count": 10,
   "id": "4d31f0ee-1c1f-4d51-a234-59b6c473b3b9",
   "metadata": {},
   "outputs": [
    {
     "data": {
      "text/plain": [
       "[1, 2, 3, 4, 5, 6, 7, 8, 9, 10, 11]"
      ]
     },
     "execution_count": 10,
     "metadata": {},
     "output_type": "execute_result"
    }
   ],
   "source": [
    "two.append(11)\n",
    "two"
   ]
  },
  {
   "cell_type": "markdown",
   "id": "8a007be6-aef4-4e3f-90fc-210b00b8706b",
   "metadata": {},
   "source": [
    "\n",
    "What will be the value of `one`? If I am incorrect then the variable is actually `one = [1, 2, 3, 4, 5, 6, 7, 8, 9, 10]`. Nothing should have happened after all I didn't change anything to `one`. However, if I am correct and a variable is container (memory cell) that holds a value and that can be accessed by an identifier then `two` identifies the same memory cell and has access to the value stored therein, and by changing that value I did change it for `one`."
   ]
  },
  {
   "cell_type": "code",
   "execution_count": 14,
   "id": "64aecd31-c095-4a63-b6b9-ea0a95954c6d",
   "metadata": {},
   "outputs": [
    {
     "data": {
      "text/plain": [
       "[1, 2, 3, 4, 5, 6, 7, 8, 9, 10, 11]"
      ]
     },
     "execution_count": 14,
     "metadata": {},
     "output_type": "execute_result"
    }
   ],
   "source": [
    "one"
   ]
  },
  {
   "cell_type": "markdown",
   "id": "9bd27585-24b6-4a55-8ce6-110bebb84740",
   "metadata": {},
   "source": [
    "#### **More on variables**\n",
    " * Mathematical variables; there are more variables in programming languages, pure functional languages as Haskell, do not have variables as containers, they have mathematical variables, meaning a set but unknown value e.g., x in $x^2+2x$. \n",
    " * We can also distinguish between a primitive variable, those that are contained in one memory cell, and compound variable, those that are contained in multiple memory cells.\n",
    "\n",
    "As side note when I talk about memory, I talk about the memory on a CPU, not main memory. In modern CPU architecture a memory cell (a.k.a. word) is 64 bits big. (Hence the Windows Intel 64 which you sometimes see)\n",
    "\n",
    "Python built-in types as float, int, and complex are all primitive values. An object is an example of a compound variable and exhibits the same strange behaviour as the list from above.\n"
   ]
  },
  {
   "cell_type": "code",
   "execution_count": 17,
   "id": "92e960f0-67c9-465a-93fd-3df6c2717439",
   "metadata": {},
   "outputs": [],
   "source": [
    "import dataclasses # both dataclass and datetime are identifiers, both of a module\n",
    "import datetime\n",
    "\n",
    "@dataclasses.dataclass\n",
    "class Human:\n",
    "    firstname: str\n",
    "    surname: str\n",
    "    date_of_birth: datetime.datetime\n",
    "    sex: str\n",
    "    "
   ]
  },
  {
   "cell_type": "code",
   "execution_count": 18,
   "id": "6e68534b-91df-4984-b2c3-af377d5aea5b",
   "metadata": {},
   "outputs": [],
   "source": [
    "laurens = Human(firstname='Laurens', surname='Sandt', date_of_birth=datetime.datetime(1971,7,19), sex='male')"
   ]
  },
  {
   "cell_type": "code",
   "execution_count": 19,
   "id": "25e16dc0-4afc-423b-b6ce-c3648dc18780",
   "metadata": {},
   "outputs": [
    {
     "data": {
      "text/plain": [
       "Human(firstname='Laurens', surname='Sandt', date_of_birth=datetime.datetime(1971, 7, 19, 0, 0), sex='male')"
      ]
     },
     "execution_count": 19,
     "metadata": {},
     "output_type": "execute_result"
    }
   ],
   "source": [
    "laurens"
   ]
  },
  {
   "cell_type": "code",
   "execution_count": 20,
   "id": "cd046d11-8c72-48a9-9b18-20ba9f1755a2",
   "metadata": {},
   "outputs": [],
   "source": [
    "alias = laurens"
   ]
  },
  {
   "cell_type": "code",
   "execution_count": 21,
   "id": "973c9d5a-de60-4f47-8dc1-fab7ebbdd551",
   "metadata": {},
   "outputs": [
    {
     "data": {
      "text/plain": [
       "'female'"
      ]
     },
     "execution_count": 21,
     "metadata": {},
     "output_type": "execute_result"
    }
   ],
   "source": [
    "alias.sex='female'\n",
    "laurens.sex"
   ]
  },
  {
   "cell_type": "markdown",
   "id": "cb1ef7c6-d83a-42df-8224-fd6793c9a0f3",
   "metadata": {},
   "source": [
    "#### **Aliasing**\n",
    "Fairly sure I am a male :-). The above problem is due to something called aliasing. Aliasing occurs when a variable can be accessed using two or more different names.\n",
    "\n",
    "Alias: an alias is multiple identifiers (names) bound to the same variable.\n",
    "\n",
    "As a variable is no more than a container for a value, we can access that value via multiple names and assign the container a new value, changing values for all identifiers bound to that variable. Aliasing is large source for bugs, one that is difficult to debug (especially in large systems), and exceedingly difficult to find via testing. This is a repeating phenomenon in several notebooks.\n",
    "\n",
    "Python has two options to determine if there is an alias:\n",
    " 1. The `is`-operator; the `is`-operator compares memory addresses.\n",
    " 2. The `id()` function returns the actual memory address.\n"
   ]
  },
  {
   "cell_type": "code",
   "execution_count": 33,
   "id": "036a0a98-b74a-4940-9453-f2e05a50c16e",
   "metadata": {},
   "outputs": [
    {
     "data": {
      "text/plain": [
       "True"
      ]
     },
     "execution_count": 33,
     "metadata": {},
     "output_type": "execute_result"
    }
   ],
   "source": [
    "laurens is alias"
   ]
  },
  {
   "cell_type": "code",
   "execution_count": 23,
   "id": "05a0d04d-af5e-4a54-bd10-f66575c9dc23",
   "metadata": {},
   "outputs": [
    {
     "data": {
      "text/plain": [
       "(2954562266832, 2954562266832)"
      ]
     },
     "execution_count": 23,
     "metadata": {},
     "output_type": "execute_result"
    }
   ],
   "source": [
    "(id(laurens), id(alias))"
   ]
  },
  {
   "cell_type": "code",
   "execution_count": 24,
   "id": "b353a493-c29a-48d3-bdc8-fcda492f937b",
   "metadata": {},
   "outputs": [
    {
     "data": {
      "text/plain": [
       "True"
      ]
     },
     "execution_count": 24,
     "metadata": {},
     "output_type": "execute_result"
    }
   ],
   "source": [
    "laurens == alias"
   ]
  },
  {
   "cell_type": "markdown",
   "id": "d5b02957-11e5-44b8-b4e1-8f18c80adcd3",
   "metadata": {},
   "source": [
    "Despite the above result you can't use the `==` operator to see if something is an alias, it compares values not variables. "
   ]
  },
  {
   "cell_type": "code",
   "execution_count": 34,
   "id": "7cbc9ff2-749d-4e34-9964-4865d24932e2",
   "metadata": {},
   "outputs": [
    {
     "data": {
      "text/plain": [
       "True"
      ]
     },
     "execution_count": 34,
     "metadata": {},
     "output_type": "execute_result"
    }
   ],
   "source": [
    "f = [n for n in range(1,5)]\n",
    "g = [n for n in range(1,5)]\n",
    "f == g"
   ]
  },
  {
   "cell_type": "code",
   "execution_count": 35,
   "id": "a4b16e4b-12fc-4770-afbf-be56ee7ee554",
   "metadata": {},
   "outputs": [
    {
     "data": {
      "text/plain": [
       "(2954567800512, 2954567802944)"
      ]
     },
     "execution_count": 35,
     "metadata": {},
     "output_type": "execute_result"
    }
   ],
   "source": [
    "id(f),id(g)"
   ]
  },
  {
   "cell_type": "markdown",
   "id": "0e885e54-d555-4698-9861-758d1b51ff25",
   "metadata": {},
   "source": [
    "#### As you can see the memory addresses are different, they are not aliasses, something confirmed by the `is`-operator "
   ]
  },
  {
   "cell_type": "code",
   "execution_count": 36,
   "id": "bdb55e27-920b-4d3d-a786-c8506d104b00",
   "metadata": {},
   "outputs": [
    {
     "data": {
      "text/plain": [
       "False"
      ]
     },
     "execution_count": 36,
     "metadata": {},
     "output_type": "execute_result"
    }
   ],
   "source": [
    "f is g "
   ]
  },
  {
   "cell_type": "markdown",
   "id": "4000e214-a501-4e94-b1ad-b19dacaf6d89",
   "metadata": {},
   "source": [
    "#### **`copy()` & `deepcopy()`**\n",
    "you can solve some of the problems with aliasing by using copy() instead of direct assignment"
   ]
  },
  {
   "cell_type": "code",
   "execution_count": 37,
   "id": "52bf2f4e-53aa-42fb-82cd-afca6f46a666",
   "metadata": {},
   "outputs": [
    {
     "data": {
      "text/plain": [
       "[1, 2, 3, 4, 5, 6, 7, 8, 9, 10]"
      ]
     },
     "execution_count": 37,
     "metadata": {},
     "output_type": "execute_result"
    }
   ],
   "source": [
    "one = [n for n in range(1,11)]\n",
    "two = one.copy()\n",
    "one"
   ]
  },
  {
   "cell_type": "code",
   "execution_count": 38,
   "id": "e91972a7-d357-4126-a123-1835d298308d",
   "metadata": {},
   "outputs": [
    {
     "data": {
      "text/plain": [
       "[1, 2, 3, 4, 5, 6, 7, 8, 9, 10]"
      ]
     },
     "execution_count": 38,
     "metadata": {},
     "output_type": "execute_result"
    }
   ],
   "source": [
    "two"
   ]
  },
  {
   "cell_type": "code",
   "execution_count": 39,
   "id": "3ee3cce3-720e-4ee1-9680-e6aa7664b5ef",
   "metadata": {},
   "outputs": [
    {
     "data": {
      "text/plain": [
       "True"
      ]
     },
     "execution_count": 39,
     "metadata": {},
     "output_type": "execute_result"
    }
   ],
   "source": [
    "one==two"
   ]
  },
  {
   "cell_type": "code",
   "execution_count": 40,
   "id": "e318f370-4758-49d9-a91e-b5e3cc1d7eb4",
   "metadata": {},
   "outputs": [
    {
     "data": {
      "text/plain": [
       "[2, 3, 4, 5, 6, 7, 8, 9, 10]"
      ]
     },
     "execution_count": 40,
     "metadata": {},
     "output_type": "execute_result"
    }
   ],
   "source": [
    "two.pop(0)\n",
    "two"
   ]
  },
  {
   "cell_type": "code",
   "execution_count": 41,
   "id": "e5dbedcf-6a70-4aa9-8334-dd07b99ff909",
   "metadata": {},
   "outputs": [
    {
     "data": {
      "text/plain": [
       "[1, 2, 3, 4, 5, 6, 7, 8, 9, 10]"
      ]
     },
     "execution_count": 41,
     "metadata": {},
     "output_type": "execute_result"
    }
   ],
   "source": [
    "one"
   ]
  },
  {
   "cell_type": "markdown",
   "id": "17c7c626-dcfe-46b6-a5ef-9a55aa83e32e",
   "metadata": {},
   "source": [
    "By using `copy()` I copy the contents of the list to a new variable with identifier two. If I use `two` to access that variable, and use `pop(0)` to change its value, `one` does not also change. "
   ]
  },
  {
   "cell_type": "markdown",
   "id": "708f3e3a-77ce-4e8c-b068-e03e121db22f",
   "metadata": {},
   "source": [
    "#### **Storables**\n",
    "Unfortunately, this doesn't solve all problems to understand that I'll have to introduce the concepts pointer and storable:\n",
    " * Pointer: A pointer is a value that is either null (None in Python) or refers to a variable. It points to that variables memory location.\n",
    " * Storable: A value is storable if it can be stored in a single memory cell. \n",
    "\n",
    "Python knows only two types of storables, primitives and you guessed it pointers. The `copy()` functions copies the elements of for instance a list. If it is a primitive it copies that if it is a pointer, it copies that too.\n"
   ]
  },
  {
   "cell_type": "code",
   "execution_count": 63,
   "id": "1de59470-1c23-4a01-bdf7-ed03521a48c4",
   "metadata": {},
   "outputs": [],
   "source": [
    "three = [1,2,[3,4],5]\n",
    "four= three.copy()"
   ]
  },
  {
   "cell_type": "code",
   "execution_count": 64,
   "id": "e767b464-4370-43f6-b243-b014324d9ab4",
   "metadata": {},
   "outputs": [
    {
     "data": {
      "text/plain": [
       "[1, 2, [3, 4], 5]"
      ]
     },
     "execution_count": 64,
     "metadata": {},
     "output_type": "execute_result"
    }
   ],
   "source": [
    "three"
   ]
  },
  {
   "cell_type": "code",
   "execution_count": 65,
   "id": "520c62f5-a49c-483e-9b6a-90c8e23368cb",
   "metadata": {},
   "outputs": [
    {
     "data": {
      "text/plain": [
       "[1, 2, [3, 4], 5]"
      ]
     },
     "execution_count": 65,
     "metadata": {},
     "output_type": "execute_result"
    }
   ],
   "source": [
    "four"
   ]
  },
  {
   "cell_type": "markdown",
   "id": "7b5a5e58-4147-4537-9825-8896ea18ce17",
   "metadata": {},
   "source": [
    "three and four are not aliasses, I can prove that."
   ]
  },
  {
   "cell_type": "code",
   "execution_count": 66,
   "id": "9f2b5939-d384-4f6b-a592-0050b8ddbc31",
   "metadata": {},
   "outputs": [
    {
     "data": {
      "text/plain": [
       "False"
      ]
     },
     "execution_count": 66,
     "metadata": {},
     "output_type": "execute_result"
    }
   ],
   "source": [
    "three is four"
   ]
  },
  {
   "cell_type": "code",
   "execution_count": 67,
   "id": "76a3182a-2a83-400c-a39c-8e40808d8bcc",
   "metadata": {},
   "outputs": [
    {
     "data": {
      "text/plain": [
       "[1, 2, [3, 666], 5]"
      ]
     },
     "execution_count": 67,
     "metadata": {},
     "output_type": "execute_result"
    }
   ],
   "source": [
    "four[2][1] = 666\n",
    "four"
   ]
  },
  {
   "cell_type": "code",
   "execution_count": 68,
   "id": "a5a1999f-8980-4eba-aa24-432591196028",
   "metadata": {},
   "outputs": [
    {
     "data": {
      "text/plain": [
       "[1, 2, [3, 666], 5]"
      ]
     },
     "execution_count": 68,
     "metadata": {},
     "output_type": "execute_result"
    }
   ],
   "source": [
    "three"
   ]
  },
  {
   "cell_type": "markdown",
   "id": "70615c89-16fa-4d2f-a834-9050c8437089",
   "metadata": {},
   "source": [
    "Houston, we have a problem. What just happened? `three` and `four` are not aliases as we have proven!\n",
    "\n",
    "Correct, however unfortunately the third element of each list are aliases. `copy` copies the elements, and the element in this case is a pointer, a pointer to a value in memory location. Creating a defacto alias. You can prevent this problem by using `deepcopy` which doesn't copy just the pointer but keeps following the pointer to a memory location with a value and copies that.\n",
    "\n",
    "`deepcopy` is part of the copy module and the method of list and therefore needs to be imported.\n"
   ]
  },
  {
   "cell_type": "code",
   "execution_count": 48,
   "id": "3846a393-e4f2-4677-ae6f-eb0052e72232",
   "metadata": {},
   "outputs": [],
   "source": [
    "from copy import deepcopy\n",
    "\n",
    "five = [1,2,[3,4],5]\n",
    "six = deepcopy(five)"
   ]
  },
  {
   "cell_type": "code",
   "execution_count": 49,
   "id": "3abc3fde-9418-4c56-b165-a1ef9e598250",
   "metadata": {},
   "outputs": [
    {
     "data": {
      "text/plain": [
       "[1, 2, [3, 4], 5]"
      ]
     },
     "execution_count": 49,
     "metadata": {},
     "output_type": "execute_result"
    }
   ],
   "source": [
    "five"
   ]
  },
  {
   "cell_type": "code",
   "execution_count": 50,
   "id": "d9941270-ffb0-42dd-b3e6-b0ea6b3e42f5",
   "metadata": {},
   "outputs": [
    {
     "data": {
      "text/plain": [
       "[1, 2, [3, 4], 5]"
      ]
     },
     "execution_count": 50,
     "metadata": {},
     "output_type": "execute_result"
    }
   ],
   "source": [
    "six"
   ]
  },
  {
   "cell_type": "code",
   "execution_count": 51,
   "id": "95fb8169-f711-48ca-ad64-1031978d09aa",
   "metadata": {},
   "outputs": [
    {
     "data": {
      "text/plain": [
       "[1, 2, [3, 666], 5]"
      ]
     },
     "execution_count": 51,
     "metadata": {},
     "output_type": "execute_result"
    }
   ],
   "source": [
    "six[2][1] = 666\n",
    "six"
   ]
  },
  {
   "cell_type": "code",
   "execution_count": 52,
   "id": "0cb458a5-f3f5-496e-8785-3cec8c2c5d0d",
   "metadata": {},
   "outputs": [
    {
     "data": {
      "text/plain": [
       "[1, 2, [3, 4], 5]"
      ]
     },
     "execution_count": 52,
     "metadata": {},
     "output_type": "execute_result"
    }
   ],
   "source": [
    "five"
   ]
  },
  {
   "cell_type": "markdown",
   "id": "f5d5bfae-4885-40a4-8c2a-1bff382e7f2f",
   "metadata": {},
   "source": [
    "You could implement a `copy()` method in your own class and prevent any mishaps."
   ]
  },
  {
   "cell_type": "code",
   "execution_count": 53,
   "id": "d3ca5b0b-d276-418c-9d8f-147b59bfaa37",
   "metadata": {},
   "outputs": [],
   "source": [
    "from dataclasses import dataclass, field\n",
    "from copy import deepcopy\n",
    "\n",
    "@dataclass\n",
    "class A:\n",
    "    l:list=field(default_factory=list)\n",
    "    \n",
    "    def copy(self):\n",
    "        return deepcopy(self)"
   ]
  },
  {
   "cell_type": "code",
   "execution_count": 54,
   "id": "22c3330b-d6d7-484c-9eda-2931a505d8a9",
   "metadata": {},
   "outputs": [
    {
     "data": {
      "text/plain": [
       "A(l=[1, 2, [3, 4], 5])"
      ]
     },
     "execution_count": 54,
     "metadata": {},
     "output_type": "execute_result"
    }
   ],
   "source": [
    "a = A(l=[1,2,[3,4],5])\n",
    "a"
   ]
  },
  {
   "cell_type": "code",
   "execution_count": 55,
   "id": "b8add402-8dcc-48b5-8bfe-8b46671517ad",
   "metadata": {},
   "outputs": [],
   "source": [
    "b = a\n",
    "deep = a.copy()"
   ]
  },
  {
   "cell_type": "code",
   "execution_count": 56,
   "id": "94d1de9b-40c5-4774-aa3f-becd32b37293",
   "metadata": {},
   "outputs": [
    {
     "data": {
      "text/plain": [
       "A(l=[1, 2, [3, 4], 5])"
      ]
     },
     "execution_count": 56,
     "metadata": {},
     "output_type": "execute_result"
    }
   ],
   "source": [
    "a"
   ]
  },
  {
   "cell_type": "code",
   "execution_count": 57,
   "id": "c7792dc9-bd90-4526-a616-cb8e8fd52a38",
   "metadata": {},
   "outputs": [
    {
     "data": {
      "text/plain": [
       "A(l=[1, 2, [3, 4], 5])"
      ]
     },
     "execution_count": 57,
     "metadata": {},
     "output_type": "execute_result"
    }
   ],
   "source": [
    "deep"
   ]
  },
  {
   "cell_type": "code",
   "execution_count": 58,
   "id": "b1bdeb06-f484-4a5b-bfaa-86177f489917",
   "metadata": {},
   "outputs": [
    {
     "data": {
      "text/plain": [
       "[1, 2, [3, 666], 5]"
      ]
     },
     "execution_count": 58,
     "metadata": {},
     "output_type": "execute_result"
    }
   ],
   "source": [
    "b.l[2][1]=666\n",
    "b.l"
   ]
  },
  {
   "cell_type": "code",
   "execution_count": 59,
   "id": "260f2551-2307-4637-a9b2-4e4fb28c2b34",
   "metadata": {},
   "outputs": [
    {
     "data": {
      "text/plain": [
       "[1, 2, [3, 666], 5]"
      ]
     },
     "execution_count": 59,
     "metadata": {},
     "output_type": "execute_result"
    }
   ],
   "source": [
    "a.l"
   ]
  },
  {
   "cell_type": "code",
   "execution_count": 60,
   "id": "f2fb1173-ff2e-477c-8ba4-f7b365947513",
   "metadata": {},
   "outputs": [
    {
     "data": {
      "text/plain": [
       "[1, 2, [3, 4], 5]"
      ]
     },
     "execution_count": 60,
     "metadata": {},
     "output_type": "execute_result"
    }
   ],
   "source": [
    "deep.l"
   ]
  },
  {
   "cell_type": "markdown",
   "id": "a5b467ef-d8aa-4e60-9116-f0161533966c",
   "metadata": {},
   "source": [
    "\n",
    "By implementing `copy()` within our class we create an easy and safe way to create objects by copy while avoiding aliases. A question that might pop-up in your mind is, how to know if all your values are primitives especially if you have a million values or so. You can use the hash function, it only hashes immutables.\n",
    "\n",
    "* hash function: A hash function is any function that can be used to map data of arbitrary size to fixed-size values.\n"
   ]
  },
  {
   "cell_type": "code",
   "execution_count": 61,
   "id": "44c5583e-6e10-4f13-b05e-c097ac75ffba",
   "metadata": {},
   "outputs": [
    {
     "data": {
      "text/plain": [
       "-5659871693760987716"
      ]
     },
     "execution_count": 61,
     "metadata": {},
     "output_type": "execute_result"
    }
   ],
   "source": [
    "hashable = (1,2,3,4,5)\n",
    "hash(hashable)"
   ]
  },
  {
   "cell_type": "code",
   "execution_count": 62,
   "id": "22b05a62-d6ee-47c1-9e6e-ce80ba0dcab3",
   "metadata": {},
   "outputs": [
    {
     "ename": "TypeError",
     "evalue": "unhashable type: 'list'",
     "output_type": "error",
     "traceback": [
      "\u001b[1;31m---------------------------------------------------------------------------\u001b[0m",
      "\u001b[1;31mTypeError\u001b[0m                                 Traceback (most recent call last)",
      "Cell \u001b[1;32mIn[62], line 2\u001b[0m\n\u001b[0;32m      1\u001b[0m unhashable \u001b[38;5;241m=\u001b[39m (\u001b[38;5;241m1\u001b[39m,\u001b[38;5;241m2\u001b[39m,[\u001b[38;5;241m3\u001b[39m,\u001b[38;5;241m4\u001b[39m],\u001b[38;5;241m5\u001b[39m)\n\u001b[1;32m----> 2\u001b[0m \u001b[38;5;28;43mhash\u001b[39;49m\u001b[43m(\u001b[49m\u001b[43munhashable\u001b[49m\u001b[43m)\u001b[49m\n",
      "\u001b[1;31mTypeError\u001b[0m: unhashable type: 'list'"
     ]
    }
   ],
   "source": [
    "unhashable = (1,2,[3,4],5)\n",
    "hash(unhashable)"
   ]
  },
  {
   "cell_type": "markdown",
   "id": "d2c437d2-bf4a-4470-a9cb-7399b56e4b0a",
   "metadata": {},
   "source": [
    "As you can see we get a TypeError, you cannot hash a list."
   ]
  },
  {
   "cell_type": "markdown",
   "id": "a0e891dc-7951-4a4d-ba4c-0992db3a9a08",
   "metadata": {},
   "source": [
    "#### **Type**\n",
    "Type: a type is a set of values equipped with one or more operations that can be applied uniformly to all these values. If two objects contain the same set of values and have the same operations, then they are of the same type. \n",
    "\n",
    "Programming languages in general have different types: \n",
    " * primitive types\n",
    " * composite types\n",
    " * recursive types.\n",
    " \n",
    "Python also has the function `type` which return us the class an object belongs to. But it can also be used as a class factory. "
   ]
  },
  {
   "cell_type": "code",
   "execution_count": 69,
   "id": "3d71eebe-3fcd-480f-9624-9813601d7ddd",
   "metadata": {},
   "outputs": [
    {
     "data": {
      "text/plain": [
       "int"
      ]
     },
     "execution_count": 69,
     "metadata": {},
     "output_type": "execute_result"
    }
   ],
   "source": [
    "type(5)"
   ]
  },
  {
   "cell_type": "code",
   "execution_count": 70,
   "id": "160e200c-3f45-49a9-9ca4-6ae08ed77c1d",
   "metadata": {},
   "outputs": [
    {
     "data": {
      "text/plain": [
       "__main__.Human"
      ]
     },
     "execution_count": 70,
     "metadata": {},
     "output_type": "execute_result"
    }
   ],
   "source": [
    "type(laurens)"
   ]
  },
  {
   "cell_type": "markdown",
   "id": "e6f8c716-1b72-4690-8b74-703ce097a01e",
   "metadata": {},
   "source": [
    "#### **Primitive types**\n",
    "Built-in atomic types, in Python:\n",
    " * Int \n",
    " * Float\n",
    " * Complex\n",
    "\n",
    "see  https://docs.python.org/3/library/stdtypes.html#text-sequence-type-str.\n",
    "\n",
    "Other languages than Python (for instance Java and Haskell) often know more primitive types:\n",
    " * Double\n",
    " * Char\n",
    " * Long"
   ]
  },
  {
   "cell_type": "code",
   "execution_count": 76,
   "id": "ca70bcce-b9b0-4229-b7fe-2517350292e9",
   "metadata": {},
   "outputs": [
    {
     "data": {
      "text/plain": [
       "str"
      ]
     },
     "execution_count": 76,
     "metadata": {},
     "output_type": "execute_result"
    }
   ],
   "source": [
    "type('a')"
   ]
  },
  {
   "cell_type": "markdown",
   "id": "176b616a-8d5b-47fa-9286-cba01dbf690d",
   "metadata": {},
   "source": [
    "In Python there is no char type. A char in Python is a string and a string is a composed type. A Python string is an immutable object."
   ]
  },
  {
   "cell_type": "code",
   "execution_count": 77,
   "id": "a282b09c-bf5e-44cc-8f4a-1bab406e32a9",
   "metadata": {},
   "outputs": [
    {
     "data": {
      "text/plain": [
       "2954539346544"
      ]
     },
     "execution_count": 77,
     "metadata": {},
     "output_type": "execute_result"
    }
   ],
   "source": [
    "x = 'George'\n",
    "id(x)"
   ]
  },
  {
   "cell_type": "code",
   "execution_count": 78,
   "id": "b7b730d2-ae51-4724-bdc8-f64544cfc488",
   "metadata": {},
   "outputs": [
    {
     "data": {
      "text/plain": [
       "-526477365775056394"
      ]
     },
     "execution_count": 78,
     "metadata": {},
     "output_type": "execute_result"
    }
   ],
   "source": [
    "hash(x)"
   ]
  },
  {
   "cell_type": "code",
   "execution_count": 79,
   "id": "d03c423d-3102-480e-8330-26326d39e117",
   "metadata": {},
   "outputs": [
    {
     "data": {
      "text/plain": [
       "'George is a rhino!'"
      ]
     },
     "execution_count": 79,
     "metadata": {},
     "output_type": "execute_result"
    }
   ],
   "source": [
    "y = ' is a rhino!'\n",
    "x = x + y\n",
    "x"
   ]
  },
  {
   "cell_type": "code",
   "execution_count": 80,
   "id": "81e244ee-229a-4cc0-8372-a001cc2186ac",
   "metadata": {},
   "outputs": [
    {
     "data": {
      "text/plain": [
       "2954567642176"
      ]
     },
     "execution_count": 80,
     "metadata": {},
     "output_type": "execute_result"
    }
   ],
   "source": [
    "id(x)"
   ]
  },
  {
   "cell_type": "markdown",
   "id": "6f7ee3a2-279f-46c1-9398-0ae3b3a6fd19",
   "metadata": {},
   "source": [
    "#### **Garbage collection**\n",
    "The first x (`x = 'George'`) has now become an orphan value, there is no way it Python to access the value that is stored in the original variable. So, what happens now to that variable? After all it takes up expensive real estate. It will be cleaned up by the inbuild garbage collector. The collector frees up memory space of unreachable objects and relinquishes control back to the operating systems. Garbage collection is a complex issue which I will endeavour to enlighten a bit at the end of this notebook.\n"
   ]
  },
  {
   "cell_type": "markdown",
   "id": "4633700e-4cf2-475e-8bc8-d21b7c2cad92",
   "metadata": {},
   "source": [
    "#### **Composed types**\n",
    "Most Python types are composite types. We can further subclass composite types into:\n",
    " 1. Cartesian Product $S\\times T = \\{(x,y)|x \\in S, y \\in T\\}$. A tuple is an example of a Cartesian product, so is a database record. \n",
    " 2. Mappings $S \\rightarrow T = \\{f| x \\in S, f(x) \\in T\\}$. The obvious example of mapping in Python is a dictionary where you map keys on values, but of course a function is a mapping too, from domain to codomain.\n",
    " 3.  Disjunct Union $S + T = \\{left \\space x | x \\in S\\} \\cup \\{right \\space y| y \\in T\\}$ An object we can understand as disjunct union, simplistically we could understand it as a tuple of components. However, in OO objects need to have identity, therefore they need a unique tag to identify class. An object is a tagged tuple, or in Python lingo a named tuple.\n"
   ]
  },
  {
   "cell_type": "code",
   "execution_count": 81,
   "id": "88db6325-75ff-4064-a699-436d297b1743",
   "metadata": {},
   "outputs": [
    {
     "data": {
      "text/plain": [
       "__main__.Card"
      ]
     },
     "execution_count": 81,
     "metadata": {},
     "output_type": "execute_result"
    }
   ],
   "source": [
    "from collections import namedtuple\n",
    "'''the collection class has a namedtuple  which allows you to create classes without methods'''\n",
    "\n",
    "Card = namedtuple('Card',['rank','suit'])\n",
    "seven_clubs = Card(7, 'clubs')\n",
    "type(seven_clubs)"
   ]
  },
  {
   "cell_type": "code",
   "execution_count": 82,
   "id": "b9cde006-3668-45ab-8631-336331b53728",
   "metadata": {},
   "outputs": [
    {
     "data": {
      "text/plain": [
       "Card(rank=7, suit='clubs')"
      ]
     },
     "execution_count": 82,
     "metadata": {},
     "output_type": "execute_result"
    }
   ],
   "source": [
    "seven_clubs"
   ]
  },
  {
   "cell_type": "markdown",
   "id": "4a41d3be-3069-4a39-8b3b-c4276b941c5d",
   "metadata": {},
   "source": [
    "#### **Recursive Types**\n",
    "A recursive type is one that is defined in terms of itself. Python does not know recursive types, language which you recursion as main form of repetition as Haskell do.The Haskell definition of a list is a recursive type:\n",
    "\n",
    "`list a = Empty | Cons a (list a)`  \n",
    "\n",
    "A list is either empty or it is the element a is consed upon a list of a. A definition in terms of itself. I can do someting similar in Python"
   ]
  },
  {
   "cell_type": "code",
   "execution_count": 87,
   "id": "bef7304c-80a1-4ba9-a768-9b3c879a23cf",
   "metadata": {},
   "outputs": [
    {
     "data": {
      "text/plain": [
       "<__main__.IntList at 0x2afe9a0fad0>"
      ]
     },
     "execution_count": 87,
     "metadata": {},
     "output_type": "execute_result"
    }
   ],
   "source": [
    "from dataclasses import dataclass\n",
    "\n",
    "class IntList:\n",
    "    first=None\n",
    "    \n",
    "    def __init__(self, first):\n",
    "        self.first=first\n",
    "\n",
    "        \n",
    "                \n",
    "class IntNode:\n",
    "    elem:int\n",
    "    succ=None\n",
    "    \n",
    "    def __init__(self, elem:int, succ):\n",
    "        self.elem = elem\n",
    "        self.succ = succ\n",
    "\n",
    "primes = IntList(IntNode(2, IntNode(3, IntNode(5, IntNode(7, None)))))  \n",
    "primes"
   ]
  },
  {
   "cell_type": "markdown",
   "id": "fb081668-423f-4235-ac02-e1e1546285f8",
   "metadata": {},
   "source": [
    "However recursive types are not a natural fit to Python.\n",
    "\n",
    "Python in general has a problem with recursion. Even with recursive functions, Python has a limited recursion depth. "
   ]
  },
  {
   "cell_type": "code",
   "execution_count": 88,
   "id": "722439a1-5392-4701-8221-f28ebf84cff4",
   "metadata": {},
   "outputs": [
    {
     "name": "stdout",
     "output_type": "stream",
     "text": [
      "3000\n"
     ]
    }
   ],
   "source": [
    "import sys\n",
    "print(sys.getrecursionlimit())"
   ]
  },
  {
   "cell_type": "markdown",
   "id": "c487731b-bb23-4030-a24b-b1565f750a02",
   "metadata": {},
   "source": [
    "#### **Interpreter/compiler**\n",
    "Python is an interpreted language. Python directly executes instructions written in the program language without first compiling them to machine code. Python does this in two steps:\n",
    " 1. Translate the code into object code.\n",
    " 2. Immediately execute that code.\n",
    "\n",
    "I do not go to deep in this, but there are more Python interpreters. I know of four, CPython, Anaconda, JPython, PyPy, and there probably more. The standard Python interpreter is CPython, this uses the above two steps. PyPy on the other hand is a just in time compiler, it doesn't interpret the code. The PyPy compiler is faster than the CPython compiler, but that does not really matter if you do not have a specific use case stick to CPython. \n",
    "\n",
    "Both CPython and PyPy are largely written in the C language. C doesn't have an optimization for tail recursion. No matter what that means, but it has a consequence, Python has an extremely limited recursion depth.\n"
   ]
  },
  {
   "cell_type": "markdown",
   "id": "9d7f5bd5-f328-4861-b255-c9ac03ff4bd0",
   "metadata": {},
   "source": [
    "#### **Call by sharing** \n",
    "Python uses the call by sharing mechanism for her arguments. What does that mean and why do I need to know? It means that every function receives a copy of the references in the arguments it uses. Thus, they are in fact aliases and come with alias problems.\n"
   ]
  },
  {
   "cell_type": "code",
   "execution_count": 124,
   "id": "a8696fd2-2f67-4b6e-8562-cd14af0b3f0b",
   "metadata": {},
   "outputs": [],
   "source": [
    "def f(a,b):\n",
    "    a += b # this assignment changes the argument a which can linked to an outside variable\n",
    "    return a"
   ]
  },
  {
   "cell_type": "code",
   "execution_count": 125,
   "id": "8eaae2d0-f05e-4872-8ebf-6f5f45796ecb",
   "metadata": {},
   "outputs": [
    {
     "data": {
      "text/plain": [
       "3"
      ]
     },
     "execution_count": 125,
     "metadata": {},
     "output_type": "execute_result"
    }
   ],
   "source": [
    "x = 1 \n",
    "y = 2\n",
    "f(x,y)"
   ]
  },
  {
   "cell_type": "code",
   "execution_count": 126,
   "id": "7a17579d-7552-4bf1-994e-b8eb02cc58ee",
   "metadata": {},
   "outputs": [
    {
     "data": {
      "text/plain": [
       "(1, 2)"
      ]
     },
     "execution_count": 126,
     "metadata": {},
     "output_type": "execute_result"
    }
   ],
   "source": [
    "(x,y) "
   ]
  },
  {
   "cell_type": "markdown",
   "id": "96b4ab29-a949-41fc-a520-2671a951ca59",
   "metadata": {},
   "source": [
    "This goes all as expected, now we try with composite types."
   ]
  },
  {
   "cell_type": "code",
   "execution_count": 127,
   "id": "6c53dfc5-dd68-4fe9-990d-d37129b994cf",
   "metadata": {},
   "outputs": [
    {
     "data": {
      "text/plain": [
       "([1, 2, 3, 4], [3, 4])"
      ]
     },
     "execution_count": 127,
     "metadata": {},
     "output_type": "execute_result"
    }
   ],
   "source": [
    "x = [1,2]\n",
    "y = [3,4]\n",
    "f(x,y)\n",
    "(x,y)"
   ]
  },
  {
   "cell_type": "markdown",
   "id": "0673ee63-900b-45e3-a1eb-db1636cf230a",
   "metadata": {},
   "source": [
    " have inadvertently changed x. The cause: again, Python knows two storables primitives and pointers.\n",
    "\n",
    "In the above code a is a reference (pointer) to x which is a pointer to memory location, when I return, I have changed x, it is the same memory location.\n"
   ]
  },
  {
   "cell_type": "markdown",
   "id": "4c898a0c-f6c9-4b8f-baaa-0df2a6d5de4c",
   "metadata": {},
   "source": [
    "#### **garbage collection**\n",
    "Just quick word on garbage collection Python objects don't get explicitely destroyed when deleted the reference to the object is removed. Orphan values need to be collected by the garbage collector. "
   ]
  },
  {
   "cell_type": "code",
   "execution_count": 128,
   "id": "ee68acf9-b4e0-49bf-acc3-b2bc254e3c7f",
   "metadata": {},
   "outputs": [
    {
     "data": {
      "text/plain": [
       "([1, 2], [1, 2])"
      ]
     },
     "execution_count": 128,
     "metadata": {},
     "output_type": "execute_result"
    }
   ],
   "source": [
    "a = [1,2]\n",
    "b = a\n",
    "a,b"
   ]
  },
  {
   "cell_type": "markdown",
   "id": "7a14c21c-1f1d-42a0-b75f-8416ec1b2cae",
   "metadata": {},
   "source": [
    "We delete a explicitely and than call b."
   ]
  },
  {
   "cell_type": "code",
   "execution_count": 129,
   "id": "29a54028-daf6-4d31-ba36-1991422126f7",
   "metadata": {},
   "outputs": [
    {
     "data": {
      "text/plain": [
       "[1, 2]"
      ]
     },
     "execution_count": 129,
     "metadata": {},
     "output_type": "execute_result"
    }
   ],
   "source": [
    "del a \n",
    "b"
   ]
  },
  {
   "cell_type": "markdown",
   "id": "c1c2298b-97c5-4b30-b7c3-be3b144def47",
   "metadata": {},
   "source": [
    "No problem, but now we rename b."
   ]
  },
  {
   "cell_type": "code",
   "execution_count": 130,
   "id": "a4583355-b6d5-4ade-9741-0f59674c5ccd",
   "metadata": {},
   "outputs": [
    {
     "data": {
      "text/plain": [
       "'george is rhino'"
      ]
     },
     "execution_count": 130,
     "metadata": {},
     "output_type": "execute_result"
    }
   ],
   "source": [
    "b = 'george is rhino'\n",
    "b"
   ]
  },
  {
   "cell_type": "markdown",
   "id": "5c4198ce-2094-4e10-acd4-12a6b3b7e1b4",
   "metadata": {},
   "source": [
    "\n",
    "At this moment in time there is still a memory cell that contains the value `[1,2]`. However, there are no longer any bindings, there is no more name that links to the location in memory, it is an orphaned variable, unreachable. "
   ]
  },
  {
   "cell_type": "code",
   "execution_count": 131,
   "id": "36c3b99a-2ac6-4d7c-b062-ca9a1682153d",
   "metadata": {},
   "outputs": [],
   "source": [
    "import weakref\n",
    "\n",
    "s1 = {1,2,3}\n",
    "s2 = s1 \n",
    "def bye():\n",
    "    print('Give me a snacky!')   "
   ]
  },
  {
   "cell_type": "code",
   "execution_count": 132,
   "id": "c0a6795b-4f2f-40fd-aeaf-1dc034bdea57",
   "metadata": {},
   "outputs": [
    {
     "data": {
      "text/plain": [
       "True"
      ]
     },
     "execution_count": 132,
     "metadata": {},
     "output_type": "execute_result"
    }
   ],
   "source": [
    "ender = weakref.finalize(s1, bye) # print bye if there is no longer a bind to the location in memory with value {1,2,3}\n",
    "ender.alive"
   ]
  },
  {
   "cell_type": "code",
   "execution_count": 133,
   "id": "c03848cc-53ee-41aa-844c-c9be813873d7",
   "metadata": {},
   "outputs": [
    {
     "data": {
      "text/plain": [
       "True"
      ]
     },
     "execution_count": 133,
     "metadata": {},
     "output_type": "execute_result"
    }
   ],
   "source": [
    "del s1 \n",
    "ender.alive"
   ]
  },
  {
   "cell_type": "code",
   "execution_count": 134,
   "id": "4777a791-2497-4f9d-82c9-849d1f67c902",
   "metadata": {},
   "outputs": [
    {
     "name": "stdout",
     "output_type": "stream",
     "text": [
      "Give me a snacky!\n"
     ]
    }
   ],
   "source": [
    "s2 = 'Croc is peckish!' # At this moment the previous binding is relinquished"
   ]
  },
  {
   "cell_type": "code",
   "execution_count": 135,
   "id": "8bb2d9c0-e125-4677-8a78-06ed80c728c1",
   "metadata": {},
   "outputs": [
    {
     "data": {
      "text/plain": [
       "False"
      ]
     },
     "execution_count": 135,
     "metadata": {},
     "output_type": "execute_result"
    }
   ],
   "source": [
    "ender.alive"
   ]
  },
  {
   "cell_type": "markdown",
   "id": "3b729696-50ba-4763-a5bf-d786e7e27b6b",
   "metadata": {},
   "source": [
    "#### **Python quirks!**\n",
    "Python has many stranger things, I just thought I point this one out. Python creates aliasses where you don't expect it, for instance if you create a tuple from a tuple.\n"
   ]
  },
  {
   "cell_type": "code",
   "execution_count": 136,
   "id": "58685302-effd-40c6-8c50-872d83cbcd4e",
   "metadata": {},
   "outputs": [
    {
     "data": {
      "text/plain": [
       "True"
      ]
     },
     "execution_count": 136,
     "metadata": {},
     "output_type": "execute_result"
    }
   ],
   "source": [
    "t1 = (1,2,3)\n",
    "t2 = tuple(t1)\n",
    "t1 is t2"
   ]
  },
  {
   "cell_type": "markdown",
   "id": "b36062e9-8ee1-4936-b71c-671ac9bb04f6",
   "metadata": {},
   "source": [
    "You don't have this behaviour if you use the tuple partially."
   ]
  },
  {
   "cell_type": "code",
   "execution_count": 137,
   "id": "bf485e1d-9684-4c84-8838-b78a86350afb",
   "metadata": {},
   "outputs": [
    {
     "data": {
      "text/plain": [
       "False"
      ]
     },
     "execution_count": 137,
     "metadata": {},
     "output_type": "execute_result"
    }
   ],
   "source": [
    "t3 = tuple(n for n in range(1,11))\n",
    "t4 = tuple(n for n in t3 if n % 2 == 1)\n",
    "t3 == t4"
   ]
  },
  {
   "cell_type": "markdown",
   "id": "8fa1bbc9-37ed-498e-b785-5e71bd3af6e6",
   "metadata": {},
   "source": [
    "It gets more curious, consider the small string and the larger string."
   ]
  },
  {
   "cell_type": "code",
   "execution_count": 122,
   "id": "3312d881-4605-49f7-bcee-95f32d112737",
   "metadata": {},
   "outputs": [
    {
     "data": {
      "text/plain": [
       "True"
      ]
     },
     "execution_count": 122,
     "metadata": {},
     "output_type": "execute_result"
    }
   ],
   "source": [
    "x = 'ABC'\n",
    "y = 'ABC'\n",
    "x is y"
   ]
  },
  {
   "cell_type": "code",
   "execution_count": 123,
   "id": "f31c297d-5edb-4be1-8816-e90c2e41452a",
   "metadata": {},
   "outputs": [
    {
     "data": {
      "text/plain": [
       "False"
      ]
     },
     "execution_count": 123,
     "metadata": {},
     "output_type": "execute_result"
    }
   ],
   "source": [
    "x = 'George is a rhino!'\n",
    "y = 'George is a rhino!'\n",
    "x is y"
   ]
  },
  {
   "cell_type": "markdown",
   "id": "758e6f9c-21ca-41df-9548-f82241534aee",
   "metadata": {},
   "source": [
    "The small string is an alias, the larger isn't...\n",
    "\n",
    "This is due to a Python optimization technique called interning. If you meet this behaviour hopefully you will be less surprised than I was. Enough about concepts in programming, most oddities in Python should be clear now.\n",
    "\n",
    "---\n",
    "## **The End**"
   ]
  }
 ],
 "metadata": {
  "kernelspec": {
   "display_name": "Python 3 (ipykernel)",
   "language": "python",
   "name": "python3"
  },
  "language_info": {
   "codemirror_mode": {
    "name": "ipython",
    "version": 3
   },
   "file_extension": ".py",
   "mimetype": "text/x-python",
   "name": "python",
   "nbconvert_exporter": "python",
   "pygments_lexer": "ipython3",
   "version": "3.11.1"
  }
 },
 "nbformat": 4,
 "nbformat_minor": 5
}
