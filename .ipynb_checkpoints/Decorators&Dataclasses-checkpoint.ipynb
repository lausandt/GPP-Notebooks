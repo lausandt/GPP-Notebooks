{
 "cells": [
  {
   "cell_type": "markdown",
   "id": "9008a360-5971-43d9-9d88-28026e76c139",
   "metadata": {},
   "source": [
    "## **Decorators & higher order functions**\n",
    "---\n",
    "When I first got confronted with decorators in Python, I was quite confused with the concept. Coming from Java, I had of course seen a decorator `@override` which is Java to say you have overridden some method specified in an interface. In Java, these are called annotations. Of course, you can implement the decorator programming pattern in Java, which [Wikipedia](https://en.wikipedia.org/wiki/Decorator_pattern) tells me not to confuse with a Python decorator. I find that too strict. The intent of a decorator is that the decorator pattern can be used to extend (decorate) the functionality of a certain object, statically or dynamically at runtime. The decorator pattern adds behaviour to a single object. Python decorators add behaviour to foremost functions and methods which in this sense are objects. They can also add or modify the behaviour of an entire class, as we will see in this notebook. You could easily programme a structure that, given some flag, creates a decorated or regular object, therefore doing exactly what the decorator programmeming pattern does. \n",
    "\n",
    "So, from a practical view, both the decorator pattern and Python decorators are minimally similar. There is a glaring difference too: Python decorators are higher-order functions. The decorator pattern is a software pattern. I should first answer the question of whether it is a higher-order function (for software patterns, see that notebook). A higher-order function is a function that does at least one of the following:\n",
    "1. It takes one or more functions as arguments.\n",
    "2. It returns a function as its result.\n",
    "\n",
    "Before we look at a decorator, let's look at function composition. Function composition is an example of a higher-order function $f \\circ g$ or $g(f(x))$.\n",
    "The three standard operations on a sequence type (tuple, list, and array)—map, filter, and fold (aka reduce)—are higher-order functions. Let's see them in action.\n"
   ]
  },
  {
   "cell_type": "code",
   "execution_count": 37,
   "id": "bff05ea8-c73a-4abd-a35e-fd0f537f61e0",
   "metadata": {},
   "outputs": [
    {
     "data": {
      "text/plain": [
       "(1, 4, 9, 16, 25, 36, 49, 64, 81, 100)"
      ]
     },
     "execution_count": 37,
     "metadata": {},
     "output_type": "execute_result"
    }
   ],
   "source": [
    "tuple(map(lambda x: x**2, range(1, 11)))"
   ]
  },
  {
   "cell_type": "code",
   "execution_count": 38,
   "id": "049f7dec-32a3-47cf-b56d-250175f8e11c",
   "metadata": {},
   "outputs": [
    {
     "data": {
      "text/plain": [
       "(64, 81, 100)"
      ]
     },
     "execution_count": 38,
     "metadata": {},
     "output_type": "execute_result"
    }
   ],
   "source": [
    "tuple(filter(lambda x: x > 50, tuple(map(lambda x: x**2, range(1, 11)))))"
   ]
  },
  {
   "cell_type": "code",
   "execution_count": 39,
   "id": "fd6440c9-1e77-4fa0-a1d0-102c3c4804ab",
   "metadata": {},
   "outputs": [
    {
     "data": {
      "text/plain": [
       "518400"
      ]
     },
     "execution_count": 39,
     "metadata": {},
     "output_type": "execute_result"
    }
   ],
   "source": [
    "from functools import reduce\n",
    "from operator import mul\n",
    "\n",
    "# multiplying the numbers bigger than 50. 64 x 81, 100\n",
    "reduce(mul, tuple(filter(lambda x: x > 50, tuple(map(lambda x: x**2, range(1, 11))))))"
   ]
  },
  {
   "cell_type": "markdown",
   "id": "49613c5c-6b75-4beb-9479-e8bc1bfb9ce9",
   "metadata": {},
   "source": [
    "#### Closure\n",
    "The decorator functions as a closure; a closure is a nested function that references one or more variables from its enclosing scope. This definition probably makes more sense with an example. In the code below, `display` is the closure. nested within `say`, `display` uses `greeting` which is defined outside of the local scope of `display`. However, greeting is part of `say` which also encompasses the scope of `display`.\n",
    "\n",
    "The variable with the name greeting stays \"alive\" even if `display` does nothing.\n"
   ]
  },
  {
   "cell_type": "code",
   "execution_count": 40,
   "id": "46b59fb4-c380-428c-88d1-ebc3f0b4698d",
   "metadata": {},
   "outputs": [],
   "source": [
    "def say():\n",
    "    greeting = \"Hello\"\n",
    "\n",
    "    def display():\n",
    "        print(greeting)\n",
    "\n",
    "    return display()"
   ]
  },
  {
   "cell_type": "code",
   "execution_count": 41,
   "id": "5d150fd3-1447-4337-8021-6316a50612ee",
   "metadata": {},
   "outputs": [
    {
     "name": "stdout",
     "output_type": "stream",
     "text": [
      "Hello\n"
     ]
    }
   ],
   "source": [
    "say()"
   ]
  },
  {
   "cell_type": "markdown",
   "id": "e0d3a1ee-654e-4aa2-91d6-1433b8de341c",
   "metadata": {},
   "source": [
    "\n",
    "You can access the closure directly; the interpreter knows of its existence, but trying to do so does not lead to a result, as `display` needs `say` to function."
   ]
  },
  {
   "cell_type": "code",
   "execution_count": 42,
   "id": "76f2cb9e-0284-4fdf-9979-24bc663856ed",
   "metadata": {},
   "outputs": [],
   "source": [
    "display()"
   ]
  },
  {
   "cell_type": "markdown",
   "id": "3b6756cb-338c-4136-9edf-47325d676b84",
   "metadata": {},
   "source": [
    "#### Decorators\n",
    "Formal closures make it possible to give a sub-procedure one or more private variables that remain in existence between procedure calls. You actually see closures quite often in Python, as it uses a lot of decorators. Decorators can be used in Python as higher-order functions, and the decorated function has access to the decorator; the decorator contains the closure. Let's look at an example:"
   ]
  },
  {
   "cell_type": "code",
   "execution_count": 43,
   "id": "9a9c72ee-fef5-4ac9-aaaf-44e17ed80a01",
   "metadata": {},
   "outputs": [
    {
     "name": "stdout",
     "output_type": "stream",
     "text": [
      "George is a wooly rhino!\n",
      "George is a wooly rhino!\n"
     ]
    },
    {
     "data": {
      "text/plain": [
       "'hi George!'"
      ]
     },
     "execution_count": 43,
     "metadata": {},
     "output_type": "execute_result"
    }
   ],
   "source": [
    "def decorator(func):\n",
    "\n",
    "    def wrapper_decorator(*args, **kwargs):\n",
    "        # Do something before\n",
    "        func(*args, **kwargs)  # This the fst time\n",
    "        # Do something after\n",
    "        return func(*args, **kwargs)  # This is the third time\n",
    "\n",
    "    return wrapper_decorator\n",
    "\n",
    "\n",
    "@decorator\n",
    "def george(name):\n",
    "    \"\"\"This is George his function\"\"\"\n",
    "    print(\"George is a wooly rhino!\")\n",
    "    return f\"hi {name}!\"\n",
    "\n",
    "\n",
    "george(\"George\")"
   ]
  },
  {
   "cell_type": "markdown",
   "id": "26ceedc8-d129-454e-8388-97bca13c4b86",
   "metadata": {},
   "source": [
    "This simple decorator does only one thing: it executes the print statement twice.\n",
    "\n",
    "There is simple boilerplate code that allows you to write any decorator you want:"
   ]
  },
  {
   "cell_type": "code",
   "execution_count": 44,
   "id": "31c57b41-352d-4888-9e95-e0af9a78960e",
   "metadata": {},
   "outputs": [],
   "source": [
    "import functools\n",
    "\n",
    "\n",
    "def decorator(func):  # 1\n",
    "    @functools.wraps(func)  # 2\n",
    "    def wrapper_decorator(*args, **kwargs):  # 3\n",
    "        #  4 do something\n",
    "        return func(*args, **kwargs)  # 5\n",
    "\n",
    "    return wrapper_decorator  # 6"
   ]
  },
  {
   "cell_type": "markdown",
   "id": "69557114-538b-4ca9-af4d-270927663653",
   "metadata": {},
   "source": [
    "#### Code comment\n",
    "1. The name of the function to be used as the decorator, here aptly called decorator.\n",
    "2. The decorator at `@functools.wraps` ensures that you can inspect your decorated function and not the decorator.\n",
    "3. The convention is to call these functions wrapper_decorator_name, which in our case is decorator.\n",
    "4. There is room to add to the functionality of the decorated function.\n",
    "5. If we want the function to do something else outside of the decorator, we need to return the original function with the original arguments.\n",
    "6. Return for the decorator.\n",
    "\n",
    "On point three, inspecting `george` would result in useless information without the wrap decorator.\n"
   ]
  },
  {
   "cell_type": "code",
   "execution_count": 45,
   "id": "b5e71831-c07c-4d17-a6e9-a3320e4eed18",
   "metadata": {},
   "outputs": [
    {
     "data": {
      "text/plain": [
       "<function __main__.decorator.<locals>.wrapper_decorator(*args, **kwargs)>"
      ]
     },
     "execution_count": 45,
     "metadata": {},
     "output_type": "execute_result"
    }
   ],
   "source": [
    "george"
   ]
  },
  {
   "cell_type": "code",
   "execution_count": 46,
   "id": "ae5c64e4-a1f3-421d-94ae-48ed4a7b0915",
   "metadata": {},
   "outputs": [
    {
     "name": "stdout",
     "output_type": "stream",
     "text": [
      "Help on function wrapper_decorator in module __main__:\n",
      "\n",
      "wrapper_decorator(*args, **kwargs)\n",
      "\n"
     ]
    }
   ],
   "source": [
    "help(george)"
   ]
  },
  {
   "cell_type": "code",
   "execution_count": 47,
   "id": "c8d4bb5e-9e01-487b-ae19-f5585d30f52a",
   "metadata": {},
   "outputs": [],
   "source": [
    "from functools import wraps\n",
    "\n",
    "\n",
    "def decorator(func):\n",
    "    @wraps(func)\n",
    "    def wrapper_decorator(*args, **kwargs):\n",
    "        # Do something before\n",
    "        func(*args, **kwargs)  # This the fst time\n",
    "        func(*args, **kwargs)  # This is the snd time\n",
    "        # Do something after\n",
    "        return func(*args, **kwargs)  # This is the third time\n",
    "\n",
    "    return wrapper_decorator\n",
    "\n",
    "\n",
    "@decorator\n",
    "def george(name):\n",
    "    \"\"\"This is George's his function\"\"\"\n",
    "    print(\"George is a rhino!\")\n",
    "    return f\"hi {name}!\""
   ]
  },
  {
   "cell_type": "code",
   "execution_count": 48,
   "id": "a377d849-6395-44aa-96a9-ef01e4499eeb",
   "metadata": {},
   "outputs": [
    {
     "data": {
      "text/plain": [
       "<function __main__.george(name)>"
      ]
     },
     "execution_count": 48,
     "metadata": {},
     "output_type": "execute_result"
    }
   ],
   "source": [
    "george"
   ]
  },
  {
   "cell_type": "code",
   "execution_count": 13,
   "id": "485fc917-56d9-40fd-9325-9ecd1efff37c",
   "metadata": {},
   "outputs": [
    {
     "name": "stdout",
     "output_type": "stream",
     "text": [
      "Help on function george in module __main__:\n",
      "\n",
      "george(name)\n",
      "    This is George's his function\n",
      "\n"
     ]
    }
   ],
   "source": [
    "help(george)"
   ]
  },
  {
   "cell_type": "markdown",
   "id": "ef2aa267-ff40-4ef0-91c1-47757e2a165a",
   "metadata": {},
   "source": [
    "The primary use of decorators is to enrich functions with outside behaviour. \n",
    "\n",
    "Consider the simple Fibonacci function below, which returns the n-th Fibonacci number."
   ]
  },
  {
   "cell_type": "code",
   "execution_count": 16,
   "id": "e91a2760-4f07-4dfe-9229-c3fbe8909c61",
   "metadata": {},
   "outputs": [],
   "source": [
    "ok = 10\n",
    "waisting_time = 40\n",
    "are_you_crazy = 1000"
   ]
  },
  {
   "cell_type": "code",
   "execution_count": 17,
   "id": "74174a14-b42f-45f2-9d9a-02cc780ba30d",
   "metadata": {},
   "outputs": [
    {
     "data": {
      "text/plain": [
       "55"
      ]
     },
     "execution_count": 17,
     "metadata": {},
     "output_type": "execute_result"
    }
   ],
   "source": [
    "def fibonacci(n: int) -> int:\n",
    "    \"\"\"function to return the n-th Fibonacci number\"\"\"\n",
    "    return n if n < 2 else fibonacci(n - 1) + fibonacci(n - 2)\n",
    "\n",
    "\n",
    "fibonacci(ok)"
   ]
  },
  {
   "cell_type": "markdown",
   "id": "7811385b-2230-4da0-a987-22140d43afce",
   "metadata": {},
   "source": [
    "As we can see, it works, but unfortunately, this is not a very efficient function, which we see if we compute the 40th Fibonacci number."
   ]
  },
  {
   "cell_type": "code",
   "execution_count": 18,
   "id": "b1d57552-d722-42b7-8d67-4e8500f31a3d",
   "metadata": {},
   "outputs": [
    {
     "name": "stdout",
     "output_type": "stream",
     "text": [
      "CPU times: user 38.2 s, sys: 0 ns, total: 38.2 s\n",
      "Wall time: 38.3 s\n"
     ]
    },
    {
     "data": {
      "text/plain": [
       "102334155"
      ]
     },
     "execution_count": 18,
     "metadata": {},
     "output_type": "execute_result"
    }
   ],
   "source": [
    "%time fibonacci(waisting_time)"
   ]
  },
  {
   "cell_type": "markdown",
   "id": "f955b39b-c122-47d4-a74b-cd80fb6634ee",
   "metadata": {},
   "source": [
    "The inefficiency is that we don't store intermediate results; after all, we have already computed the eight Fibonacci numbers (34 in 34 + 55 = 89).\n",
    "We could apply tabulation and store the intermediate results."
   ]
  },
  {
   "cell_type": "code",
   "execution_count": 22,
   "id": "b168b9ee-ec08-4d10-96cd-d31bf19d56d4",
   "metadata": {},
   "outputs": [
    {
     "name": "stdout",
     "output_type": "stream",
     "text": [
      "CPU times: user 14 µs, sys: 0 ns, total: 14 µs\n",
      "Wall time: 16.5 µs\n"
     ]
    },
    {
     "data": {
      "text/plain": [
       "102334155"
      ]
     },
     "execution_count": 22,
     "metadata": {},
     "output_type": "execute_result"
    }
   ],
   "source": [
    "def fibonacci(n: int) -> int:\n",
    "    \"\"\"efficient function to return the n-th Fibonacci number using the tabulation technique\"\"\"\n",
    "    table = [None] * (n + 1)\n",
    "    table[0] = 0\n",
    "    table[1] = 1\n",
    "    for index in range(2, n + 1):\n",
    "        table[index] = table[index - 1] + table[index - 2]\n",
    "    return table[n]\n",
    "\n",
    "\n",
    "%time fibonacci(waisting_time)"
   ]
  },
  {
   "cell_type": "markdown",
   "id": "cba24f25-513a-412f-a38c-4406cb9fe2fc",
   "metadata": {},
   "source": [
    "This code stops wasting all that time by recalculating intermediate results; however, this code is a bit opaque and verbose.\n",
    "\n",
    "There is a simple decorator in the functools library with which we enrich our original function to store intermediate results. With caching, I can compute the 1000th Fibonacci number in a flash.\n",
    "\n",
    "Below the surface, this uses a similar technique as the example above. It caches (stores) intermediate results."
   ]
  },
  {
   "cell_type": "code",
   "execution_count": 21,
   "id": "46b659a8-088a-43a6-9098-169954b79416",
   "metadata": {},
   "outputs": [
    {
     "name": "stdout",
     "output_type": "stream",
     "text": [
      "CPU times: user 4.76 ms, sys: 0 ns, total: 4.76 ms\n",
      "Wall time: 4.57 ms\n"
     ]
    },
    {
     "data": {
      "text/plain": [
       "43466557686937456435688527675040625802564660517371780402481729089536555417949051890403879840079255169295922593080322634775209689623239873322471161642996440906533187938298969649928516003704476137795166849228875"
      ]
     },
     "execution_count": 21,
     "metadata": {},
     "output_type": "execute_result"
    }
   ],
   "source": [
    "from functools import cache\n",
    "\n",
    "\n",
    "@cache\n",
    "def fibonacci(n: int) -> int:\n",
    "    \"\"\"function to return the n-th Fibonacci number\"\"\"\n",
    "    return n if n < 2 else fibonacci(n - 1) + fibonacci(n - 2)\n",
    "\n",
    "\n",
    "%time fibonacci(are_you_crazy)"
   ]
  },
  {
   "cell_type": "markdown",
   "id": "05a73eb8-3699-4e79-8e18-31c9fc3b6ef1",
   "metadata": {},
   "source": [
    "None of these examples are the Pythonic way of writing a function that returns the n-th fibonacci number. The Pythonic way would use a generator, which is even faster.  "
   ]
  },
  {
   "cell_type": "code",
   "execution_count": 53,
   "id": "cc27ba21-22fc-4096-9871-8af916f2c095",
   "metadata": {},
   "outputs": [
    {
     "name": "stdout",
     "output_type": "stream",
     "text": [
      "CPU times: user 223 µs, sys: 4 µs, total: 227 µs\n",
      "Wall time: 231 µs\n"
     ]
    },
    {
     "data": {
      "text/plain": [
       "43466557686937456435688527675040625802564660517371780402481729089536555417949051890403879840079255169295922593080322634775209689623239873322471161642996440906533187938298969649928516003704476137795166849228875"
      ]
     },
     "execution_count": 53,
     "metadata": {},
     "output_type": "execute_result"
    }
   ],
   "source": [
    "from typing import Iterator\n",
    "\n",
    "\n",
    "def fibonacci(n: int) -> int:\n",
    "    \"\"\"Pythonic function to return the n-th Fibonacci number\"\"\"\n",
    "\n",
    "    def fib(n: int) -> Iterator[int]:\n",
    "        a, b = 0, 1\n",
    "        stop = 0\n",
    "        while stop <= n:\n",
    "            stop += 1\n",
    "            yield a\n",
    "            a, b = b, a + b\n",
    "\n",
    "    return list(fib(n))[n]\n",
    "\n",
    "\n",
    "%time fibonacci(are_you_crazy)"
   ]
  },
  {
   "cell_type": "markdown",
   "id": "4b351e37-97bd-4e22-a35a-e104c5d97059",
   "metadata": {},
   "source": [
    "#### Library decorators\n",
    "Python has many libraries that offer function decorators. Functools, for instance, functools offers a function with which we can overload methods, something Python, as a dynamically typed language, does not support natively. See https://en.wikipedia.org/wiki/Function_overloading.\n",
    "\n",
    "The idea behind overloaded functions is that you let the compiler decide which one to use at runtime. To be able to make the distinction between which function to use, the compiler needs to know two things: \n",
    "1. It needs to know this function is overloaded; the decorator `@singledispatch` takes care of this.\n",
    "2. It needs to register the different implementations; `@fun.register` takes care of that.\n"
   ]
  },
  {
   "cell_type": "code",
   "execution_count": 33,
   "id": "12486cfe-d553-4819-9cad-2d817dd5a63d",
   "metadata": {},
   "outputs": [],
   "source": [
    "from functools import singledispatch\n",
    "\n",
    "\n",
    "@singledispatch\n",
    "def fun(arg, verbose=False):\n",
    "    if verbose:\n",
    "        print(\"Let me just say,\", end=\" \")\n",
    "    print(arg)"
   ]
  },
  {
   "cell_type": "code",
   "execution_count": 34,
   "id": "6e941049-af4a-4365-9b6d-dd093dba67af",
   "metadata": {},
   "outputs": [],
   "source": [
    "@fun.register\n",
    "def _(arg: int, verbose=False) -> None:\n",
    "    if verbose:\n",
    "        print(\"Strength in numbers, eh?\", end=\" \")\n",
    "    print(arg)\n",
    "\n",
    "\n",
    "@fun.register\n",
    "def _(arg: list, verbose=False) -> None:\n",
    "    if verbose:\n",
    "        print(\"Enumerate this:\")\n",
    "    for i, elem in enumerate(arg):\n",
    "        print(i + 1, elem)"
   ]
  },
  {
   "cell_type": "code",
   "execution_count": 35,
   "id": "aa209e41-f4ce-4945-977d-c8905007d15d",
   "metadata": {},
   "outputs": [
    {
     "name": "stdout",
     "output_type": "stream",
     "text": [
      "Strength in numbers, eh? 1\n"
     ]
    }
   ],
   "source": [
    "fun(1, True)"
   ]
  },
  {
   "cell_type": "code",
   "execution_count": 36,
   "id": "42ce0a4b-c2a6-467b-9b02-7e0d318475b9",
   "metadata": {},
   "outputs": [
    {
     "name": "stdout",
     "output_type": "stream",
     "text": [
      "Enumerate this:\n",
      "1 Ente\n",
      "2 Rhino\n",
      "3 Croc\n",
      "4 George\n"
     ]
    }
   ],
   "source": [
    "fun([\"Ente\", \"Rhino\", \"Croc\", \"George\"], True)"
   ]
  },
  {
   "cell_type": "markdown",
   "id": "be440b62-d15b-441f-959f-1b08895befee",
   "metadata": {},
   "source": [
    "\n",
    "As you see, the only difference between the two `fun` functions is the type of their argument. This is the only thing the compiler needs to choose between these functions. \n",
    "\n",
    "Other libraries also function as decorators. One library that you will use a lot is Pytest; it knows decorators.\n",
    "\n",
    "Run the code outside of this notebook, as interactive Python is usually tested with doctest."
   ]
  },
  {
   "cell_type": "code",
   "execution_count": 55,
   "id": "0fc235e1-3f96-4cbe-b8d4-0eafd8d568be",
   "metadata": {
    "scrolled": true
   },
   "outputs": [],
   "source": [
    "import pytest\n",
    "\n",
    "\n",
    "@pytest.mark.parametrize(\"test_input,expected\", [(\"3+5\", 8), (\"2+4\", 6), (\"6*9\", 42)])\n",
    "def test_eval(test_input, expected):\n",
    "    assert eval(test_input) == expected"
   ]
  },
  {
   "cell_type": "markdown",
   "id": "545cda85-850f-456e-920b-e8f2dad926c2",
   "metadata": {},
   "source": [
    "#### Class decorators\n",
    "You are not bound to only use decorators on functions or methods; you can also use a decorator on a class. Consider the following now-familiar code:"
   ]
  },
  {
   "cell_type": "code",
   "execution_count": 56,
   "id": "9562bfee-cdfd-41ba-a91b-6e942e53a094",
   "metadata": {},
   "outputs": [
    {
     "name": "stdout",
     "output_type": "stream",
     "text": [
      "I am Peckish\n",
      "This is George his function\n",
      "I need a snacky\n",
      "This is George his function\n"
     ]
    },
    {
     "data": {
      "text/plain": [
       "'Lolo did you know that George is a rhino?'"
      ]
     },
     "execution_count": 56,
     "metadata": {},
     "output_type": "execute_result"
    }
   ],
   "source": [
    "from functools import wraps\n",
    "\n",
    "\n",
    "def croc(func):\n",
    "    @wraps(func)\n",
    "    def wrapper_george(*args, **kwargs):\n",
    "        # Do something before\n",
    "        print(\"I am Peckish\")\n",
    "        func(*args, **kwargs)\n",
    "        # Do something after\n",
    "        print(\"I need a snacky\")\n",
    "        return func(*args, **kwargs)\n",
    "\n",
    "    return wrapper_george\n",
    "\n",
    "\n",
    "@croc\n",
    "def george(name) -> str:\n",
    "    print(\"This is George his function\")\n",
    "    return f\"{name} did you know that George is a rhino?\"\n",
    "\n",
    "\n",
    "george(\"Lolo\")"
   ]
  },
  {
   "cell_type": "markdown",
   "id": "114ef443-9139-4f58-acdd-79c026c70485",
   "metadata": {},
   "source": [
    "It was quite easy for Croc to wrap George's function, but what if George is a class with several methods? Of course, we could opt to decorate all methods individually, but that is surely not very DRY (don't repeat yourself). We can do better; we can decorate the entire class. "
   ]
  },
  {
   "cell_type": "code",
   "execution_count": 57,
   "id": "cdadf72d-bbbc-48ee-b424-d228ab6b781a",
   "metadata": {},
   "outputs": [],
   "source": [
    "def crocs_class_decorator(cls):  # 1\n",
    "    for name, val in vars(cls).items():  # 2\n",
    "        if callable(val):  # 3\n",
    "            setattr(cls, name, croc(val))  # 4\n",
    "    return cls"
   ]
  },
  {
   "cell_type": "markdown",
   "id": "6467ee90-253e-4911-ad3b-a116ef400083",
   "metadata": {},
   "source": [
    "#### Code comment\n",
    "1. Notice how a class in Python is essentially just an object. In Python, we can use an object as a first-class citizen: it can be used as an argument, it can be modified in a function, and it can be used as a return value. If you are used to other languages, this design simplicity should be appreciated. It is the reason why, in my opinion, Python is a much better programming language than it gets credit for.\n",
    "2. vars(cls) returns the `__dict__` attribute for a module, class, instance, or any other object with a `__dict__` attribute. `items` is a standard method of dictionaries. \n",
    "3. Callable returns True if the argument is callable, that is, if the argument implements the `__call__` method. Methods, functions, classes, and modules are all callable.\n",
    "4. If the value is a callable (class or method), we wrap it with our decorator `croc(val)` and reinject it in the same class via the'setattr` function. Now all callables in that class will be decorated.\n"
   ]
  },
  {
   "cell_type": "code",
   "execution_count": 58,
   "id": "325c576b-5d7e-416c-8388-e07fd040da0e",
   "metadata": {},
   "outputs": [],
   "source": [
    "@crocs_class_decorator\n",
    "class MultipleGeorge:\n",
    "\n",
    "    def george1(self, name: str) -> str:\n",
    "        print(\"George is a rhino!\")\n",
    "        return f\"hi {name}!\"\n",
    "\n",
    "    def george2(self, name: str) -> str:\n",
    "        print(\"George is a woolly rhino!\")\n",
    "        return f\"hi {name}!\"\n",
    "\n",
    "    def george3(self, name: str) -> str:\n",
    "        print(\"George is a grey rhino!\")\n",
    "        return f\"hi {name}!\"\n",
    "\n",
    "    def george4(self, name: str) -> str:\n",
    "        print(\"George is a physicist & a rhino!\")\n",
    "        return f\"hi {name}!\""
   ]
  },
  {
   "cell_type": "code",
   "execution_count": 59,
   "id": "7c7c3497-d135-46ab-a463-189d857b719d",
   "metadata": {},
   "outputs": [
    {
     "name": "stdout",
     "output_type": "stream",
     "text": [
      "I am Peckish\n",
      "George is a woolly rhino!\n",
      "I need a snacky\n",
      "George is a woolly rhino!\n"
     ]
    },
    {
     "data": {
      "text/plain": [
       "'hi Croc!'"
      ]
     },
     "execution_count": 59,
     "metadata": {},
     "output_type": "execute_result"
    }
   ],
   "source": [
    "mg = MultipleGeorge()\n",
    "mg.george2(\"Croc\")"
   ]
  },
  {
   "cell_type": "code",
   "execution_count": 60,
   "id": "7a71ba1f-e099-4985-969a-541cc907ec9a",
   "metadata": {},
   "outputs": [
    {
     "name": "stdout",
     "output_type": "stream",
     "text": [
      "I am Peckish\n",
      "George is a physicist & a rhino!\n",
      "I need a snacky\n",
      "George is a physicist & a rhino!\n"
     ]
    },
    {
     "data": {
      "text/plain": [
       "'hi Croc!'"
      ]
     },
     "execution_count": 60,
     "metadata": {},
     "output_type": "execute_result"
    }
   ],
   "source": [
    "mg.george4(\"Croc\")"
   ]
  },
  {
   "cell_type": "markdown",
   "id": "2871db67-2f3d-4737-b23c-9f9d9080376e",
   "metadata": {},
   "source": [
    "#### Data classes\n",
    "With Python 3.7 introduced the `dataclasses` module with the @dataclass decorator, I would advocate the use of data classes for four reasons:\n",
    "1. Data classes bring consistency to the development of classes.\n",
    "2. Data classes solve the empty list as a default value problem.\n",
    "3. Data classes allow for the easy use of Python's special methods and thus make better use of the Python data model in your code.\n",
    "4. Immutability of objects.\n",
    " \n",
    "If you are interested in the second point, I would advise you to read the Objects & Classes notebook. At the end, I explain what the empty list as default value problem is and how data classes solve it.\n",
    "\n",
    "Here, I want to foremost focus on the first point, third point, and fourth point. Every Python developer knows at least a few ways with which we write a class in Python. "
   ]
  },
  {
   "cell_type": "code",
   "execution_count": 61,
   "id": "c2d32929-79ae-4c54-b6c0-31aa9745a7cc",
   "metadata": {},
   "outputs": [],
   "source": [
    "class ExampleOne:\n",
    "\n",
    "    def __init__(self, att_one, att_two, att_three):\n",
    "        self.att_one = att_one\n",
    "        self.att_two = att_two\n",
    "        self.att_three = att_three\n",
    "\n",
    "        def __str__(self):\n",
    "            return f\"This class {type(self).__name__} is written without the dataclasses module\"\n",
    "\n",
    "\n",
    "class ExampleTwo:\n",
    "\n",
    "    def __init__(self):\n",
    "        self.att_one = 1\n",
    "        self.att_two = \"two\"\n",
    "        self.att_three = True\n",
    "\n",
    "        def __str__(self):\n",
    "            return f\"This class {type(self).__name__} is written without the dataclasses module\"\n",
    "\n",
    "\n",
    "class ExampleThree:\n",
    "    att_one = 1\n",
    "    att_two = \"two\"\n",
    "    att_three = True\n",
    "\n",
    "    def __str__(self):\n",
    "        return f\"This class {type(self).__name__} is written without the dataclasses module\"\n",
    "\n",
    "\n",
    "class ExampleFour:\n",
    "\n",
    "    def __init__(self, att_one=1, att_two=\"two\", att_three=True):\n",
    "        self.att_one = att_one\n",
    "        self.att_two = att_two\n",
    "        self.att_three = att_three\n",
    "\n",
    "    def __str__(self):\n",
    "        return f\"This class {type(self).__name__} is written without the dataclasses module\""
   ]
  },
  {
   "cell_type": "markdown",
   "id": "8188f3fc-bcae-4c8c-8c74-73531d05526d",
   "metadata": {},
   "source": [
    "You can even create a class using the `type` built-in function, which can operate as a class factory."
   ]
  },
  {
   "cell_type": "code",
   "execution_count": 82,
   "id": "dcbfb162-65e1-40bc-95b6-f345ccdefab9",
   "metadata": {},
   "outputs": [
    {
     "name": "stdout",
     "output_type": "stream",
     "text": [
      "This class ExampleFive is written without the dataclasses module\n"
     ]
    }
   ],
   "source": [
    "def __str__(self):\n",
    "    return f\"This class {type(self).__name__} is written without the dataclasses module\"\n",
    "\n",
    "\n",
    "ExampleFive = type(\n",
    "    \"ExampleFive\",\n",
    "    (),\n",
    "    {\n",
    "        \"att_one\": 1,\n",
    "        \"att_two\": True,\n",
    "        \"att_three\": \"George get out of bed!\",\n",
    "        \"__str__\": __str__,\n",
    "    },\n",
    ")\n",
    "five = ExampleFive()\n",
    "print(five)"
   ]
  },
  {
   "cell_type": "code",
   "execution_count": 67,
   "id": "bb442651-a5d1-43e3-9b5b-10ab5b64f1b1",
   "metadata": {},
   "outputs": [
    {
     "data": {
      "text/plain": [
       "'George get out of bed!'"
      ]
     },
     "execution_count": 67,
     "metadata": {},
     "output_type": "execute_result"
    }
   ],
   "source": [
    "five.att_three"
   ]
  },
  {
   "cell_type": "markdown",
   "id": "2b83d717-c1e2-4316-9f70-e914a5a53363",
   "metadata": {},
   "source": [
    "The first four are quite common ways to see a class created in Python. The last manner is a form of metaprogramming, a technique where computer programs have the ability to use other programs as their data. I think most Python developers have never seen this technique also do not need metaprogramming, Python has other techniques for generic programming. \n",
    "\n",
    "These different ways of creating classes are confusing, and not only for beginning programmers. Furthermore, I suggest that having that many possibilities to create a class inevitably leads to faults.\n",
    "\n",
    "Python dataclasses present a sixth manner with which to create a class. Dataclasses provide what can be best viewed as a framework for building classes consistently. A Python dataclass uses typed fields to hold the data attributes (and class attributes) that represent state and has methods to change that state. Dataclasses thus follow the theoretical class model more closely, which makes sure that programmers from different object-oriented languages understand a Python class intuitively. As important, dataclasses provide consistency in class development.\n",
    "\n",
    "As dataclasses uses normal class definition syntax, you are free to use inheritance, metaclasses, docstrings, user-defined methods, class factories, and other Python class features.\n"
   ]
  },
  {
   "cell_type": "code",
   "execution_count": 77,
   "id": "be816134-d57c-49df-819c-e1e4478dc292",
   "metadata": {},
   "outputs": [],
   "source": [
    "from dataclasses import dataclass, field\n",
    "\n",
    "\n",
    "@dataclass\n",
    "class ExampleSix:\n",
    "    # attributes\n",
    "    att_one: int\n",
    "    att_two: str\n",
    "    att_three: bool\n",
    "\n",
    "    # methods\n",
    "    def __str__(self):\n",
    "        return (\n",
    "            f\"This class {type(self).__name__} is written with the dataclasses module\"\n",
    "        )"
   ]
  },
  {
   "cell_type": "code",
   "execution_count": 83,
   "id": "49d60115-60d3-470a-b64f-35b0d521b08b",
   "metadata": {},
   "outputs": [
    {
     "name": "stdout",
     "output_type": "stream",
     "text": [
      "This class ExampleSix is written with the dataclasses module\n"
     ]
    }
   ],
   "source": [
    "six = ExampleSix(att_one=1, att_two=\"two\", att_three=True)\n",
    "print(six)"
   ]
  },
  {
   "cell_type": "markdown",
   "id": "572ee32e-d76e-4e2f-bdd5-acad394fa1e3",
   "metadata": {},
   "source": [
    "#### **Typing**\n",
    "As Eric V. Smith writes in [PEP 557](https://peps.python.org/pep-0557/), data classes can be thought of as “mutable namedtuples with defaults.\" Data classes don't use the instance and class variables that you are used to. Instead, data classes use fields. A field is an attribute with a type. The interpreter checks this when a class is created but does not enforce that the instance object uses the stated types (that would make Python a static language; it never will be, according to Guido van Rossum). Data classes, however, allow you to create a \"static\" version of Python by using a type checker like [MyPy](https://mypy.readthedocs.io/en/stable/). But remember that you can still run the code even if MyPy signals the wrong types are used. In static-typed languages like Haskell and Java, the compiler would quite literally bite your head off.\n",
    "\n",
    "Perhaps a bit oddly, Python throws a NameError if you define a field without a type.\n"
   ]
  },
  {
   "cell_type": "code",
   "execution_count": 84,
   "id": "c8930a65-1bbb-4261-a34d-10e2f25c37c9",
   "metadata": {},
   "outputs": [
    {
     "ename": "NameError",
     "evalue": "name 'att_one' is not defined",
     "output_type": "error",
     "traceback": [
      "\u001b[0;31m---------------------------------------------------------------------------\u001b[0m",
      "\u001b[0;31mNameError\u001b[0m                                 Traceback (most recent call last)",
      "\u001b[0;32m/tmp/ipykernel_18964/3690961637.py\u001b[0m in \u001b[0;36m<module>\u001b[0;34m\u001b[0m\n\u001b[1;32m      3\u001b[0m \u001b[0;34m\u001b[0m\u001b[0m\n\u001b[1;32m      4\u001b[0m \u001b[0;34m@\u001b[0m\u001b[0mdataclass\u001b[0m\u001b[0;34m\u001b[0m\u001b[0;34m\u001b[0m\u001b[0m\n\u001b[0;32m----> 5\u001b[0;31m \u001b[0;32mclass\u001b[0m \u001b[0mExampleSeven\u001b[0m\u001b[0;34m:\u001b[0m\u001b[0;34m\u001b[0m\u001b[0;34m\u001b[0m\u001b[0m\n\u001b[0m\u001b[1;32m      6\u001b[0m     \u001b[0;31m# attributes\u001b[0m\u001b[0;34m\u001b[0m\u001b[0;34m\u001b[0m\u001b[0m\n\u001b[1;32m      7\u001b[0m     \u001b[0matt_one\u001b[0m\u001b[0;34m\u001b[0m\u001b[0;34m\u001b[0m\u001b[0m\n",
      "\u001b[0;32m/tmp/ipykernel_18964/3690961637.py\u001b[0m in \u001b[0;36mExampleSeven\u001b[0;34m()\u001b[0m\n\u001b[1;32m      5\u001b[0m \u001b[0;32mclass\u001b[0m \u001b[0mExampleSeven\u001b[0m\u001b[0;34m:\u001b[0m\u001b[0;34m\u001b[0m\u001b[0;34m\u001b[0m\u001b[0m\n\u001b[1;32m      6\u001b[0m     \u001b[0;31m# attributes\u001b[0m\u001b[0;34m\u001b[0m\u001b[0;34m\u001b[0m\u001b[0m\n\u001b[0;32m----> 7\u001b[0;31m     \u001b[0matt_one\u001b[0m\u001b[0;34m\u001b[0m\u001b[0;34m\u001b[0m\u001b[0m\n\u001b[0m\u001b[1;32m      8\u001b[0m     \u001b[0matt_two\u001b[0m\u001b[0;34m:\u001b[0m \u001b[0mstr\u001b[0m\u001b[0;34m\u001b[0m\u001b[0;34m\u001b[0m\u001b[0m\n\u001b[1;32m      9\u001b[0m     \u001b[0matt_three\u001b[0m\u001b[0;34m:\u001b[0m \u001b[0mbool\u001b[0m\u001b[0;34m\u001b[0m\u001b[0;34m\u001b[0m\u001b[0m\n",
      "\u001b[0;31mNameError\u001b[0m: name 'att_one' is not defined"
     ]
    }
   ],
   "source": [
    "from dataclasses import dataclass, field\n",
    "\n",
    "\n",
    "@dataclass\n",
    "class ExampleSeven:\n",
    "    # attributes\n",
    "    att_one\n",
    "    att_two: str\n",
    "    att_three: bool\n",
    "\n",
    "    # methods\n",
    "    def __str__(self):\n",
    "        return (\n",
    "            f\"This class {type(self).__name__} is written with the dataclasses module\"\n",
    "        )"
   ]
  },
  {
   "cell_type": "code",
   "execution_count": 80,
   "id": "8b0840fe-a88e-4ef1-9b0b-5ec8fed5de99",
   "metadata": {},
   "outputs": [
    {
     "data": {
      "text/plain": [
       "ExampleSix(att_one=3.7, att_two=0, att_three='George')"
      ]
     },
     "execution_count": 80,
     "metadata": {},
     "output_type": "execute_result"
    }
   ],
   "source": [
    "six = ExampleSix(3.7, 0, \"George\")\n",
    "six"
   ]
  },
  {
   "cell_type": "markdown",
   "id": "5a5b0703-14be-4119-8772-7c9c0852fa78",
   "metadata": {},
   "source": [
    "You can use default values in classes with fields, but you need to make sure that fields with default values come after fields with no values. If you want an empty list, set, or tuple as the default value, you need to use the field factory function from the `dataclasses` module.\n",
    "\n",
    "You can also use class variables; you just need to annotate them as such."
   ]
  },
  {
   "cell_type": "code",
   "execution_count": 85,
   "id": "8d9642ac-7b58-45fa-ae5c-2acbb96cec4c",
   "metadata": {},
   "outputs": [],
   "source": [
    "from dataclasses import dataclass, field\n",
    "from typing import ClassVar\n",
    "\n",
    "\n",
    "@dataclass\n",
    "class ExampleSix:\n",
    "    # attributes\n",
    "    att_one: int\n",
    "    att_two: str\n",
    "    att_three: bool\n",
    "\n",
    "    # class variables\n",
    "    cvar: ClassVar[int] = 0\n",
    "\n",
    "    # default values\n",
    "    att_four: list[str] = field(default_factory=list)\n",
    "    att_five: set[int] = field(default_factory=set)\n",
    "\n",
    "    # methods\n",
    "    def __str__(self):\n",
    "        return (\n",
    "            f\"This class {type(self).__name__} is written with the dataclasses module\"\n",
    "        )"
   ]
  },
  {
   "cell_type": "code",
   "execution_count": 86,
   "id": "cb06c0f4-5cec-488e-b21c-1bc82b355d9c",
   "metadata": {},
   "outputs": [
    {
     "data": {
      "text/plain": [
       "{'att_one': 1,\n",
       " 'att_two': 'George',\n",
       " 'att_three': True,\n",
       " 'att_four': [],\n",
       " 'att_five': set()}"
      ]
     },
     "execution_count": 86,
     "metadata": {},
     "output_type": "execute_result"
    }
   ],
   "source": [
    "six = ExampleSix(1, \"George\", True)\n",
    "six.__dict__"
   ]
  },
  {
   "cell_type": "code",
   "execution_count": 87,
   "id": "dd4b254d-951b-4f65-8502-b7951f32b016",
   "metadata": {},
   "outputs": [
    {
     "data": {
      "text/plain": [
       "{'att_one': Field(name='att_one',type=<class 'int'>,default=<dataclasses._MISSING_TYPE object at 0x7f179de3de40>,default_factory=<dataclasses._MISSING_TYPE object at 0x7f179de3de40>,init=True,repr=True,hash=None,compare=True,metadata=mappingproxy({}),kw_only=False,_field_type=_FIELD),\n",
       " 'att_two': Field(name='att_two',type=<class 'str'>,default=<dataclasses._MISSING_TYPE object at 0x7f179de3de40>,default_factory=<dataclasses._MISSING_TYPE object at 0x7f179de3de40>,init=True,repr=True,hash=None,compare=True,metadata=mappingproxy({}),kw_only=False,_field_type=_FIELD),\n",
       " 'att_three': Field(name='att_three',type=<class 'bool'>,default=<dataclasses._MISSING_TYPE object at 0x7f179de3de40>,default_factory=<dataclasses._MISSING_TYPE object at 0x7f179de3de40>,init=True,repr=True,hash=None,compare=True,metadata=mappingproxy({}),kw_only=False,_field_type=_FIELD),\n",
       " 'cvar': Field(name='cvar',type=typing.ClassVar[int],default=0,default_factory=<dataclasses._MISSING_TYPE object at 0x7f179de3de40>,init=True,repr=True,hash=None,compare=True,metadata=mappingproxy({}),kw_only=<dataclasses._MISSING_TYPE object at 0x7f179de3de40>,_field_type=_FIELD_CLASSVAR),\n",
       " 'att_four': Field(name='att_four',type=list[str],default=<dataclasses._MISSING_TYPE object at 0x7f179de3de40>,default_factory=<class 'list'>,init=True,repr=True,hash=None,compare=True,metadata=mappingproxy({}),kw_only=False,_field_type=_FIELD),\n",
       " 'att_five': Field(name='att_five',type=set[int],default=<dataclasses._MISSING_TYPE object at 0x7f179de3de40>,default_factory=<class 'set'>,init=True,repr=True,hash=None,compare=True,metadata=mappingproxy({}),kw_only=False,_field_type=_FIELD)}"
      ]
     },
     "execution_count": 87,
     "metadata": {},
     "output_type": "execute_result"
    }
   ],
   "source": [
    "six.__dataclass_fields__"
   ]
  },
  {
   "cell_type": "markdown",
   "id": "8189cdaa-7079-41db-b8da-0a7da0e08a3a",
   "metadata": {},
   "source": [
    "#### Immutability\n",
    "[Immutability](https://web.mit.edu/6.005/www/fa15/classes/09-immutability/) is one of the core principles of functional programming. It refers to the property that an entity can't be modified after being instantiated. Immutability allows you to write safer, cleaner code that is easier to test. After all, if an object cannot change its state, everything that depends on that object can trust that state to remain the same.\n",
    "\n",
    "Python, of course, knows immutable objects, such as strings or tuples. With dataclasses, we can make our objects immutable. Consider the following case: An `EmailUser` object: should such an object remain, or should the object be destroyed if a user decides to have a new email address? "
   ]
  },
  {
   "cell_type": "code",
   "execution_count": 89,
   "id": "4a15e451-fe9d-4bab-b1ba-8dc3480f251d",
   "metadata": {},
   "outputs": [],
   "source": [
    "from dataclasses import dataclass\n",
    "\n",
    "\n",
    "@dataclass\n",
    "class EmailUser:\n",
    "    user: str\n",
    "    address: str"
   ]
  },
  {
   "cell_type": "code",
   "execution_count": 90,
   "id": "d1368a93-0a35-41a6-ada8-6bc04073c594",
   "metadata": {},
   "outputs": [
    {
     "data": {
      "text/plain": [
       "EmailUser(user='Croc', address='iampeckesh@feedme.com')"
      ]
     },
     "execution_count": 90,
     "metadata": {},
     "output_type": "execute_result"
    }
   ],
   "source": [
    "croc_mail = EmailUser(user=\"Croc\", address=\"iampeckesh@feedme.com\")\n",
    "croc_mail"
   ]
  },
  {
   "cell_type": "code",
   "execution_count": 91,
   "id": "1f525179-8212-44e6-bc81-469d07911bbd",
   "metadata": {},
   "outputs": [
    {
     "data": {
      "text/plain": [
       "139738921577888"
      ]
     },
     "execution_count": 91,
     "metadata": {},
     "output_type": "execute_result"
    }
   ],
   "source": [
    "id(croc_mail)"
   ]
  },
  {
   "cell_type": "markdown",
   "id": "96050bba-66e9-4f15-b3fb-3c93fcda9fa8",
   "metadata": {},
   "source": [
    "The question now becomes do you think that if croc decides to change his email address to:\n",
    "\n",
    "`ineedablueheron@snackies.com` \n",
    "\n",
    "The old croc_mail object should stay or that we should do:\n"
   ]
  },
  {
   "cell_type": "code",
   "execution_count": 92,
   "id": "c9ac6827-63b5-49b6-bb08-ebfde2b896bb",
   "metadata": {},
   "outputs": [],
   "source": [
    "del croc_mail"
   ]
  },
  {
   "cell_type": "code",
   "execution_count": 93,
   "id": "99f9882d-6b05-4e25-9f5b-6acb2e83bd0a",
   "metadata": {},
   "outputs": [
    {
     "data": {
      "text/plain": [
       "EmailUser(user='Croc', address='ineedablueheron@snackies.com')"
      ]
     },
     "execution_count": 93,
     "metadata": {},
     "output_type": "execute_result"
    }
   ],
   "source": [
    "croc_mail = EmailUser(user=\"Croc\", address=\"ineedablueheron@snackies.com\")\n",
    "croc_mail"
   ]
  },
  {
   "cell_type": "code",
   "execution_count": 94,
   "id": "c0698570-ded9-4e29-9d34-8c272aa37c96",
   "metadata": {},
   "outputs": [
    {
     "data": {
      "text/plain": [
       "139738921571984"
      ]
     },
     "execution_count": 94,
     "metadata": {},
     "output_type": "execute_result"
    }
   ],
   "source": [
    "id(croc_mail)"
   ]
  },
  {
   "cell_type": "markdown",
   "id": "030cfe5f-ec01-4e48-ba8d-3f2d50061504",
   "metadata": {},
   "source": [
    "#### The bigger picture\n",
    "To answer this question, you need to see the bigger picture. Objects in large programs often depend on information in other objects.\n",
    "\n",
    "If we have an object x that depends on the information of croc_mail.address to be `iampeckesh@feedme.com` and we change the address the x object might not perform its function and we have created a bug. Of course, you might say that the x object should depend on the croc_mail object, but that would be high coupling, which is an objected-oriented design faux pas.\n",
    "\n",
    "An email user is uniquely identifiable by its email address, after all we have many a John Smith, yet only one john.smith@protonmail.com. To change the address is to fundamentally change the email user. You should delete the object and create a new one. \n",
    "\n",
    "With data classes I can create immutable objects, trying to change a field will result in a FrozenInstanceError.\n"
   ]
  },
  {
   "cell_type": "code",
   "execution_count": 95,
   "id": "b781ee5d-550b-4a6f-9c2f-290a50698d27",
   "metadata": {},
   "outputs": [],
   "source": [
    "from dataclasses import dataclass\n",
    "\n",
    "\n",
    "@dataclass(frozen=True)\n",
    "class EmailUser:\n",
    "    user: str\n",
    "    address: str"
   ]
  },
  {
   "cell_type": "code",
   "execution_count": 96,
   "id": "0a6184db-76f9-4b13-967a-5b493efe494c",
   "metadata": {},
   "outputs": [
    {
     "data": {
      "text/plain": [
       "EmailUser(user='Croc', address='iampeckesh@feedme.com')"
      ]
     },
     "execution_count": 96,
     "metadata": {},
     "output_type": "execute_result"
    }
   ],
   "source": [
    "croc_mail = EmailUser(user=\"Croc\", address=\"iampeckesh@feedme.com\")\n",
    "croc_mail"
   ]
  },
  {
   "cell_type": "code",
   "execution_count": 97,
   "id": "81023692-0b71-4b82-8f0a-253104a11189",
   "metadata": {},
   "outputs": [
    {
     "ename": "FrozenInstanceError",
     "evalue": "cannot assign to field 'address'",
     "output_type": "error",
     "traceback": [
      "\u001b[0;31m---------------------------------------------------------------------------\u001b[0m",
      "\u001b[0;31mFrozenInstanceError\u001b[0m                       Traceback (most recent call last)",
      "\u001b[0;32m/tmp/ipykernel_18964/4198319643.py\u001b[0m in \u001b[0;36m<module>\u001b[0;34m\u001b[0m\n\u001b[0;32m----> 1\u001b[0;31m \u001b[0mcroc_mail\u001b[0m\u001b[0;34m.\u001b[0m\u001b[0maddress\u001b[0m \u001b[0;34m=\u001b[0m \u001b[0;34m\"ineedablueheron@snackies.com\"\u001b[0m\u001b[0;34m\u001b[0m\u001b[0;34m\u001b[0m\u001b[0m\n\u001b[0m",
      "\u001b[0;32m<string>\u001b[0m in \u001b[0;36m__setattr__\u001b[0;34m(self, name, value)\u001b[0m\n",
      "\u001b[0;31mFrozenInstanceError\u001b[0m: cannot assign to field 'address'"
     ]
    }
   ],
   "source": [
    "croc_mail.address = \"ineedablueheron@snackies.com\""
   ]
  },
  {
   "cell_type": "markdown",
   "id": "224d425f-ef60-439b-94de-8d2c8adb6a75",
   "metadata": {},
   "source": [
    "#### **The Python data model**\n",
    "Dataclasses allow for the easy use of Python's special methods. Using special methods allows you to:\n",
    "1. Make better use of the rich Python standard library and the Python Data Model.\n",
    "2. Standard operations can be used, called standard functions, and can have the same name throughout classes.\n",
    "3. Create clear and concise APIs that other programmers will understand because you build them on familiar methods. \n",
    "\n",
    "You have, of course, observed that all example classes have the `__str__` method. This is a special method; Python has 80 of them. You don't call these 80 special methods yourself; they are linked with functions like `len` and `print` or operators (which are also functions, of course) like `+` and `%`. Other programmers and serious Python developers expect you to have used these special methods. \n",
    "\n",
    "Dataclasses give you access to all of them without having to inherit them. No base classes or metaclasses are used by data classes. Users of these classes are free to use inheritance and metaclasses without any interference from dataclasses. The decorated classes are truly “normal” Python classes. The data class decorator should not interfere with any usage of the class.\n",
    "\n",
    "Data classes come with many special methods predefined for you, e.g., `__repr__` or `__data__`. So that you can call on a clear `help` function for your classes or a clear'repr`. Others, like '__hash__', you would have to implement yourself.\n",
    "\n",
    "For more information, I will refer you to PEP 557: https://peps.python.org/pep-0557/ and https://docs.python.org/3/reference/datamodel.html#.\n",
    "\n",
    "Below is an example of how we can leverage special methods and do operator overloading in a class we define."
   ]
  },
  {
   "cell_type": "code",
   "execution_count": 112,
   "id": "6a69e6da-3d12-4c79-89c3-d130c472c602",
   "metadata": {},
   "outputs": [],
   "source": [
    "from __future__ import annotations  # allows me to do self referential typing\n",
    "\n",
    "from dataclasses import dataclass, field\n",
    "\n",
    "\n",
    "@dataclass\n",
    "class Vector:\n",
    "    \"\"\"a vector in multidimensional space\"\"\"\n",
    "\n",
    "    dim: int\n",
    "    coordinates: list[int] = field(default_factory=list)\n",
    "\n",
    "    def __post_init__(self) -> None:\n",
    "        \"\"\"creates a zero vector of the correct dimensions, directly after initialization\"\"\"\n",
    "        self.coordinates = self.dim * [0]\n",
    "\n",
    "    def __len__(self) -> int:\n",
    "        \"\"\"returns the dimensionality of the vector, which can now be called by using the built-in len function\"\"\"\n",
    "        return self.dim\n",
    "\n",
    "    def __getitem__(self, i: int) -> int:\n",
    "        \"\"\"returns the i-th coordinate, start counting on 0\"\"\"\n",
    "        if 0 > i or i > self.dim:\n",
    "            raise ValueError(f\"this vector has {self.dim} dimensions\")\n",
    "        return self.coordinates[i]\n",
    "\n",
    "    def __setitem__(self, i: int, value: int) -> None:\n",
    "        \"\"\"set the i-th coordinate from 0\"\"\"\n",
    "        if 0 > i or i > self.dim:\n",
    "            raise ValueError(f\"this vector has {self.dim} dimensions\")\n",
    "        if type(value) != int:\n",
    "            raise ValueError(\"the coordinates of the vectors need to be an int\")\n",
    "        self.coordinates[i] = value\n",
    "\n",
    "    def fill_vector(self, values: list[int]) -> None:\n",
    "        for i in range(self.dim):\n",
    "            self[i] = values[i]\n",
    "\n",
    "    def __add__(self, other: Vector) -> Vector:\n",
    "        if self.dim != len(other):\n",
    "            raise ValueError(\"The vector dimensions must agree\")\n",
    "        result = Vector(self.dim)\n",
    "        for i in range(self.dim):\n",
    "            result[i] = self[i] + other[i]\n",
    "        return result\n",
    "\n",
    "    def __ne__(self, other: Vector) -> bool:\n",
    "        return not all([self[i] == other[i] for i in range(self.dim)])\n",
    "\n",
    "    def __eq__(self, other: Vector) -> bool:\n",
    "        return all([self[i] == other[i] for i in range(self.dim)])\n",
    "\n",
    "    def __str__(self) -> str:\n",
    "        return f\"({str(self.coordinates)[1:-1]})\""
   ]
  },
  {
   "cell_type": "markdown",
   "id": "29c59ae2-5d50-4311-ac41-5d212e3f8bb1",
   "metadata": {},
   "source": [
    "#### Code comment\n",
    "This class leverages several special methods and implements the sequence class, meaning that we can use the following built-in functions and operators:\n",
    "* `len`\n",
    "* `print`\n",
    "* indexing and slicing\n",
    "* `+`\n",
    "* `!=` \n",
    "* `==`\n",
    "We can iterate over it.\n",
    "\n",
    "Below, I will show how to use this vector with operators and indexing. "
   ]
  },
  {
   "cell_type": "code",
   "execution_count": 129,
   "id": "f9ab6b54-99d4-4da5-9aa7-ea5619803bb5",
   "metadata": {},
   "outputs": [
    {
     "name": "stdout",
     "output_type": "stream",
     "text": [
      "(0, 0, 0)\n"
     ]
    }
   ],
   "source": [
    "v = Vector(3)\n",
    "print(v)"
   ]
  },
  {
   "cell_type": "code",
   "execution_count": 130,
   "id": "3208ba23-78e7-4d4b-9134-4fcf174f3a18",
   "metadata": {},
   "outputs": [],
   "source": [
    "v.fill_vector([1,2,3])"
   ]
  },
  {
   "cell_type": "markdown",
   "id": "5a7fe10b-5348-432b-8104-3ddfc7a67849",
   "metadata": {},
   "source": [
    "We can iterate over the class"
   ]
  },
  {
   "cell_type": "code",
   "execution_count": 131,
   "id": "294c2235-0373-44d4-b581-6305f7727d6f",
   "metadata": {},
   "outputs": [
    {
     "name": "stdout",
     "output_type": "stream",
     "text": [
      "1\n",
      "2\n",
      "3\n"
     ]
    }
   ],
   "source": [
    "for c in v:\n",
    "    print(c)"
   ]
  },
  {
   "cell_type": "code",
   "execution_count": 132,
   "id": "53c2fead-03f4-4e4b-9336-41a35b519d6c",
   "metadata": {},
   "outputs": [],
   "source": [
    "w = Vector(3)\n",
    "w.fill_vector([2,3,4])"
   ]
  },
  {
   "cell_type": "markdown",
   "id": "287c4e2e-fc75-41c9-aa0e-2882ca1decb7",
   "metadata": {},
   "source": [
    "We can use the `+`-operator. "
   ]
  },
  {
   "cell_type": "code",
   "execution_count": 133,
   "id": "8da7bb34-3a3a-460a-93b8-502f8ff6d076",
   "metadata": {},
   "outputs": [
    {
     "data": {
      "text/plain": [
       "Vector(dim=3, coordinates=[3, 5, 7])"
      ]
     },
     "execution_count": 133,
     "metadata": {},
     "output_type": "execute_result"
    }
   ],
   "source": [
    "z = v + w\n",
    "z"
   ]
  },
  {
   "cell_type": "code",
   "execution_count": 134,
   "id": "3dcf865d-7163-4222-94d7-61064a0b0ef9",
   "metadata": {},
   "outputs": [
    {
     "data": {
      "text/plain": [
       "Vector(dim=3, coordinates=[3, 5, 99])"
      ]
     },
     "execution_count": 134,
     "metadata": {},
     "output_type": "execute_result"
    }
   ],
   "source": [
    "z[2]=99\n",
    "z"
   ]
  },
  {
   "cell_type": "markdown",
   "id": "80e86276-ee4a-4f8e-8cfe-e04e89aba0c4",
   "metadata": {},
   "source": [
    "---\n",
    "#### **The end**"
   ]
  }
 ],
 "metadata": {
  "kernelspec": {
   "display_name": "Python 3 (ipykernel)",
   "language": "python",
   "name": "python3"
  },
  "language_info": {
   "codemirror_mode": {
    "name": "ipython",
    "version": 3
   },
   "file_extension": ".py",
   "mimetype": "text/x-python",
   "name": "python",
   "nbconvert_exporter": "python",
   "pygments_lexer": "ipython3",
   "version": "3.10.12"
  }
 },
 "nbformat": 4,
 "nbformat_minor": 5
}
