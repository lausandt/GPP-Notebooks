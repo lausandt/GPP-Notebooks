{
 "cells": [
  {
   "cell_type": "markdown",
   "id": "fe5962b3-1628-4915-8bc6-af8bf21b6d48",
   "metadata": {},
   "source": [
    "## **Concepts of programming**\n",
    "---\n",
    "If you want to be a better programmer, it is important to understand certain concepts of programming languages. Of course, I will focus on Python, but just to make a point, some Haskell could pop up as a comparison. I am going to keep this pretty terse, as it might be a tad boring. I will start with the fact that many programmers have a less than solid idea of what a variable is. They confuse the concepts of value, binding, and variable. One of those misapprehensions is that identifier in the following code is a variable."
   ]
  },
  {
   "cell_type": "code",
   "execution_count": 1,
   "id": "8f658dc3-36a9-42be-a306-5bca16ad049f",
   "metadata": {},
   "outputs": [
    {
     "data": {
      "text/plain": [
       "[1, 2, 3, 4, 5, 6, 7, 8, 9, 10]"
      ]
     },
     "execution_count": 1,
     "metadata": {},
     "output_type": "execute_result"
    }
   ],
   "source": [
    "identifier = [n for n in range(1,11)]\n",
    "identifier"
   ]
  },
  {
   "cell_type": "markdown",
   "id": "a2e1569d-5f70-425b-9543-c09582eb5e1f",
   "metadata": {},
   "source": [
    "#### **Formal definitions**\n",
    "\n",
    "`identifier` is an identifier; it binds a human-readable name (hopefully a bit more meaningful than this one) to the variable. \n",
    "\n",
    "The list on the right side of the allocation, `[n for n in range(1,11)]` is also not the variable; it is the value. But what, then, is the variable? A variable in Python is a container for the value. The container is a location in memory where the value is stored, which can be inspected at will by using the binding. In languages like Python, the value in the container can be changed via assignment.\n",
    "\n",
    "This leads us to the following formal definitions:\n",
    "\n",
    "- **Variable**: a variable is a container; the container is a memory cell (or multiple) with an address. The container contains a value.\n",
    "- **Value**: A value is an entity that can be manipulated by a program. Values can be evaluated, stored, passed as arguments, or returned as function results. Python supports primitive values like int, float, and bool, and it supports composed values like arrays and objects. \n",
    "- **Binding**: a binding is made up of an identifier that is bound to a bindable entity. In Python, these bindables are values, attributes, methods, objects, packages, etc. \n",
    "- **Identifier**: a human-readable name that is used as part of a binding. You call a bindable via the identifier.\n"
   ]
  },
  {
   "cell_type": "code",
   "execution_count": 3,
   "id": "8cec81a1-4a3f-4e68-959a-d79daed8056c",
   "metadata": {},
   "outputs": [
    {
     "name": "stdout",
     "output_type": "stream",
     "text": [
      "The value of six(4) = 6\n"
     ]
    }
   ],
   "source": [
    "def plus2(n:int)->int:\n",
    "    return n + 2\n",
    "\n",
    "six = plus2 # x gets bound to the function plus2 \n",
    "\n",
    "print(f'The value of six(4) = {six(4)}')"
   ]
  },
  {
   "cell_type": "markdown",
   "id": "c40b6e7b-5874-4d64-a7c0-157ee5fac812",
   "metadata": {},
   "source": [
    "Let me prove that my definition of a variable is correct."
   ]
  },
  {
   "cell_type": "code",
   "execution_count": 4,
   "id": "8d9dcb44-84a9-4907-a3d0-fb913f4ced72",
   "metadata": {},
   "outputs": [
    {
     "data": {
      "text/plain": [
       "[1, 2, 3, 4, 5, 6, 7, 8, 9, 10]"
      ]
     },
     "execution_count": 4,
     "metadata": {},
     "output_type": "execute_result"
    }
   ],
   "source": [
    "one = [n for n in range(1,11)]\n",
    "one"
   ]
  },
  {
   "cell_type": "code",
   "execution_count": 5,
   "id": "7b672397-79e8-4a95-a49f-306c1434d740",
   "metadata": {},
   "outputs": [
    {
     "data": {
      "text/plain": [
       "[1, 2, 3, 4, 5, 6, 7, 8, 9, 10]"
      ]
     },
     "execution_count": 5,
     "metadata": {},
     "output_type": "execute_result"
    }
   ],
   "source": [
    "two = one \n",
    "two"
   ]
  },
  {
   "cell_type": "code",
   "execution_count": 6,
   "id": "4d31f0ee-1c1f-4d51-a234-59b6c473b3b9",
   "metadata": {},
   "outputs": [
    {
     "data": {
      "text/plain": [
       "[1, 2, 3, 4, 5, 6, 7, 8, 9, 10, 11]"
      ]
     },
     "execution_count": 6,
     "metadata": {},
     "output_type": "execute_result"
    }
   ],
   "source": [
    "two.append(11)\n",
    "two"
   ]
  },
  {
   "cell_type": "markdown",
   "id": "8a007be6-aef4-4e3f-90fc-210b00b8706b",
   "metadata": {},
   "source": [
    "#### Proof\n",
    "What will the value of one be? If I am incorrect, then the variable is actually one = `[1, 2, 3, 4, 5, 6, 7, 8, 9, 10]`. Nothing should have happened after all; I didn't change anything to `one`. However, if I am correct and a variable is a container (memory cell) that holds a value and that can be accessed by an identifier, then two identifies the same memory cell and has access to the value stored therein, and by changing that value, I did change it for one."
   ]
  },
  {
   "cell_type": "code",
   "execution_count": 7,
   "id": "64aecd31-c095-4a63-b6b9-ea0a95954c6d",
   "metadata": {},
   "outputs": [
    {
     "data": {
      "text/plain": [
       "[1, 2, 3, 4, 5, 6, 7, 8, 9, 10, 11]"
      ]
     },
     "execution_count": 7,
     "metadata": {},
     "output_type": "execute_result"
    }
   ],
   "source": [
    "one"
   ]
  },
  {
   "cell_type": "markdown",
   "id": "9bd27585-24b6-4a55-8ce6-110bebb84740",
   "metadata": {},
   "source": [
    "#### **More on variables**\n",
    "* Mathematical variables: there are more variables in programming languages; pure functional languages, such as Haskell, do not have variables as containers; they have mathematical variables, meaning a set but unknown value, e.g., x in $x^2+2x$. \n",
    "* We can also distinguish between primitive variables, those that are contained in one memory cell, and compound variables, those that are contained in multiple memory cells.\n",
    "\n",
    "As a side note, when I talk about memory, I talk about the memory on a CPU, not the main memory. In modern CPU architecture, a memory cell (a.k.a. word) is 64 bits big. (Hence the Windows Intel 64, which you sometimes see.)\n",
    "\n",
    "Python built-in types such as float, int, and complex are all primitive values. An object is an example of a compound variable and exhibits the same strange behaviour as the list from above.\n"
   ]
  },
  {
   "cell_type": "code",
   "execution_count": 13,
   "id": "92e960f0-67c9-465a-93fd-3df6c2717439",
   "metadata": {},
   "outputs": [],
   "source": [
    "import dataclasses # both dataclass and datetime are identifiers, both of a module\n",
    "import datetime\n",
    "\n",
    "@dataclasses.dataclass\n",
    "class Human:\n",
    "    firstname: str\n",
    "    surname: str\n",
    "    date_of_birth: datetime.date\n",
    "    sex: str\n",
    "    "
   ]
  },
  {
   "cell_type": "code",
   "execution_count": 14,
   "id": "6e68534b-91df-4984-b2c3-af377d5aea5b",
   "metadata": {},
   "outputs": [],
   "source": [
    "laurens = Human(firstname='Laurens', surname='Sandt', date_of_birth=datetime.date(1971,7,19), sex='male')"
   ]
  },
  {
   "cell_type": "code",
   "execution_count": 15,
   "id": "25e16dc0-4afc-423b-b6ce-c3648dc18780",
   "metadata": {},
   "outputs": [
    {
     "data": {
      "text/plain": [
       "Human(firstname='Laurens', surname='Sandt', date_of_birth=datetime.date(1971, 7, 19), sex='male')"
      ]
     },
     "execution_count": 15,
     "metadata": {},
     "output_type": "execute_result"
    }
   ],
   "source": [
    "laurens"
   ]
  },
  {
   "cell_type": "code",
   "execution_count": 16,
   "id": "cd046d11-8c72-48a9-9b18-20ba9f1755a2",
   "metadata": {},
   "outputs": [],
   "source": [
    "alias = laurens"
   ]
  },
  {
   "cell_type": "code",
   "execution_count": 17,
   "id": "973c9d5a-de60-4f47-8dc1-fab7ebbdd551",
   "metadata": {},
   "outputs": [
    {
     "data": {
      "text/plain": [
       "'female'"
      ]
     },
     "execution_count": 17,
     "metadata": {},
     "output_type": "execute_result"
    }
   ],
   "source": [
    "alias.sex='female'\n",
    "laurens.sex"
   ]
  },
  {
   "cell_type": "markdown",
   "id": "cb1ef7c6-d83a-42df-8224-fd6793c9a0f3",
   "metadata": {},
   "source": [
    "#### **Aliasing**\n",
    "I am fairly sure I am a male :-). The above problem is due to something called aliasing. Aliasing occurs when a variable can be accessed using two or more different names.\n",
    "\n",
    "Alias: an alias is multiple identifiers (names) bound to the same variable.\n",
    "\n",
    "As a variable is no more than a container for a value, we can access that value via multiple names and assign the container a new value, changing values for all identifiers bound to that variable. Aliasing is a large source of bugs, one that is difficult to debug (especially in large systems) and exceedingly difficult to find via testing. This is a repeating phenomenon in several notebooks.\n",
    "\n",
    "Python has two options to determine if there is an alias:\n",
    "1. The `is`-operator; the `is`-operator compares memory addresses.\n",
    "2. The `id()` function returns the actual memory address.\n"
   ]
  },
  {
   "cell_type": "code",
   "execution_count": 18,
   "id": "036a0a98-b74a-4940-9453-f2e05a50c16e",
   "metadata": {},
   "outputs": [
    {
     "data": {
      "text/plain": [
       "True"
      ]
     },
     "execution_count": 18,
     "metadata": {},
     "output_type": "execute_result"
    }
   ],
   "source": [
    "laurens is alias"
   ]
  },
  {
   "cell_type": "code",
   "execution_count": 19,
   "id": "05a0d04d-af5e-4a54-bd10-f66575c9dc23",
   "metadata": {},
   "outputs": [
    {
     "data": {
      "text/plain": [
       "(139777109216896, 139777109216896)"
      ]
     },
     "execution_count": 19,
     "metadata": {},
     "output_type": "execute_result"
    }
   ],
   "source": [
    "(id(laurens), id(alias))"
   ]
  },
  {
   "cell_type": "code",
   "execution_count": 20,
   "id": "b353a493-c29a-48d3-bdc8-fcda492f937b",
   "metadata": {},
   "outputs": [
    {
     "data": {
      "text/plain": [
       "True"
      ]
     },
     "execution_count": 20,
     "metadata": {},
     "output_type": "execute_result"
    }
   ],
   "source": [
    "laurens == alias"
   ]
  },
  {
   "cell_type": "markdown",
   "id": "d5b02957-11e5-44b8-b4e1-8f18c80adcd3",
   "metadata": {},
   "source": [
    "Despite the above result you can't use the `==` operator to see if something is an alias, it compares values not variables. "
   ]
  },
  {
   "cell_type": "code",
   "execution_count": 21,
   "id": "7cbc9ff2-749d-4e34-9964-4865d24932e2",
   "metadata": {},
   "outputs": [
    {
     "data": {
      "text/plain": [
       "True"
      ]
     },
     "execution_count": 21,
     "metadata": {},
     "output_type": "execute_result"
    }
   ],
   "source": [
    "f = [n for n in range(1,5)]\n",
    "g = [n for n in range(1,5)]\n",
    "f == g"
   ]
  },
  {
   "cell_type": "code",
   "execution_count": 22,
   "id": "a4b16e4b-12fc-4770-afbf-be56ee7ee554",
   "metadata": {},
   "outputs": [
    {
     "data": {
      "text/plain": [
       "(139777143081728, 139777143387264)"
      ]
     },
     "execution_count": 22,
     "metadata": {},
     "output_type": "execute_result"
    }
   ],
   "source": [
    "id(f),id(g)"
   ]
  },
  {
   "cell_type": "markdown",
   "id": "0e885e54-d555-4698-9861-758d1b51ff25",
   "metadata": {},
   "source": [
    "As you can see, the memory addresses are different; they are not aliases, something confirmed by the `is`-operator. "
   ]
  },
  {
   "cell_type": "code",
   "execution_count": 36,
   "id": "bdb55e27-920b-4d3d-a786-c8506d104b00",
   "metadata": {},
   "outputs": [
    {
     "data": {
      "text/plain": [
       "False"
      ]
     },
     "execution_count": 36,
     "metadata": {},
     "output_type": "execute_result"
    }
   ],
   "source": [
    "f is g "
   ]
  },
  {
   "cell_type": "markdown",
   "id": "4000e214-a501-4e94-b1ad-b19dacaf6d89",
   "metadata": {},
   "source": [
    "#### **`copy()` & `deepcopy()`**\n",
    "You can solve some of the problems with aliasing by using copy() instead of direct assignment."
   ]
  },
  {
   "cell_type": "code",
   "execution_count": 23,
   "id": "52bf2f4e-53aa-42fb-82cd-afca6f46a666",
   "metadata": {},
   "outputs": [
    {
     "data": {
      "text/plain": [
       "[1, 2, 3, 4, 5, 6, 7, 8, 9, 10]"
      ]
     },
     "execution_count": 23,
     "metadata": {},
     "output_type": "execute_result"
    }
   ],
   "source": [
    "one = [n for n in range(1,11)]\n",
    "two = one.copy()\n",
    "one"
   ]
  },
  {
   "cell_type": "code",
   "execution_count": 24,
   "id": "e91972a7-d357-4126-a123-1835d298308d",
   "metadata": {},
   "outputs": [
    {
     "data": {
      "text/plain": [
       "[1, 2, 3, 4, 5, 6, 7, 8, 9, 10]"
      ]
     },
     "execution_count": 24,
     "metadata": {},
     "output_type": "execute_result"
    }
   ],
   "source": [
    "two"
   ]
  },
  {
   "cell_type": "code",
   "execution_count": 25,
   "id": "3ee3cce3-720e-4ee1-9680-e6aa7664b5ef",
   "metadata": {},
   "outputs": [
    {
     "data": {
      "text/plain": [
       "True"
      ]
     },
     "execution_count": 25,
     "metadata": {},
     "output_type": "execute_result"
    }
   ],
   "source": [
    "one==two"
   ]
  },
  {
   "cell_type": "code",
   "execution_count": 26,
   "id": "e318f370-4758-49d9-a91e-b5e3cc1d7eb4",
   "metadata": {},
   "outputs": [
    {
     "data": {
      "text/plain": [
       "[2, 3, 4, 5, 6, 7, 8, 9, 10]"
      ]
     },
     "execution_count": 26,
     "metadata": {},
     "output_type": "execute_result"
    }
   ],
   "source": [
    "two.pop(0)\n",
    "two"
   ]
  },
  {
   "cell_type": "code",
   "execution_count": 27,
   "id": "e5dbedcf-6a70-4aa9-8334-dd07b99ff909",
   "metadata": {},
   "outputs": [
    {
     "data": {
      "text/plain": [
       "[1, 2, 3, 4, 5, 6, 7, 8, 9, 10]"
      ]
     },
     "execution_count": 27,
     "metadata": {},
     "output_type": "execute_result"
    }
   ],
   "source": [
    "one"
   ]
  },
  {
   "cell_type": "markdown",
   "id": "17c7c626-dcfe-46b6-a5ef-9a55aa83e32e",
   "metadata": {},
   "source": [
    "By using `copy()`, I copy the contents of the list to a new variable with identifier `two`. If I use `two` to access that variable and use `two.pop(0)` to change its value, then `one` does not also change. "
   ]
  },
  {
   "cell_type": "markdown",
   "id": "708f3e3a-77ce-4e8c-b068-e03e121db22f",
   "metadata": {},
   "source": [
    "#### **Storables**\n",
    "Unfortunately, this doesn't solve all problems. To understand, I'll have to introduce the concepts pointer and storable:\n",
    "- **Pointer**: A pointer is a value that is either null (None in Python) or refers to a variable. It points to that variable's memory location.\n",
    "- **Storable**: A value is storable if it can be stored in a single memory cell. \n",
    "\n",
    "Python knows only two types of storables: primitives and, you guessed it, pointers. The `copy()` function copies the elements of, for instance, a list. If it is a primitive, it copies that; if it is a pointer, it copies that too.\n"
   ]
  },
  {
   "cell_type": "code",
   "execution_count": 28,
   "id": "1de59470-1c23-4a01-bdf7-ed03521a48c4",
   "metadata": {},
   "outputs": [],
   "source": [
    "three = [1,2,[3,4],5]\n",
    "four= three.copy()"
   ]
  },
  {
   "cell_type": "code",
   "execution_count": 29,
   "id": "e767b464-4370-43f6-b243-b014324d9ab4",
   "metadata": {},
   "outputs": [
    {
     "data": {
      "text/plain": [
       "[1, 2, [3, 4], 5]"
      ]
     },
     "execution_count": 29,
     "metadata": {},
     "output_type": "execute_result"
    }
   ],
   "source": [
    "three"
   ]
  },
  {
   "cell_type": "code",
   "execution_count": 30,
   "id": "520c62f5-a49c-483e-9b6a-90c8e23368cb",
   "metadata": {},
   "outputs": [
    {
     "data": {
      "text/plain": [
       "[1, 2, [3, 4], 5]"
      ]
     },
     "execution_count": 30,
     "metadata": {},
     "output_type": "execute_result"
    }
   ],
   "source": [
    "four"
   ]
  },
  {
   "cell_type": "markdown",
   "id": "7b5a5e58-4147-4537-9825-8896ea18ce17",
   "metadata": {},
   "source": [
    "three and four are not aliasses, I can prove that."
   ]
  },
  {
   "cell_type": "code",
   "execution_count": 31,
   "id": "9f2b5939-d384-4f6b-a592-0050b8ddbc31",
   "metadata": {},
   "outputs": [
    {
     "data": {
      "text/plain": [
       "False"
      ]
     },
     "execution_count": 31,
     "metadata": {},
     "output_type": "execute_result"
    }
   ],
   "source": [
    "three is four"
   ]
  },
  {
   "cell_type": "code",
   "execution_count": 32,
   "id": "76a3182a-2a83-400c-a39c-8e40808d8bcc",
   "metadata": {},
   "outputs": [
    {
     "data": {
      "text/plain": [
       "[1, 2, [3, 666], 5]"
      ]
     },
     "execution_count": 32,
     "metadata": {},
     "output_type": "execute_result"
    }
   ],
   "source": [
    "four[2][1] = 666\n",
    "four"
   ]
  },
  {
   "cell_type": "code",
   "execution_count": 33,
   "id": "a5a1999f-8980-4eba-aa24-432591196028",
   "metadata": {},
   "outputs": [
    {
     "data": {
      "text/plain": [
       "[1, 2, [3, 666], 5]"
      ]
     },
     "execution_count": 33,
     "metadata": {},
     "output_type": "execute_result"
    }
   ],
   "source": [
    "three"
   ]
  },
  {
   "cell_type": "markdown",
   "id": "70615c89-16fa-4d2f-a834-9050c8437089",
   "metadata": {},
   "source": [
    "Houston, we have a problem. \n",
    "What just happened? `Three` and `four` are not aliases, as we have proven!\n",
    "\n",
    "Correct; however, unfortunately, the third element of each list is an alias. `copy` copies the elements, and the element in this case is a pointer, a pointer to a value in memory location. Creating a de facto alias. You can prevent this problem by using `deepcopy`, which doesn't copy just the pointer but keeps following the pointer to a memory location with a value and copies that.\n",
    "\n",
    "`deepcopy` is part of the copy module and the method of list and therefore needs to be imported.\n"
   ]
  },
  {
   "cell_type": "code",
   "execution_count": 34,
   "id": "3846a393-e4f2-4677-ae6f-eb0052e72232",
   "metadata": {},
   "outputs": [],
   "source": [
    "from copy import deepcopy\n",
    "\n",
    "five = [1,2,[3,4],5]\n",
    "six = deepcopy(five)"
   ]
  },
  {
   "cell_type": "code",
   "execution_count": 35,
   "id": "3abc3fde-9418-4c56-b165-a1ef9e598250",
   "metadata": {},
   "outputs": [
    {
     "data": {
      "text/plain": [
       "[1, 2, [3, 4], 5]"
      ]
     },
     "execution_count": 35,
     "metadata": {},
     "output_type": "execute_result"
    }
   ],
   "source": [
    "five"
   ]
  },
  {
   "cell_type": "code",
   "execution_count": 36,
   "id": "d9941270-ffb0-42dd-b3e6-b0ea6b3e42f5",
   "metadata": {},
   "outputs": [
    {
     "data": {
      "text/plain": [
       "[1, 2, [3, 4], 5]"
      ]
     },
     "execution_count": 36,
     "metadata": {},
     "output_type": "execute_result"
    }
   ],
   "source": [
    "six"
   ]
  },
  {
   "cell_type": "code",
   "execution_count": 37,
   "id": "95fb8169-f711-48ca-ad64-1031978d09aa",
   "metadata": {},
   "outputs": [
    {
     "data": {
      "text/plain": [
       "[1, 2, [3, 666], 5]"
      ]
     },
     "execution_count": 37,
     "metadata": {},
     "output_type": "execute_result"
    }
   ],
   "source": [
    "six[2][1] = 666\n",
    "six"
   ]
  },
  {
   "cell_type": "code",
   "execution_count": 38,
   "id": "0cb458a5-f3f5-496e-8785-3cec8c2c5d0d",
   "metadata": {},
   "outputs": [
    {
     "data": {
      "text/plain": [
       "[1, 2, [3, 4], 5]"
      ]
     },
     "execution_count": 38,
     "metadata": {},
     "output_type": "execute_result"
    }
   ],
   "source": [
    "five"
   ]
  },
  {
   "cell_type": "markdown",
   "id": "f5d5bfae-4885-40a4-8c2a-1bff382e7f2f",
   "metadata": {},
   "source": [
    "You could implement a `copy()` method in your own class and prevent any mishaps."
   ]
  },
  {
   "cell_type": "code",
   "execution_count": 39,
   "id": "d3ca5b0b-d276-418c-9d8f-147b59bfaa37",
   "metadata": {},
   "outputs": [],
   "source": [
    "from dataclasses import dataclass, field\n",
    "from copy import deepcopy\n",
    "\n",
    "@dataclass\n",
    "class A:\n",
    "    l:list=field(default_factory=list)\n",
    "    \n",
    "    def copy(self):\n",
    "        return deepcopy(self)"
   ]
  },
  {
   "cell_type": "code",
   "execution_count": 40,
   "id": "22c3330b-d6d7-484c-9eda-2931a505d8a9",
   "metadata": {},
   "outputs": [
    {
     "data": {
      "text/plain": [
       "A(l=[1, 2, [3, 4], 5])"
      ]
     },
     "execution_count": 40,
     "metadata": {},
     "output_type": "execute_result"
    }
   ],
   "source": [
    "a = A(l=[1,2,[3,4],5])\n",
    "a"
   ]
  },
  {
   "cell_type": "code",
   "execution_count": 41,
   "id": "b8add402-8dcc-48b5-8bfe-8b46671517ad",
   "metadata": {},
   "outputs": [],
   "source": [
    "b = a\n",
    "deep = a.copy()"
   ]
  },
  {
   "cell_type": "code",
   "execution_count": 42,
   "id": "94d1de9b-40c5-4774-aa3f-becd32b37293",
   "metadata": {},
   "outputs": [
    {
     "data": {
      "text/plain": [
       "A(l=[1, 2, [3, 4], 5])"
      ]
     },
     "execution_count": 42,
     "metadata": {},
     "output_type": "execute_result"
    }
   ],
   "source": [
    "a"
   ]
  },
  {
   "cell_type": "code",
   "execution_count": 43,
   "id": "c7792dc9-bd90-4526-a616-cb8e8fd52a38",
   "metadata": {},
   "outputs": [
    {
     "data": {
      "text/plain": [
       "A(l=[1, 2, [3, 4], 5])"
      ]
     },
     "execution_count": 43,
     "metadata": {},
     "output_type": "execute_result"
    }
   ],
   "source": [
    "deep"
   ]
  },
  {
   "cell_type": "code",
   "execution_count": 44,
   "id": "b1bdeb06-f484-4a5b-bfaa-86177f489917",
   "metadata": {},
   "outputs": [
    {
     "data": {
      "text/plain": [
       "[1, 2, [3, 666], 5]"
      ]
     },
     "execution_count": 44,
     "metadata": {},
     "output_type": "execute_result"
    }
   ],
   "source": [
    "b.l[2][1]=666\n",
    "b.l"
   ]
  },
  {
   "cell_type": "code",
   "execution_count": 45,
   "id": "260f2551-2307-4637-a9b2-4e4fb28c2b34",
   "metadata": {},
   "outputs": [
    {
     "data": {
      "text/plain": [
       "[1, 2, [3, 666], 5]"
      ]
     },
     "execution_count": 45,
     "metadata": {},
     "output_type": "execute_result"
    }
   ],
   "source": [
    "a.l"
   ]
  },
  {
   "cell_type": "code",
   "execution_count": 46,
   "id": "f2fb1173-ff2e-477c-8ba4-f7b365947513",
   "metadata": {},
   "outputs": [
    {
     "data": {
      "text/plain": [
       "[1, 2, [3, 4], 5]"
      ]
     },
     "execution_count": 46,
     "metadata": {},
     "output_type": "execute_result"
    }
   ],
   "source": [
    "deep.l"
   ]
  },
  {
   "cell_type": "markdown",
   "id": "a5b467ef-d8aa-4e60-9116-f0161533966c",
   "metadata": {},
   "source": [
    "\n",
    "By implementing `copy()` within our class, we create an easy and safe way to create objects by using copy while avoiding aliases. A question that might pop into your mind is: how do you know if all your values are primitive, especially if you have a million values or so? You can use the hash function; it only hashes immutables.\n",
    "\n",
    "* hash function: A hash function is any function that can be used to map data of arbitrary size to fixed-size values.\n"
   ]
  },
  {
   "cell_type": "code",
   "execution_count": 52,
   "id": "44c5583e-6e10-4f13-b05e-c097ac75ffba",
   "metadata": {},
   "outputs": [
    {
     "name": "stdout",
     "output_type": "stream",
     "text": [
      "-5659871693760987716\n"
     ]
    }
   ],
   "source": [
    "hashable = (1,2,3,4,5)\n",
    "try:\n",
    "    print(hash(hashable))\n",
    "except TypeError:\n",
    "    print(\"Not all values in the list are hashable\")"
   ]
  },
  {
   "cell_type": "code",
   "execution_count": 53,
   "id": "22b05a62-d6ee-47c1-9e6e-ce80ba0dcab3",
   "metadata": {},
   "outputs": [
    {
     "name": "stdout",
     "output_type": "stream",
     "text": [
      "Not all values in the list are hashable\n"
     ]
    }
   ],
   "source": [
    "unhashable = (1,2,[3,4],5)\n",
    "try:\n",
    "    print(hash(unhashable)) \n",
    "except TypeError:\n",
    "    print(\"Not all values in the list are hashable\")"
   ]
  },
  {
   "cell_type": "markdown",
   "id": "a0e891dc-7951-4a4d-ba4c-0992db3a9a08",
   "metadata": {},
   "source": [
    "#### Type\n",
    "Type: A type is a set of values equipped with one or more operations that can be applied uniformly to all these values. If two objects contain the same set of values and have the same operations, then they are of the same type. \n",
    "\n",
    "Programming languages in general have different types: \n",
    "- **primitive types**\n",
    "- **composite types**\n",
    "- **recursive types**\n",
    " \n",
    "Python also has the function `type`, which returns the class an object belongs to. But it can also be used as a class factory."
   ]
  },
  {
   "cell_type": "code",
   "execution_count": 54,
   "id": "3d71eebe-3fcd-480f-9624-9813601d7ddd",
   "metadata": {},
   "outputs": [
    {
     "data": {
      "text/plain": [
       "int"
      ]
     },
     "execution_count": 54,
     "metadata": {},
     "output_type": "execute_result"
    }
   ],
   "source": [
    "type(5)"
   ]
  },
  {
   "cell_type": "code",
   "execution_count": 55,
   "id": "160e200c-3f45-49a9-9ca4-6ae08ed77c1d",
   "metadata": {},
   "outputs": [
    {
     "data": {
      "text/plain": [
       "__main__.Human"
      ]
     },
     "execution_count": 55,
     "metadata": {},
     "output_type": "execute_result"
    }
   ],
   "source": [
    "type(laurens)"
   ]
  },
  {
   "cell_type": "markdown",
   "id": "e6f8c716-1b72-4690-8b74-703ce097a01e",
   "metadata": {},
   "source": [
    "#### **Primitive types**\n",
    "Built-in atomic types, in Python:\n",
    " * Int \n",
    " * Float\n",
    " * Complex\n",
    "\n",
    "see  https://docs.python.org/3/library/stdtypes.html#text-sequence-type-str.\n",
    "\n",
    "Other languages than Python (for instance Java and Haskell) often know more primitive types:\n",
    " * Double\n",
    " * Char\n",
    " * Long"
   ]
  },
  {
   "cell_type": "code",
   "execution_count": 56,
   "id": "ca70bcce-b9b0-4229-b7fe-2517350292e9",
   "metadata": {},
   "outputs": [
    {
     "data": {
      "text/plain": [
       "str"
      ]
     },
     "execution_count": 56,
     "metadata": {},
     "output_type": "execute_result"
    }
   ],
   "source": [
    "type('a')"
   ]
  },
  {
   "cell_type": "markdown",
   "id": "176b616a-8d5b-47fa-9286-cba01dbf690d",
   "metadata": {},
   "source": [
    "In Python there is no char type. A char in Python is a string and a string is a composed type. A Python string is an immutable object."
   ]
  },
  {
   "cell_type": "code",
   "execution_count": 58,
   "id": "a282b09c-bf5e-44cc-8f4a-1bab406e32a9",
   "metadata": {},
   "outputs": [
    {
     "data": {
      "text/plain": [
       "139777103074864"
      ]
     },
     "execution_count": 58,
     "metadata": {},
     "output_type": "execute_result"
    }
   ],
   "source": [
    "george = 'George'\n",
    "id(george)"
   ]
  },
  {
   "cell_type": "code",
   "execution_count": 59,
   "id": "b7b730d2-ae51-4724-bdc8-f64544cfc488",
   "metadata": {},
   "outputs": [
    {
     "data": {
      "text/plain": [
       "3404686183708217361"
      ]
     },
     "execution_count": 59,
     "metadata": {},
     "output_type": "execute_result"
    }
   ],
   "source": [
    "hash(george)"
   ]
  },
  {
   "cell_type": "code",
   "execution_count": 60,
   "id": "d03c423d-3102-480e-8330-26326d39e117",
   "metadata": {},
   "outputs": [
    {
     "data": {
      "text/plain": [
       "'George is a rhino!'"
      ]
     },
     "execution_count": 60,
     "metadata": {},
     "output_type": "execute_result"
    }
   ],
   "source": [
    "message = ' is a rhino!'\n",
    "george = george + message\n",
    "george"
   ]
  },
  {
   "cell_type": "code",
   "execution_count": 61,
   "id": "81e244ee-229a-4cc0-8372-a001cc2186ac",
   "metadata": {},
   "outputs": [
    {
     "data": {
      "text/plain": [
       "139777111038016"
      ]
     },
     "execution_count": 61,
     "metadata": {},
     "output_type": "execute_result"
    }
   ],
   "source": [
    "id(george)"
   ]
  },
  {
   "cell_type": "markdown",
   "id": "6f7ee3a2-279f-46c1-9398-0ae3b3a6fd19",
   "metadata": {},
   "source": [
    "#### Garbage collection\n",
    "The first george (`george = 'George'`) has now become an orphan value; there is no way for Python to access the value that is stored in the original variable. So, what happens now to that variable? After all, it takes up expensive real estate. It will be cleaned up by the in-built garbage collector. The collector frees up memory space for unreachable objects and relinquishes control back to the operating systems. Garbage collection is a complex issue, which I will endeavour to enlighten a bit on at the end of this notebook."
   ]
  },
  {
   "cell_type": "markdown",
   "id": "4633700e-4cf2-475e-8bc8-d21b7c2cad92",
   "metadata": {},
   "source": [
    "#### Composite types\n",
    "Most Python types are composite types. We can further subclass composite types into:\n",
    "1. Cartesian Product $S\\times T = \\{(x,y)|x \\in S, y \\in T\\}$. A tuple is an example of a Cartesian product, as is a database record. \n",
    "2. Mappings $S \\rightarrow T = \\{f| x \\in S, f(x) \\in T\\}$. The obvious example of mapping in Python is a dictionary where you map keys to values, but of course a function is a mapping too, from domain to codomain.\n",
    "3. Disjunct Union $S + T = \\{left \\space x | x \\in S\\} \\cup \\{right \\space y| y \\in T\\}$ An object we can understand as a disjunct union; simplistically, we could understand it as a tuple of components. However, in OO, objects need to have an identity; therefore, they need a unique tag to identify their class. An object is a tagged tuple."
   ]
  },
  {
   "cell_type": "code",
   "execution_count": 62,
   "id": "88db6325-75ff-4064-a699-436d297b1743",
   "metadata": {},
   "outputs": [
    {
     "data": {
      "text/plain": [
       "__main__.Card"
      ]
     },
     "execution_count": 62,
     "metadata": {},
     "output_type": "execute_result"
    }
   ],
   "source": [
    "from collections import namedtuple\n",
    "'''the collection class has a namedtuple  which allows you to create classes without methods'''\n",
    "\n",
    "Card = namedtuple('Card',['rank','suit'])\n",
    "seven_clubs = Card(7, 'clubs')\n",
    "type(seven_clubs)"
   ]
  },
  {
   "cell_type": "code",
   "execution_count": 63,
   "id": "b9cde006-3668-45ab-8631-336331b53728",
   "metadata": {},
   "outputs": [
    {
     "data": {
      "text/plain": [
       "Card(rank=7, suit='clubs')"
      ]
     },
     "execution_count": 63,
     "metadata": {},
     "output_type": "execute_result"
    }
   ],
   "source": [
    "seven_clubs"
   ]
  },
  {
   "cell_type": "markdown",
   "id": "4a41d3be-3069-4a39-8b3b-c4276b941c5d",
   "metadata": {},
   "source": [
    "#### **Recursive Types**\n",
    "A recursive type is one that is defined in terms of itself. Python does not know recursive types, the language in which you use recursion as the main form of repetition, as Haskell does. The Haskell definition of a list is a recursive type:\n",
    "\n",
    "`list a = Empty | Cons a (list a)`\n",
    "\n",
    "A list is either empty or it exists of the element `a` constructed upon a `list  a`, that `list a ` could be empty or ...  A definition in terms of itself. I can do something similar in Python."
   ]
  },
  {
   "cell_type": "code",
   "execution_count": 65,
   "id": "bef7304c-80a1-4ba9-a768-9b3c879a23cf",
   "metadata": {},
   "outputs": [
    {
     "data": {
      "text/plain": [
       "<__main__.IntList at 0x7f206455a6b0>"
      ]
     },
     "execution_count": 65,
     "metadata": {},
     "output_type": "execute_result"
    }
   ],
   "source": [
    "class IntList:\n",
    "    ''' A recursive type in Python'''\n",
    "    first=None\n",
    "    \n",
    "    def __init__(self, first):\n",
    "        self.first=first   \n",
    "                \n",
    "    class IntNode:\n",
    "        elem:int\n",
    "        succ=None\n",
    "        \n",
    "        def __init__(self, elem:int, succ):\n",
    "            self.elem = elem\n",
    "            self.succ = succ\n",
    "\n",
    "primes = IntList(IntList.IntNode(2, IntList.IntNode(3, IntList.IntNode(5, IntList.IntNode(7, None)))))  \n",
    "primes"
   ]
  },
  {
   "cell_type": "markdown",
   "id": "fb081668-423f-4235-ac02-e1e1546285f8",
   "metadata": {},
   "source": [
    "#### Python recursion\n",
    "Recursive types are not a natural fit for Python; they are simply not compatible with the way the language was designed. Python in general has a problem with recursion. Even with recursive functions, for Python has a limited recursion depth. "
   ]
  },
  {
   "cell_type": "code",
   "execution_count": 67,
   "id": "722439a1-5392-4701-8221-f28ebf84cff4",
   "metadata": {},
   "outputs": [
    {
     "name": "stdout",
     "output_type": "stream",
     "text": [
      "3000\n"
     ]
    }
   ],
   "source": [
    "import sys\n",
    "print(sys.getrecursionlimit())"
   ]
  },
  {
   "cell_type": "markdown",
   "id": "c487731b-bb23-4030-a24b-b1565f750a02",
   "metadata": {},
   "source": [
    "#### **Interpreter/compiler**\n",
    "Python is an interpreted language. Python directly executes instructions written in the programme language without first compiling them into machine code. Python does this in two steps:\n",
    "1. Translate the code into object code.\n",
    "2. Immediately execute that code.\n",
    "\n",
    "I do not go too deep into this, but there are more Python interpreters; [CPython](https://github.com/python/cpython), [Jython](https://www.jython.org/), [PyPy](https://www.pypy.org/features.html). The standard Python interpreter is CPython, which uses the above two steps. PyPy, on the other hand, is a just-in-time compiler; it doesn't interpret the code. The PyPy compiler is faster than the CPython compiler, but that does not really matter if you do not have a specific use case for not using CPython. Besides if you want to seriously fast you will need to use a language without a garbage collector, for instance write your code in the Rust programming language.\n",
    "\n",
    "Both CPython and PyPy are largely written in the C language. C doesn't have an optimisation for tail recursion. No matter what that means, it has a consequence: Python has an extremely limited recursion depth.\n"
   ]
  },
  {
   "cell_type": "markdown",
   "id": "9d7f5bd5-f328-4861-b255-c9ac03ff4bd0",
   "metadata": {},
   "source": [
    "#### **Call by sharing** \n",
    "Python uses the call-sharing mechanism for her arguments. What does that mean, and why do you need to know? It means that every function receives a copy of the references in the arguments it uses. Thus, they are, in fact, aliases and come with alias problems.\n"
   ]
  },
  {
   "cell_type": "code",
   "execution_count": 68,
   "id": "a8696fd2-2f67-4b6e-8562-cd14af0b3f0b",
   "metadata": {},
   "outputs": [],
   "source": [
    "def f(a,b):\n",
    "    ''' Function that changes the argument a which can be linked to an outside variable'''\n",
    "    a += b \n",
    "    return a"
   ]
  },
  {
   "cell_type": "code",
   "execution_count": 69,
   "id": "8eaae2d0-f05e-4872-8ebf-6f5f45796ecb",
   "metadata": {},
   "outputs": [
    {
     "data": {
      "text/plain": [
       "3"
      ]
     },
     "execution_count": 69,
     "metadata": {},
     "output_type": "execute_result"
    }
   ],
   "source": [
    "x = 1 \n",
    "y = 2\n",
    "f(x,y)"
   ]
  },
  {
   "cell_type": "code",
   "execution_count": 70,
   "id": "7a17579d-7552-4bf1-994e-b8eb02cc58ee",
   "metadata": {},
   "outputs": [
    {
     "data": {
      "text/plain": [
       "(1, 2)"
      ]
     },
     "execution_count": 70,
     "metadata": {},
     "output_type": "execute_result"
    }
   ],
   "source": [
    "(x,y) "
   ]
  },
  {
   "cell_type": "markdown",
   "id": "96b4ab29-a949-41fc-a520-2671a951ca59",
   "metadata": {},
   "source": [
    "This goes all as expected, now we try with composite types."
   ]
  },
  {
   "cell_type": "code",
   "execution_count": 71,
   "id": "6c53dfc5-dd68-4fe9-990d-d37129b994cf",
   "metadata": {},
   "outputs": [
    {
     "data": {
      "text/plain": [
       "([1, 2, 3, 4], [3, 4])"
      ]
     },
     "execution_count": 71,
     "metadata": {},
     "output_type": "execute_result"
    }
   ],
   "source": [
    "x = [1,2]\n",
    "y = [3,4]\n",
    "f(x,y)\n",
    "(x,y)"
   ]
  },
  {
   "cell_type": "markdown",
   "id": "0673ee63-900b-45e3-a1eb-db1636cf230a",
   "metadata": {},
   "source": [
    "We have inadvertently changed x. The cause: again, Python knows two storables: primitives and pointers.\n",
    "\n",
    "In the above code, `a` is a reference (pointer) to `x`, which is a pointer to memory location. When I return, I have changed x; it is the same memory location."
   ]
  },
  {
   "cell_type": "markdown",
   "id": "4c898a0c-f6c9-4b8f-baaa-0df2a6d5de4c",
   "metadata": {},
   "source": [
    "#### **garbage collection**\n",
    "Just a quick word on garbage collection: Python objects don't get explicitly destroyed when deleted; the reference to the object is removed. Orphan values need to be collected by the garbage collector. "
   ]
  },
  {
   "cell_type": "code",
   "execution_count": 72,
   "id": "ee68acf9-b4e0-49bf-acc3-b2bc254e3c7f",
   "metadata": {},
   "outputs": [
    {
     "data": {
      "text/plain": [
       "([1, 2], [1, 2])"
      ]
     },
     "execution_count": 72,
     "metadata": {},
     "output_type": "execute_result"
    }
   ],
   "source": [
    "a = [1,2]\n",
    "b = a\n",
    "a,b"
   ]
  },
  {
   "cell_type": "markdown",
   "id": "7a14c21c-1f1d-42a0-b75f-8416ec1b2cae",
   "metadata": {},
   "source": [
    "We delete a explicitely and than call b."
   ]
  },
  {
   "cell_type": "code",
   "execution_count": 73,
   "id": "29a54028-daf6-4d31-ba36-1991422126f7",
   "metadata": {},
   "outputs": [
    {
     "data": {
      "text/plain": [
       "[1, 2]"
      ]
     },
     "execution_count": 73,
     "metadata": {},
     "output_type": "execute_result"
    }
   ],
   "source": [
    "del a \n",
    "b"
   ]
  },
  {
   "cell_type": "markdown",
   "id": "c1c2298b-97c5-4b30-b7c3-be3b144def47",
   "metadata": {},
   "source": [
    "No problem, but now we rename b."
   ]
  },
  {
   "cell_type": "code",
   "execution_count": 74,
   "id": "a4583355-b6d5-4ade-9741-0f59674c5ccd",
   "metadata": {},
   "outputs": [
    {
     "data": {
      "text/plain": [
       "'george is rhino'"
      ]
     },
     "execution_count": 74,
     "metadata": {},
     "output_type": "execute_result"
    }
   ],
   "source": [
    "b = 'george is rhino'\n",
    "b"
   ]
  },
  {
   "cell_type": "markdown",
   "id": "5c4198ce-2094-4e10-acd4-12a6b3b7e1b4",
   "metadata": {},
   "source": [
    "#### Orphan values\n",
    "At this moment in time, there is still a memory cell that contains the value `[1,2]`. However, there are no longer any bindings, and there is no binding (name) that links to the location in memory; it is an orphaned variable, unreachable."
   ]
  },
  {
   "cell_type": "code",
   "execution_count": 75,
   "id": "36c3b99a-2ac6-4d7c-b062-ca9a1682153d",
   "metadata": {},
   "outputs": [],
   "source": [
    "import weakref\n",
    "\n",
    "s1 = {1,2,3}\n",
    "s2 = s1 \n",
    "def bye():\n",
    "    print('Give me a snacky!')   "
   ]
  },
  {
   "cell_type": "code",
   "execution_count": 76,
   "id": "c0a6795b-4f2f-40fd-aeaf-1dc034bdea57",
   "metadata": {},
   "outputs": [
    {
     "data": {
      "text/plain": [
       "True"
      ]
     },
     "execution_count": 76,
     "metadata": {},
     "output_type": "execute_result"
    }
   ],
   "source": [
    "ender = weakref.finalize(s1, bye) # print bye if there is no longer a bind to the location in memory with value {1,2,3}\n",
    "ender.alive"
   ]
  },
  {
   "cell_type": "code",
   "execution_count": 77,
   "id": "c03848cc-53ee-41aa-844c-c9be813873d7",
   "metadata": {},
   "outputs": [
    {
     "data": {
      "text/plain": [
       "True"
      ]
     },
     "execution_count": 77,
     "metadata": {},
     "output_type": "execute_result"
    }
   ],
   "source": [
    "del s1 \n",
    "ender.alive"
   ]
  },
  {
   "cell_type": "code",
   "execution_count": 78,
   "id": "4777a791-2497-4f9d-82c9-849d1f67c902",
   "metadata": {},
   "outputs": [
    {
     "name": "stdout",
     "output_type": "stream",
     "text": [
      "Give me a snacky!\n"
     ]
    }
   ],
   "source": [
    "s2 = 'Croc is peckish!' # At this moment the previous binding is relinquished"
   ]
  },
  {
   "cell_type": "code",
   "execution_count": 79,
   "id": "8bb2d9c0-e125-4677-8a78-06ed80c728c1",
   "metadata": {},
   "outputs": [
    {
     "data": {
      "text/plain": [
       "False"
      ]
     },
     "execution_count": 79,
     "metadata": {},
     "output_type": "execute_result"
    }
   ],
   "source": [
    "ender.alive"
   ]
  },
  {
   "cell_type": "markdown",
   "id": "3b729696-50ba-4763-a5bf-d786e7e27b6b",
   "metadata": {},
   "source": [
    "#### **Python quirks!**\n",
    "Python has many strange things; I just thought I would point this one out. Python creates aliases where you don't expect them, for instance, if you create a tuple from a tuple."
   ]
  },
  {
   "cell_type": "code",
   "execution_count": 80,
   "id": "58685302-effd-40c6-8c50-872d83cbcd4e",
   "metadata": {},
   "outputs": [
    {
     "data": {
      "text/plain": [
       "True"
      ]
     },
     "execution_count": 80,
     "metadata": {},
     "output_type": "execute_result"
    }
   ],
   "source": [
    "t1 = (1,2,3)\n",
    "t2 = tuple(t1)\n",
    "t1 is t2"
   ]
  },
  {
   "cell_type": "markdown",
   "id": "b36062e9-8ee1-4936-b71c-671ac9bb04f6",
   "metadata": {},
   "source": [
    "You don't have this behaviour if you use the tuple partially."
   ]
  },
  {
   "cell_type": "code",
   "execution_count": 81,
   "id": "bf485e1d-9684-4c84-8838-b78a86350afb",
   "metadata": {},
   "outputs": [
    {
     "data": {
      "text/plain": [
       "False"
      ]
     },
     "execution_count": 81,
     "metadata": {},
     "output_type": "execute_result"
    }
   ],
   "source": [
    "t3 = tuple(n for n in range(1,11))\n",
    "t4 = tuple(n for n in t3 if n % 2 == 1)\n",
    "t3 == t4"
   ]
  },
  {
   "cell_type": "markdown",
   "id": "8fa1bbc9-37ed-498e-b785-5e71bd3af6e6",
   "metadata": {},
   "source": [
    "It gets more curious, consider the small string and the larger string."
   ]
  },
  {
   "cell_type": "code",
   "execution_count": 82,
   "id": "3312d881-4605-49f7-bcee-95f32d112737",
   "metadata": {},
   "outputs": [
    {
     "data": {
      "text/plain": [
       "True"
      ]
     },
     "execution_count": 82,
     "metadata": {},
     "output_type": "execute_result"
    }
   ],
   "source": [
    "x = 'ABC'\n",
    "y = 'ABC'\n",
    "x is y"
   ]
  },
  {
   "cell_type": "code",
   "execution_count": 83,
   "id": "f31c297d-5edb-4be1-8816-e90c2e41452a",
   "metadata": {},
   "outputs": [
    {
     "data": {
      "text/plain": [
       "False"
      ]
     },
     "execution_count": 83,
     "metadata": {},
     "output_type": "execute_result"
    }
   ],
   "source": [
    "x = 'George is a rhino!'\n",
    "y = 'George is a rhino!'\n",
    "x is y"
   ]
  },
  {
   "cell_type": "markdown",
   "id": "758e6f9c-21ca-41df-9548-f82241534aee",
   "metadata": {},
   "source": [
    "The small string is an alias; the larger isn't...\n",
    "\n",
    "This is due to a Python optimisation technique called interning. If you encounter this behaviour, hopefully you will be less surprised than I was. Enough about concepts in programming; most oddities in Python should be clear now.\n",
    "\n",
    "---\n",
    "## **The End**"
   ]
  },
  {
   "cell_type": "code",
   "execution_count": null,
   "id": "19ee1931-3f7d-40ce-b7b2-897e72d2161b",
   "metadata": {},
   "outputs": [],
   "source": []
  }
 ],
 "metadata": {
  "kernelspec": {
   "display_name": "Python 3 (ipykernel)",
   "language": "python",
   "name": "python3"
  },
  "language_info": {
   "codemirror_mode": {
    "name": "ipython",
    "version": 3
   },
   "file_extension": ".py",
   "mimetype": "text/x-python",
   "name": "python",
   "nbconvert_exporter": "python",
   "pygments_lexer": "ipython3",
   "version": "3.10.12"
  }
 },
 "nbformat": 4,
 "nbformat_minor": 5
}
